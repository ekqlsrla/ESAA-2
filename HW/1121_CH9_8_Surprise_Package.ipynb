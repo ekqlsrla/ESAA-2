{
  "nbformat": 4,
  "nbformat_minor": 0,
  "metadata": {
    "colab": {
      "provenance": [],
      "authorship_tag": "ABX9TyOw8dPLiUUm5hQD9ODeMt+f",
      "include_colab_link": true
    },
    "kernelspec": {
      "name": "python3",
      "display_name": "Python 3"
    },
    "language_info": {
      "name": "python"
    }
  },
  "cells": [
    {
      "cell_type": "markdown",
      "metadata": {
        "id": "view-in-github",
        "colab_type": "text"
      },
      "source": [
        "<a href=\"https://colab.research.google.com/github/ekqlsrla/ESAA-2/blob/main/HW/1121_CH9_8_Surprise_Package.ipynb\" target=\"_parent\"><img src=\"https://colab.research.google.com/assets/colab-badge.svg\" alt=\"Open In Colab\"/></a>"
      ]
    },
    {
      "cell_type": "markdown",
      "source": [
        "# 파이썬 머신러닝 완벽 가이드\n",
        "---"
      ],
      "metadata": {
        "id": "SL4HcCwuityc"
      }
    },
    {
      "cell_type": "markdown",
      "source": [
        "## **| 08** 파이썬 추천 시스템 패키지 - Surprise"
      ],
      "metadata": {
        "id": "posuI2jYiwyZ"
      }
    },
    {
      "cell_type": "markdown",
      "source": [
        "### 1. Surprise 패키지 소개\n",
        "\n",
        "* 다양한 추천 알고리즘 예를 들어 **사용자 또는 아이템 기반 최근접 이웃 협업 필터링, SVD, SVD++,NMF 기반의 잠재 요인 협업 필터링**을 쉽게 적용해 추천 시스템 구축\n"
      ],
      "metadata": {
        "id": "twZa2wZVi1an"
      }
    },
    {
      "cell_type": "code",
      "source": [
        "! pip install scikit-surprise"
      ],
      "metadata": {
        "colab": {
          "base_uri": "https://localhost:8080/"
        },
        "id": "HrY2rmTni5Ml",
        "outputId": "a3e998ee-bd13-4a06-95f1-b96289670429"
      },
      "execution_count": 31,
      "outputs": [
        {
          "output_type": "stream",
          "name": "stdout",
          "text": [
            "Looking in indexes: https://pypi.org/simple, https://us-python.pkg.dev/colab-wheels/public/simple/\n",
            "Requirement already satisfied: scikit-surprise in /usr/local/lib/python3.7/dist-packages (1.1.1)\n",
            "Requirement already satisfied: six>=1.10.0 in /usr/local/lib/python3.7/dist-packages (from scikit-surprise) (1.15.0)\n",
            "Requirement already satisfied: scipy>=1.0.0 in /usr/local/lib/python3.7/dist-packages (from scikit-surprise) (1.7.3)\n",
            "Requirement already satisfied: numpy>=1.11.2 in /usr/local/lib/python3.7/dist-packages (from scikit-surprise) (1.21.6)\n",
            "Requirement already satisfied: joblib>=0.11 in /usr/local/lib/python3.7/dist-packages (from scikit-surprise) (1.2.0)\n"
          ]
        }
      ]
    },
    {
      "cell_type": "markdown",
      "source": [
        "### 2. Surprise를 이용한 추천 시스템 구축\n",
        "\n",
        "1) Surprise는 무비렌즈 사이트에서 제공하는 과거 버전의 데이터 세트를 가져오는 API 제공"
      ],
      "metadata": {
        "id": "aaZx1UgTjMRw"
      }
    },
    {
      "cell_type": "code",
      "source": [
        "#관련 모듈 임포트\n",
        "from surprise import SVD\n",
        "from surprise import Dataset\n",
        "from surprise import accuracy\n",
        "from surprise.model_selection import train_test_split"
      ],
      "metadata": {
        "id": "8P-vYKGOi79v"
      },
      "execution_count": 32,
      "outputs": []
    },
    {
      "cell_type": "code",
      "source": [
        "! kubectl apply -f https://k8s.io/examples/admin/dns/dnsutils.yaml"
      ],
      "metadata": {
        "colab": {
          "base_uri": "https://localhost:8080/"
        },
        "id": "cPnuIw7QIXBH",
        "outputId": "e552d820-0e74-47b6-fd64-35517e61bfc7"
      },
      "execution_count": 33,
      "outputs": [
        {
          "output_type": "stream",
          "name": "stdout",
          "text": [
            "/bin/bash: kubectl: command not found\n"
          ]
        }
      ]
    },
    {
      "cell_type": "code",
      "source": [
        "from surprise import Reader\n",
        "import pandas as pd\n",
        "\n",
        "df = pd.read_csv('/content/drive/MyDrive/Colab Notebooks/ESAA-2/DATA/ml-100k/ml-100k.csv')\n",
        "reader = Reader(rating_scale=(1, 5))\n",
        "col = ['user_id', 'item_id', 'rating']\n",
        "df = df[col]\n",
        "data = Dataset.load_from_df(df, reader)"
      ],
      "metadata": {
        "id": "ME_3hEBoKe2u"
      },
      "execution_count": 34,
      "outputs": []
    },
    {
      "cell_type": "code",
      "source": [
        "from google.colab import drive\n",
        "drive.mount('/content/drive')"
      ],
      "metadata": {
        "colab": {
          "base_uri": "https://localhost:8080/"
        },
        "id": "sfJ76CO8K2ei",
        "outputId": "583f8a16-479f-4893-ff22-25dd53442f4a"
      },
      "execution_count": 35,
      "outputs": [
        {
          "output_type": "stream",
          "name": "stdout",
          "text": [
            "Drive already mounted at /content/drive; to attempt to forcibly remount, call drive.mount(\"/content/drive\", force_remount=True).\n"
          ]
        }
      ]
    },
    {
      "cell_type": "code",
      "source": [
        "#data = Dataset.load_builtin('ml-100k',prompt = False)\n",
        "trainset, testset = train_test_split(data, test_size=0.25, random_state=0)"
      ],
      "metadata": {
        "id": "6ckZ6b47jpbE"
      },
      "execution_count": 36,
      "outputs": []
    },
    {
      "cell_type": "markdown",
      "source": [
        "* SVD로 잠재 요인 협업 필터링 수행\n",
        "\n",
        ": `algo=SVD()`와 같이 알고리즘 객체를 생성한 뒤 **fit**을 수행해 학습 데이터 세트 기반으로 추천 알고리즘 학습"
      ],
      "metadata": {
        "id": "3aMic7wJLiP-"
      }
    },
    {
      "cell_type": "code",
      "source": [
        "algo = SVD()\n",
        "algo.fit(trainset)"
      ],
      "metadata": {
        "colab": {
          "base_uri": "https://localhost:8080/"
        },
        "id": "MXyPZh_sLsxT",
        "outputId": "55423670-9c32-4297-91fb-bb314c02ed05"
      },
      "execution_count": 37,
      "outputs": [
        {
          "output_type": "execute_result",
          "data": {
            "text/plain": [
              "<surprise.prediction_algorithms.matrix_factorization.SVD at 0x7fcc0f77f690>"
            ]
          },
          "metadata": {},
          "execution_count": 37
        }
      ]
    },
    {
      "cell_type": "markdown",
      "source": [
        "* `test()` : 사용자 - 아이템 평점 데이터 세트 전체에 대해서 추천을 예측하는 메서드\n",
        "* `predict()` : 개별 사용자와 영화에 대한 추천 평점 반환\n",
        "  * `was_impossible = True` : 예측값을 **생성할 수 없는** 데이터"
      ],
      "metadata": {
        "id": "g5uZC1IKLzWV"
      }
    },
    {
      "cell_type": "code",
      "source": [
        "predictions = algo.test(testset)\n",
        "print('prediction type : ', type(predictions), 'size : ', len(predictions))\n",
        "print('prediction 결과의 최초 5개 추출')\n",
        "predictions[:5]"
      ],
      "metadata": {
        "colab": {
          "base_uri": "https://localhost:8080/"
        },
        "id": "hCi7LiGBL5T-",
        "outputId": "a6fc31f0-1c79-4acd-f3a4-69faa566ff1c"
      },
      "execution_count": 38,
      "outputs": [
        {
          "output_type": "stream",
          "name": "stdout",
          "text": [
            "prediction type :  <class 'list'> size :  25000\n",
            "prediction 결과의 최초 5개 추출\n"
          ]
        },
        {
          "output_type": "execute_result",
          "data": {
            "text/plain": [
              "[Prediction(uid=120, iid=282, r_ui=4.0, est=3.465220104709705, details={'was_impossible': False}),\n",
              " Prediction(uid=882, iid=291, r_ui=4.0, est=3.762593277682684, details={'was_impossible': False}),\n",
              " Prediction(uid=535, iid=507, r_ui=5.0, est=3.8765756531683713, details={'was_impossible': False}),\n",
              " Prediction(uid=697, iid=244, r_ui=5.0, est=3.4729283559095037, details={'was_impossible': False}),\n",
              " Prediction(uid=751, iid=385, r_ui=4.0, est=3.2859432969398616, details={'was_impossible': False})]"
            ]
          },
          "metadata": {},
          "execution_count": 38
        }
      ]
    },
    {
      "cell_type": "code",
      "source": [
        "[ (pred.uid, pred.iid, pred.est) for pred in predictions[:3]]"
      ],
      "metadata": {
        "colab": {
          "base_uri": "https://localhost:8080/"
        },
        "id": "uvuPxH45LbrM",
        "outputId": "62daba2b-3269-454e-aaab-ef309ee96fbe"
      },
      "execution_count": 20,
      "outputs": [
        {
          "output_type": "execute_result",
          "data": {
            "text/plain": [
              "[(120, 282, 3.6980617006844536),\n",
              " (882, 291, 3.8965454355692124),\n",
              " (535, 507, 4.141170157190634)]"
            ]
          },
          "metadata": {},
          "execution_count": 20
        }
      ]
    },
    {
      "cell_type": "code",
      "source": [
        "#predict 메서드 사용\n",
        "\n",
        "uid = str(196)\n",
        "iid = str(302)\n",
        "pred = algo.predict(uid,iid)\n",
        "print(pred)"
      ],
      "metadata": {
        "colab": {
          "base_uri": "https://localhost:8080/"
        },
        "id": "eFS6t1mXMVrw",
        "outputId": "e046a1d9-c314-47d4-c5d8-d4a801d4cada"
      },
      "execution_count": 39,
      "outputs": [
        {
          "output_type": "stream",
          "name": "stdout",
          "text": [
            "user: 196        item: 302        r_ui = None   est = 3.53   {'was_impossible': False}\n"
          ]
        }
      ]
    },
    {
      "cell_type": "code",
      "source": [
        "#추천 예측 평점과 실제 평점과의 차이 평가\n",
        "\n",
        "accuracy.rmse(predictions)"
      ],
      "metadata": {
        "colab": {
          "base_uri": "https://localhost:8080/"
        },
        "id": "b_vrQDGuMjSI",
        "outputId": "4e5b2e02-7adc-4ddb-8311-f5a2ac17cc5f"
      },
      "execution_count": 40,
      "outputs": [
        {
          "output_type": "stream",
          "name": "stdout",
          "text": [
            "RMSE: 0.9474\n"
          ]
        },
        {
          "output_type": "execute_result",
          "data": {
            "text/plain": [
              "0.9473582678253816"
            ]
          },
          "metadata": {},
          "execution_count": 40
        }
      ]
    },
    {
      "cell_type": "markdown",
      "source": [
        "### 3. Surprise 주요 모듈 소개"
      ],
      "metadata": {
        "id": "3Mj_Q7pMMoZQ"
      }
    },
    {
      "cell_type": "markdown",
      "source": [
        "#### (1) Dataset\n",
        "\n",
        "|API 명|내용|\n",
        "|---|---|\n",
        "|`Dataset.load_builtin(name = 'ml-100k')`|무비렌즈 아카이브 FTP 서버에서 무비렌즈 데이터 받기|\n",
        "|`Dataset.load_from_file(file_path,reader)`|OS 파일에서 데이터를 로딩할 때 사용|\n",
        "|`Dataset.load_from_df(df,reader)`|판다스의 DataFrame에서 데이터를 로딩|"
      ],
      "metadata": {
        "id": "iZvrdGs7MqPh"
      }
    },
    {
      "cell_type": "markdown",
      "source": [
        "#### (2) OS 파일 데이터를 Surprise 데이터 세트를 로딩"
      ],
      "metadata": {
        "id": "vQt__RbfOW39"
      }
    },
    {
      "cell_type": "code",
      "source": [
        "import pandas as pd\n",
        "\n",
        "ratings = pd.read_csv('/content/drive/MyDrive/Colab Notebooks/ESAA-2/DATA/MovieLens Latest/ratings.csv')\n",
        "ratings.to_csv('/content/drive/MyDrive/Colab Notebooks/ESAA-2/DATA/MovieLens Latest/ratings_noh.csv',index = False, header = False)"
      ],
      "metadata": {
        "id": "7zY47l3UOdQE"
      },
      "execution_count": 41,
      "outputs": []
    },
    {
      "cell_type": "code",
      "source": [
        "from surprise import Reader\n",
        "\n",
        "reader = Reader(line_format = 'user item rating timestamp',sep = ',', rating_scale = (0.5,5))\n",
        "data = Dataset.load_from_file('/content/drive/MyDrive/Colab Notebooks/ESAA-2/DATA/MovieLens Latest/ratings_noh.csv',reader = reader)"
      ],
      "metadata": {
        "id": "tQOAKCQcPx3z"
      },
      "execution_count": 42,
      "outputs": []
    },
    {
      "cell_type": "markdown",
      "source": [
        "* `line_format(string)` : 칼럼을 순서대로 나열. 입력된 문자열을 공백으로 분리해 칼럼으로 인식\n",
        "* `sep(char)` : 칼럼을 분리하는 분리자이며, 디폴트는 **'\\t'**\n",
        "* `rating_scale(tuple,optional)` : 평점 값의 **최소~최대** 평점 설정"
      ],
      "metadata": {
        "id": "WM3zBAYWRW1M"
      }
    },
    {
      "cell_type": "code",
      "source": [
        "trainset,testset = train_test_split(data,test_size = 0.25, random_state = 0)\n",
        "algo = SVD(n_factors = 50, random_state = 0)\n",
        "algo.fit(trainset)\n",
        "predictions = algo.test(testset)\n",
        "accuracy.rmse(predictions)"
      ],
      "metadata": {
        "colab": {
          "base_uri": "https://localhost:8080/"
        },
        "id": "P5ASzuOMRjp3",
        "outputId": "d63b7adc-4fab-42a6-dbc4-02cb7a242062"
      },
      "execution_count": 43,
      "outputs": [
        {
          "output_type": "stream",
          "name": "stdout",
          "text": [
            "RMSE: 0.8682\n"
          ]
        },
        {
          "output_type": "execute_result",
          "data": {
            "text/plain": [
              "0.8681952927143516"
            ]
          },
          "metadata": {},
          "execution_count": 43
        }
      ]
    },
    {
      "cell_type": "markdown",
      "source": [
        "#### (3) 판다스 DataFrame에서 Surprise 데이터 세트로 로딩"
      ],
      "metadata": {
        "id": "X1ZTNhcyR10s"
      }
    },
    {
      "cell_type": "code",
      "source": [
        "ratings.head()"
      ],
      "metadata": {
        "colab": {
          "base_uri": "https://localhost:8080/",
          "height": 206
        },
        "id": "3Tv9_nmye_FT",
        "outputId": "3d3fccf3-0588-49c4-b878-4246f7249738"
      },
      "execution_count": 45,
      "outputs": [
        {
          "output_type": "execute_result",
          "data": {
            "text/plain": [
              "   1  1.1  4.0  964982703\n",
              "0  1    3  4.0  964981247\n",
              "1  1    6  4.0  964982224\n",
              "2  1   47  5.0  964983815\n",
              "3  1   50  5.0  964982931\n",
              "4  1   70  3.0  964982400"
            ],
            "text/html": [
              "\n",
              "  <div id=\"df-328866f4-32f3-43a2-86ff-09d587b811fd\">\n",
              "    <div class=\"colab-df-container\">\n",
              "      <div>\n",
              "<style scoped>\n",
              "    .dataframe tbody tr th:only-of-type {\n",
              "        vertical-align: middle;\n",
              "    }\n",
              "\n",
              "    .dataframe tbody tr th {\n",
              "        vertical-align: top;\n",
              "    }\n",
              "\n",
              "    .dataframe thead th {\n",
              "        text-align: right;\n",
              "    }\n",
              "</style>\n",
              "<table border=\"1\" class=\"dataframe\">\n",
              "  <thead>\n",
              "    <tr style=\"text-align: right;\">\n",
              "      <th></th>\n",
              "      <th>1</th>\n",
              "      <th>1.1</th>\n",
              "      <th>4.0</th>\n",
              "      <th>964982703</th>\n",
              "    </tr>\n",
              "  </thead>\n",
              "  <tbody>\n",
              "    <tr>\n",
              "      <th>0</th>\n",
              "      <td>1</td>\n",
              "      <td>3</td>\n",
              "      <td>4.0</td>\n",
              "      <td>964981247</td>\n",
              "    </tr>\n",
              "    <tr>\n",
              "      <th>1</th>\n",
              "      <td>1</td>\n",
              "      <td>6</td>\n",
              "      <td>4.0</td>\n",
              "      <td>964982224</td>\n",
              "    </tr>\n",
              "    <tr>\n",
              "      <th>2</th>\n",
              "      <td>1</td>\n",
              "      <td>47</td>\n",
              "      <td>5.0</td>\n",
              "      <td>964983815</td>\n",
              "    </tr>\n",
              "    <tr>\n",
              "      <th>3</th>\n",
              "      <td>1</td>\n",
              "      <td>50</td>\n",
              "      <td>5.0</td>\n",
              "      <td>964982931</td>\n",
              "    </tr>\n",
              "    <tr>\n",
              "      <th>4</th>\n",
              "      <td>1</td>\n",
              "      <td>70</td>\n",
              "      <td>3.0</td>\n",
              "      <td>964982400</td>\n",
              "    </tr>\n",
              "  </tbody>\n",
              "</table>\n",
              "</div>\n",
              "      <button class=\"colab-df-convert\" onclick=\"convertToInteractive('df-328866f4-32f3-43a2-86ff-09d587b811fd')\"\n",
              "              title=\"Convert this dataframe to an interactive table.\"\n",
              "              style=\"display:none;\">\n",
              "        \n",
              "  <svg xmlns=\"http://www.w3.org/2000/svg\" height=\"24px\"viewBox=\"0 0 24 24\"\n",
              "       width=\"24px\">\n",
              "    <path d=\"M0 0h24v24H0V0z\" fill=\"none\"/>\n",
              "    <path d=\"M18.56 5.44l.94 2.06.94-2.06 2.06-.94-2.06-.94-.94-2.06-.94 2.06-2.06.94zm-11 1L8.5 8.5l.94-2.06 2.06-.94-2.06-.94L8.5 2.5l-.94 2.06-2.06.94zm10 10l.94 2.06.94-2.06 2.06-.94-2.06-.94-.94-2.06-.94 2.06-2.06.94z\"/><path d=\"M17.41 7.96l-1.37-1.37c-.4-.4-.92-.59-1.43-.59-.52 0-1.04.2-1.43.59L10.3 9.45l-7.72 7.72c-.78.78-.78 2.05 0 2.83L4 21.41c.39.39.9.59 1.41.59.51 0 1.02-.2 1.41-.59l7.78-7.78 2.81-2.81c.8-.78.8-2.07 0-2.86zM5.41 20L4 18.59l7.72-7.72 1.47 1.35L5.41 20z\"/>\n",
              "  </svg>\n",
              "      </button>\n",
              "      \n",
              "  <style>\n",
              "    .colab-df-container {\n",
              "      display:flex;\n",
              "      flex-wrap:wrap;\n",
              "      gap: 12px;\n",
              "    }\n",
              "\n",
              "    .colab-df-convert {\n",
              "      background-color: #E8F0FE;\n",
              "      border: none;\n",
              "      border-radius: 50%;\n",
              "      cursor: pointer;\n",
              "      display: none;\n",
              "      fill: #1967D2;\n",
              "      height: 32px;\n",
              "      padding: 0 0 0 0;\n",
              "      width: 32px;\n",
              "    }\n",
              "\n",
              "    .colab-df-convert:hover {\n",
              "      background-color: #E2EBFA;\n",
              "      box-shadow: 0px 1px 2px rgba(60, 64, 67, 0.3), 0px 1px 3px 1px rgba(60, 64, 67, 0.15);\n",
              "      fill: #174EA6;\n",
              "    }\n",
              "\n",
              "    [theme=dark] .colab-df-convert {\n",
              "      background-color: #3B4455;\n",
              "      fill: #D2E3FC;\n",
              "    }\n",
              "\n",
              "    [theme=dark] .colab-df-convert:hover {\n",
              "      background-color: #434B5C;\n",
              "      box-shadow: 0px 1px 3px 1px rgba(0, 0, 0, 0.15);\n",
              "      filter: drop-shadow(0px 1px 2px rgba(0, 0, 0, 0.3));\n",
              "      fill: #FFFFFF;\n",
              "    }\n",
              "  </style>\n",
              "\n",
              "      <script>\n",
              "        const buttonEl =\n",
              "          document.querySelector('#df-328866f4-32f3-43a2-86ff-09d587b811fd button.colab-df-convert');\n",
              "        buttonEl.style.display =\n",
              "          google.colab.kernel.accessAllowed ? 'block' : 'none';\n",
              "\n",
              "        async function convertToInteractive(key) {\n",
              "          const element = document.querySelector('#df-328866f4-32f3-43a2-86ff-09d587b811fd');\n",
              "          const dataTable =\n",
              "            await google.colab.kernel.invokeFunction('convertToInteractive',\n",
              "                                                     [key], {});\n",
              "          if (!dataTable) return;\n",
              "\n",
              "          const docLinkHtml = 'Like what you see? Visit the ' +\n",
              "            '<a target=\"_blank\" href=https://colab.research.google.com/notebooks/data_table.ipynb>data table notebook</a>'\n",
              "            + ' to learn more about interactive tables.';\n",
              "          element.innerHTML = '';\n",
              "          dataTable['output_type'] = 'display_data';\n",
              "          await google.colab.output.renderOutput(dataTable, element);\n",
              "          const docLink = document.createElement('div');\n",
              "          docLink.innerHTML = docLinkHtml;\n",
              "          element.appendChild(docLink);\n",
              "        }\n",
              "      </script>\n",
              "    </div>\n",
              "  </div>\n",
              "  "
            ]
          },
          "metadata": {},
          "execution_count": 45
        }
      ]
    },
    {
      "cell_type": "code",
      "source": [
        "import pandas as pd\n",
        "from surprise import Reader, Dataset\n",
        "\n",
        "ratings = pd.read_csv('/content/drive/MyDrive/Colab Notebooks/ESAA-2/DATA/MovieLens Latest/ratings.csv')\n",
        "reader = Reader(rating_scale = (0.5,5.0))\n",
        "\n",
        "data = Dataset.load_from_df(ratings[['userId','movieId','rating']],reader)\n",
        "trainset,testset = train_test_split(data,test_size = 0.25,random_state = 0)\n",
        "\n",
        "algo = SVD(n_factors = 50,random_state = 0)\n",
        "algo.fit(trainset)\n",
        "predictions = algo.test(testset)\n",
        "accuracy.rmse(predictions)"
      ],
      "metadata": {
        "colab": {
          "base_uri": "https://localhost:8080/"
        },
        "id": "jky3P1_nR4Nx",
        "outputId": "708abe79-6d70-478b-d722-4c9807c207ec"
      },
      "execution_count": 47,
      "outputs": [
        {
          "output_type": "stream",
          "name": "stdout",
          "text": [
            "RMSE: 0.8682\n"
          ]
        },
        {
          "output_type": "execute_result",
          "data": {
            "text/plain": [
              "0.8681952927143516"
            ]
          },
          "metadata": {},
          "execution_count": 47
        }
      ]
    },
    {
      "cell_type": "markdown",
      "source": [
        "### 4. Surprise 추천 알고리즘 클래스\n",
        "\n",
        "|클래스명|설명|\n",
        "|---|---|\n",
        "|SVD|행렬 분해를 통한 잠재 요인 협업 필터링을 위한 SVD 알고리즘|\n",
        "|KNNBasic|최근접 이웃 협업 필터링을 위한 KNN알고리즘|\n",
        "|BaselineOnly|사용자 Biase와 아이템 Bias를 감안한 SGD 베이스라인 알고리즘|\n",
        "\n",
        "* SVD 클래스의 입력 파라미터\n",
        "  * `n_factors` : 잠재 요인 K의 개수\n",
        "  * `n_epochs` : SGD 수행시 반복 횟수\n",
        "  * `biased (bool)` : 베이스라인 사용자 편향 적용 여부"
      ],
      "metadata": {
        "id": "_n9vMcKNSXg_"
      }
    },
    {
      "cell_type": "markdown",
      "source": [
        "### 5. 베이스라인 평점\n",
        "\n",
        ": 개인의 성향을 반영해 아이템 평가에 **편향성 요소**를 반영하여 평점을 부과하는 것\n",
        "\n",
        "* 전체 평균 평점 = 모든 사용자의 아이템에 대한 평점을 평균한 값\n",
        "* 사용자 편향 점수 = 사용자별 아이템 평점 평균 값 - 전체 평균 평점\n",
        "* 아이템 편향 점수 = 아이테별 평점 평균 값 - 전체 평균 평점"
      ],
      "metadata": {
        "id": "jiLutP6ThCb2"
      }
    },
    {
      "cell_type": "markdown",
      "source": [
        "### 6. 교차 검증과 하이퍼 파라미터 튜닝"
      ],
      "metadata": {
        "id": "ReKWO1glhq5Z"
      }
    },
    {
      "cell_type": "code",
      "source": [
        "from surprise.model_selection import cross_validate\n",
        "\n",
        "ratings = pd.read_csv('/content/drive/MyDrive/Colab Notebooks/ESAA-2/DATA/MovieLens Latest/ratings.csv')\n",
        "reader = Reader(rating_scale = (0.5,5.0))\n",
        "data = Dataset.load_from_df(ratings[['userId','movieId','rating']],reader)\n",
        "\n",
        "algo = SVD(random_state = 0)\n",
        "cross_validate(algo, data, measures = ['RMSE','MAE'],cv = 5, verbose = True)"
      ],
      "metadata": {
        "colab": {
          "base_uri": "https://localhost:8080/"
        },
        "id": "UqRAS3MThzQR",
        "outputId": "e77895b3-034c-42a0-99e1-367aa89e09cf"
      },
      "execution_count": 49,
      "outputs": [
        {
          "output_type": "stream",
          "name": "stdout",
          "text": [
            "Evaluating RMSE, MAE of algorithm SVD on 5 split(s).\n",
            "\n",
            "                  Fold 1  Fold 2  Fold 3  Fold 4  Fold 5  Mean    Std     \n",
            "RMSE (testset)    0.8680  0.8776  0.8780  0.8672  0.8724  0.8726  0.0046  \n",
            "MAE (testset)     0.6690  0.6731  0.6750  0.6681  0.6705  0.6711  0.0026  \n",
            "Fit time          5.84    5.59    5.69    7.02    6.28    6.09    0.53    \n",
            "Test time         0.16    0.16    0.16    0.28    0.16    0.18    0.05    \n"
          ]
        },
        {
          "output_type": "execute_result",
          "data": {
            "text/plain": [
              "{'test_rmse': array([0.86802611, 0.87759922, 0.87797268, 0.8671591 , 0.87239463]),\n",
              " 'test_mae': array([0.66895452, 0.67314717, 0.67495158, 0.66805645, 0.6704517 ]),\n",
              " 'fit_time': (5.843271255493164,\n",
              "  5.5880303382873535,\n",
              "  5.694894313812256,\n",
              "  7.024224519729614,\n",
              "  6.284754753112793),\n",
              " 'test_time': (0.16070222854614258,\n",
              "  0.15598249435424805,\n",
              "  0.15866470336914062,\n",
              "  0.2816586494445801,\n",
              "  0.15772676467895508)}"
            ]
          },
          "metadata": {},
          "execution_count": 49
        }
      ]
    },
    {
      "cell_type": "code",
      "source": [
        "from surprise.model_selection import GridSearchCV\n",
        "\n",
        "param_grid = {\n",
        "    'n_epochs': [20, 40, 60], \n",
        "    'n_factors': [50, 100, 200]\n",
        "}\n",
        "\n",
        "#CV : 3개 폴트세트 / 성능 평가 : rmse , mse\n",
        "gs = GridSearchCV(SVD, param_grid, measures = ['rmse','mae'],cv = 3)\n",
        "gs.fit(data)\n",
        "\n",
        "print(gs.best_score['rmse'])\n",
        "print(gs.best_params['rmse'])\n",
        "\n"
      ],
      "metadata": {
        "colab": {
          "base_uri": "https://localhost:8080/"
        },
        "id": "cPBSN_Z6i-o7",
        "outputId": "59e3c25a-b860-408e-d5b1-99b418dd796f"
      },
      "execution_count": 56,
      "outputs": [
        {
          "output_type": "stream",
          "name": "stdout",
          "text": [
            "0.8770924716607708\n",
            "{'n_epochs': 20, 'n_factors': 50}\n"
          ]
        }
      ]
    },
    {
      "cell_type": "markdown",
      "source": [
        "### 7. Surprise를 이용한 개인화 영화 추천 시스템 구축\n",
        "\n",
        "* **Surprise** 패키지로 학습된 추천 알고리즘을 기반으로 특정 사용자가 아직 평점을 매기지 않은 영화 중에서 개인 취향에 적절한 영화 추천하기"
      ],
      "metadata": {
        "id": "e4GOnul6lveR"
      }
    },
    {
      "cell_type": "code",
      "source": [
        "#train_test_split으로 분리되지 않은 데이터 세트에 fit()을 호출해 오류가 발생\n",
        "\n",
        "data = Dataset.load_from_df(ratings[['userId','movieId','rating']],reader)\n",
        "algo = SVD(n_factors = 50, random_state = 0)\n",
        "algo.fit(data)"
      ],
      "metadata": {
        "colab": {
          "base_uri": "https://localhost:8080/",
          "height": 285
        },
        "id": "2Wmbc0xfl7TT",
        "outputId": "4f0e8444-283c-45cf-ee3f-809cf6c49de5"
      },
      "execution_count": 59,
      "outputs": [
        {
          "output_type": "error",
          "ename": "AttributeError",
          "evalue": "ignored",
          "traceback": [
            "\u001b[0;31m---------------------------------------------------------------------------\u001b[0m",
            "\u001b[0;31mAttributeError\u001b[0m                            Traceback (most recent call last)",
            "\u001b[0;32m<ipython-input-59-44309c02acc2>\u001b[0m in \u001b[0;36m<module>\u001b[0;34m\u001b[0m\n\u001b[1;32m      3\u001b[0m \u001b[0mdata\u001b[0m \u001b[0;34m=\u001b[0m \u001b[0mDataset\u001b[0m\u001b[0;34m.\u001b[0m\u001b[0mload_from_df\u001b[0m\u001b[0;34m(\u001b[0m\u001b[0mratings\u001b[0m\u001b[0;34m[\u001b[0m\u001b[0;34m[\u001b[0m\u001b[0;34m'userId'\u001b[0m\u001b[0;34m,\u001b[0m\u001b[0;34m'movieId'\u001b[0m\u001b[0;34m,\u001b[0m\u001b[0;34m'rating'\u001b[0m\u001b[0;34m]\u001b[0m\u001b[0;34m]\u001b[0m\u001b[0;34m,\u001b[0m\u001b[0mreader\u001b[0m\u001b[0;34m)\u001b[0m\u001b[0;34m\u001b[0m\u001b[0;34m\u001b[0m\u001b[0m\n\u001b[1;32m      4\u001b[0m \u001b[0malgo\u001b[0m \u001b[0;34m=\u001b[0m \u001b[0mSVD\u001b[0m\u001b[0;34m(\u001b[0m\u001b[0mn_factors\u001b[0m \u001b[0;34m=\u001b[0m \u001b[0;36m50\u001b[0m\u001b[0;34m,\u001b[0m \u001b[0mrandom_state\u001b[0m \u001b[0;34m=\u001b[0m \u001b[0;36m0\u001b[0m\u001b[0;34m)\u001b[0m\u001b[0;34m\u001b[0m\u001b[0;34m\u001b[0m\u001b[0m\n\u001b[0;32m----> 5\u001b[0;31m \u001b[0malgo\u001b[0m\u001b[0;34m.\u001b[0m\u001b[0mfit\u001b[0m\u001b[0;34m(\u001b[0m\u001b[0mdata\u001b[0m\u001b[0;34m)\u001b[0m\u001b[0;34m\u001b[0m\u001b[0;34m\u001b[0m\u001b[0m\n\u001b[0m",
            "\u001b[0;32m/usr/local/lib/python3.7/dist-packages/surprise/prediction_algorithms/matrix_factorization.pyx\u001b[0m in \u001b[0;36msurprise.prediction_algorithms.matrix_factorization.SVD.fit\u001b[0;34m()\u001b[0m\n",
            "\u001b[0;32m/usr/local/lib/python3.7/dist-packages/surprise/prediction_algorithms/matrix_factorization.pyx\u001b[0m in \u001b[0;36msurprise.prediction_algorithms.matrix_factorization.SVD.sgd\u001b[0;34m()\u001b[0m\n",
            "\u001b[0;31mAttributeError\u001b[0m: 'DatasetAutoFolds' object has no attribute 'global_mean'"
          ]
        }
      ]
    },
    {
      "cell_type": "markdown",
      "source": [
        "* **데이터 세트 전체**를 학습 데이터로 사용하려면 `DatasetAutoFolds`클래스를 이용"
      ],
      "metadata": {
        "id": "dLRhTvKGmNEL"
      }
    },
    {
      "cell_type": "code",
      "source": [
        "from surprise.dataset import DatasetAutoFolds\n",
        "\n",
        "reader = Reader(line_format = 'user item rating timestamp', sep = ',', rating_scale =(0.5,5))\n",
        "data_folds = DatasetAutoFolds(ratings_file = '/content/drive/MyDrive/Colab Notebooks/ESAA-2/DATA/MovieLens Latest/ratings_noh.csv',reader = reader)\n",
        "\n",
        "#전체 데이터를 학습 데이터로 생성\n",
        "trainset = data_folds.build_full_trainset()"
      ],
      "metadata": {
        "id": "YRqhhlG-mSG1"
      },
      "execution_count": 60,
      "outputs": []
    },
    {
      "cell_type": "code",
      "source": [
        "algo = SVD(n_epochs = 20, n_factors = 50, random_state = 0)\n",
        "algo.fit(trainset)"
      ],
      "metadata": {
        "colab": {
          "base_uri": "https://localhost:8080/"
        },
        "id": "N8eBBuuFmKCJ",
        "outputId": "5101c316-6420-439d-8f9b-b2513dab0dcd"
      },
      "execution_count": 61,
      "outputs": [
        {
          "output_type": "execute_result",
          "data": {
            "text/plain": [
              "<surprise.prediction_algorithms.matrix_factorization.SVD at 0x7fcc0620ced0>"
            ]
          },
          "metadata": {},
          "execution_count": 61
        }
      ]
    },
    {
      "cell_type": "markdown",
      "source": [
        "* 특정 사용자는 **userId = 9** 인 사용자로 지정"
      ],
      "metadata": {
        "id": "0SlWAk8nnmjw"
      }
    },
    {
      "cell_type": "code",
      "source": [
        "movies = pd.read_csv('/content/drive/MyDrive/Colab Notebooks/ESAA-2/DATA/MovieLens Latest/movies.csv')\n",
        "\n",
        "#userID = 9의 movieId 데이터를 추출해 movieID = 42 데이터가 있는지 확인\n",
        "movieIds = ratings[ratings['userId'] ==9]['movieId']\n",
        "\n",
        "if movieIds[movieIds==42].count() == 0 :\n",
        "  print('사용자 아이디 9는 영화 아이디 42의 평점 없음')\n",
        "\n",
        "print(movies[movies['movieId'] == 42])"
      ],
      "metadata": {
        "colab": {
          "base_uri": "https://localhost:8080/"
        },
        "id": "DKhSaINnnsdC",
        "outputId": "d25e7137-6d7c-4a38-ab22-32154bab9e1f"
      },
      "execution_count": 63,
      "outputs": [
        {
          "output_type": "stream",
          "name": "stdout",
          "text": [
            "사용자 아이디 9는 영화 아이디 42의 평점 없음\n",
            "    movieId                   title              genres\n",
            "38       42  Dead Presidents (1995)  Action|Crime|Drama\n"
          ]
        }
      ]
    },
    {
      "cell_type": "code",
      "source": [
        "uid = str(9)\n",
        "iid = str(42)\n",
        "\n",
        "pred = algo.predict(uid,iid,verbose = True)"
      ],
      "metadata": {
        "colab": {
          "base_uri": "https://localhost:8080/"
        },
        "id": "InL_Bz9Rof7J",
        "outputId": "5b85a725-115a-409e-e3d3-8148cf7ef17e"
      },
      "execution_count": 64,
      "outputs": [
        {
          "output_type": "stream",
          "name": "stdout",
          "text": [
            "user: 9          item: 42         r_ui = None   est = 3.13   {'was_impossible': False}\n"
          ]
        }
      ]
    },
    {
      "cell_type": "code",
      "source": [
        "def get_unseen_surprise(ratings, movies,userId) :\n",
        "  seen_movies = ratings[ratings['userId'] == userId]['movieId'].tolist()\n",
        "  total_movies = movies['movieId'].tolist()\n",
        "  unseen_movies = [movie for movie in total_movies if movie not in seen_movies]\n",
        "  print('평점 매긴 영화 수 : ', len(seen_movies), '추천 대상 영화 수 :', len(unseen_movies), '전체 영화 수 :', len(total_movies))\n",
        "\n",
        "  return unseen_movies\n",
        "\n",
        "unseen_movies = get_unseen_surprise(ratings, movies,9)"
      ],
      "metadata": {
        "colab": {
          "base_uri": "https://localhost:8080/"
        },
        "id": "cHvcCAhEopnt",
        "outputId": "3f97c1b2-13cb-4d8e-fbb9-6c508a4b7e1a"
      },
      "execution_count": 65,
      "outputs": [
        {
          "output_type": "stream",
          "name": "stdout",
          "text": [
            "평점 매긴 영화 수 :  46 추천 대상 영화 수 : 9696 전체 영화 수 : 9742\n"
          ]
        }
      ]
    },
    {
      "cell_type": "code",
      "source": [
        "def recomm_movie_by_surprise(algo,userId, unseen_movies, top_n = 10) :\n",
        "  predictions = [algo.predict(str(userId), str(movieId)) for movieId in unseen_movies]\n",
        "\n",
        "  #est 값으로 정렬하기 위해서 아래의 sortkey_est 함수를 정의\n",
        "  def sortkey_est(pred) :\n",
        "    return pred.est\n",
        "\n",
        "  predictions.sort(key = sortkey_est, reverse = True)\n",
        "  top_predictions = predictions[:top_n]\n",
        "\n",
        "  top_movie_ids = [int(pred.iid) for pred in top_predictions]\n",
        "  top_movie_rating = [pred.est for pred in top_predictions]\n",
        "  top_movie_titles = movies[movies.movieId.isin(top_movie_ids)]['title']\n",
        "\n",
        "  top_movie_preds = [ (id, title, rating) for id, title, rating in zip (top_movie_ids, top_movie_titles, top_movie_rating)]\n",
        "\n",
        "  return top_movie_preds\n",
        "\n",
        "unseen_movies = get_unseen_surprise(ratings, movies, 9)\n",
        "top_movie_preds = recomm_movie_by_surprise(algo, 9, unseen_movies, top_n = 10)\n",
        "\n",
        "print('##### Top - 10 추천 영화 리스트 #####')\n",
        "for top_movie in top_movie_preds :\n",
        "  print(top_movie[1], ':', top_movie[2])"
      ],
      "metadata": {
        "colab": {
          "base_uri": "https://localhost:8080/"
        },
        "id": "eO2SV757rYkK",
        "outputId": "fe516855-51a1-4863-8652-2b541a05fddf"
      },
      "execution_count": 66,
      "outputs": [
        {
          "output_type": "stream",
          "name": "stdout",
          "text": [
            "평점 매긴 영화 수 :  46 추천 대상 영화 수 : 9696 전체 영화 수 : 9742\n",
            "##### Top - 10 추천 영화 리스트 #####\n",
            "Usual Suspects, The (1995) : 4.306302135700814\n",
            "Star Wars: Episode IV - A New Hope (1977) : 4.281663842987387\n",
            "Pulp Fiction (1994) : 4.278152632122759\n",
            "Silence of the Lambs, The (1991) : 4.226073566460876\n",
            "Godfather, The (1972) : 4.1918097904381995\n",
            "Streetcar Named Desire, A (1951) : 4.154746591122658\n",
            "Star Wars: Episode V - The Empire Strikes Back (1980) : 4.122016128534504\n",
            "Star Wars: Episode VI - Return of the Jedi (1983) : 4.108009609093436\n",
            "Goodfellas (1990) : 4.083464936588478\n",
            "Glory (1989) : 4.07887165526957\n"
          ]
        }
      ]
    }
  ]
}