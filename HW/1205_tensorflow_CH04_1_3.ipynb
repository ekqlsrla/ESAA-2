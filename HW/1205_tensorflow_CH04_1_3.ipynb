{
  "nbformat": 4,
  "nbformat_minor": 0,
  "metadata": {
    "colab": {
      "provenance": [],
      "authorship_tag": "ABX9TyOoKHuWQtcj78PoTGATqdWY",
      "include_colab_link": true
    },
    "kernelspec": {
      "name": "python3",
      "display_name": "Python 3"
    },
    "language_info": {
      "name": "python"
    }
  },
  "cells": [
    {
      "cell_type": "markdown",
      "metadata": {
        "id": "view-in-github",
        "colab_type": "text"
      },
      "source": [
        "<a href=\"https://colab.research.google.com/github/ekqlsrla/ESAA-2/blob/main/HW/1205_tensorflow_CH04_1_3.ipynb\" target=\"_parent\"><img src=\"https://colab.research.google.com/assets/colab-badge.svg\" alt=\"Open In Colab\"/></a>"
      ]
    },
    {
      "cell_type": "markdown",
      "source": [
        "# **파이썬 딥러닝 텐서플로 Part 04 : 합성곱 신경망**\n",
        "---"
      ],
      "metadata": {
        "id": "kBni_We2dCcU"
      }
    },
    {
      "cell_type": "markdown",
      "source": [
        "## **| 01** 합성곱 신경망\n",
        "\n",
        "1.  합성곱 신경망(CNN : Convolutional Neural Network)\n",
        "\n",
        "* 데이터가 가진 특징들의 패턴을 학습하는 알고리즘\n",
        "  * Image Classification / Object Detection / Style Transfer"
      ],
      "metadata": {
        "id": "JjBsdiKLdI5a"
      }
    },
    {
      "cell_type": "markdown",
      "source": [
        "### 1-1 이미지 표현\n",
        "\n",
        "* 화소를 나타내는 숫자는 이미지의 강도를 나타내고, 숫자가 클수록 더 강한 특성을 나타낸다고 이해할 수 있음\n",
        "* 컬러 이미지는 R,G,B 채널로 구성된 3장의 이미지를 겹쳐서 표현, 숫자가 클수록 해당 색상을 더 강하게 표현"
      ],
      "metadata": {
        "id": "t0RX-RQ2jhfe"
      }
    },
    {
      "cell_type": "markdown",
      "source": [
        "### 1-2 합성곱\n",
        "\n",
        "* 입력 이미지에 대하여 일반적으로 **정방형 크기**를 가지는 커널을 사용하여, 입력 이미지에 대한 **특성 추출** -> `합성곱 연산을 통해서 추출된 이미지 : 특성맵`"
      ],
      "metadata": {
        "id": "8BO6EI_rj0y-"
      }
    },
    {
      "cell_type": "markdown",
      "source": [
        "### 1-3 채널\n",
        "\n",
        ": 입력 이미지를 구성하는 2차원 배열의 개수\n",
        "\n",
        "* **입력 이미지의 채널 개수만큼** 커널이 생성되고, 각 채널마다 하나씩 커널을 적용하여 합성곱 연산 수행\n",
        "* 합성곱 레이어의 출력 필터 개수 : 20 / 입력 이미지의 채널 개수 : 3\n",
        "  * (3 X 3 X 입력 채널 수 X 출력 필터 수 ) = 3 x 3 x 3(R,G,B) x 20 = 540 + bias"
      ],
      "metadata": {
        "id": "3qna7F6XkjnK"
      }
    },
    {
      "cell_type": "markdown",
      "source": [
        "### 1-4 스트라이드 (stride)\n",
        "\n",
        ": 커널이 이동하는 간격으로 주로 1 또는 2로 설정"
      ],
      "metadata": {
        "id": "-SKbD_5AlFse"
      }
    },
    {
      "cell_type": "markdown",
      "source": [
        "### 1-5 패딩 (padding)\n",
        "\n",
        ": 추출된 특성맵의 크기가 입력 이미지 대비 줄어들지 않도록 입력 이미지의 가장 자리에 0으로 채우는 것\n",
        "\n",
        "```\n",
        "#zero - padding\n",
        "padding = 'same' \n",
        "```"
      ],
      "metadata": {
        "id": "fE525ArZlQiB"
      }
    },
    {
      "cell_type": "markdown",
      "source": [
        "### 1-6 특성맵 ㅏ이즈\n",
        "\n",
        "1. 출력 데이터의 크기를 구하는 식\n",
        "\n",
        "$$ (Output Height, Output Width) = (\\frac{Image Height + 2P - Kernel Height}{S} +1, \\frac{Image Width + 2P - Kernel Width}{S} + 1)$$ \n",
        "\n",
        "* Image Height, Image Width : 입력 크기\n",
        "* Kernel Height, Kernel Width : 필터 크기\n",
        "* S : 스트라이드\n",
        "* P : 패딩\n",
        "* Output Height, Output Width : 출력 크기"
      ],
      "metadata": {
        "id": "Kmog21Lhlj-J"
      }
    },
    {
      "cell_type": "markdown",
      "source": [
        "### 1-7 풀링\n",
        "\n",
        ": 추출된 특성맵에 대해 다운 샘플링하여 이미지의 크기를 축소하는 레이어\n",
        "\n",
        "* 이미지 축소를 통해 **연산량 감소 & 과대적합 방지**\n",
        "* 최대 풀링 / 평균 풀링"
      ],
      "metadata": {
        "id": "8cQrld0wmIgn"
      }
    },
    {
      "cell_type": "markdown",
      "source": [
        "---\n",
        "## **| 02** 간단한 모델 생성"
      ],
      "metadata": {
        "id": "yU0tyCBXmaXR"
      }
    },
    {
      "cell_type": "markdown",
      "source": [
        "### 2-1 데이터 로드 및 전처리\n"
      ],
      "metadata": {
        "id": "wFXduiFQmecE"
      }
    },
    {
      "cell_type": "code",
      "source": [
        "import tensorflow as tf"
      ],
      "metadata": {
        "id": "pB4c8kqXmhVw"
      },
      "execution_count": 1,
      "outputs": []
    },
    {
      "cell_type": "code",
      "source": [
        "mnist = tf.keras.datasets.mnist\n",
        "(x_train, y_train),(x_valid, y_valid) = mnist.load_data()\n"
      ],
      "metadata": {
        "id": "qhR5i-75mjne"
      },
      "execution_count": 2,
      "outputs": []
    },
    {
      "cell_type": "code",
      "source": [
        "#첫번째 이미지 출력\n",
        "\n",
        "import matplotlib.pylab as plt\n",
        "\n",
        "def plot_image(data,idx) :\n",
        "  plt.figure(figsize = (5,5))\n",
        "  plt.imshow(data[idx], cmap = 'gray')\n",
        "  plt.axis('off')\n",
        "  plt.show()\n",
        "\n",
        "plot_image(x_train,0)"
      ],
      "metadata": {
        "colab": {
          "base_uri": "https://localhost:8080/",
          "height": 303
        },
        "id": "mzHm2Pp-nGDC",
        "outputId": "57b80151-ec40-4654-a943-e38a328d14c8"
      },
      "execution_count": 3,
      "outputs": [
        {
          "output_type": "display_data",
          "data": {
            "text/plain": [
              "<Figure size 360x360 with 1 Axes>"
            ],
            "image/png": "[encoded data removed]"
          },
          "metadata": {
            "needs_background": "light"
          }
        }
      ]
    },
    {
      "cell_type": "code",
      "source": [
        "#정규화\n",
        "\n",
        "x_train = x_train/255.0\n",
        "x_valid = x_valid/255.0"
      ],
      "metadata": {
        "id": "em2XeJtmnYSc"
      },
      "execution_count": 4,
      "outputs": []
    },
    {
      "cell_type": "code",
      "source": [
        "#채널 추가\n",
        "print(x_train.shape, x_valid.shape)\n",
        "\n",
        "#가장 마지막 축에 채널 추가\n",
        "x_train_in = x_train[..., tf.newaxis]\n",
        "x_valid_in = x_valid[..., tf.newaxis]\n",
        "\n",
        "print(x_train_in.shape,x_valid_in.shape)"
      ],
      "metadata": {
        "colab": {
          "base_uri": "https://localhost:8080/"
        },
        "id": "4Hp47ACwnhS2",
        "outputId": "b379d4ec-2364-4970-9489-b913741358ef"
      },
      "execution_count": 5,
      "outputs": [
        {
          "output_type": "stream",
          "name": "stdout",
          "text": [
            "(60000, 28, 28) (10000, 28, 28)\n",
            "(60000, 28, 28, 1) (10000, 28, 28, 1)\n"
          ]
        }
      ]
    },
    {
      "cell_type": "markdown",
      "source": [
        "### 2-2 Sequential API로 모델 생성 및 학습\n",
        "\n"
      ],
      "metadata": {
        "id": "iVkch25Qn1u0"
      }
    },
    {
      "cell_type": "code",
      "source": [
        "model = tf.keras.Sequential([\n",
        "    #Convolution 적용\n",
        "    tf.keras.layers.Conv2D(32,(3,3), activation = 'relu', input_shape = (28,28,1), name = 'conv'),\n",
        "    #Max Pooling\n",
        "    tf.keras.layers.MaxPooling2D((2,2), name = 'pool'),\n",
        "    #Classifier 출력층\n",
        "    tf.keras.layers.Flatten(),\n",
        "    tf.keras.layers.Dense(10,activation = 'softmax')\n",
        "])"
      ],
      "metadata": {
        "id": "dGLMe5fmoNIU"
      },
      "execution_count": 6,
      "outputs": []
    },
    {
      "cell_type": "code",
      "source": [
        "#모델 컴파일\n",
        "model.compile(optimizer = 'adam', loss = 'sparse_categorical_crossentropy',\n",
        "              metrics = ['accuracy'])\n",
        "\n",
        "#모델 훈련\n",
        "history = model.fit(x_train_in, y_train, validation_data = (x_valid_in, y_valid), epochs = 10)"
      ],
      "metadata": {
        "colab": {
          "base_uri": "https://localhost:8080/"
        },
        "id": "riDD5BiIopDw",
        "outputId": "5d27a558-0469-44fa-8052-302af7c0b64a"
      },
      "execution_count": 7,
      "outputs": [
        {
          "output_type": "stream",
          "name": "stdout",
          "text": [
            "Epoch 1/10\n",
            "1875/1875 [==============================] - 70s 37ms/step - loss: 0.2167 - accuracy: 0.9407 - val_loss: 0.0855 - val_accuracy: 0.9758\n",
            "Epoch 2/10\n",
            "1875/1875 [==============================] - 52s 28ms/step - loss: 0.0789 - accuracy: 0.9770 - val_loss: 0.0676 - val_accuracy: 0.9782\n",
            "Epoch 3/10\n",
            "1875/1875 [==============================] - 46s 25ms/step - loss: 0.0585 - accuracy: 0.9827 - val_loss: 0.0658 - val_accuracy: 0.9788\n",
            "Epoch 4/10\n",
            "1875/1875 [==============================] - 59s 31ms/step - loss: 0.0487 - accuracy: 0.9854 - val_loss: 0.0555 - val_accuracy: 0.9817\n",
            "Epoch 5/10\n",
            "1875/1875 [==============================] - 50s 27ms/step - loss: 0.0405 - accuracy: 0.9882 - val_loss: 0.0526 - val_accuracy: 0.9824\n",
            "Epoch 6/10\n",
            "1875/1875 [==============================] - 61s 32ms/step - loss: 0.0348 - accuracy: 0.9893 - val_loss: 0.0550 - val_accuracy: 0.9823\n",
            "Epoch 7/10\n",
            "1875/1875 [==============================] - 53s 28ms/step - loss: 0.0299 - accuracy: 0.9911 - val_loss: 0.0552 - val_accuracy: 0.9833\n",
            "Epoch 8/10\n",
            "1875/1875 [==============================] - 47s 25ms/step - loss: 0.0256 - accuracy: 0.9923 - val_loss: 0.0555 - val_accuracy: 0.9839\n",
            "Epoch 9/10\n",
            "1875/1875 [==============================] - 57s 30ms/step - loss: 0.0215 - accuracy: 0.9937 - val_loss: 0.0570 - val_accuracy: 0.9839\n",
            "Epoch 10/10\n",
            "1875/1875 [==============================] - 49s 26ms/step - loss: 0.0185 - accuracy: 0.9945 - val_loss: 0.0602 - val_accuracy: 0.9839\n"
          ]
        }
      ]
    },
    {
      "cell_type": "code",
      "source": [
        "model.evaluate(x_valid_in,y_valid)"
      ],
      "metadata": {
        "colab": {
          "base_uri": "https://localhost:8080/"
        },
        "id": "0WxgsWUeo6rj",
        "outputId": "8001cb70-8bff-453a-b7c1-8730e352428a"
      },
      "execution_count": 8,
      "outputs": [
        {
          "output_type": "stream",
          "name": "stdout",
          "text": [
            "313/313 [==============================] - 4s 13ms/step - loss: 0.0602 - accuracy: 0.9839\n"
          ]
        },
        {
          "output_type": "execute_result",
          "data": {
            "text/plain": [
              "[0.060227006673812866, 0.9839000105857849]"
            ]
          },
          "metadata": {},
          "execution_count": 8
        }
      ]
    },
    {
      "cell_type": "code",
      "source": [
        "from matplotlib.pyplot import axvline\n",
        "def plot_loss_acc(history,epoch) :\n",
        "  loss,val_loss = history.history['loss'], history.history['val_loss']\n",
        "  acc,val_acc = history.history['accuracy'], history.history['val_accuracy']\n",
        "\n",
        "  fig,axes = plt.subplots(1,2,figsize = (12,4))\n",
        "\n",
        "  axes[0].plot(range(1,epoch + 1), loss, label = 'Training')\n",
        "  axes[0].plot(range(1,epoch + 1), val_loss, label = 'Validation')\n",
        "  axes[0].legend(loc = 'best')\n",
        "  axes[0].set_title('Loss')\n",
        "\n",
        "  axes[1].plot(range(1,epoch + 1), acc, label = 'Training')\n",
        "  axes[1].plot(range(1,epoch + 1), val_acc, label = 'Validation')\n",
        "  axes[1].legend(loc = 'best')\n",
        "  axes[1].set_title('Loss')\n",
        "\n",
        "  plt.show()\n",
        "\n",
        "plot_loss_acc(history,10)"
      ],
      "metadata": {
        "colab": {
          "base_uri": "https://localhost:8080/",
          "height": 281
        },
        "id": "HPhsmGgSpOk-",
        "outputId": "cc088410-eaf5-4100-e7fa-c5e7ed3e41b9"
      },
      "execution_count": 9,
      "outputs": [
        {
          "output_type": "display_data",
          "data": {
            "text/plain": [
              "<Figure size 864x288 with 2 Axes>"
            ],
            "image/png": "[encoded data removed]"
          },
          "metadata": {
            "needs_background": "light"
          }
        }
      ]
    },
    {
      "cell_type": "markdown",
      "source": [
        "### 2-3 모델 구조 파악\n",
        "\n",
        "* `summary` 메소드를 적용해주면, 모델의 구조를 요약해서 보여줌"
      ],
      "metadata": {
        "id": "_WShQT_A4atE"
      }
    },
    {
      "cell_type": "code",
      "source": [
        "model.summary()"
      ],
      "metadata": {
        "colab": {
          "base_uri": "https://localhost:8080/"
        },
        "id": "M-eyuz124jWs",
        "outputId": "591dbdb2-25d2-45e9-8635-3f37c613eec6"
      },
      "execution_count": 10,
      "outputs": [
        {
          "output_type": "stream",
          "name": "stdout",
          "text": [
            "Model: \"sequential\"\n",
            "_________________________________________________________________\n",
            " Layer (type)                Output Shape              Param #   \n",
            "=================================================================\n",
            " conv (Conv2D)               (None, 26, 26, 32)        320       \n",
            "                                                                 \n",
            " pool (MaxPooling2D)         (None, 13, 13, 32)        0         \n",
            "                                                                 \n",
            " flatten (Flatten)           (None, 5408)              0         \n",
            "                                                                 \n",
            " dense (Dense)               (None, 10)                54090     \n",
            "                                                                 \n",
            "=================================================================\n",
            "Total params: 54,410\n",
            "Trainable params: 54,410\n",
            "Non-trainable params: 0\n",
            "_________________________________________________________________\n"
          ]
        }
      ]
    },
    {
      "cell_type": "code",
      "source": [
        "#입력 텐서 형태\n",
        "model.input"
      ],
      "metadata": {
        "colab": {
          "base_uri": "https://localhost:8080/"
        },
        "id": "F2hFVBz24m78",
        "outputId": "7f65462b-28c8-4f51-db5e-40f9a8c91a89"
      },
      "execution_count": 11,
      "outputs": [
        {
          "output_type": "execute_result",
          "data": {
            "text/plain": [
              "<KerasTensor: shape=(None, 28, 28, 1) dtype=float32 (created by layer 'conv_input')>"
            ]
          },
          "metadata": {},
          "execution_count": 11
        }
      ]
    },
    {
      "cell_type": "code",
      "source": [
        "#출력 텐서 형태\n",
        "model.output\n"
      ],
      "metadata": {
        "colab": {
          "base_uri": "https://localhost:8080/"
        },
        "id": "J0zvE2ag4pIh",
        "outputId": "46839da9-364c-463c-eb2e-de74e8804bee"
      },
      "execution_count": 12,
      "outputs": [
        {
          "output_type": "execute_result",
          "data": {
            "text/plain": [
              "<KerasTensor: shape=(None, 10) dtype=float32 (created by layer 'dense')>"
            ]
          },
          "metadata": {},
          "execution_count": 12
        }
      ]
    },
    {
      "cell_type": "code",
      "source": [
        "model.layers"
      ],
      "metadata": {
        "colab": {
          "base_uri": "https://localhost:8080/"
        },
        "id": "Pe7PCqQ74sFP",
        "outputId": "0fa6cbce-d70c-4578-a1ba-1c646c51148e"
      },
      "execution_count": 13,
      "outputs": [
        {
          "output_type": "execute_result",
          "data": {
            "text/plain": [
              "[<keras.layers.convolutional.conv2d.Conv2D at 0x7f406ea3f610>,\n",
              " <keras.layers.pooling.max_pooling2d.MaxPooling2D at 0x7f40d53ed430>,\n",
              " <keras.layers.reshaping.flatten.Flatten at 0x7f407bfad040>,\n",
              " <keras.layers.core.dense.Dense at 0x7f406ea3fb20>]"
            ]
          },
          "metadata": {},
          "execution_count": 13
        }
      ]
    },
    {
      "cell_type": "code",
      "source": [
        "#첫번쨰 레이어 선택\n",
        "model.layers[0]"
      ],
      "metadata": {
        "colab": {
          "base_uri": "https://localhost:8080/"
        },
        "id": "huLvKspb4vjw",
        "outputId": "3fea931f-bd0c-48a8-b1b0-d04b2bc88ff0"
      },
      "execution_count": 14,
      "outputs": [
        {
          "output_type": "execute_result",
          "data": {
            "text/plain": [
              "<keras.layers.convolutional.conv2d.Conv2D at 0x7f406ea3f610>"
            ]
          },
          "metadata": {},
          "execution_count": 14
        }
      ]
    },
    {
      "cell_type": "code",
      "source": [
        "#첫번째 레이어 입력\n",
        "model.layers[0].input"
      ],
      "metadata": {
        "colab": {
          "base_uri": "https://localhost:8080/"
        },
        "id": "1JS1sMvg4zcF",
        "outputId": "65c22cde-ee16-4221-f817-721987d3aaca"
      },
      "execution_count": 15,
      "outputs": [
        {
          "output_type": "execute_result",
          "data": {
            "text/plain": [
              "<KerasTensor: shape=(None, 28, 28, 1) dtype=float32 (created by layer 'conv_input')>"
            ]
          },
          "metadata": {},
          "execution_count": 15
        }
      ]
    },
    {
      "cell_type": "code",
      "source": [
        "#첫번째 레이어 출력\n",
        "model.layers[0].output"
      ],
      "metadata": {
        "colab": {
          "base_uri": "https://localhost:8080/"
        },
        "id": "WYBj0lGQ44ac",
        "outputId": "edf41ae1-7214-405e-97ca-63b4e59de152"
      },
      "execution_count": 16,
      "outputs": [
        {
          "output_type": "execute_result",
          "data": {
            "text/plain": [
              "<KerasTensor: shape=(None, 26, 26, 32) dtype=float32 (created by layer 'conv')>"
            ]
          },
          "metadata": {},
          "execution_count": 16
        }
      ]
    },
    {
      "cell_type": "markdown",
      "source": [
        "* 커널 가중치의 shape (3,3,1,32)\n",
        " * (3,3) : 필터의 크기\n",
        " * 1 : 입력층의 채널 개수\n",
        " * 32 : 출력층의 채널 개수\n",
        " * 가능한 파라미터 수 : 3 x 3 x 1 x 32 = 288"
      ],
      "metadata": {
        "id": "NBr5FlDj5FUt"
      }
    },
    {
      "cell_type": "code",
      "source": [
        "#첫번쨰 레이어 가중치\n",
        "model.layers[0].weights"
      ],
      "metadata": {
        "colab": {
          "base_uri": "https://localhost:8080/"
        },
        "id": "bO2s7Xz44-rD",
        "outputId": "282decb6-9398-4545-8eac-946488d463d4"
      },
      "execution_count": 17,
      "outputs": [
        {
          "output_type": "execute_result",
          "data": {
            "text/plain": [
              "[<tf.Variable 'conv/kernel:0' shape=(3, 3, 1, 32) dtype=float32, numpy=\n",
              " array([[[[ 2.25577965e-01,  2.77868390e-01,  3.31267118e-01,\n",
              "           -8.64460766e-02, -7.00513870e-02,  1.66193083e-01,\n",
              "           -4.53049578e-02,  4.23590630e-01,  2.62636621e-03,\n",
              "            1.77570030e-01,  5.06641753e-02, -4.97360498e-01,\n",
              "            2.92978197e-01,  1.74881890e-01, -2.34127656e-01,\n",
              "           -3.97891074e-01,  2.55832583e-01, -3.21891695e-01,\n",
              "           -1.25900233e+00,  2.61494756e-01,  2.50577718e-01,\n",
              "           -1.21790648e+00, -3.69061530e-02,  1.22200780e-01,\n",
              "            3.01678516e-02, -4.61322129e-01,  2.46665061e-01,\n",
              "           -6.62412643e-01, -1.62373766e-01, -3.43920588e-01,\n",
              "            9.11097467e-01, -1.35404021e-02]],\n",
              " \n",
              "         [[ 6.80281281e-01, -9.48025100e-03,  4.27662224e-01,\n",
              "           -5.33343405e-02, -6.51720464e-02, -2.35292956e-01,\n",
              "            3.44965041e-01,  5.91604710e-01,  4.43159901e-02,\n",
              "           -1.16689339e-01,  3.93657595e-01, -1.60439610e-01,\n",
              "           -6.45408779e-02,  2.70499349e-01,  4.07072455e-01,\n",
              "           -2.31103793e-01,  2.86707491e-01,  2.36885428e-01,\n",
              "            1.69720769e-01,  1.25127643e-01,  7.49144778e-02,\n",
              "           -1.07493663e+00,  4.50231805e-02,  4.09300685e-01,\n",
              "            1.85204908e-01, -6.50731325e-01,  2.51678079e-01,\n",
              "           -8.38625804e-02, -5.91362119e-01, -7.61316180e-01,\n",
              "           -1.31955838e+00, -3.76496166e-02]],\n",
              " \n",
              "         [[ 5.35729885e-01, -2.28641376e-01,  8.14748555e-02,\n",
              "           -9.56807435e-02, -2.04145592e-02, -8.48456860e-01,\n",
              "            5.44861317e-01,  2.14019045e-01, -7.78240561e-01,\n",
              "            1.18097611e-01,  4.51317132e-01,  2.51495659e-01,\n",
              "            1.37269795e-01, -6.70267045e-01,  3.91162902e-01,\n",
              "            1.67454943e-01, -5.07567942e-01,  8.35429057e-02,\n",
              "            4.22372997e-01,  1.51701763e-01, -2.38793910e-01,\n",
              "           -8.06056082e-01,  3.12567204e-01,  3.38479549e-01,\n",
              "           -2.12786496e-01, -1.19021110e-01, -2.97464311e-01,\n",
              "            2.97848284e-01, -4.69282746e-01, -5.00003517e-01,\n",
              "           -4.13215578e-01, -6.56911209e-02]]],\n",
              " \n",
              " \n",
              "        [[[-8.21376920e-01, -2.20123783e-01,  4.59587991e-01,\n",
              "            8.66547693e-03,  1.12848915e-01,  6.53699815e-01,\n",
              "            1.30070597e-01, -1.03052819e+00,  2.46492952e-01,\n",
              "           -3.24185342e-01, -4.20116544e-01,  2.54333436e-01,\n",
              "           -1.32544592e-01,  4.17026579e-02, -1.12399137e+00,\n",
              "           -3.06499779e-01, -2.61928946e-01,  2.44598370e-02,\n",
              "           -8.32799613e-01,  1.07478704e-02, -2.30882857e-02,\n",
              "            3.06217790e-01,  1.86826020e-01, -2.77470469e-01,\n",
              "            3.53241384e-01, -2.52532929e-01, -1.92950100e-01,\n",
              "           -1.48762167e-01, -6.16543479e-02,  4.59704489e-01,\n",
              "           -1.20889747e+00, -8.58841166e-02]],\n",
              " \n",
              "         [[ 1.38269231e-01,  3.19559634e-01,  2.78188318e-01,\n",
              "           -6.62012994e-02, -6.65957555e-02, -1.22748777e-01,\n",
              "            3.76197129e-01, -1.02116895e+00,  4.24385905e-01,\n",
              "           -4.37586084e-02,  2.44731918e-01,  3.70005041e-01,\n",
              "            1.24551274e-01,  4.30978686e-01,  1.12083480e-01,\n",
              "            3.98248285e-01,  2.14610264e-01,  3.39179873e-01,\n",
              "            2.56464660e-01,  4.56904620e-01,  2.13623360e-01,\n",
              "            2.59927928e-01, -2.78162044e-02, -1.67282701e-01,\n",
              "            3.00351977e-01,  2.60512203e-01,  1.28349438e-01,\n",
              "            5.29265583e-01, -3.75952989e-01,  5.26606701e-02,\n",
              "           -7.94930875e-01, -1.34876803e-01]],\n",
              " \n",
              "         [[-3.67057025e-01,  1.91207424e-01, -4.93357897e-01,\n",
              "           -6.26126602e-02,  9.22136605e-02, -6.97827816e-01,\n",
              "            1.05439171e-01, -9.77123260e-01, -3.50540340e-01,\n",
              "            2.47472450e-01,  4.88159746e-01,  1.19676247e-01,\n",
              "           -1.92435980e-01, -3.14406276e-01,  3.88112247e-01,\n",
              "            1.96450889e-01,  2.21835867e-01, -4.44036335e-01,\n",
              "            4.58480299e-01,  4.72162604e-01, -2.39921972e-01,\n",
              "           -1.12308681e+00, -2.61504084e-01,  3.88347507e-01,\n",
              "           -7.74418056e-01,  3.62820655e-01,  1.12716801e-01,\n",
              "            2.33612787e-02, -4.42043215e-01,  1.11609161e-01,\n",
              "            8.21679175e-01, -9.13116187e-02]]],\n",
              " \n",
              " \n",
              "        [[[-8.73697340e-01,  3.68407480e-02, -7.87981331e-01,\n",
              "           -6.32121861e-02, -8.29589274e-03,  6.21302783e-01,\n",
              "           -7.96901345e-01,  3.57487530e-01,  1.03782676e-01,\n",
              "            1.07098311e-01, -7.73345768e-01,  2.23350927e-01,\n",
              "            1.92594565e-02, -4.95938838e-01, -8.45192313e-01,\n",
              "            1.67447150e-01, -3.18132430e-01, -1.41444936e-01,\n",
              "           -5.52829742e-01, -5.18550932e-01, -3.81794214e-01,\n",
              "            5.32830596e-01,  1.09952211e-01, -5.57226956e-01,\n",
              "            5.86947203e-01,  5.04023373e-01, -2.55529493e-01,\n",
              "            2.30667189e-01,  6.14342213e-01,  3.13954353e-01,\n",
              "           -4.76725310e-01, -6.29226267e-02]],\n",
              " \n",
              "         [[-7.62335837e-01, -1.64879739e-01, -7.24946916e-01,\n",
              "           -9.98765081e-02,  2.69525070e-02,  2.55399466e-01,\n",
              "           -7.47640729e-01,  5.79355597e-01,  4.13961709e-01,\n",
              "            2.52973884e-01, -9.07720327e-01, -1.97421163e-02,\n",
              "            1.03774981e-03,  3.36420834e-01, -4.73205715e-01,\n",
              "            3.32682341e-01, -8.64908285e-03,  3.42282474e-01,\n",
              "            2.58477509e-01, -7.88684726e-01,  3.27325195e-01,\n",
              "            3.25557977e-01,  1.76285565e-01, -6.59239471e-01,\n",
              "            1.37523472e-01,  3.94999087e-01,  5.23299985e-02,\n",
              "            2.83809751e-01,  6.75866306e-01,  3.41217190e-01,\n",
              "            5.67867160e-01, -7.86967427e-02]],\n",
              " \n",
              "         [[-1.08297515e+00,  1.39916748e-01, -9.78247881e-01,\n",
              "           -1.03215665e-01, -9.89127066e-03, -5.41837960e-02,\n",
              "           -6.84997022e-01,  3.70586812e-01,  9.25158262e-02,\n",
              "           -2.14130700e-01, -7.19483197e-01, -5.48906446e-01,\n",
              "            2.29164407e-01,  1.65325552e-01,  2.37891763e-01,\n",
              "           -5.79941154e-01,  2.54978955e-01, -2.07609668e-01,\n",
              "            2.78846264e-01,  1.14796489e-01,  2.45553046e-01,\n",
              "           -4.05153871e-01, -2.98606813e-01,  1.97628021e-01,\n",
              "           -1.00326467e+00, -2.87531018e-01,  2.28218690e-01,\n",
              "           -7.04707265e-01,  2.89805353e-01,  1.80602223e-01,\n",
              "            6.24429464e-01, -6.33193105e-02]]]], dtype=float32)>,\n",
              " <tf.Variable 'conv/bias:0' shape=(32,) dtype=float32, numpy=\n",
              " array([-0.00052507, -0.20763217, -0.01246257, -0.01260055, -0.1972652 ,\n",
              "        -0.09341408, -0.01873883, -0.01057515, -0.1819038 , -0.23893984,\n",
              "        -0.04454487, -0.19703342, -0.24282372, -0.23223972, -0.12247935,\n",
              "        -0.19836129, -0.1993529 , -0.11441912, -0.08608699, -0.33329448,\n",
              "        -0.24496748,  0.26789376, -0.28418642, -0.21857655, -0.03473873,\n",
              "        -0.039191  , -0.27430078, -0.19465275, -0.11898448, -0.22083561,\n",
              "         0.00993933,  0.        ], dtype=float32)>]"
            ]
          },
          "metadata": {},
          "execution_count": 17
        }
      ]
    },
    {
      "cell_type": "code",
      "source": [
        "#첫번째 레이어 커널 가중치\n",
        "model.layers[0].kernel"
      ],
      "metadata": {
        "colab": {
          "base_uri": "https://localhost:8080/"
        },
        "id": "YzJ7o4UF5VzD",
        "outputId": "8c8a8419-9411-42b5-9c54-e9692b1e123d"
      },
      "execution_count": 18,
      "outputs": [
        {
          "output_type": "execute_result",
          "data": {
            "text/plain": [
              "<tf.Variable 'conv/kernel:0' shape=(3, 3, 1, 32) dtype=float32, numpy=\n",
              "array([[[[ 2.25577965e-01,  2.77868390e-01,  3.31267118e-01,\n",
              "          -8.64460766e-02, -7.00513870e-02,  1.66193083e-01,\n",
              "          -4.53049578e-02,  4.23590630e-01,  2.62636621e-03,\n",
              "           1.77570030e-01,  5.06641753e-02, -4.97360498e-01,\n",
              "           2.92978197e-01,  1.74881890e-01, -2.34127656e-01,\n",
              "          -3.97891074e-01,  2.55832583e-01, -3.21891695e-01,\n",
              "          -1.25900233e+00,  2.61494756e-01,  2.50577718e-01,\n",
              "          -1.21790648e+00, -3.69061530e-02,  1.22200780e-01,\n",
              "           3.01678516e-02, -4.61322129e-01,  2.46665061e-01,\n",
              "          -6.62412643e-01, -1.62373766e-01, -3.43920588e-01,\n",
              "           9.11097467e-01, -1.35404021e-02]],\n",
              "\n",
              "        [[ 6.80281281e-01, -9.48025100e-03,  4.27662224e-01,\n",
              "          -5.33343405e-02, -6.51720464e-02, -2.35292956e-01,\n",
              "           3.44965041e-01,  5.91604710e-01,  4.43159901e-02,\n",
              "          -1.16689339e-01,  3.93657595e-01, -1.60439610e-01,\n",
              "          -6.45408779e-02,  2.70499349e-01,  4.07072455e-01,\n",
              "          -2.31103793e-01,  2.86707491e-01,  2.36885428e-01,\n",
              "           1.69720769e-01,  1.25127643e-01,  7.49144778e-02,\n",
              "          -1.07493663e+00,  4.50231805e-02,  4.09300685e-01,\n",
              "           1.85204908e-01, -6.50731325e-01,  2.51678079e-01,\n",
              "          -8.38625804e-02, -5.91362119e-01, -7.61316180e-01,\n",
              "          -1.31955838e+00, -3.76496166e-02]],\n",
              "\n",
              "        [[ 5.35729885e-01, -2.28641376e-01,  8.14748555e-02,\n",
              "          -9.56807435e-02, -2.04145592e-02, -8.48456860e-01,\n",
              "           5.44861317e-01,  2.14019045e-01, -7.78240561e-01,\n",
              "           1.18097611e-01,  4.51317132e-01,  2.51495659e-01,\n",
              "           1.37269795e-01, -6.70267045e-01,  3.91162902e-01,\n",
              "           1.67454943e-01, -5.07567942e-01,  8.35429057e-02,\n",
              "           4.22372997e-01,  1.51701763e-01, -2.38793910e-01,\n",
              "          -8.06056082e-01,  3.12567204e-01,  3.38479549e-01,\n",
              "          -2.12786496e-01, -1.19021110e-01, -2.97464311e-01,\n",
              "           2.97848284e-01, -4.69282746e-01, -5.00003517e-01,\n",
              "          -4.13215578e-01, -6.56911209e-02]]],\n",
              "\n",
              "\n",
              "       [[[-8.21376920e-01, -2.20123783e-01,  4.59587991e-01,\n",
              "           8.66547693e-03,  1.12848915e-01,  6.53699815e-01,\n",
              "           1.30070597e-01, -1.03052819e+00,  2.46492952e-01,\n",
              "          -3.24185342e-01, -4.20116544e-01,  2.54333436e-01,\n",
              "          -1.32544592e-01,  4.17026579e-02, -1.12399137e+00,\n",
              "          -3.06499779e-01, -2.61928946e-01,  2.44598370e-02,\n",
              "          -8.32799613e-01,  1.07478704e-02, -2.30882857e-02,\n",
              "           3.06217790e-01,  1.86826020e-01, -2.77470469e-01,\n",
              "           3.53241384e-01, -2.52532929e-01, -1.92950100e-01,\n",
              "          -1.48762167e-01, -6.16543479e-02,  4.59704489e-01,\n",
              "          -1.20889747e+00, -8.58841166e-02]],\n",
              "\n",
              "        [[ 1.38269231e-01,  3.19559634e-01,  2.78188318e-01,\n",
              "          -6.62012994e-02, -6.65957555e-02, -1.22748777e-01,\n",
              "           3.76197129e-01, -1.02116895e+00,  4.24385905e-01,\n",
              "          -4.37586084e-02,  2.44731918e-01,  3.70005041e-01,\n",
              "           1.24551274e-01,  4.30978686e-01,  1.12083480e-01,\n",
              "           3.98248285e-01,  2.14610264e-01,  3.39179873e-01,\n",
              "           2.56464660e-01,  4.56904620e-01,  2.13623360e-01,\n",
              "           2.59927928e-01, -2.78162044e-02, -1.67282701e-01,\n",
              "           3.00351977e-01,  2.60512203e-01,  1.28349438e-01,\n",
              "           5.29265583e-01, -3.75952989e-01,  5.26606701e-02,\n",
              "          -7.94930875e-01, -1.34876803e-01]],\n",
              "\n",
              "        [[-3.67057025e-01,  1.91207424e-01, -4.93357897e-01,\n",
              "          -6.26126602e-02,  9.22136605e-02, -6.97827816e-01,\n",
              "           1.05439171e-01, -9.77123260e-01, -3.50540340e-01,\n",
              "           2.47472450e-01,  4.88159746e-01,  1.19676247e-01,\n",
              "          -1.92435980e-01, -3.14406276e-01,  3.88112247e-01,\n",
              "           1.96450889e-01,  2.21835867e-01, -4.44036335e-01,\n",
              "           4.58480299e-01,  4.72162604e-01, -2.39921972e-01,\n",
              "          -1.12308681e+00, -2.61504084e-01,  3.88347507e-01,\n",
              "          -7.74418056e-01,  3.62820655e-01,  1.12716801e-01,\n",
              "           2.33612787e-02, -4.42043215e-01,  1.11609161e-01,\n",
              "           8.21679175e-01, -9.13116187e-02]]],\n",
              "\n",
              "\n",
              "       [[[-8.73697340e-01,  3.68407480e-02, -7.87981331e-01,\n",
              "          -6.32121861e-02, -8.29589274e-03,  6.21302783e-01,\n",
              "          -7.96901345e-01,  3.57487530e-01,  1.03782676e-01,\n",
              "           1.07098311e-01, -7.73345768e-01,  2.23350927e-01,\n",
              "           1.92594565e-02, -4.95938838e-01, -8.45192313e-01,\n",
              "           1.67447150e-01, -3.18132430e-01, -1.41444936e-01,\n",
              "          -5.52829742e-01, -5.18550932e-01, -3.81794214e-01,\n",
              "           5.32830596e-01,  1.09952211e-01, -5.57226956e-01,\n",
              "           5.86947203e-01,  5.04023373e-01, -2.55529493e-01,\n",
              "           2.30667189e-01,  6.14342213e-01,  3.13954353e-01,\n",
              "          -4.76725310e-01, -6.29226267e-02]],\n",
              "\n",
              "        [[-7.62335837e-01, -1.64879739e-01, -7.24946916e-01,\n",
              "          -9.98765081e-02,  2.69525070e-02,  2.55399466e-01,\n",
              "          -7.47640729e-01,  5.79355597e-01,  4.13961709e-01,\n",
              "           2.52973884e-01, -9.07720327e-01, -1.97421163e-02,\n",
              "           1.03774981e-03,  3.36420834e-01, -4.73205715e-01,\n",
              "           3.32682341e-01, -8.64908285e-03,  3.42282474e-01,\n",
              "           2.58477509e-01, -7.88684726e-01,  3.27325195e-01,\n",
              "           3.25557977e-01,  1.76285565e-01, -6.59239471e-01,\n",
              "           1.37523472e-01,  3.94999087e-01,  5.23299985e-02,\n",
              "           2.83809751e-01,  6.75866306e-01,  3.41217190e-01,\n",
              "           5.67867160e-01, -7.86967427e-02]],\n",
              "\n",
              "        [[-1.08297515e+00,  1.39916748e-01, -9.78247881e-01,\n",
              "          -1.03215665e-01, -9.89127066e-03, -5.41837960e-02,\n",
              "          -6.84997022e-01,  3.70586812e-01,  9.25158262e-02,\n",
              "          -2.14130700e-01, -7.19483197e-01, -5.48906446e-01,\n",
              "           2.29164407e-01,  1.65325552e-01,  2.37891763e-01,\n",
              "          -5.79941154e-01,  2.54978955e-01, -2.07609668e-01,\n",
              "           2.78846264e-01,  1.14796489e-01,  2.45553046e-01,\n",
              "          -4.05153871e-01, -2.98606813e-01,  1.97628021e-01,\n",
              "          -1.00326467e+00, -2.87531018e-01,  2.28218690e-01,\n",
              "          -7.04707265e-01,  2.89805353e-01,  1.80602223e-01,\n",
              "           6.24429464e-01, -6.33193105e-02]]]], dtype=float32)>"
            ]
          },
          "metadata": {},
          "execution_count": 18
        }
      ]
    },
    {
      "cell_type": "code",
      "source": [
        "#첫번째 레이어 bias 가중치\n",
        "model.layers[0].bias"
      ],
      "metadata": {
        "colab": {
          "base_uri": "https://localhost:8080/"
        },
        "id": "oT145kKZ5ZaL",
        "outputId": "75230849-e288-4ba7-d754-eabc4771ddb9"
      },
      "execution_count": 19,
      "outputs": [
        {
          "output_type": "execute_result",
          "data": {
            "text/plain": [
              "<tf.Variable 'conv/bias:0' shape=(32,) dtype=float32, numpy=\n",
              "array([-0.00052507, -0.20763217, -0.01246257, -0.01260055, -0.1972652 ,\n",
              "       -0.09341408, -0.01873883, -0.01057515, -0.1819038 , -0.23893984,\n",
              "       -0.04454487, -0.19703342, -0.24282372, -0.23223972, -0.12247935,\n",
              "       -0.19836129, -0.1993529 , -0.11441912, -0.08608699, -0.33329448,\n",
              "       -0.24496748,  0.26789376, -0.28418642, -0.21857655, -0.03473873,\n",
              "       -0.039191  , -0.27430078, -0.19465275, -0.11898448, -0.22083561,\n",
              "        0.00993933,  0.        ], dtype=float32)>"
            ]
          },
          "metadata": {},
          "execution_count": 19
        }
      ]
    },
    {
      "cell_type": "code",
      "source": [
        "#합성곱 레이어의 이름을 conv라고 지정해 두었으므로, 이름을 사용하여 선택 가능\n",
        "model.get_layer('conv')"
      ],
      "metadata": {
        "colab": {
          "base_uri": "https://localhost:8080/"
        },
        "id": "opCwc6N15dtN",
        "outputId": "d633f4f6-296a-43af-eab0-50a501a7e1d2"
      },
      "execution_count": 20,
      "outputs": [
        {
          "output_type": "execute_result",
          "data": {
            "text/plain": [
              "<keras.layers.convolutional.conv2d.Conv2D at 0x7f406ea3f610>"
            ]
          },
          "metadata": {},
          "execution_count": 20
        }
      ]
    },
    {
      "cell_type": "code",
      "source": [
        "activator = tf.keras.Model(inputs = model.input, outputs = [layer.output for layer in model.layers[:2]])\n",
        "activations = activator.predict(x_train_in[0][tf.newaxis, ...])\n",
        "len(activations)"
      ],
      "metadata": {
        "colab": {
          "base_uri": "https://localhost:8080/"
        },
        "id": "HY4Ciibt55YP",
        "outputId": "e63ef1b4-928d-463d-8344-e3deac5bfb02"
      },
      "execution_count": 21,
      "outputs": [
        {
          "output_type": "stream",
          "name": "stdout",
          "text": [
            "1/1 [==============================] - 0s 476ms/step\n"
          ]
        },
        {
          "output_type": "execute_result",
          "data": {
            "text/plain": [
              "2"
            ]
          },
          "metadata": {},
          "execution_count": 21
        }
      ]
    },
    {
      "cell_type": "code",
      "source": [
        "#첫번째 레이어 출력층\n",
        "#1은 입력 이미지의 개수 = 샘플이 1개\n",
        "\n",
        "conv_activation = activations[0]\n",
        "conv_activation.shape"
      ],
      "metadata": {
        "colab": {
          "base_uri": "https://localhost:8080/"
        },
        "id": "2uqBJKfo566n",
        "outputId": "d3dc7ba5-dee8-4cbc-be84-805e7c5dbee4"
      },
      "execution_count": 22,
      "outputs": [
        {
          "output_type": "execute_result",
          "data": {
            "text/plain": [
              "(1, 26, 26, 32)"
            ]
          },
          "metadata": {},
          "execution_count": 22
        }
      ]
    },
    {
      "cell_type": "code",
      "source": [
        "#Convolution 시각화\n",
        "#각 커널은 입력 이미지로부터 서로 다른 피처를 추출하는 역할을 한다\n",
        "fig,axes = plt.subplots(4,8)\n",
        "fig.set_size_inches(10,5)\n",
        "\n",
        "for i in range(32) :\n",
        "  axes[i//8, i%8].matshow(conv_activation[0,:,:,i],cmap = 'viridis')\n",
        "  axes[i//8,i%8].set_title('kernel %s '%str(i), fontsize = 10)\n",
        "  plt.setp(axes[i//8, i%8].get_xticklabels(),visible = False)\n",
        "  plt.setp(axes[i//8, i%8].get_yticklabels(),visible = False)\n",
        "\n",
        "plt.tight_layout()\n",
        "plt.show()"
      ],
      "metadata": {
        "colab": {
          "base_uri": "https://localhost:8080/",
          "height": 369
        },
        "id": "ECeftYF-6G2w",
        "outputId": "a57ae495-532b-49ae-9312-ecec36773675"
      },
      "execution_count": 23,
      "outputs": [
        {
          "output_type": "display_data",
          "data": {
            "text/plain": [
              "<Figure size 720x360 with 32 Axes>"
            ],
            "image/png": "[encoded data removed]"
          },
          "metadata": {}
        }
      ]
    },
    {
      "cell_type": "code",
      "source": [
        "#최대 풀링 레이어\n",
        "pooling_activation = activations[1]\n",
        "print(pooling_activation.shape)"
      ],
      "metadata": {
        "colab": {
          "base_uri": "https://localhost:8080/"
        },
        "id": "3G0NNYkg7Ff6",
        "outputId": "22afc1c8-818d-4af0-8a79-8efc7b9a8671"
      },
      "execution_count": 24,
      "outputs": [
        {
          "output_type": "stream",
          "name": "stdout",
          "text": [
            "(1, 13, 13, 32)\n"
          ]
        }
      ]
    },
    {
      "cell_type": "code",
      "source": [
        "#각 커널별로 출력되는 특성맵 이미지 시각화\n",
        "fig,axes = plt.subplots(4,8)\n",
        "fig.set_size_inches(10,5)\n",
        "\n",
        "for i in range(32) :\n",
        "  axes[i//8,i%8].matshow(pooling_activation[0,:,:,i],cmap = 'viridis')\n",
        "  axes[i//8,i%8].set_title('kernel %s'%str(i), fontsize = 10)\n",
        "  plt.setp(axes[i//8, i%8].get_xticklabels(),visible = False)\n",
        "  plt.setp(axes[i//8, i%8].get_yticklabels(),visible = False)\n",
        "\n",
        "plt.tight_layout()\n",
        "plt.show()"
      ],
      "metadata": {
        "colab": {
          "base_uri": "https://localhost:8080/",
          "height": 369
        },
        "id": "8D2hUGMr7Qr0",
        "outputId": "91bb799d-5e78-49f6-9cda-042898f6f935"
      },
      "execution_count": 25,
      "outputs": [
        {
          "output_type": "display_data",
          "data": {
            "text/plain": [
              "<Figure size 720x360 with 32 Axes>"
            ],
            "image/png": "[encoded data removed]"
          },
          "metadata": {}
        }
      ]
    },
    {
      "cell_type": "markdown",
      "source": [
        "---\n",
        "## **| 03** 복잡한 모델 생성"
      ],
      "metadata": {
        "id": "V3EYuDSO7uY3"
      }
    },
    {
      "cell_type": "markdown",
      "source": [
        "### 3-1 데이터셋 준비"
      ],
      "metadata": {
        "id": "lWN5PnVy7xSq"
      }
    },
    {
      "cell_type": "code",
      "source": [
        "import tensorflow as tf\n",
        "import numpy as np\n",
        "\n",
        "mnist = tf.keras.datasets.mnist\n",
        "(x_train,y_train),(x_valid,y_valid) = mnist.load_data()\n",
        "\n",
        "print(x_train.shape,y_train.shape)\n",
        "print(x_valid.shape, y_valid.shape)"
      ],
      "metadata": {
        "colab": {
          "base_uri": "https://localhost:8080/"
        },
        "id": "FMV317OA70Sz",
        "outputId": "bb87dd9f-18d6-4a38-b26c-cf802c4e6e28"
      },
      "execution_count": 26,
      "outputs": [
        {
          "output_type": "stream",
          "name": "stdout",
          "text": [
            "(60000, 28, 28) (60000,)\n",
            "(10000, 28, 28) (10000,)\n"
          ]
        }
      ]
    },
    {
      "cell_type": "markdown",
      "source": [
        "* 홀수인지 짝수인지 판단하는 정답 새로 추가 : `y_odd`\n",
        "  * y_train 이 홀수면 1 / 짝수면 0"
      ],
      "metadata": {
        "id": "_r0J-J0b8Dpx"
      }
    },
    {
      "cell_type": "code",
      "source": [
        "y_train_odd = []\n",
        "for y in y_train :\n",
        "  if y%2 == 0 :\n",
        "    y_train_odd.append(0)\n",
        "  else :\n",
        "    y_train_odd.append(1)\n",
        "\n",
        "y_train_odd = np.array(y_train_odd)\n",
        "y_train_odd.shape"
      ],
      "metadata": {
        "colab": {
          "base_uri": "https://localhost:8080/"
        },
        "id": "xbbC9Nff8MJ2",
        "outputId": "6f82c8a7-eab3-4997-a485-885c34f5e7cb"
      },
      "execution_count": 27,
      "outputs": [
        {
          "output_type": "execute_result",
          "data": {
            "text/plain": [
              "(60000,)"
            ]
          },
          "metadata": {},
          "execution_count": 27
        }
      ]
    },
    {
      "cell_type": "code",
      "source": [
        "print(y_train[:10])\n",
        "print(y_train_odd[:10])"
      ],
      "metadata": {
        "colab": {
          "base_uri": "https://localhost:8080/"
        },
        "id": "S4RX-n3L8bgM",
        "outputId": "9f868c11-f117-468e-d645-c85d991f01ea"
      },
      "execution_count": 28,
      "outputs": [
        {
          "output_type": "stream",
          "name": "stdout",
          "text": [
            "[5 0 4 1 9 2 1 3 1 4]\n",
            "[1 0 0 1 1 0 1 1 1 0]\n"
          ]
        }
      ]
    },
    {
      "cell_type": "code",
      "source": [
        "#검증 데이터셋에도 추가\n",
        "y_valid_odd =[]\n",
        "for y in y_valid:\n",
        "  if y % 2 == 0:\n",
        "    y_valid_odd.append(0)\n",
        "  else :\n",
        "    y_valid_odd.append(1)\n",
        "\n",
        "y_valid_odd = np.array(y_valid_odd)\n",
        "y_valid_odd.shape"
      ],
      "metadata": {
        "colab": {
          "base_uri": "https://localhost:8080/"
        },
        "id": "YG7BjCBh8laZ",
        "outputId": "bf8bc0f2-3620-43c9-b761-e62cef2d7fc9"
      },
      "execution_count": 29,
      "outputs": [
        {
          "output_type": "execute_result",
          "data": {
            "text/plain": [
              "(10000,)"
            ]
          },
          "metadata": {},
          "execution_count": 29
        }
      ]
    },
    {
      "cell_type": "code",
      "source": [
        "#Normalization\n",
        "\n",
        "x_train = x_train / 255.0\n",
        "x_valid = x_valid/255.0\n",
        "\n",
        "#채널 추가\n",
        "x_train_in = tf.expand_dims(x_train, -1)\n",
        "x_valid_in = tf.expand_dims(x_valid, -1)\n",
        "\n",
        "print(x_train_in.shape, x_valid_in.shape)"
      ],
      "metadata": {
        "colab": {
          "base_uri": "https://localhost:8080/"
        },
        "id": "drbYKuND80J2",
        "outputId": "1e90f848-a4a9-4b24-888d-5e7912f81db2"
      },
      "execution_count": 30,
      "outputs": [
        {
          "output_type": "stream",
          "name": "stdout",
          "text": [
            "(60000, 28, 28, 1) (10000, 28, 28, 1)\n"
          ]
        }
      ]
    },
    {
      "cell_type": "markdown",
      "source": [
        "### 3-2 Functiona API 로 다중 입력, 다중 출력 레이어 생성"
      ],
      "metadata": {
        "id": "oLFc6wAP9FWF"
      }
    },
    {
      "cell_type": "code",
      "source": [
        "inputs = tf.keras.layers.Input(shape = (28,28,1))\n",
        "\n",
        "conv = tf.keras.layers.Conv2D(32,(3,3),activation = 'relu')(inputs)\n",
        "pool = tf.keras.layers.MaxPooling2D((2,2))(conv)\n",
        "flat = tf.keras.layers.Flatten()(pool)\n",
        "\n",
        "flat_inputs = tf.keras.layers.Flatten()(inputs)\n",
        "concat = tf.keras.layers.Concatenate()([flat,flat_inputs])\n",
        "outputs = tf.keras.layers.Dense(10, activation = 'softmax')(concat)\n",
        "\n",
        "model = tf.keras.models.Model(inputs = inputs, outputs = outputs)\n",
        "\n",
        "model.summary()"
      ],
      "metadata": {
        "colab": {
          "base_uri": "https://localhost:8080/"
        },
        "id": "dX2pCl789LuQ",
        "outputId": "9954afbd-6393-480f-a13c-9fe9f43d081d"
      },
      "execution_count": 31,
      "outputs": [
        {
          "output_type": "stream",
          "name": "stdout",
          "text": [
            "Model: \"model_1\"\n",
            "__________________________________________________________________________________________________\n",
            " Layer (type)                   Output Shape         Param #     Connected to                     \n",
            "==================================================================================================\n",
            " input_1 (InputLayer)           [(None, 28, 28, 1)]  0           []                               \n",
            "                                                                                                  \n",
            " conv2d (Conv2D)                (None, 26, 26, 32)   320         ['input_1[0][0]']                \n",
            "                                                                                                  \n",
            " max_pooling2d (MaxPooling2D)   (None, 13, 13, 32)   0           ['conv2d[0][0]']                 \n",
            "                                                                                                  \n",
            " flatten_1 (Flatten)            (None, 5408)         0           ['max_pooling2d[0][0]']          \n",
            "                                                                                                  \n",
            " flatten_2 (Flatten)            (None, 784)          0           ['input_1[0][0]']                \n",
            "                                                                                                  \n",
            " concatenate (Concatenate)      (None, 6192)         0           ['flatten_1[0][0]',              \n",
            "                                                                  'flatten_2[0][0]']              \n",
            "                                                                                                  \n",
            " dense_1 (Dense)                (None, 10)           61930       ['concatenate[0][0]']            \n",
            "                                                                                                  \n",
            "==================================================================================================\n",
            "Total params: 62,250\n",
            "Trainable params: 62,250\n",
            "Non-trainable params: 0\n",
            "__________________________________________________________________________________________________\n"
          ]
        }
      ]
    },
    {
      "cell_type": "code",
      "source": [
        "from tensorflow.keras.utils import plot_model\n",
        "\n",
        "plot_model(model, show_shapes = True, show_layer_names = True, to_file = 'functional_cnn.png')"
      ],
      "metadata": {
        "colab": {
          "base_uri": "https://localhost:8080/",
          "height": 644
        },
        "id": "gXjPVxz-9we_",
        "outputId": "dd78057c-6c2e-4a32-d0fa-51e5878ae49d"
      },
      "execution_count": 32,
      "outputs": [
        {
          "output_type": "execute_result",
          "data": {
            "image/png": "[encoded data removed]",
            "text/plain": [
              "<IPython.core.display.Image object>"
            ]
          },
          "metadata": {},
          "execution_count": 32
        }
      ]
    },
    {
      "cell_type": "code",
      "source": [
        "model.compile(optimizer = 'adam', loss = 'sparse_categorical_crossentropy', metrics = ['accuracy'])\n",
        "\n",
        "history = model.fit(x_train_in, y_train, validation_data = (x_valid_in,y_valid),\n",
        "                    epochs = 10)\n",
        "\n",
        "val_loss, val_acc = model.evaluate(x_valid_in,y_valid)\n",
        "print(val_loss, val_acc)"
      ],
      "metadata": {
        "colab": {
          "base_uri": "https://localhost:8080/"
        },
        "id": "NtGb05Q3-NDY",
        "outputId": "d9d4ec5d-7fe9-42b8-9dd9-92204809d7bc"
      },
      "execution_count": 33,
      "outputs": [
        {
          "output_type": "stream",
          "name": "stdout",
          "text": [
            "Epoch 1/10\n",
            "1875/1875 [==============================] - 63s 33ms/step - loss: 0.1948 - accuracy: 0.9456 - val_loss: 0.0816 - val_accuracy: 0.9753\n",
            "Epoch 2/10\n",
            "1875/1875 [==============================] - 52s 28ms/step - loss: 0.0725 - accuracy: 0.9785 - val_loss: 0.0603 - val_accuracy: 0.9809\n",
            "Epoch 3/10\n",
            "1875/1875 [==============================] - 45s 24ms/step - loss: 0.0546 - accuracy: 0.9834 - val_loss: 0.0641 - val_accuracy: 0.9796\n",
            "Epoch 4/10\n",
            "1875/1875 [==============================] - 41s 22ms/step - loss: 0.0450 - accuracy: 0.9859 - val_loss: 0.0592 - val_accuracy: 0.9820\n",
            "Epoch 5/10\n",
            "1875/1875 [==============================] - 38s 20ms/step - loss: 0.0392 - accuracy: 0.9880 - val_loss: 0.0566 - val_accuracy: 0.9827\n",
            "Epoch 6/10\n",
            "1875/1875 [==============================] - 39s 21ms/step - loss: 0.0322 - accuracy: 0.9900 - val_loss: 0.0540 - val_accuracy: 0.9827\n",
            "Epoch 7/10\n",
            "1875/1875 [==============================] - 37s 20ms/step - loss: 0.0269 - accuracy: 0.9918 - val_loss: 0.0561 - val_accuracy: 0.9829\n",
            "Epoch 8/10\n",
            "1875/1875 [==============================] - 37s 20ms/step - loss: 0.0230 - accuracy: 0.9925 - val_loss: 0.0751 - val_accuracy: 0.9794\n",
            "Epoch 9/10\n",
            "1875/1875 [==============================] - 37s 20ms/step - loss: 0.0193 - accuracy: 0.9938 - val_loss: 0.0545 - val_accuracy: 0.9845\n",
            "Epoch 10/10\n",
            "1875/1875 [==============================] - 37s 20ms/step - loss: 0.0162 - accuracy: 0.9949 - val_loss: 0.0621 - val_accuracy: 0.9832\n",
            "313/313 [==============================] - 3s 9ms/step - loss: 0.0621 - accuracy: 0.9832\n",
            "0.06206675246357918 0.9832000136375427\n"
          ]
        }
      ]
    },
    {
      "cell_type": "markdown",
      "source": [
        "### 3-3 다중 출력 분류 모델\n",
        "\n",
        "* 입력 이미지를 하나 받아서 해당 손글씨가 **어떤 숫자** 인지 분류하고 **홀수인지 여부**도 **함께 분류**하는 모델"
      ],
      "metadata": {
        "id": "T7OynRTk-pZ-"
      }
    },
    {
      "cell_type": "code",
      "source": [
        "inputs = tf.keras.layers.Input(shape = (28,28,1),name = 'inputs')\n",
        "\n",
        "conv = tf.keras.layers.Conv2D(32,(3,3),activation = 'relu', name = 'conv2d_layer')(inputs)\n",
        "pool = tf.keras.layers.MaxPooling2D((2,2),name = 'maxpool_layer')(conv)\n",
        "flat = tf.keras.layers.Flatten(name = 'flatten_layer')(pool)\n",
        "\n",
        "flat_inputs = tf.keras.layers.Flatten()(inputs)\n",
        "concat = tf.keras.layers.Concatenate()([flat,flat_inputs])\n",
        "digit_outputs = tf.keras.layers.Dense(10,activation = 'softmax', name = 'digit_dense')(concat)\n",
        "\n",
        "odd_outputs = tf.keras.layers.Dense(1, activation = 'sigmoid', name = 'odd_dense')(flat_inputs)\n",
        "\n",
        "model = tf.keras.models.Model(inputs = inputs, outputs = [digit_outputs, odd_outputs])\n",
        "\n",
        "model.summary()"
      ],
      "metadata": {
        "colab": {
          "base_uri": "https://localhost:8080/"
        },
        "id": "E-KiQ3pG-7_x",
        "outputId": "46218a0d-1c38-4c4f-87f0-f1191a7f5314"
      },
      "execution_count": 34,
      "outputs": [
        {
          "output_type": "stream",
          "name": "stdout",
          "text": [
            "Model: \"model_2\"\n",
            "__________________________________________________________________________________________________\n",
            " Layer (type)                   Output Shape         Param #     Connected to                     \n",
            "==================================================================================================\n",
            " inputs (InputLayer)            [(None, 28, 28, 1)]  0           []                               \n",
            "                                                                                                  \n",
            " conv2d_layer (Conv2D)          (None, 26, 26, 32)   320         ['inputs[0][0]']                 \n",
            "                                                                                                  \n",
            " maxpool_layer (MaxPooling2D)   (None, 13, 13, 32)   0           ['conv2d_layer[0][0]']           \n",
            "                                                                                                  \n",
            " flatten_layer (Flatten)        (None, 5408)         0           ['maxpool_layer[0][0]']          \n",
            "                                                                                                  \n",
            " flatten_3 (Flatten)            (None, 784)          0           ['inputs[0][0]']                 \n",
            "                                                                                                  \n",
            " concatenate_1 (Concatenate)    (None, 6192)         0           ['flatten_layer[0][0]',          \n",
            "                                                                  'flatten_3[0][0]']              \n",
            "                                                                                                  \n",
            " digit_dense (Dense)            (None, 10)           61930       ['concatenate_1[0][0]']          \n",
            "                                                                                                  \n",
            " odd_dense (Dense)              (None, 1)            785         ['flatten_3[0][0]']              \n",
            "                                                                                                  \n",
            "==================================================================================================\n",
            "Total params: 63,035\n",
            "Trainable params: 63,035\n",
            "Non-trainable params: 0\n",
            "__________________________________________________________________________________________________\n"
          ]
        }
      ]
    },
    {
      "cell_type": "code",
      "source": [
        "#모델 구조 시각화\n",
        "\n",
        "plot_model(model,show_shapes = True, show_layer_names = True)"
      ],
      "metadata": {
        "colab": {
          "base_uri": "https://localhost:8080/",
          "height": 644
        },
        "id": "B55ujTJx_tJM",
        "outputId": "34906873-d85a-42c3-e090-ab4782afe132"
      },
      "execution_count": 35,
      "outputs": [
        {
          "output_type": "execute_result",
          "data": {
            "image/png": "[encoded data removed]",
            "text/plain": [
              "<IPython.core.display.Image object>"
            ]
          },
          "metadata": {},
          "execution_count": 35
        }
      ]
    },
    {
      "cell_type": "code",
      "source": [
        "#모델 컴파일\n",
        "model.compile(optimizer='adam', \n",
        "              loss={'digit_dense': 'sparse_categorical_crossentropy', 'odd_dense': 'binary_crossentropy'}, \n",
        "              loss_weights={'digit_dense': 1, 'odd_dense': 0.5}, # loss = 1.0 *sparse_categorical_crossentropy + 0.5*binary_crossentropy\n",
        "              metrics=['accuracy'])\n",
        "\n",
        "#모델 훈련\n",
        "history = model.fit({'inputs': x_train_in}, {'digit_dense': y_train, 'odd_dense': y_train_odd}, \n",
        "                    validation_data=({'inputs': x_valid_in},  {'digit_dense': y_valid, 'odd_dense': y_valid_odd}), \n",
        "                    epochs=10)\n"
      ],
      "metadata": {
        "colab": {
          "base_uri": "https://localhost:8080/"
        },
        "id": "TVDY8_Zn_9K8",
        "outputId": "515bd28d-6d3b-4ae6-bc3b-acd7eefc2a36"
      },
      "execution_count": 36,
      "outputs": [
        {
          "output_type": "stream",
          "name": "stdout",
          "text": [
            "Epoch 1/10\n",
            "1875/1875 [==============================] - 41s 21ms/step - loss: 0.3640 - digit_dense_loss: 0.2025 - odd_dense_loss: 0.3230 - digit_dense_accuracy: 0.9427 - odd_dense_accuracy: 0.8656 - val_loss: 0.2183 - val_digit_dense_loss: 0.0803 - val_odd_dense_loss: 0.2761 - val_digit_dense_accuracy: 0.9760 - val_odd_dense_accuracy: 0.8871\n",
            "Epoch 2/10\n",
            "1875/1875 [==============================] - 39s 21ms/step - loss: 0.2121 - digit_dense_loss: 0.0764 - odd_dense_loss: 0.2714 - digit_dense_accuracy: 0.9778 - odd_dense_accuracy: 0.8909 - val_loss: 0.1955 - val_digit_dense_loss: 0.0633 - val_odd_dense_loss: 0.2643 - val_digit_dense_accuracy: 0.9786 - val_odd_dense_accuracy: 0.8969\n",
            "Epoch 3/10\n",
            "1875/1875 [==============================] - 38s 20ms/step - loss: 0.1893 - digit_dense_loss: 0.0578 - odd_dense_loss: 0.2630 - digit_dense_accuracy: 0.9826 - odd_dense_accuracy: 0.8951 - val_loss: 0.1947 - val_digit_dense_loss: 0.0650 - val_odd_dense_loss: 0.2595 - val_digit_dense_accuracy: 0.9796 - val_odd_dense_accuracy: 0.8996\n",
            "Epoch 4/10\n",
            "1875/1875 [==============================] - 38s 20ms/step - loss: 0.1781 - digit_dense_loss: 0.0485 - odd_dense_loss: 0.2592 - digit_dense_accuracy: 0.9851 - odd_dense_accuracy: 0.8977 - val_loss: 0.1888 - val_digit_dense_loss: 0.0598 - val_odd_dense_loss: 0.2580 - val_digit_dense_accuracy: 0.9810 - val_odd_dense_accuracy: 0.8991\n",
            "Epoch 5/10\n",
            "1875/1875 [==============================] - 40s 21ms/step - loss: 0.1703 - digit_dense_loss: 0.0418 - odd_dense_loss: 0.2570 - digit_dense_accuracy: 0.9867 - odd_dense_accuracy: 0.8987 - val_loss: 0.1840 - val_digit_dense_loss: 0.0558 - val_odd_dense_loss: 0.2565 - val_digit_dense_accuracy: 0.9814 - val_odd_dense_accuracy: 0.9013\n",
            "Epoch 6/10\n",
            "1875/1875 [==============================] - 39s 21ms/step - loss: 0.1621 - digit_dense_loss: 0.0342 - odd_dense_loss: 0.2557 - digit_dense_accuracy: 0.9894 - odd_dense_accuracy: 0.8999 - val_loss: 0.1856 - val_digit_dense_loss: 0.0571 - val_odd_dense_loss: 0.2571 - val_digit_dense_accuracy: 0.9818 - val_odd_dense_accuracy: 0.9013\n",
            "Epoch 7/10\n",
            "1875/1875 [==============================] - 39s 21ms/step - loss: 0.1569 - digit_dense_loss: 0.0295 - odd_dense_loss: 0.2548 - digit_dense_accuracy: 0.9908 - odd_dense_accuracy: 0.9005 - val_loss: 0.1842 - val_digit_dense_loss: 0.0561 - val_odd_dense_loss: 0.2562 - val_digit_dense_accuracy: 0.9825 - val_odd_dense_accuracy: 0.9003\n",
            "Epoch 8/10\n",
            "1875/1875 [==============================] - 39s 21ms/step - loss: 0.1520 - digit_dense_loss: 0.0248 - odd_dense_loss: 0.2543 - digit_dense_accuracy: 0.9921 - odd_dense_accuracy: 0.9007 - val_loss: 0.1852 - val_digit_dense_loss: 0.0574 - val_odd_dense_loss: 0.2556 - val_digit_dense_accuracy: 0.9838 - val_odd_dense_accuracy: 0.9015\n",
            "Epoch 9/10\n",
            "1875/1875 [==============================] - 39s 21ms/step - loss: 0.1469 - digit_dense_loss: 0.0200 - odd_dense_loss: 0.2537 - digit_dense_accuracy: 0.9941 - odd_dense_accuracy: 0.9006 - val_loss: 0.1871 - val_digit_dense_loss: 0.0592 - val_odd_dense_loss: 0.2558 - val_digit_dense_accuracy: 0.9821 - val_odd_dense_accuracy: 0.9007\n",
            "Epoch 10/10\n",
            "1875/1875 [==============================] - 40s 21ms/step - loss: 0.1444 - digit_dense_loss: 0.0176 - odd_dense_loss: 0.2535 - digit_dense_accuracy: 0.9943 - odd_dense_accuracy: 0.9009 - val_loss: 0.1908 - val_digit_dense_loss: 0.0629 - val_odd_dense_loss: 0.2558 - val_digit_dense_accuracy: 0.9827 - val_odd_dense_accuracy: 0.9026\n"
          ]
        }
      ]
    },
    {
      "cell_type": "code",
      "source": [
        "model.evaluate({'inputs' : x_valid_in}, {'digit_dense' : y_valid, 'odd_dense' : y_valid_odd})"
      ],
      "metadata": {
        "colab": {
          "base_uri": "https://localhost:8080/"
        },
        "id": "hFc9yb_BAmnW",
        "outputId": "4496bccc-0f57-4c0f-aa60-15f427f444e3"
      },
      "execution_count": 37,
      "outputs": [
        {
          "output_type": "stream",
          "name": "stdout",
          "text": [
            "313/313 [==============================] - 3s 11ms/step - loss: 0.1908 - digit_dense_loss: 0.0629 - odd_dense_loss: 0.2558 - digit_dense_accuracy: 0.9827 - odd_dense_accuracy: 0.9026\n"
          ]
        },
        {
          "output_type": "execute_result",
          "data": {
            "text/plain": [
              "[0.190760999917984,\n",
              " 0.06285610049962997,\n",
              " 0.2558097839355469,\n",
              " 0.982699990272522,\n",
              " 0.9025999903678894]"
            ]
          },
          "metadata": {},
          "execution_count": 37
        }
      ]
    },
    {
      "cell_type": "code",
      "source": [
        "#샘플 이미지 출력\n",
        "\n",
        "def plot_image(data,idx) :\n",
        "  plt.figure(figsize = (5,5))\n",
        "  plt.imshow(data[idx])\n",
        "  plt.axis('off')\n",
        "  plt.show()\n",
        "\n",
        "plot_image(x_valid,0)"
      ],
      "metadata": {
        "colab": {
          "base_uri": "https://localhost:8080/",
          "height": 303
        },
        "id": "pKSRcTkPA5ES",
        "outputId": "001f1871-444b-4c6f-a75f-dc173bcf676d"
      },
      "execution_count": 38,
      "outputs": [
        {
          "output_type": "display_data",
          "data": {
            "text/plain": [
              "<Figure size 360x360 with 1 Axes>"
            ],
            "image/png": "[encoded data removed]"
          },
          "metadata": {
            "needs_background": "light"
          }
        }
      ]
    },
    {
      "cell_type": "code",
      "source": [
        "#숫자 7 이미지에 대한 예측 확률\n",
        "digit_preds, odd_preds = model.predict(x_valid_in)\n",
        "print(digit_preds[0])\n",
        "print(odd_preds[0])"
      ],
      "metadata": {
        "colab": {
          "base_uri": "https://localhost:8080/"
        },
        "id": "z8cEOvLyC_vk",
        "outputId": "cbe45046-3f31-4667-b519-b3e85ba9db39"
      },
      "execution_count": 39,
      "outputs": [
        {
          "output_type": "stream",
          "name": "stdout",
          "text": [
            "313/313 [==============================] - 3s 9ms/step\n",
            "[2.6344471e-12 4.0099202e-11 1.2866214e-08 5.4826551e-06 1.8253314e-10\n",
            " 2.2634850e-12 5.5845988e-19 9.9999434e-01 6.2611218e-09 1.6132840e-07]\n",
            "[0.9995407]\n"
          ]
        }
      ]
    },
    {
      "cell_type": "code",
      "source": [
        "digit_labels = np.argmax(digit_preds, axis = -1)\n",
        "digit_labels[0:10]\n",
        "\n",
        "#첫번째 이미지를 7로 예측"
      ],
      "metadata": {
        "colab": {
          "base_uri": "https://localhost:8080/"
        },
        "id": "3MckjPW7DG6t",
        "outputId": "7f17fd8e-5f4f-4ebc-b5fa-c5273f231a56"
      },
      "execution_count": 40,
      "outputs": [
        {
          "output_type": "execute_result",
          "data": {
            "text/plain": [
              "array([7, 2, 1, 0, 4, 1, 4, 9, 6, 9])"
            ]
          },
          "metadata": {},
          "execution_count": 40
        }
      ]
    },
    {
      "cell_type": "code",
      "source": [
        "#홀수,짝수 여부에 대한 예측 레이블 출력\n",
        "\n",
        "odd_labels = (odd_preds > 0.5).astype(np.int).reshape(1,-1)[0]\n",
        "odd_labels[0:10]"
      ],
      "metadata": {
        "colab": {
          "base_uri": "https://localhost:8080/"
        },
        "id": "lPrwusfEDR_T",
        "outputId": "4dda1f66-0105-4a96-f17f-25816337e8bf"
      },
      "execution_count": 41,
      "outputs": [
        {
          "output_type": "stream",
          "name": "stderr",
          "text": [
            "<ipython-input-41-fc539d1167f5>:3: DeprecationWarning: `np.int` is a deprecated alias for the builtin `int`. To silence this warning, use `int` by itself. Doing this will not modify any behavior and is safe. When replacing `np.int`, you may wish to use e.g. `np.int64` or `np.int32` to specify the precision. If you wish to review your current use, check the release note link for additional information.\n",
            "Deprecated in NumPy 1.20; for more details and guidance: https://numpy.org/devdocs/release/1.20.0-notes.html#deprecations\n",
            "  odd_labels = (odd_preds > 0.5).astype(np.int).reshape(1,-1)[0]\n"
          ]
        },
        {
          "output_type": "execute_result",
          "data": {
            "text/plain": [
              "array([1, 0, 1, 0, 0, 1, 0, 1, 0, 1])"
            ]
          },
          "metadata": {},
          "execution_count": 41
        }
      ]
    },
    {
      "cell_type": "markdown",
      "source": [
        "### 3-4 전이학습\n",
        "\n",
        ": 기존에 학습된 모델을 활용해 새로운 모델을 만들어 내는 개념"
      ],
      "metadata": {
        "id": "SBpQfDraDckU"
      }
    },
    {
      "cell_type": "code",
      "source": [
        "base_model_output = model.get_layer('flatten_layer').output\n",
        "\n",
        "base_model = tf.keras.models.Model(inputs=model.input, outputs=base_model_output, name='base')\n",
        "base_model.summary()"
      ],
      "metadata": {
        "colab": {
          "base_uri": "https://localhost:8080/"
        },
        "id": "rOd1zQHKDjK3",
        "outputId": "24ce5153-38ab-4b28-e93b-7d5f26123efb"
      },
      "execution_count": 43,
      "outputs": [
        {
          "output_type": "stream",
          "name": "stdout",
          "text": [
            "Model: \"base\"\n",
            "_________________________________________________________________\n",
            " Layer (type)                Output Shape              Param #   \n",
            "=================================================================\n",
            " inputs (InputLayer)         [(None, 28, 28, 1)]       0         \n",
            "                                                                 \n",
            " conv2d_layer (Conv2D)       (None, 26, 26, 32)        320       \n",
            "                                                                 \n",
            " maxpool_layer (MaxPooling2D  (None, 13, 13, 32)       0         \n",
            " )                                                               \n",
            "                                                                 \n",
            " flatten_layer (Flatten)     (None, 5408)              0         \n",
            "                                                                 \n",
            "=================================================================\n",
            "Total params: 320\n",
            "Trainable params: 320\n",
            "Non-trainable params: 0\n",
            "_________________________________________________________________\n"
          ]
        }
      ]
    },
    {
      "cell_type": "code",
      "source": [
        "#모델 구조 시각화\n",
        "\n",
        "plot_model(base_model,show_shapes = True, show_layer_names = True)"
      ],
      "metadata": {
        "colab": {
          "base_uri": "https://localhost:8080/",
          "height": 422
        },
        "id": "I1kmm7-PD0R_",
        "outputId": "2106b49e-f63d-4cc7-801f-c9cd55cd4249"
      },
      "execution_count": 44,
      "outputs": [
        {
          "output_type": "execute_result",
          "data": {
            "image/png": "[encoded data removed]",
            "text/plain": [
              "<IPython.core.display.Image object>"
            ]
          },
          "metadata": {},
          "execution_count": 44
        }
      ]
    },
    {
      "cell_type": "code",
      "source": [
        "#base_model을 레이어로 추가하고, 최종 분류기 역할 Dense 레이어 새롭게 추가\n",
        "\n",
        "digit_model = tf.keras.Sequential([\n",
        "  base_model, tf.keras.layers.Dense(10,activation = 'softmax')\n",
        "])\n",
        "\n",
        "digit_model.summary()"
      ],
      "metadata": {
        "colab": {
          "base_uri": "https://localhost:8080/"
        },
        "id": "SwpMlbQXD8So",
        "outputId": "1ca6170b-dbc0-42df-e22c-b36674bc2927"
      },
      "execution_count": 45,
      "outputs": [
        {
          "output_type": "stream",
          "name": "stdout",
          "text": [
            "Model: \"sequential_1\"\n",
            "_________________________________________________________________\n",
            " Layer (type)                Output Shape              Param #   \n",
            "=================================================================\n",
            " base (Functional)           (None, 5408)              320       \n",
            "                                                                 \n",
            " dense_2 (Dense)             (None, 10)                54090     \n",
            "                                                                 \n",
            "=================================================================\n",
            "Total params: 54,410\n",
            "Trainable params: 54,410\n",
            "Non-trainable params: 0\n",
            "_________________________________________________________________\n"
          ]
        }
      ]
    },
    {
      "cell_type": "code",
      "source": [
        "#최종적으로 노드 10개를 가진 Dense레이어 추가된 것 확인\n",
        "plot_model(digit_model,show_shapes = True, show_layer_names = True)"
      ],
      "metadata": {
        "colab": {
          "base_uri": "https://localhost:8080/",
          "height": 312
        },
        "id": "pxtdhI9jEKG6",
        "outputId": "03f1ce1f-eb4e-4280-f4cc-eb4cd44f9bbf"
      },
      "execution_count": 46,
      "outputs": [
        {
          "output_type": "execute_result",
          "data": {
            "image/png": "[encoded data removed]",
            "text/plain": [
              "<IPython.core.display.Image object>"
            ]
          },
          "metadata": {},
          "execution_count": 46
        }
      ]
    },
    {
      "cell_type": "code",
      "source": [
        "#모델 컴파일\n",
        "digit_model.compile(optimizer = 'adam', loss = 'sparse_categorical_crossentropy',\n",
        "                    metrics = ['accuracy'])\n",
        "\n",
        "#모델 훈련\n",
        "history = digit_model.fit(x_train_in, y_train, validation_data = (x_valid_in,y_valid), epochs = 10)"
      ],
      "metadata": {
        "colab": {
          "base_uri": "https://localhost:8080/"
        },
        "id": "QMxswAO5ERRw",
        "outputId": "99cecdba-84a5-4832-f6ac-eeb9c4f4cba7"
      },
      "execution_count": 48,
      "outputs": [
        {
          "output_type": "stream",
          "name": "stdout",
          "text": [
            "Epoch 1/10\n",
            "1875/1875 [==============================] - 41s 22ms/step - loss: 0.0685 - accuracy: 0.9793 - val_loss: 0.0580 - val_accuracy: 0.9820\n",
            "Epoch 2/10\n",
            "1875/1875 [==============================] - 36s 19ms/step - loss: 0.0476 - accuracy: 0.9858 - val_loss: 0.0577 - val_accuracy: 0.9817\n",
            "Epoch 3/10\n",
            "1875/1875 [==============================] - 36s 19ms/step - loss: 0.0371 - accuracy: 0.9884 - val_loss: 0.0529 - val_accuracy: 0.9836\n",
            "Epoch 4/10\n",
            "1875/1875 [==============================] - 36s 19ms/step - loss: 0.0309 - accuracy: 0.9904 - val_loss: 0.0560 - val_accuracy: 0.9828\n",
            "Epoch 5/10\n",
            "1875/1875 [==============================] - 35s 19ms/step - loss: 0.0245 - accuracy: 0.9926 - val_loss: 0.0531 - val_accuracy: 0.9831\n",
            "Epoch 6/10\n",
            "1875/1875 [==============================] - 35s 19ms/step - loss: 0.0208 - accuracy: 0.9937 - val_loss: 0.0586 - val_accuracy: 0.9813\n",
            "Epoch 7/10\n",
            "1875/1875 [==============================] - 35s 19ms/step - loss: 0.0177 - accuracy: 0.9944 - val_loss: 0.0530 - val_accuracy: 0.9849\n",
            "Epoch 8/10\n",
            "1875/1875 [==============================] - 35s 18ms/step - loss: 0.0151 - accuracy: 0.9952 - val_loss: 0.0629 - val_accuracy: 0.9835\n",
            "Epoch 9/10\n",
            "1875/1875 [==============================] - 37s 20ms/step - loss: 0.0115 - accuracy: 0.9966 - val_loss: 0.0568 - val_accuracy: 0.9849\n",
            "Epoch 10/10\n",
            "1875/1875 [==============================] - 35s 19ms/step - loss: 0.0106 - accuracy: 0.9968 - val_loss: 0.0627 - val_accuracy: 0.9836\n"
          ]
        }
      ]
    },
    {
      "cell_type": "code",
      "source": [
        "#베이스 모델의 가중치 고정\n",
        "\n",
        "base_model_frozen = tf.keras.models.Model(inputs = model.input, outputs = base_model_output,\n",
        "                                          name = 'base_frozen')\n",
        "\n",
        "base_model_frozen.trainable =False\n",
        "base_model_frozen.summary()"
      ],
      "metadata": {
        "colab": {
          "base_uri": "https://localhost:8080/"
        },
        "id": "pg7SmGTnEmpw",
        "outputId": "76014bd5-aa1a-41a2-f03e-1cd85c8dae63"
      },
      "execution_count": 49,
      "outputs": [
        {
          "output_type": "stream",
          "name": "stdout",
          "text": [
            "Model: \"base_frozen\"\n",
            "_________________________________________________________________\n",
            " Layer (type)                Output Shape              Param #   \n",
            "=================================================================\n",
            " inputs (InputLayer)         [(None, 28, 28, 1)]       0         \n",
            "                                                                 \n",
            " conv2d_layer (Conv2D)       (None, 26, 26, 32)        320       \n",
            "                                                                 \n",
            " maxpool_layer (MaxPooling2D  (None, 13, 13, 32)       0         \n",
            " )                                                               \n",
            "                                                                 \n",
            " flatten_layer (Flatten)     (None, 5408)              0         \n",
            "                                                                 \n",
            "=================================================================\n",
            "Total params: 320\n",
            "Trainable params: 0\n",
            "Non-trainable params: 320\n",
            "_________________________________________________________________\n"
          ]
        }
      ]
    },
    {
      "cell_type": "code",
      "source": [
        "\n",
        "#Functional API 적용\n",
        "\n",
        "dense_output = tf.keras.layers.Dense(10, activation = 'softmax')(base_model_frozen.output)\n",
        "digit_model_frozen = tf.keras.models.Model(inputs = base_model_frozen.input, outputs = dense_output)\n",
        "\n",
        "digit_model_frozen.summary()"
      ],
      "metadata": {
        "colab": {
          "base_uri": "https://localhost:8080/"
        },
        "id": "1g-OXyfwE9jn",
        "outputId": "11b22de9-5f10-48f2-bc87-5932c8136921"
      },
      "execution_count": 52,
      "outputs": [
        {
          "output_type": "stream",
          "name": "stdout",
          "text": [
            "Model: \"model_4\"\n",
            "_________________________________________________________________\n",
            " Layer (type)                Output Shape              Param #   \n",
            "=================================================================\n",
            " inputs (InputLayer)         [(None, 28, 28, 1)]       0         \n",
            "                                                                 \n",
            " conv2d_layer (Conv2D)       (None, 26, 26, 32)        320       \n",
            "                                                                 \n",
            " maxpool_layer (MaxPooling2D  (None, 13, 13, 32)       0         \n",
            " )                                                               \n",
            "                                                                 \n",
            " flatten_layer (Flatten)     (None, 5408)              0         \n",
            "                                                                 \n",
            " dense_5 (Dense)             (None, 10)                54090     \n",
            "                                                                 \n",
            "=================================================================\n",
            "Total params: 54,410\n",
            "Trainable params: 54,090\n",
            "Non-trainable params: 320\n",
            "_________________________________________________________________\n"
          ]
        }
      ]
    },
    {
      "cell_type": "code",
      "source": [
        "#모델 컴파일 및 훈련\n",
        "digit_model_frozen.compile(optimizer = 'adam', loss = 'sparse_categorical_crossentropy', metrics = ['accuracy'])\n",
        "\n",
        "history = digit_model_frozen.fit(x_train_in,y_train, validation_data = (x_valid_in,y_valid), epochs = 10)"
      ],
      "metadata": {
        "colab": {
          "base_uri": "https://localhost:8080/"
        },
        "id": "NhVugqimFPwb",
        "outputId": "60047206-e399-4c6f-da65-332da54c4c8e"
      },
      "execution_count": 53,
      "outputs": [
        {
          "output_type": "stream",
          "name": "stdout",
          "text": [
            "Epoch 1/10\n",
            "1875/1875 [==============================] - 27s 14ms/step - loss: 0.1176 - accuracy: 0.9685 - val_loss: 0.0554 - val_accuracy: 0.9818\n",
            "Epoch 2/10\n",
            "1875/1875 [==============================] - 19s 10ms/step - loss: 0.0485 - accuracy: 0.9857 - val_loss: 0.0570 - val_accuracy: 0.9814\n",
            "Epoch 3/10\n",
            "1875/1875 [==============================] - 19s 10ms/step - loss: 0.0349 - accuracy: 0.9895 - val_loss: 0.0497 - val_accuracy: 0.9840\n",
            "Epoch 4/10\n",
            "1875/1875 [==============================] - 19s 10ms/step - loss: 0.0280 - accuracy: 0.9917 - val_loss: 0.0500 - val_accuracy: 0.9836\n",
            "Epoch 5/10\n",
            "1875/1875 [==============================] - 20s 10ms/step - loss: 0.0218 - accuracy: 0.9934 - val_loss: 0.0518 - val_accuracy: 0.9835\n",
            "Epoch 6/10\n",
            "1875/1875 [==============================] - 20s 10ms/step - loss: 0.0181 - accuracy: 0.9946 - val_loss: 0.0520 - val_accuracy: 0.9844\n",
            "Epoch 7/10\n",
            "1875/1875 [==============================] - 21s 11ms/step - loss: 0.0145 - accuracy: 0.9958 - val_loss: 0.0525 - val_accuracy: 0.9856\n",
            "Epoch 8/10\n",
            "1875/1875 [==============================] - 20s 11ms/step - loss: 0.0120 - accuracy: 0.9967 - val_loss: 0.0542 - val_accuracy: 0.9847\n",
            "Epoch 9/10\n",
            "1875/1875 [==============================] - 20s 11ms/step - loss: 0.0100 - accuracy: 0.9972 - val_loss: 0.0566 - val_accuracy: 0.9842\n",
            "Epoch 10/10\n",
            "1875/1875 [==============================] - 21s 11ms/step - loss: 0.0079 - accuracy: 0.9981 - val_loss: 0.0600 - val_accuracy: 0.9826\n"
          ]
        }
      ]
    },
    {
      "cell_type": "code",
      "source": [
        "#특정 레이어만 지정하여 파라미터가 업데이트 되지 않도록 고정\n",
        "\n",
        "base_model_frozen2 = tf.keras.models.Model(inputs=model.input, outputs=base_model_output, name='base_frozen2')\n",
        "base_model_frozen2.get_layer('conv2d_layer').trainable = False\n",
        "base_model_frozen2.summary()\n",
        "     "
      ],
      "metadata": {
        "colab": {
          "base_uri": "https://localhost:8080/"
        },
        "id": "H2d4hdnGFfz3",
        "outputId": "ebccd102-5238-44c4-b3d1-2bafde84bdb5"
      },
      "execution_count": 54,
      "outputs": [
        {
          "output_type": "stream",
          "name": "stdout",
          "text": [
            "Model: \"base_frozen2\"\n",
            "_________________________________________________________________\n",
            " Layer (type)                Output Shape              Param #   \n",
            "=================================================================\n",
            " inputs (InputLayer)         [(None, 28, 28, 1)]       0         \n",
            "                                                                 \n",
            " conv2d_layer (Conv2D)       (None, 26, 26, 32)        320       \n",
            "                                                                 \n",
            " maxpool_layer (MaxPooling2D  (None, 13, 13, 32)       0         \n",
            " )                                                               \n",
            "                                                                 \n",
            " flatten_layer (Flatten)     (None, 5408)              0         \n",
            "                                                                 \n",
            "=================================================================\n",
            "Total params: 320\n",
            "Trainable params: 0\n",
            "Non-trainable params: 320\n",
            "_________________________________________________________________\n"
          ]
        }
      ]
    },
    {
      "cell_type": "code",
      "source": [
        "\n",
        "#고정한 모델에 새로운 분류기 역할을 하는 Dense 레이어 연결\n",
        "\n",
        "dense_output2 = tf.keras.layers.Dense(10, activation='softmax')(base_model_frozen2.output)\n",
        "digit_model_frozen2 = tf.keras.models.Model(inputs=base_model_frozen2.input, outputs=dense_output2)\n",
        "digit_model_frozen2.summary()"
      ],
      "metadata": {
        "colab": {
          "base_uri": "https://localhost:8080/"
        },
        "id": "xyuKMhVxFo2k",
        "outputId": "4fdee6ae-7563-4697-a074-cf1fedd26793"
      },
      "execution_count": 55,
      "outputs": [
        {
          "output_type": "stream",
          "name": "stdout",
          "text": [
            "Model: \"model_5\"\n",
            "_________________________________________________________________\n",
            " Layer (type)                Output Shape              Param #   \n",
            "=================================================================\n",
            " inputs (InputLayer)         [(None, 28, 28, 1)]       0         \n",
            "                                                                 \n",
            " conv2d_layer (Conv2D)       (None, 26, 26, 32)        320       \n",
            "                                                                 \n",
            " maxpool_layer (MaxPooling2D  (None, 13, 13, 32)       0         \n",
            " )                                                               \n",
            "                                                                 \n",
            " flatten_layer (Flatten)     (None, 5408)              0         \n",
            "                                                                 \n",
            " dense_6 (Dense)             (None, 10)                54090     \n",
            "                                                                 \n",
            "=================================================================\n",
            "Total params: 54,410\n",
            "Trainable params: 54,090\n",
            "Non-trainable params: 320\n",
            "_________________________________________________________________\n"
          ]
        }
      ]
    },
    {
      "cell_type": "code",
      "source": [
        "#모델 컴파일 및 훈련\n",
        "digit_model_frozen2.compile(optimizer='adam', loss='sparse_categorical_crossentropy', metrics=['accuracy'])\n",
        "\n",
        "history = digit_model_frozen2.fit(x_train_in, y_train, \n",
        "                    validation_data=(x_valid_in, y_valid), \n",
        "                    epochs=10)"
      ],
      "metadata": {
        "colab": {
          "base_uri": "https://localhost:8080/"
        },
        "id": "jawNCIBOFwbR",
        "outputId": "6e990a6f-4ada-4fa2-d251-82f5099d5e67"
      },
      "execution_count": 56,
      "outputs": [
        {
          "output_type": "stream",
          "name": "stdout",
          "text": [
            "Epoch 1/10\n",
            "1875/1875 [==============================] - 20s 10ms/step - loss: 0.1166 - accuracy: 0.9691 - val_loss: 0.0579 - val_accuracy: 0.9825\n",
            "Epoch 2/10\n",
            "1875/1875 [==============================] - 19s 10ms/step - loss: 0.0478 - accuracy: 0.9859 - val_loss: 0.0508 - val_accuracy: 0.9839\n",
            "Epoch 3/10\n",
            "1875/1875 [==============================] - 19s 10ms/step - loss: 0.0350 - accuracy: 0.9895 - val_loss: 0.0520 - val_accuracy: 0.9830\n",
            "Epoch 4/10\n",
            "1875/1875 [==============================] - 19s 10ms/step - loss: 0.0271 - accuracy: 0.9919 - val_loss: 0.0500 - val_accuracy: 0.9840\n",
            "Epoch 5/10\n",
            "1875/1875 [==============================] - 19s 10ms/step - loss: 0.0225 - accuracy: 0.9929 - val_loss: 0.0527 - val_accuracy: 0.9844\n",
            "Epoch 6/10\n",
            "1875/1875 [==============================] - 20s 11ms/step - loss: 0.0167 - accuracy: 0.9951 - val_loss: 0.0538 - val_accuracy: 0.9838\n",
            "Epoch 7/10\n",
            "1875/1875 [==============================] - 20s 11ms/step - loss: 0.0147 - accuracy: 0.9956 - val_loss: 0.0554 - val_accuracy: 0.9836\n",
            "Epoch 8/10\n",
            "1875/1875 [==============================] - 19s 10ms/step - loss: 0.0116 - accuracy: 0.9969 - val_loss: 0.0640 - val_accuracy: 0.9812\n",
            "Epoch 9/10\n",
            "1875/1875 [==============================] - 19s 10ms/step - loss: 0.0096 - accuracy: 0.9974 - val_loss: 0.0589 - val_accuracy: 0.9832\n",
            "Epoch 10/10\n",
            "1875/1875 [==============================] - 19s 10ms/step - loss: 0.0082 - accuracy: 0.9980 - val_loss: 0.0651 - val_accuracy: 0.9822\n"
          ]
        }
      ]
    },
    {
      "cell_type": "code",
      "source": [],
      "metadata": {
        "id": "266yElgvQ5fu"
      },
      "execution_count": null,
      "outputs": []
    }
  ]
}