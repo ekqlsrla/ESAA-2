{
  "nbformat": 4,
  "nbformat_minor": 0,
  "metadata": {
    "colab": {
      "provenance": [],
      "authorship_tag": "ABX9TyNDTJfNc4uhFVVpsExK1woC",
      "include_colab_link": true
    },
    "kernelspec": {
      "name": "python3",
      "display_name": "Python 3"
    },
    "language_info": {
      "name": "python"
    }
  },
  "cells": [
    {
      "cell_type": "markdown",
      "metadata": {
        "id": "view-in-github",
        "colab_type": "text"
      },
      "source": [
        "<a href=\"https://colab.research.google.com/github/ekqlsrla/ESAA-2/blob/main/HW/1128_%EB%94%A5%EB%9F%AC%EB%8B%9D_%ED%85%90%EC%84%9C%ED%94%8C%EB%A1%9C_CH3_1_4.ipynb\" target=\"_parent\"><img src=\"https://colab.research.google.com/assets/colab-badge.svg\" alt=\"Open In Colab\"/></a>"
      ]
    },
    {
      "cell_type": "markdown",
      "source": [
        "# **파이썬 딥러닝 텐서플로**\n",
        "---"
      ],
      "metadata": {
        "id": "CYw3acpgZ50Y"
      }
    },
    {
      "cell_type": "markdown",
      "source": [
        "## **| 01** 딥러닝 준비\n",
        "\n",
        "1. 케라스\n",
        "  * 딥러닝 라이브러리를 쉽고 간결한 코드로 실행할 수 있게 만들어 줌\n",
        "  * 직관적이고 사용자 친화적\n",
        "  * 복잡한 구조의 모델 구현과 사용자정의 훈련을 위해서는 텐서플로의 저수준 API를 활용해야 한다는 한계점"
      ],
      "metadata": {
        "id": "fHkKUtn5Z86o"
      }
    },
    {
      "cell_type": "markdown",
      "source": [
        "### 1. 주요 용어\n",
        "\n",
        "1. **하이퍼파라미터** : 딥러닝뿐만 아니라 머신러닝 모델을 훈련할 때 사용자가 직접 설정해주는 설정 값\n",
        "  * 하이퍼파라미터 튜닝 : 하이퍼파라미터의 값을 조절하는 행위\n",
        "\n",
        "2. **과소적합 VS 과대적합**\n",
        "\n",
        "* 훈련용 데이터 : 머신러닝 모델이 학습할 데이터\n",
        "* 예측용 데이터 : 정답 레이블이 없는 머신러닝 모델이 예측해야 하는 대상 데이터\n",
        "* 과소적합 : 모델이 충분히 학습되지 않아 예측 성능이 떨어지는 경우\n",
        "* 과대적합 : 학습 데이터를 지나치게 반복 학습하게 되어 과하게 적합된 상태\n",
        "\n",
        "3. 에포크\n",
        ": 딥러닝 모델이 반복 훈련을 할 때 데이터셋을 전부 학습에 사용하는 1회의 훈련 루프를 **1 epoch**라고 함\n",
        "\n",
        "4. 손실함수 : 예측 값과 정답 값의 차이 또는 오차\n",
        "\n",
        "5. 경사 하강법 : 모델 내부의 **가중치**에 대한 미분 값을 구하고 목적 함수 값이 낮아지는 방향으로 차감하면서 결국 최소 함수 값을 갖도록 하는 방법"
      ],
      "metadata": {
        "id": "_yhaeYd6aPWM"
      }
    },
    {
      "cell_type": "code",
      "source": [
        "import numpy as np\n",
        "import matplotlib.pyplot as plt\n",
        "\n",
        "def make_linear(w = 0.5, b = 0.8, size = 50, noise = 1.0) :\n",
        "  x = np.random.rand(size)\n",
        "  y = w* x + b\n",
        "  noise = np.random.uniform(-abs(noise),abs(noise),size = y.shape)\n",
        "  yy = y + noise\n",
        "  plt.figure(figsize = (10,7))\n",
        "  plt.plot(x,y,color = 'r', label = f'y = {w} * w + {b}')\n",
        "  plt.scatter(x,yy,label = 'data')\n",
        "  plt.legend(fontsize = 20)\n",
        "  plt.show()\n",
        "  print(f'w: {w}, b: {b}')\n",
        "  return x,yy\n",
        "\n",
        "x,y = make_linear(w = 0.3,b = 0.5,size = 100, noise = 0.01)"
      ],
      "metadata": {
        "colab": {
          "base_uri": "https://localhost:8080/",
          "height": 446
        },
        "id": "hMKkkqVkcPd1",
        "outputId": "f3bb0778-30e2-4b9b-8f74-cc81a1830a9b"
      },
      "execution_count": 1,
      "outputs": [
        {
          "output_type": "display_data",
          "data": {
            "text/plain": [
              "<Figure size 720x504 with 1 Axes>"
            ],
            "image/png": "[encoded data removed]"
          },
          "metadata": {
            "needs_background": "light"
          }
        },
        {
          "output_type": "stream",
          "name": "stdout",
          "text": [
            "w: 0.3, b: 0.5\n"
          ]
        }
      ]
    },
    {
      "cell_type": "code",
      "source": [
        "#최대 반복 횟수\n",
        "num_epoch = 1000\n",
        "\n",
        "learning_rate = 0.005\n",
        "\n",
        "errors = []\n",
        "\n",
        "w = np.random.uniform(low = 0.0,high = 1.0)\n",
        "b = np.random.uniform(low = 0.0, high = 1.0)\n",
        "\n",
        "for epoch in range(num_epoch) :\n",
        "  y_hat = w*x+b\n",
        "  error = 0.5 * ((y_hat - y)**2).sum()\n",
        "  if error < 0.005 :\n",
        "    break\n",
        "  #Gradient 미분 계산\n",
        "  w = w-learning_rate * ((y_hat - y)* x).sum()\n",
        "  b = b - learning_rate * (y_hat - y).sum()\n",
        "\n",
        "  errors.append(error)\n",
        "\n",
        "  if epoch % 5 == 0 :\n",
        "    print(\"{0:2} w = {1:.5f},b = {2:.5f} error = {3:.5f}\".format(epoch,w,b,error))\n",
        "\n",
        "print('_____' * 15)\n",
        "print(\"{0:2} w = {1:.1f},b = {2:.1f} error = {3:.5f}\".format(epoch,w,b,error))\n",
        "\n"
      ],
      "metadata": {
        "colab": {
          "base_uri": "https://localhost:8080/"
        },
        "id": "RF3JlWTJc9Eh",
        "outputId": "dd3d0f54-d51f-41a3-81eb-63f6adcb6fd1"
      },
      "execution_count": 2,
      "outputs": [
        {
          "output_type": "stream",
          "name": "stdout",
          "text": [
            " 0 w = 0.25680,b = 0.56266 error = 0.59166\n",
            " 5 w = 0.24933,b = 0.52695 error = 0.01317\n",
            "10 w = 0.25680,b = 0.52274 error = 0.01006\n",
            "15 w = 0.26327,b = 0.51933 error = 0.00781\n",
            "20 w = 0.26880,b = 0.51642 error = 0.00617\n",
            "___________________________________________________________________________\n",
            "25 w = 0.3,b = 0.5 error = 0.00497\n"
          ]
        }
      ]
    },
    {
      "cell_type": "code",
      "source": [
        "plt.figure(figsize = (10,7))\n",
        "plt.plot(errors)\n",
        "plt.xlabel('Epochs')\n",
        "plt.ylabel('Error')\n",
        "plt.show()"
      ],
      "metadata": {
        "colab": {
          "base_uri": "https://localhost:8080/",
          "height": 442
        },
        "id": "XVLWFTD0d76j",
        "outputId": "7be69021-e4c3-4d81-e29f-ad8f4d689fea"
      },
      "execution_count": 3,
      "outputs": [
        {
          "output_type": "display_data",
          "data": {
            "text/plain": [
              "<Figure size 720x504 with 1 Axes>"
            ],
            "image/png": "[encoded data removed]"
          },
          "metadata": {
            "needs_background": "light"
          }
        }
      ]
    },
    {
      "cell_type": "markdown",
      "source": [
        "### 2. 딥러닝 프로세스\n",
        "\n",
        "---\n",
        "**데이터 로드** -> **데이터 전처리** : 특성 공학 / 특성 선택 / 특성 추출 -> **데이터분할** -> **모델 생성&컴파일** -> **훈련** -> **검증** -> **예측**\n",
        "\n",
        "---\n",
        "\n",
        "1. 데이터 전처리 : 데이터를 모델에 주입하기전에 데이터를 가공하는 단계\n",
        "\n",
        "2. 모델 생성 : 모델의 구조를 정의하고 생성하는 단계\n",
        "\n",
        "3. 모델 컴파일 : 생성된 모델 훈련에 사용할 손실함수, 옵티마이저, 평가지표 등 정의\n",
        "\n",
        "4. 모델 훈련 : 모델을 훈련하는 단계\n",
        "\n",
        "5. 모델 검증 : 훈련이 완료된 모델을 검증하는 단계\n",
        "  * 사용하지 않은 **검증 데이터셋**을 모델에 입력하고 모델의 예측 값을 정답과 비교하여 평가지표 계산\n",
        "\n",
        "6. 모델 예측 : 훈련과 검증이 완료된 모델로 테스트셋에 대하여 모델이 예측하고 그 결과 반환\n",
        "\n",
        "\n"
      ],
      "metadata": {
        "id": "AmwGet6qeGlI"
      }
    },
    {
      "cell_type": "markdown",
      "source": [
        "---\n",
        "## **| 02**  단순 신경망 훈련"
      ],
      "metadata": {
        "id": "VE3GTbmle5Yr"
      }
    },
    {
      "cell_type": "markdown",
      "source": [
        "### 1. 선형 회귀 \n",
        "\n",
        "$$ y = wx + b$$\n",
        "* w : 가중치\n",
        "* b : 편향"
      ],
      "metadata": {
        "id": "kMx8DfrSfBYF"
      }
    },
    {
      "cell_type": "markdown",
      "source": [
        "### 2. 뉴런 (Neuron)\n",
        "\n",
        "* 인공 신경망 모델을 구성하는 하나의 신경 의미\n",
        "* 뉴런의 내부에는 가중치가 존재하고 모델이 훈련을 진행하면서 오차 역전파를 통해 뉴런의 가중치가 업데이트됨"
      ],
      "metadata": {
        "id": "f8pTtyn9fNdb"
      }
    },
    {
      "cell_type": "markdown",
      "source": [
        "### 3. Dense 레이어 : 심층 신경망 모델을 구성하는 가장 기본 레이어\n",
        "* **완전 연결층** : 레이어와 레이어 사이에 모든 뉴런이 서로 연결되어 있음"
      ],
      "metadata": {
        "id": "UJrhn9T0fbQ0"
      }
    },
    {
      "cell_type": "code",
      "source": [
        "import tensorflow as tf\n",
        "\n",
        "#10개의 노드로 이루어진 Dense 레이어\n",
        "tf.keras.layers.Dense(10)\n",
        "\n",
        "#ReLU 활성화 함수 적용\n",
        "tf.keras.layers.Dense(10,activation = 'relu')"
      ],
      "metadata": {
        "colab": {
          "base_uri": "https://localhost:8080/"
        },
        "id": "VIqg_aU8iT0G",
        "outputId": "4f332f20-db02-47cd-abaa-a1c976289c6f"
      },
      "execution_count": 4,
      "outputs": [
        {
          "output_type": "execute_result",
          "data": {
            "text/plain": [
              "<keras.layers.core.dense.Dense at 0x7f100821c290>"
            ]
          },
          "metadata": {},
          "execution_count": 4
        }
      ]
    },
    {
      "cell_type": "markdown",
      "source": [
        "### 4. 데이터셋 만들기\n",
        "\n"
      ],
      "metadata": {
        "id": "JGyDsEwzifIY"
      }
    },
    {
      "cell_type": "code",
      "source": [
        "x = np.arange(1,6)\n",
        "\n",
        "y = 3*x + 2\n",
        "print(x)\n",
        "print(y)"
      ],
      "metadata": {
        "colab": {
          "base_uri": "https://localhost:8080/"
        },
        "id": "PCwhQUpDj3W7",
        "outputId": "4941ede5-4a4d-4857-e057-f176d1818222"
      },
      "execution_count": 5,
      "outputs": [
        {
          "output_type": "stream",
          "name": "stdout",
          "text": [
            "[1 2 3 4 5]\n",
            "[ 5  8 11 14 17]\n"
          ]
        }
      ]
    },
    {
      "cell_type": "code",
      "source": [
        "#시각화\n",
        "\n",
        "import matplotlib.pyplot as plt\n",
        "\n",
        "plt.plot(x,y)\n",
        "plt.title('y = 3x + 2')\n",
        "plt.show()"
      ],
      "metadata": {
        "colab": {
          "base_uri": "https://localhost:8080/",
          "height": 281
        },
        "id": "VX5N7MBNj8SY",
        "outputId": "e075861d-a2ee-481b-a35c-8b90ea7df2f6"
      },
      "execution_count": 6,
      "outputs": [
        {
          "output_type": "display_data",
          "data": {
            "text/plain": [
              "<Figure size 432x288 with 1 Axes>"
            ],
            "image/png": "[encoded data removed]"
          },
          "metadata": {
            "needs_background": "light"
          }
        }
      ]
    },
    {
      "cell_type": "markdown",
      "source": [
        "### 5. Sequential API\n",
        "\n",
        "1. 모델 구조"
      ],
      "metadata": {
        "id": "hF-Jbr5NkFzE"
      }
    },
    {
      "cell_type": "code",
      "source": [
        "import tensorflow as tf\n",
        "\n",
        "#리스트형\n",
        "\n",
        "model = tf.keras.Sequential([\n",
        "    tf.keras.layers.Dense(10),\n",
        "    tf.keras.layers.Dense(5),\n",
        "    tf.keras.layers.Dense(1),\n",
        "])\n",
        "\n",
        "#add함수로 레이어 추가\n",
        "\n",
        "model = tf.keras.Sequential()\n",
        "model.add(tf.keras.layers.Dense(10))\n",
        "model.add(tf.keras.layers.Dense(5))\n",
        "model.add(tf.keras.layers.Dense(1))"
      ],
      "metadata": {
        "id": "tp_AL7E42D_c"
      },
      "execution_count": 7,
      "outputs": []
    },
    {
      "cell_type": "markdown",
      "source": [
        "2. 입력 데이터 형태\n",
        "\n",
        "* 첫번째 층 : input_shape 매개변수 지정\n",
        "\n"
      ],
      "metadata": {
        "id": "QGzGca9m2bAD"
      }
    },
    {
      "cell_type": "code",
      "source": [
        "import tensorflow as tf\n",
        "\n",
        "model = tf.keras.Sequential([\n",
        "    tf.keras.layers.Dense(10,input_shape = [4]),\n",
        "    tf.keras.layers.Dense(5),\n",
        "    tf.keras.layers.Dense(1),\n",
        "])"
      ],
      "metadata": {
        "id": "XH9vLDC12gSH"
      },
      "execution_count": 8,
      "outputs": []
    },
    {
      "cell_type": "markdown",
      "source": [
        "3. 단순선형 회귀 모델 정의\n",
        "\n",
        "* 1개의 뉴런을 가지는 **Dense 레이어** 한개 사용"
      ],
      "metadata": {
        "id": "VgYM7kHP2rNz"
      }
    },
    {
      "cell_type": "code",
      "source": [
        "#단순선형회귀 모델 생성\n",
        "\n",
        "model = tf.keras.Sequential([\n",
        "    tf.keras.layers.Dense(1,input_shape = [1])\n",
        "])"
      ],
      "metadata": {
        "id": "616QOid-2wSE"
      },
      "execution_count": 9,
      "outputs": []
    },
    {
      "cell_type": "markdown",
      "source": [
        "### 6. 모델 요약\n",
        "\n",
        "* `Total params` : 모델 내부에 존재하는 모든 파라미터의 합계\n",
        "* `Trainable params` : 모델 훈련 시 업데이트할 파라미터의 총 개수\n",
        "* `Non-trainable params` : 훈련 시 업데이트하지 않을 파라미터의 총 개수\n"
      ],
      "metadata": {
        "id": "MKKQNIPe2_AX"
      }
    },
    {
      "cell_type": "markdown",
      "source": [
        "### 7. 컴파일"
      ],
      "metadata": {
        "id": "nKuKCPh-31yu"
      }
    },
    {
      "cell_type": "code",
      "source": [
        "#긴 문자열 지정\n",
        "model.compile(optimizer = 'sgd', loss = 'mean_squared_error',metrics = ['mean_squared_error','mean_absolute_error'])\n",
        "\n",
        "#짧은 문자열 지정\n",
        "model.compile(optimizer = 'sgd', loss = 'mse', metrics = ['mse','mae'])\n",
        "\n",
        "#클래스 인스턴스 지정\n",
        "model.compile(optimizer = tf.keras.optimizers.SGD(lr = 0.005),\n",
        "              loss = tf.keras.losses.MeanAbsoluteError(),\n",
        "              metrics = [tf.keras.metrics.MeanAbsoluteError(), tf.keras.metrics.MeanSquaredError()])\n",
        "\n",
        "#컴파일\n",
        "model.compile(optimizer = 'sgd', loss = 'mse', metrics = ['mae'])"
      ],
      "metadata": {
        "id": "xh-es6-f790c",
        "colab": {
          "base_uri": "https://localhost:8080/"
        },
        "outputId": "52de2b3b-7e08-479f-b283-30c492eb8906"
      },
      "execution_count": 10,
      "outputs": [
        {
          "output_type": "stream",
          "name": "stderr",
          "text": [
            "/usr/local/lib/python3.7/dist-packages/keras/optimizers/optimizer_v2/gradient_descent.py:108: UserWarning: The `lr` argument is deprecated, use `learning_rate` instead.\n",
            "  super(SGD, self).__init__(name, **kwargs)\n"
          ]
        }
      ]
    },
    {
      "cell_type": "markdown",
      "source": [
        "### 8. 훈련\n",
        "\n"
      ],
      "metadata": {
        "id": "FwS7Nx6C8ri6"
      }
    },
    {
      "cell_type": "markdown",
      "source": [
        "* 반복 훈련 횟수가 충분하지 않아 학습이 덜 되었음 -> **과소적합 상태**"
      ],
      "metadata": {
        "id": "QMqNE2Sw9IFJ"
      }
    },
    {
      "cell_type": "code",
      "source": [
        "model.fit(x,y,epochs = 5)"
      ],
      "metadata": {
        "colab": {
          "base_uri": "https://localhost:8080/"
        },
        "id": "dCCMkGc286j4",
        "outputId": "a2390696-2513-4d4c-dc8f-f06f7f3bc0c9"
      },
      "execution_count": 11,
      "outputs": [
        {
          "output_type": "stream",
          "name": "stdout",
          "text": [
            "Epoch 1/5\n",
            "1/1 [==============================] - 1s 852ms/step - loss: 150.4472 - mae: 11.4315\n",
            "Epoch 2/5\n",
            "1/1 [==============================] - 0s 9ms/step - loss: 87.7553 - mae: 8.7680\n",
            "Epoch 3/5\n",
            "1/1 [==============================] - 0s 10ms/step - loss: 51.2211 - mae: 6.7345\n",
            "Epoch 4/5\n",
            "1/1 [==============================] - 0s 10ms/step - loss: 29.9302 - mae: 5.1821\n",
            "Epoch 5/5\n",
            "1/1 [==============================] - 0s 7ms/step - loss: 17.5224 - mae: 3.9968\n"
          ]
        },
        {
          "output_type": "execute_result",
          "data": {
            "text/plain": [
              "<keras.callbacks.History at 0x7f0fa1c25b50>"
            ]
          },
          "metadata": {},
          "execution_count": 11
        }
      ]
    },
    {
      "cell_type": "code",
      "source": [
        "#단순 선형회귀 모델 생성\n",
        "model = tf.keras.Sequential([\n",
        "    tf.keras.layers.Dense(1,input_shape = [1])\n",
        "])\n",
        "\n",
        "#컴파일\n",
        "model.compile(optimizer = 'sgd', loss = 'mse', metrics = ['mae'])\n",
        "\n",
        "#훈련\n",
        "history = model.fit(x,y,epochs = 1200)"
      ],
      "metadata": {
        "colab": {
          "base_uri": "https://localhost:8080/"
        },
        "id": "y6bsx1QA9OU1",
        "outputId": "d815636a-f0b2-4e42-edf9-91cdcaf7e40b"
      },
      "execution_count": 12,
      "outputs": [
        {
          "output_type": "stream",
          "name": "stdout",
          "text": [
            "Epoch 1/1200\n",
            "1/1 [==============================] - 0s 379ms/step - loss: 160.0729 - mae: 11.7818\n",
            "Epoch 2/1200\n",
            "1/1 [==============================] - 0s 19ms/step - loss: 93.3601 - mae: 9.0341\n",
            "Epoch 3/1200\n",
            "1/1 [==============================] - 0s 9ms/step - loss: 54.4827 - mae: 6.9365\n",
            "Epoch 4/1200\n",
            "1/1 [==============================] - 0s 9ms/step - loss: 31.8263 - mae: 5.3351\n",
            "Epoch 5/1200\n",
            "1/1 [==============================] - 0s 10ms/step - loss: 18.6228 - mae: 4.1125\n",
            "Epoch 6/1200\n",
            "1/1 [==============================] - 0s 19ms/step - loss: 10.9279 - mae: 3.1790\n",
            "Epoch 7/1200\n",
            "1/1 [==============================] - 0s 10ms/step - loss: 6.4432 - mae: 2.4663\n",
            "Epoch 8/1200\n",
            "1/1 [==============================] - 0s 12ms/step - loss: 3.8292 - mae: 1.9221\n",
            "Epoch 9/1200\n",
            "1/1 [==============================] - 0s 9ms/step - loss: 2.3054 - mae: 1.5065\n",
            "Epoch 10/1200\n",
            "1/1 [==============================] - 0s 10ms/step - loss: 1.4169 - mae: 1.1891\n",
            "Epoch 11/1200\n",
            "1/1 [==============================] - 0s 10ms/step - loss: 0.8987 - mae: 0.9467\n",
            "Epoch 12/1200\n",
            "1/1 [==============================] - 0s 8ms/step - loss: 0.5962 - mae: 0.7615\n",
            "Epoch 13/1200\n",
            "1/1 [==============================] - 0s 6ms/step - loss: 0.4194 - mae: 0.6200\n",
            "Epoch 14/1200\n",
            "1/1 [==============================] - 0s 6ms/step - loss: 0.3159 - mae: 0.5119\n",
            "Epoch 15/1200\n",
            "1/1 [==============================] - 0s 7ms/step - loss: 0.2551 - mae: 0.4292\n",
            "Epoch 16/1200\n",
            "1/1 [==============================] - 0s 9ms/step - loss: 0.2192 - mae: 0.3847\n",
            "Epoch 17/1200\n",
            "1/1 [==============================] - 0s 9ms/step - loss: 0.1978 - mae: 0.3667\n",
            "Epoch 18/1200\n",
            "1/1 [==============================] - 0s 20ms/step - loss: 0.1848 - mae: 0.3526\n",
            "Epoch 19/1200\n",
            "1/1 [==============================] - 0s 12ms/step - loss: 0.1768 - mae: 0.3416\n",
            "Epoch 20/1200\n",
            "1/1 [==============================] - 0s 7ms/step - loss: 0.1717 - mae: 0.3384\n",
            "Epoch 21/1200\n",
            "1/1 [==============================] - 0s 9ms/step - loss: 0.1682 - mae: 0.3399\n",
            "Epoch 22/1200\n",
            "1/1 [==============================] - 0s 13ms/step - loss: 0.1657 - mae: 0.3408\n",
            "Epoch 23/1200\n",
            "1/1 [==============================] - 0s 13ms/step - loss: 0.1639 - mae: 0.3412\n",
            "Epoch 24/1200\n",
            "1/1 [==============================] - 0s 15ms/step - loss: 0.1623 - mae: 0.3412\n",
            "Epoch 25/1200\n",
            "1/1 [==============================] - 0s 8ms/step - loss: 0.1609 - mae: 0.3410\n",
            "Epoch 26/1200\n",
            "1/1 [==============================] - 0s 10ms/step - loss: 0.1597 - mae: 0.3405\n",
            "Epoch 27/1200\n",
            "1/1 [==============================] - 0s 13ms/step - loss: 0.1585 - mae: 0.3399\n",
            "Epoch 28/1200\n",
            "1/1 [==============================] - 0s 14ms/step - loss: 0.1574 - mae: 0.3391\n",
            "Epoch 29/1200\n",
            "1/1 [==============================] - 0s 8ms/step - loss: 0.1563 - mae: 0.3383\n",
            "Epoch 30/1200\n",
            "1/1 [==============================] - 0s 10ms/step - loss: 0.1552 - mae: 0.3374\n",
            "Epoch 31/1200\n",
            "1/1 [==============================] - 0s 10ms/step - loss: 0.1542 - mae: 0.3364\n",
            "Epoch 32/1200\n",
            "1/1 [==============================] - 0s 8ms/step - loss: 0.1531 - mae: 0.3354\n",
            "Epoch 33/1200\n",
            "1/1 [==============================] - 0s 11ms/step - loss: 0.1521 - mae: 0.3344\n",
            "Epoch 34/1200\n",
            "1/1 [==============================] - 0s 17ms/step - loss: 0.1511 - mae: 0.3333\n",
            "Epoch 35/1200\n",
            "1/1 [==============================] - 0s 16ms/step - loss: 0.1500 - mae: 0.3323\n",
            "Epoch 36/1200\n",
            "1/1 [==============================] - 0s 27ms/step - loss: 0.1490 - mae: 0.3312\n",
            "Epoch 37/1200\n",
            "1/1 [==============================] - 0s 19ms/step - loss: 0.1480 - mae: 0.3301\n",
            "Epoch 38/1200\n",
            "1/1 [==============================] - 0s 7ms/step - loss: 0.1470 - mae: 0.3290\n",
            "Epoch 39/1200\n",
            "1/1 [==============================] - 0s 7ms/step - loss: 0.1460 - mae: 0.3279\n",
            "Epoch 40/1200\n",
            "1/1 [==============================] - 0s 7ms/step - loss: 0.1450 - mae: 0.3268\n",
            "Epoch 41/1200\n",
            "1/1 [==============================] - 0s 7ms/step - loss: 0.1441 - mae: 0.3257\n",
            "Epoch 42/1200\n",
            "1/1 [==============================] - 0s 16ms/step - loss: 0.1431 - mae: 0.3246\n",
            "Epoch 43/1200\n",
            "1/1 [==============================] - 0s 9ms/step - loss: 0.1421 - mae: 0.3236\n",
            "Epoch 44/1200\n",
            "1/1 [==============================] - 0s 16ms/step - loss: 0.1412 - mae: 0.3225\n",
            "Epoch 45/1200\n",
            "1/1 [==============================] - 0s 13ms/step - loss: 0.1402 - mae: 0.3214\n",
            "Epoch 46/1200\n",
            "1/1 [==============================] - 0s 17ms/step - loss: 0.1393 - mae: 0.3203\n",
            "Epoch 47/1200\n",
            "1/1 [==============================] - 0s 13ms/step - loss: 0.1383 - mae: 0.3192\n",
            "Epoch 48/1200\n",
            "1/1 [==============================] - 0s 10ms/step - loss: 0.1374 - mae: 0.3181\n",
            "Epoch 49/1200\n",
            "1/1 [==============================] - 0s 13ms/step - loss: 0.1365 - mae: 0.3171\n",
            "Epoch 50/1200\n",
            "1/1 [==============================] - 0s 18ms/step - loss: 0.1355 - mae: 0.3160\n",
            "Epoch 51/1200\n",
            "1/1 [==============================] - 0s 45ms/step - loss: 0.1346 - mae: 0.3149\n",
            "Epoch 52/1200\n",
            "1/1 [==============================] - 0s 32ms/step - loss: 0.1337 - mae: 0.3139\n",
            "Epoch 53/1200\n",
            "1/1 [==============================] - 0s 15ms/step - loss: 0.1328 - mae: 0.3128\n",
            "Epoch 54/1200\n",
            "1/1 [==============================] - 0s 13ms/step - loss: 0.1319 - mae: 0.3117\n",
            "Epoch 55/1200\n",
            "1/1 [==============================] - 0s 13ms/step - loss: 0.1310 - mae: 0.3107\n",
            "Epoch 56/1200\n",
            "1/1 [==============================] - 0s 23ms/step - loss: 0.1301 - mae: 0.3096\n",
            "Epoch 57/1200\n",
            "1/1 [==============================] - 0s 10ms/step - loss: 0.1293 - mae: 0.3086\n",
            "Epoch 58/1200\n",
            "1/1 [==============================] - 0s 10ms/step - loss: 0.1284 - mae: 0.3076\n",
            "Epoch 59/1200\n",
            "1/1 [==============================] - 0s 11ms/step - loss: 0.1275 - mae: 0.3065\n",
            "Epoch 60/1200\n",
            "1/1 [==============================] - 0s 8ms/step - loss: 0.1267 - mae: 0.3055\n",
            "Epoch 61/1200\n",
            "1/1 [==============================] - 0s 13ms/step - loss: 0.1258 - mae: 0.3044\n",
            "Epoch 62/1200\n",
            "1/1 [==============================] - 0s 7ms/step - loss: 0.1250 - mae: 0.3034\n",
            "Epoch 63/1200\n",
            "1/1 [==============================] - 0s 10ms/step - loss: 0.1241 - mae: 0.3024\n",
            "Epoch 64/1200\n",
            "1/1 [==============================] - 0s 6ms/step - loss: 0.1233 - mae: 0.3014\n",
            "Epoch 65/1200\n",
            "1/1 [==============================] - 0s 38ms/step - loss: 0.1224 - mae: 0.3003\n",
            "Epoch 66/1200\n",
            "1/1 [==============================] - 0s 8ms/step - loss: 0.1216 - mae: 0.2993\n",
            "Epoch 67/1200\n",
            "1/1 [==============================] - 0s 7ms/step - loss: 0.1208 - mae: 0.2983\n",
            "Epoch 68/1200\n",
            "1/1 [==============================] - 0s 11ms/step - loss: 0.1200 - mae: 0.2973\n",
            "Epoch 69/1200\n",
            "1/1 [==============================] - 0s 21ms/step - loss: 0.1192 - mae: 0.2963\n",
            "Epoch 70/1200\n",
            "1/1 [==============================] - 0s 17ms/step - loss: 0.1184 - mae: 0.2953\n",
            "Epoch 71/1200\n",
            "1/1 [==============================] - 0s 11ms/step - loss: 0.1176 - mae: 0.2943\n",
            "Epoch 72/1200\n",
            "1/1 [==============================] - 0s 13ms/step - loss: 0.1168 - mae: 0.2933\n",
            "Epoch 73/1200\n",
            "1/1 [==============================] - 0s 6ms/step - loss: 0.1160 - mae: 0.2923\n",
            "Epoch 74/1200\n",
            "1/1 [==============================] - 0s 7ms/step - loss: 0.1152 - mae: 0.2913\n",
            "Epoch 75/1200\n",
            "1/1 [==============================] - 0s 7ms/step - loss: 0.1144 - mae: 0.2903\n",
            "Epoch 76/1200\n",
            "1/1 [==============================] - 0s 6ms/step - loss: 0.1137 - mae: 0.2894\n",
            "Epoch 77/1200\n",
            "1/1 [==============================] - 0s 8ms/step - loss: 0.1129 - mae: 0.2884\n",
            "Epoch 78/1200\n",
            "1/1 [==============================] - 0s 7ms/step - loss: 0.1121 - mae: 0.2874\n",
            "Epoch 79/1200\n",
            "1/1 [==============================] - 0s 8ms/step - loss: 0.1114 - mae: 0.2864\n",
            "Epoch 80/1200\n",
            "1/1 [==============================] - 0s 7ms/step - loss: 0.1106 - mae: 0.2855\n",
            "Epoch 81/1200\n",
            "1/1 [==============================] - 0s 8ms/step - loss: 0.1099 - mae: 0.2845\n",
            "Epoch 82/1200\n",
            "1/1 [==============================] - 0s 7ms/step - loss: 0.1091 - mae: 0.2835\n",
            "Epoch 83/1200\n",
            "1/1 [==============================] - 0s 11ms/step - loss: 0.1084 - mae: 0.2826\n",
            "Epoch 84/1200\n",
            "1/1 [==============================] - 0s 16ms/step - loss: 0.1077 - mae: 0.2816\n",
            "Epoch 85/1200\n",
            "1/1 [==============================] - 0s 20ms/step - loss: 0.1069 - mae: 0.2807\n",
            "Epoch 86/1200\n",
            "1/1 [==============================] - 0s 12ms/step - loss: 0.1062 - mae: 0.2797\n",
            "Epoch 87/1200\n",
            "1/1 [==============================] - 0s 10ms/step - loss: 0.1055 - mae: 0.2788\n",
            "Epoch 88/1200\n",
            "1/1 [==============================] - 0s 8ms/step - loss: 0.1048 - mae: 0.2778\n",
            "Epoch 89/1200\n",
            "1/1 [==============================] - 0s 9ms/step - loss: 0.1041 - mae: 0.2769\n",
            "Epoch 90/1200\n",
            "1/1 [==============================] - 0s 10ms/step - loss: 0.1034 - mae: 0.2760\n",
            "Epoch 91/1200\n",
            "1/1 [==============================] - 0s 12ms/step - loss: 0.1027 - mae: 0.2750\n",
            "Epoch 92/1200\n",
            "1/1 [==============================] - 0s 11ms/step - loss: 0.1020 - mae: 0.2741\n",
            "Epoch 93/1200\n",
            "1/1 [==============================] - 0s 11ms/step - loss: 0.1013 - mae: 0.2732\n",
            "Epoch 94/1200\n",
            "1/1 [==============================] - 0s 10ms/step - loss: 0.1006 - mae: 0.2723\n",
            "Epoch 95/1200\n",
            "1/1 [==============================] - 0s 14ms/step - loss: 0.0999 - mae: 0.2713\n",
            "Epoch 96/1200\n",
            "1/1 [==============================] - 0s 12ms/step - loss: 0.0993 - mae: 0.2704\n",
            "Epoch 97/1200\n",
            "1/1 [==============================] - 0s 12ms/step - loss: 0.0986 - mae: 0.2695\n",
            "Epoch 98/1200\n",
            "1/1 [==============================] - 0s 14ms/step - loss: 0.0979 - mae: 0.2686\n",
            "Epoch 99/1200\n",
            "1/1 [==============================] - 0s 15ms/step - loss: 0.0973 - mae: 0.2677\n",
            "Epoch 100/1200\n",
            "1/1 [==============================] - 0s 12ms/step - loss: 0.0966 - mae: 0.2668\n",
            "Epoch 101/1200\n",
            "1/1 [==============================] - 0s 10ms/step - loss: 0.0960 - mae: 0.2659\n",
            "Epoch 102/1200\n",
            "1/1 [==============================] - 0s 22ms/step - loss: 0.0953 - mae: 0.2650\n",
            "Epoch 103/1200\n",
            "1/1 [==============================] - 0s 76ms/step - loss: 0.0947 - mae: 0.2641\n",
            "Epoch 104/1200\n",
            "1/1 [==============================] - 0s 82ms/step - loss: 0.0940 - mae: 0.2632\n",
            "Epoch 105/1200\n",
            "1/1 [==============================] - 0s 9ms/step - loss: 0.0934 - mae: 0.2623\n",
            "Epoch 106/1200\n",
            "1/1 [==============================] - 0s 11ms/step - loss: 0.0928 - mae: 0.2614\n",
            "Epoch 107/1200\n",
            "1/1 [==============================] - 0s 8ms/step - loss: 0.0921 - mae: 0.2605\n",
            "Epoch 108/1200\n",
            "1/1 [==============================] - 0s 7ms/step - loss: 0.0915 - mae: 0.2596\n",
            "Epoch 109/1200\n",
            "1/1 [==============================] - 0s 8ms/step - loss: 0.0909 - mae: 0.2588\n",
            "Epoch 110/1200\n",
            "1/1 [==============================] - 0s 8ms/step - loss: 0.0903 - mae: 0.2579\n",
            "Epoch 111/1200\n",
            "1/1 [==============================] - 0s 8ms/step - loss: 0.0897 - mae: 0.2570\n",
            "Epoch 112/1200\n",
            "1/1 [==============================] - 0s 9ms/step - loss: 0.0891 - mae: 0.2562\n",
            "Epoch 113/1200\n",
            "1/1 [==============================] - 0s 8ms/step - loss: 0.0885 - mae: 0.2553\n",
            "Epoch 114/1200\n",
            "1/1 [==============================] - 0s 9ms/step - loss: 0.0879 - mae: 0.2544\n",
            "Epoch 115/1200\n",
            "1/1 [==============================] - 0s 8ms/step - loss: 0.0873 - mae: 0.2536\n",
            "Epoch 116/1200\n",
            "1/1 [==============================] - 0s 9ms/step - loss: 0.0867 - mae: 0.2527\n",
            "Epoch 117/1200\n",
            "1/1 [==============================] - 0s 9ms/step - loss: 0.0861 - mae: 0.2519\n",
            "Epoch 118/1200\n",
            "1/1 [==============================] - 0s 10ms/step - loss: 0.0855 - mae: 0.2510\n",
            "Epoch 119/1200\n",
            "1/1 [==============================] - 0s 8ms/step - loss: 0.0849 - mae: 0.2502\n",
            "Epoch 120/1200\n",
            "1/1 [==============================] - 0s 9ms/step - loss: 0.0844 - mae: 0.2493\n",
            "Epoch 121/1200\n",
            "1/1 [==============================] - 0s 8ms/step - loss: 0.0838 - mae: 0.2485\n",
            "Epoch 122/1200\n",
            "1/1 [==============================] - 0s 8ms/step - loss: 0.0832 - mae: 0.2476\n",
            "Epoch 123/1200\n",
            "1/1 [==============================] - 0s 9ms/step - loss: 0.0827 - mae: 0.2468\n",
            "Epoch 124/1200\n",
            "1/1 [==============================] - 0s 10ms/step - loss: 0.0821 - mae: 0.2460\n",
            "Epoch 125/1200\n",
            "1/1 [==============================] - 0s 11ms/step - loss: 0.0816 - mae: 0.2451\n",
            "Epoch 126/1200\n",
            "1/1 [==============================] - 0s 9ms/step - loss: 0.0810 - mae: 0.2443\n",
            "Epoch 127/1200\n",
            "1/1 [==============================] - 0s 7ms/step - loss: 0.0805 - mae: 0.2435\n",
            "Epoch 128/1200\n",
            "1/1 [==============================] - 0s 12ms/step - loss: 0.0799 - mae: 0.2426\n",
            "Epoch 129/1200\n",
            "1/1 [==============================] - 0s 9ms/step - loss: 0.0794 - mae: 0.2418\n",
            "Epoch 130/1200\n",
            "1/1 [==============================] - 0s 11ms/step - loss: 0.0788 - mae: 0.2410\n",
            "Epoch 131/1200\n",
            "1/1 [==============================] - 0s 10ms/step - loss: 0.0783 - mae: 0.2402\n",
            "Epoch 132/1200\n",
            "1/1 [==============================] - 0s 6ms/step - loss: 0.0778 - mae: 0.2394\n",
            "Epoch 133/1200\n",
            "1/1 [==============================] - 0s 8ms/step - loss: 0.0773 - mae: 0.2386\n",
            "Epoch 134/1200\n",
            "1/1 [==============================] - 0s 8ms/step - loss: 0.0767 - mae: 0.2378\n",
            "Epoch 135/1200\n",
            "1/1 [==============================] - 0s 12ms/step - loss: 0.0762 - mae: 0.2370\n",
            "Epoch 136/1200\n",
            "1/1 [==============================] - 0s 12ms/step - loss: 0.0757 - mae: 0.2362\n",
            "Epoch 137/1200\n",
            "1/1 [==============================] - 0s 8ms/step - loss: 0.0752 - mae: 0.2354\n",
            "Epoch 138/1200\n",
            "1/1 [==============================] - 0s 21ms/step - loss: 0.0747 - mae: 0.2346\n",
            "Epoch 139/1200\n",
            "1/1 [==============================] - 0s 16ms/step - loss: 0.0742 - mae: 0.2338\n",
            "Epoch 140/1200\n",
            "1/1 [==============================] - 0s 10ms/step - loss: 0.0737 - mae: 0.2330\n",
            "Epoch 141/1200\n",
            "1/1 [==============================] - 0s 24ms/step - loss: 0.0732 - mae: 0.2322\n",
            "Epoch 142/1200\n",
            "1/1 [==============================] - 0s 15ms/step - loss: 0.0727 - mae: 0.2314\n",
            "Epoch 143/1200\n",
            "1/1 [==============================] - 0s 16ms/step - loss: 0.0722 - mae: 0.2306\n",
            "Epoch 144/1200\n",
            "1/1 [==============================] - 0s 15ms/step - loss: 0.0717 - mae: 0.2298\n",
            "Epoch 145/1200\n",
            "1/1 [==============================] - 0s 13ms/step - loss: 0.0712 - mae: 0.2291\n",
            "Epoch 146/1200\n",
            "1/1 [==============================] - 0s 9ms/step - loss: 0.0707 - mae: 0.2283\n",
            "Epoch 147/1200\n",
            "1/1 [==============================] - 0s 9ms/step - loss: 0.0703 - mae: 0.2275\n",
            "Epoch 148/1200\n",
            "1/1 [==============================] - 0s 7ms/step - loss: 0.0698 - mae: 0.2268\n",
            "Epoch 149/1200\n",
            "1/1 [==============================] - 0s 11ms/step - loss: 0.0693 - mae: 0.2260\n",
            "Epoch 150/1200\n",
            "1/1 [==============================] - 0s 9ms/step - loss: 0.0689 - mae: 0.2252\n",
            "Epoch 151/1200\n",
            "1/1 [==============================] - 0s 12ms/step - loss: 0.0684 - mae: 0.2245\n",
            "Epoch 152/1200\n",
            "1/1 [==============================] - 0s 19ms/step - loss: 0.0679 - mae: 0.2237\n",
            "Epoch 153/1200\n",
            "1/1 [==============================] - 0s 12ms/step - loss: 0.0675 - mae: 0.2229\n",
            "Epoch 154/1200\n",
            "1/1 [==============================] - 0s 13ms/step - loss: 0.0670 - mae: 0.2222\n",
            "Epoch 155/1200\n",
            "1/1 [==============================] - 0s 8ms/step - loss: 0.0666 - mae: 0.2214\n",
            "Epoch 156/1200\n",
            "1/1 [==============================] - 0s 13ms/step - loss: 0.0661 - mae: 0.2207\n",
            "Epoch 157/1200\n",
            "1/1 [==============================] - 0s 13ms/step - loss: 0.0657 - mae: 0.2199\n",
            "Epoch 158/1200\n",
            "1/1 [==============================] - 0s 9ms/step - loss: 0.0652 - mae: 0.2192\n",
            "Epoch 159/1200\n",
            "1/1 [==============================] - 0s 16ms/step - loss: 0.0648 - mae: 0.2185\n",
            "Epoch 160/1200\n",
            "1/1 [==============================] - 0s 13ms/step - loss: 0.0643 - mae: 0.2177\n",
            "Epoch 161/1200\n",
            "1/1 [==============================] - 0s 8ms/step - loss: 0.0639 - mae: 0.2170\n",
            "Epoch 162/1200\n",
            "1/1 [==============================] - 0s 9ms/step - loss: 0.0635 - mae: 0.2163\n",
            "Epoch 163/1200\n",
            "1/1 [==============================] - 0s 7ms/step - loss: 0.0630 - mae: 0.2155\n",
            "Epoch 164/1200\n",
            "1/1 [==============================] - 0s 11ms/step - loss: 0.0626 - mae: 0.2148\n",
            "Epoch 165/1200\n",
            "1/1 [==============================] - 0s 9ms/step - loss: 0.0622 - mae: 0.2141\n",
            "Epoch 166/1200\n",
            "1/1 [==============================] - 0s 7ms/step - loss: 0.0618 - mae: 0.2133\n",
            "Epoch 167/1200\n",
            "1/1 [==============================] - 0s 10ms/step - loss: 0.0614 - mae: 0.2126\n",
            "Epoch 168/1200\n",
            "1/1 [==============================] - 0s 8ms/step - loss: 0.0609 - mae: 0.2119\n",
            "Epoch 169/1200\n",
            "1/1 [==============================] - 0s 13ms/step - loss: 0.0605 - mae: 0.2112\n",
            "Epoch 170/1200\n",
            "1/1 [==============================] - 0s 8ms/step - loss: 0.0601 - mae: 0.2105\n",
            "Epoch 171/1200\n",
            "1/1 [==============================] - 0s 15ms/step - loss: 0.0597 - mae: 0.2098\n",
            "Epoch 172/1200\n",
            "1/1 [==============================] - 0s 13ms/step - loss: 0.0593 - mae: 0.2090\n",
            "Epoch 173/1200\n",
            "1/1 [==============================] - 0s 16ms/step - loss: 0.0589 - mae: 0.2083\n",
            "Epoch 174/1200\n",
            "1/1 [==============================] - 0s 19ms/step - loss: 0.0585 - mae: 0.2076\n",
            "Epoch 175/1200\n",
            "1/1 [==============================] - 0s 15ms/step - loss: 0.0581 - mae: 0.2069\n",
            "Epoch 176/1200\n",
            "1/1 [==============================] - 0s 14ms/step - loss: 0.0577 - mae: 0.2062\n",
            "Epoch 177/1200\n",
            "1/1 [==============================] - 0s 32ms/step - loss: 0.0573 - mae: 0.2055\n",
            "Epoch 178/1200\n",
            "1/1 [==============================] - 0s 14ms/step - loss: 0.0570 - mae: 0.2048\n",
            "Epoch 179/1200\n",
            "1/1 [==============================] - 0s 7ms/step - loss: 0.0566 - mae: 0.2042\n",
            "Epoch 180/1200\n",
            "1/1 [==============================] - 0s 6ms/step - loss: 0.0562 - mae: 0.2035\n",
            "Epoch 181/1200\n",
            "1/1 [==============================] - 0s 6ms/step - loss: 0.0558 - mae: 0.2028\n",
            "Epoch 182/1200\n",
            "1/1 [==============================] - 0s 5ms/step - loss: 0.0554 - mae: 0.2021\n",
            "Epoch 183/1200\n",
            "1/1 [==============================] - 0s 7ms/step - loss: 0.0551 - mae: 0.2014\n",
            "Epoch 184/1200\n",
            "1/1 [==============================] - 0s 9ms/step - loss: 0.0547 - mae: 0.2007\n",
            "Epoch 185/1200\n",
            "1/1 [==============================] - 0s 7ms/step - loss: 0.0543 - mae: 0.2000\n",
            "Epoch 186/1200\n",
            "1/1 [==============================] - 0s 9ms/step - loss: 0.0540 - mae: 0.1994\n",
            "Epoch 187/1200\n",
            "1/1 [==============================] - 0s 9ms/step - loss: 0.0536 - mae: 0.1987\n",
            "Epoch 188/1200\n",
            "1/1 [==============================] - 0s 6ms/step - loss: 0.0532 - mae: 0.1980\n",
            "Epoch 189/1200\n",
            "1/1 [==============================] - 0s 13ms/step - loss: 0.0529 - mae: 0.1974\n",
            "Epoch 190/1200\n",
            "1/1 [==============================] - 0s 9ms/step - loss: 0.0525 - mae: 0.1967\n",
            "Epoch 191/1200\n",
            "1/1 [==============================] - 0s 10ms/step - loss: 0.0522 - mae: 0.1960\n",
            "Epoch 192/1200\n",
            "1/1 [==============================] - 0s 15ms/step - loss: 0.0518 - mae: 0.1954\n",
            "Epoch 193/1200\n",
            "1/1 [==============================] - 0s 14ms/step - loss: 0.0515 - mae: 0.1947\n",
            "Epoch 194/1200\n",
            "1/1 [==============================] - 0s 11ms/step - loss: 0.0511 - mae: 0.1940\n",
            "Epoch 195/1200\n",
            "1/1 [==============================] - 0s 15ms/step - loss: 0.0508 - mae: 0.1934\n",
            "Epoch 196/1200\n",
            "1/1 [==============================] - 0s 13ms/step - loss: 0.0504 - mae: 0.1927\n",
            "Epoch 197/1200\n",
            "1/1 [==============================] - 0s 10ms/step - loss: 0.0501 - mae: 0.1921\n",
            "Epoch 198/1200\n",
            "1/1 [==============================] - 0s 8ms/step - loss: 0.0497 - mae: 0.1914\n",
            "Epoch 199/1200\n",
            "1/1 [==============================] - 0s 7ms/step - loss: 0.0494 - mae: 0.1908\n",
            "Epoch 200/1200\n",
            "1/1 [==============================] - 0s 9ms/step - loss: 0.0491 - mae: 0.1901\n",
            "Epoch 201/1200\n",
            "1/1 [==============================] - 0s 6ms/step - loss: 0.0487 - mae: 0.1895\n",
            "Epoch 202/1200\n",
            "1/1 [==============================] - 0s 7ms/step - loss: 0.0484 - mae: 0.1889\n",
            "Epoch 203/1200\n",
            "1/1 [==============================] - 0s 6ms/step - loss: 0.0481 - mae: 0.1882\n",
            "Epoch 204/1200\n",
            "1/1 [==============================] - 0s 7ms/step - loss: 0.0478 - mae: 0.1876\n",
            "Epoch 205/1200\n",
            "1/1 [==============================] - 0s 7ms/step - loss: 0.0474 - mae: 0.1869\n",
            "Epoch 206/1200\n",
            "1/1 [==============================] - 0s 8ms/step - loss: 0.0471 - mae: 0.1863\n",
            "Epoch 207/1200\n",
            "1/1 [==============================] - 0s 6ms/step - loss: 0.0468 - mae: 0.1857\n",
            "Epoch 208/1200\n",
            "1/1 [==============================] - 0s 6ms/step - loss: 0.0465 - mae: 0.1851\n",
            "Epoch 209/1200\n",
            "1/1 [==============================] - 0s 7ms/step - loss: 0.0462 - mae: 0.1844\n",
            "Epoch 210/1200\n",
            "1/1 [==============================] - 0s 5ms/step - loss: 0.0459 - mae: 0.1838\n",
            "Epoch 211/1200\n",
            "1/1 [==============================] - 0s 8ms/step - loss: 0.0455 - mae: 0.1832\n",
            "Epoch 212/1200\n",
            "1/1 [==============================] - 0s 71ms/step - loss: 0.0452 - mae: 0.1826\n",
            "Epoch 213/1200\n",
            "1/1 [==============================] - 0s 12ms/step - loss: 0.0449 - mae: 0.1819\n",
            "Epoch 214/1200\n",
            "1/1 [==============================] - 0s 11ms/step - loss: 0.0446 - mae: 0.1813\n",
            "Epoch 215/1200\n",
            "1/1 [==============================] - 0s 12ms/step - loss: 0.0443 - mae: 0.1807\n",
            "Epoch 216/1200\n",
            "1/1 [==============================] - 0s 9ms/step - loss: 0.0440 - mae: 0.1801\n",
            "Epoch 217/1200\n",
            "1/1 [==============================] - 0s 15ms/step - loss: 0.0437 - mae: 0.1795\n",
            "Epoch 218/1200\n",
            "1/1 [==============================] - 0s 8ms/step - loss: 0.0434 - mae: 0.1789\n",
            "Epoch 219/1200\n",
            "1/1 [==============================] - 0s 9ms/step - loss: 0.0431 - mae: 0.1783\n",
            "Epoch 220/1200\n",
            "1/1 [==============================] - 0s 7ms/step - loss: 0.0429 - mae: 0.1777\n",
            "Epoch 221/1200\n",
            "1/1 [==============================] - 0s 14ms/step - loss: 0.0426 - mae: 0.1771\n",
            "Epoch 222/1200\n",
            "1/1 [==============================] - 0s 14ms/step - loss: 0.0423 - mae: 0.1765\n",
            "Epoch 223/1200\n",
            "1/1 [==============================] - 0s 8ms/step - loss: 0.0420 - mae: 0.1759\n",
            "Epoch 224/1200\n",
            "1/1 [==============================] - 0s 8ms/step - loss: 0.0417 - mae: 0.1753\n",
            "Epoch 225/1200\n",
            "1/1 [==============================] - 0s 11ms/step - loss: 0.0414 - mae: 0.1747\n",
            "Epoch 226/1200\n",
            "1/1 [==============================] - 0s 13ms/step - loss: 0.0411 - mae: 0.1741\n",
            "Epoch 227/1200\n",
            "1/1 [==============================] - 0s 11ms/step - loss: 0.0409 - mae: 0.1735\n",
            "Epoch 228/1200\n",
            "1/1 [==============================] - 0s 16ms/step - loss: 0.0406 - mae: 0.1729\n",
            "Epoch 229/1200\n",
            "1/1 [==============================] - 0s 15ms/step - loss: 0.0403 - mae: 0.1723\n",
            "Epoch 230/1200\n",
            "1/1 [==============================] - 0s 8ms/step - loss: 0.0400 - mae: 0.1718\n",
            "Epoch 231/1200\n",
            "1/1 [==============================] - 0s 9ms/step - loss: 0.0398 - mae: 0.1712\n",
            "Epoch 232/1200\n",
            "1/1 [==============================] - 0s 8ms/step - loss: 0.0395 - mae: 0.1706\n",
            "Epoch 233/1200\n",
            "1/1 [==============================] - 0s 5ms/step - loss: 0.0392 - mae: 0.1700\n",
            "Epoch 234/1200\n",
            "1/1 [==============================] - 0s 5ms/step - loss: 0.0390 - mae: 0.1695\n",
            "Epoch 235/1200\n",
            "1/1 [==============================] - 0s 5ms/step - loss: 0.0387 - mae: 0.1689\n",
            "Epoch 236/1200\n",
            "1/1 [==============================] - 0s 5ms/step - loss: 0.0385 - mae: 0.1683\n",
            "Epoch 237/1200\n",
            "1/1 [==============================] - 0s 25ms/step - loss: 0.0382 - mae: 0.1677\n",
            "Epoch 238/1200\n",
            "1/1 [==============================] - 0s 14ms/step - loss: 0.0379 - mae: 0.1672\n",
            "Epoch 239/1200\n",
            "1/1 [==============================] - 0s 9ms/step - loss: 0.0377 - mae: 0.1666\n",
            "Epoch 240/1200\n",
            "1/1 [==============================] - 0s 8ms/step - loss: 0.0374 - mae: 0.1660\n",
            "Epoch 241/1200\n",
            "1/1 [==============================] - 0s 8ms/step - loss: 0.0372 - mae: 0.1655\n",
            "Epoch 242/1200\n",
            "1/1 [==============================] - 0s 18ms/step - loss: 0.0369 - mae: 0.1649\n",
            "Epoch 243/1200\n",
            "1/1 [==============================] - 0s 13ms/step - loss: 0.0367 - mae: 0.1644\n",
            "Epoch 244/1200\n",
            "1/1 [==============================] - 0s 12ms/step - loss: 0.0364 - mae: 0.1638\n",
            "Epoch 245/1200\n",
            "1/1 [==============================] - 0s 12ms/step - loss: 0.0362 - mae: 0.1633\n",
            "Epoch 246/1200\n",
            "1/1 [==============================] - 0s 9ms/step - loss: 0.0359 - mae: 0.1627\n",
            "Epoch 247/1200\n",
            "1/1 [==============================] - 0s 17ms/step - loss: 0.0357 - mae: 0.1622\n",
            "Epoch 248/1200\n",
            "1/1 [==============================] - 0s 12ms/step - loss: 0.0355 - mae: 0.1616\n",
            "Epoch 249/1200\n",
            "1/1 [==============================] - 0s 12ms/step - loss: 0.0352 - mae: 0.1611\n",
            "Epoch 250/1200\n",
            "1/1 [==============================] - 0s 12ms/step - loss: 0.0350 - mae: 0.1605\n",
            "Epoch 251/1200\n",
            "1/1 [==============================] - 0s 11ms/step - loss: 0.0347 - mae: 0.1600\n",
            "Epoch 252/1200\n",
            "1/1 [==============================] - 0s 10ms/step - loss: 0.0345 - mae: 0.1594\n",
            "Epoch 253/1200\n",
            "1/1 [==============================] - 0s 13ms/step - loss: 0.0343 - mae: 0.1589\n",
            "Epoch 254/1200\n",
            "1/1 [==============================] - 0s 15ms/step - loss: 0.0340 - mae: 0.1584\n",
            "Epoch 255/1200\n",
            "1/1 [==============================] - 0s 15ms/step - loss: 0.0338 - mae: 0.1578\n",
            "Epoch 256/1200\n",
            "1/1 [==============================] - 0s 13ms/step - loss: 0.0336 - mae: 0.1573\n",
            "Epoch 257/1200\n",
            "1/1 [==============================] - 0s 12ms/step - loss: 0.0334 - mae: 0.1568\n",
            "Epoch 258/1200\n",
            "1/1 [==============================] - 0s 15ms/step - loss: 0.0331 - mae: 0.1562\n",
            "Epoch 259/1200\n",
            "1/1 [==============================] - 0s 17ms/step - loss: 0.0329 - mae: 0.1557\n",
            "Epoch 260/1200\n",
            "1/1 [==============================] - 0s 14ms/step - loss: 0.0327 - mae: 0.1552\n",
            "Epoch 261/1200\n",
            "1/1 [==============================] - 0s 15ms/step - loss: 0.0325 - mae: 0.1546\n",
            "Epoch 262/1200\n",
            "1/1 [==============================] - 0s 27ms/step - loss: 0.0322 - mae: 0.1541\n",
            "Epoch 263/1200\n",
            "1/1 [==============================] - 0s 24ms/step - loss: 0.0320 - mae: 0.1536\n",
            "Epoch 264/1200\n",
            "1/1 [==============================] - 0s 39ms/step - loss: 0.0318 - mae: 0.1531\n",
            "Epoch 265/1200\n",
            "1/1 [==============================] - 0s 20ms/step - loss: 0.0316 - mae: 0.1526\n",
            "Epoch 266/1200\n",
            "1/1 [==============================] - 0s 25ms/step - loss: 0.0314 - mae: 0.1521\n",
            "Epoch 267/1200\n",
            "1/1 [==============================] - 0s 44ms/step - loss: 0.0312 - mae: 0.1515\n",
            "Epoch 268/1200\n",
            "1/1 [==============================] - 0s 21ms/step - loss: 0.0310 - mae: 0.1510\n",
            "Epoch 269/1200\n",
            "1/1 [==============================] - 0s 25ms/step - loss: 0.0308 - mae: 0.1505\n",
            "Epoch 270/1200\n",
            "1/1 [==============================] - 0s 14ms/step - loss: 0.0305 - mae: 0.1500\n",
            "Epoch 271/1200\n",
            "1/1 [==============================] - 0s 19ms/step - loss: 0.0303 - mae: 0.1495\n",
            "Epoch 272/1200\n",
            "1/1 [==============================] - 0s 17ms/step - loss: 0.0301 - mae: 0.1490\n",
            "Epoch 273/1200\n",
            "1/1 [==============================] - 0s 28ms/step - loss: 0.0299 - mae: 0.1485\n",
            "Epoch 274/1200\n",
            "1/1 [==============================] - 0s 10ms/step - loss: 0.0297 - mae: 0.1480\n",
            "Epoch 275/1200\n",
            "1/1 [==============================] - 0s 23ms/step - loss: 0.0295 - mae: 0.1475\n",
            "Epoch 276/1200\n",
            "1/1 [==============================] - 0s 19ms/step - loss: 0.0293 - mae: 0.1470\n",
            "Epoch 277/1200\n",
            "1/1 [==============================] - 0s 28ms/step - loss: 0.0291 - mae: 0.1465\n",
            "Epoch 278/1200\n",
            "1/1 [==============================] - 0s 11ms/step - loss: 0.0289 - mae: 0.1460\n",
            "Epoch 279/1200\n",
            "1/1 [==============================] - 0s 19ms/step - loss: 0.0287 - mae: 0.1455\n",
            "Epoch 280/1200\n",
            "1/1 [==============================] - 0s 6ms/step - loss: 0.0285 - mae: 0.1450\n",
            "Epoch 281/1200\n",
            "1/1 [==============================] - 0s 4ms/step - loss: 0.0284 - mae: 0.1445\n",
            "Epoch 282/1200\n",
            "1/1 [==============================] - 0s 8ms/step - loss: 0.0282 - mae: 0.1440\n",
            "Epoch 283/1200\n",
            "1/1 [==============================] - 0s 6ms/step - loss: 0.0280 - mae: 0.1435\n",
            "Epoch 284/1200\n",
            "1/1 [==============================] - 0s 12ms/step - loss: 0.0278 - mae: 0.1431\n",
            "Epoch 285/1200\n",
            "1/1 [==============================] - 0s 5ms/step - loss: 0.0276 - mae: 0.1426\n",
            "Epoch 286/1200\n",
            "1/1 [==============================] - 0s 8ms/step - loss: 0.0274 - mae: 0.1421\n",
            "Epoch 287/1200\n",
            "1/1 [==============================] - 0s 8ms/step - loss: 0.0272 - mae: 0.1416\n",
            "Epoch 288/1200\n",
            "1/1 [==============================] - 0s 23ms/step - loss: 0.0270 - mae: 0.1411\n",
            "Epoch 289/1200\n",
            "1/1 [==============================] - 0s 15ms/step - loss: 0.0269 - mae: 0.1407\n",
            "Epoch 290/1200\n",
            "1/1 [==============================] - 0s 69ms/step - loss: 0.0267 - mae: 0.1402\n",
            "Epoch 291/1200\n",
            "1/1 [==============================] - 0s 54ms/step - loss: 0.0265 - mae: 0.1397\n",
            "Epoch 292/1200\n",
            "1/1 [==============================] - 0s 10ms/step - loss: 0.0263 - mae: 0.1392\n",
            "Epoch 293/1200\n",
            "1/1 [==============================] - 0s 36ms/step - loss: 0.0261 - mae: 0.1388\n",
            "Epoch 294/1200\n",
            "1/1 [==============================] - 0s 90ms/step - loss: 0.0260 - mae: 0.1383\n",
            "Epoch 295/1200\n",
            "1/1 [==============================] - 0s 64ms/step - loss: 0.0258 - mae: 0.1378\n",
            "Epoch 296/1200\n",
            "1/1 [==============================] - 0s 21ms/step - loss: 0.0256 - mae: 0.1374\n",
            "Epoch 297/1200\n",
            "1/1 [==============================] - 0s 9ms/step - loss: 0.0254 - mae: 0.1369\n",
            "Epoch 298/1200\n",
            "1/1 [==============================] - 0s 13ms/step - loss: 0.0253 - mae: 0.1364\n",
            "Epoch 299/1200\n",
            "1/1 [==============================] - 0s 9ms/step - loss: 0.0251 - mae: 0.1360\n",
            "Epoch 300/1200\n",
            "1/1 [==============================] - 0s 15ms/step - loss: 0.0249 - mae: 0.1355\n",
            "Epoch 301/1200\n",
            "1/1 [==============================] - 0s 5ms/step - loss: 0.0248 - mae: 0.1351\n",
            "Epoch 302/1200\n",
            "1/1 [==============================] - 0s 6ms/step - loss: 0.0246 - mae: 0.1346\n",
            "Epoch 303/1200\n",
            "1/1 [==============================] - 0s 12ms/step - loss: 0.0244 - mae: 0.1341\n",
            "Epoch 304/1200\n",
            "1/1 [==============================] - 0s 16ms/step - loss: 0.0243 - mae: 0.1337\n",
            "Epoch 305/1200\n",
            "1/1 [==============================] - 0s 9ms/step - loss: 0.0241 - mae: 0.1332\n",
            "Epoch 306/1200\n",
            "1/1 [==============================] - 0s 28ms/step - loss: 0.0239 - mae: 0.1328\n",
            "Epoch 307/1200\n",
            "1/1 [==============================] - 0s 23ms/step - loss: 0.0238 - mae: 0.1323\n",
            "Epoch 308/1200\n",
            "1/1 [==============================] - 0s 19ms/step - loss: 0.0236 - mae: 0.1319\n",
            "Epoch 309/1200\n",
            "1/1 [==============================] - 0s 26ms/step - loss: 0.0235 - mae: 0.1314\n",
            "Epoch 310/1200\n",
            "1/1 [==============================] - 0s 49ms/step - loss: 0.0233 - mae: 0.1310\n",
            "Epoch 311/1200\n",
            "1/1 [==============================] - 0s 11ms/step - loss: 0.0231 - mae: 0.1306\n",
            "Epoch 312/1200\n",
            "1/1 [==============================] - 0s 15ms/step - loss: 0.0230 - mae: 0.1301\n",
            "Epoch 313/1200\n",
            "1/1 [==============================] - 0s 18ms/step - loss: 0.0228 - mae: 0.1297\n",
            "Epoch 314/1200\n",
            "1/1 [==============================] - 0s 15ms/step - loss: 0.0227 - mae: 0.1292\n",
            "Epoch 315/1200\n",
            "1/1 [==============================] - 0s 14ms/step - loss: 0.0225 - mae: 0.1288\n",
            "Epoch 316/1200\n",
            "1/1 [==============================] - 0s 8ms/step - loss: 0.0224 - mae: 0.1284\n",
            "Epoch 317/1200\n",
            "1/1 [==============================] - 0s 14ms/step - loss: 0.0222 - mae: 0.1279\n",
            "Epoch 318/1200\n",
            "1/1 [==============================] - 0s 16ms/step - loss: 0.0221 - mae: 0.1275\n",
            "Epoch 319/1200\n",
            "1/1 [==============================] - 0s 62ms/step - loss: 0.0219 - mae: 0.1271\n",
            "Epoch 320/1200\n",
            "1/1 [==============================] - 0s 23ms/step - loss: 0.0218 - mae: 0.1266\n",
            "Epoch 321/1200\n",
            "1/1 [==============================] - 0s 7ms/step - loss: 0.0216 - mae: 0.1262\n",
            "Epoch 322/1200\n",
            "1/1 [==============================] - 0s 7ms/step - loss: 0.0215 - mae: 0.1258\n",
            "Epoch 323/1200\n",
            "1/1 [==============================] - 0s 12ms/step - loss: 0.0213 - mae: 0.1254\n",
            "Epoch 324/1200\n",
            "1/1 [==============================] - 0s 13ms/step - loss: 0.0212 - mae: 0.1249\n",
            "Epoch 325/1200\n",
            "1/1 [==============================] - 0s 21ms/step - loss: 0.0210 - mae: 0.1245\n",
            "Epoch 326/1200\n",
            "1/1 [==============================] - 0s 9ms/step - loss: 0.0209 - mae: 0.1241\n",
            "Epoch 327/1200\n",
            "1/1 [==============================] - 0s 9ms/step - loss: 0.0208 - mae: 0.1237\n",
            "Epoch 328/1200\n",
            "1/1 [==============================] - 0s 20ms/step - loss: 0.0206 - mae: 0.1233\n",
            "Epoch 329/1200\n",
            "1/1 [==============================] - 0s 18ms/step - loss: 0.0205 - mae: 0.1228\n",
            "Epoch 330/1200\n",
            "1/1 [==============================] - 0s 22ms/step - loss: 0.0203 - mae: 0.1224\n",
            "Epoch 331/1200\n",
            "1/1 [==============================] - 0s 13ms/step - loss: 0.0202 - mae: 0.1220\n",
            "Epoch 332/1200\n",
            "1/1 [==============================] - 0s 5ms/step - loss: 0.0201 - mae: 0.1216\n",
            "Epoch 333/1200\n",
            "1/1 [==============================] - 0s 11ms/step - loss: 0.0199 - mae: 0.1212\n",
            "Epoch 334/1200\n",
            "1/1 [==============================] - 0s 5ms/step - loss: 0.0198 - mae: 0.1208\n",
            "Epoch 335/1200\n",
            "1/1 [==============================] - 0s 10ms/step - loss: 0.0197 - mae: 0.1204\n",
            "Epoch 336/1200\n",
            "1/1 [==============================] - 0s 9ms/step - loss: 0.0195 - mae: 0.1200\n",
            "Epoch 337/1200\n",
            "1/1 [==============================] - 0s 9ms/step - loss: 0.0194 - mae: 0.1196\n",
            "Epoch 338/1200\n",
            "1/1 [==============================] - 0s 27ms/step - loss: 0.0193 - mae: 0.1191\n",
            "Epoch 339/1200\n",
            "1/1 [==============================] - 0s 14ms/step - loss: 0.0191 - mae: 0.1187\n",
            "Epoch 340/1200\n",
            "1/1 [==============================] - 0s 9ms/step - loss: 0.0190 - mae: 0.1183\n",
            "Epoch 341/1200\n",
            "1/1 [==============================] - 0s 12ms/step - loss: 0.0189 - mae: 0.1179\n",
            "Epoch 342/1200\n",
            "1/1 [==============================] - 0s 50ms/step - loss: 0.0188 - mae: 0.1175\n",
            "Epoch 343/1200\n",
            "1/1 [==============================] - 0s 9ms/step - loss: 0.0186 - mae: 0.1171\n",
            "Epoch 344/1200\n",
            "1/1 [==============================] - 0s 14ms/step - loss: 0.0185 - mae: 0.1168\n",
            "Epoch 345/1200\n",
            "1/1 [==============================] - 0s 15ms/step - loss: 0.0184 - mae: 0.1164\n",
            "Epoch 346/1200\n",
            "1/1 [==============================] - 0s 19ms/step - loss: 0.0183 - mae: 0.1160\n",
            "Epoch 347/1200\n",
            "1/1 [==============================] - 0s 22ms/step - loss: 0.0181 - mae: 0.1156\n",
            "Epoch 348/1200\n",
            "1/1 [==============================] - 0s 19ms/step - loss: 0.0180 - mae: 0.1152\n",
            "Epoch 349/1200\n",
            "1/1 [==============================] - 0s 30ms/step - loss: 0.0179 - mae: 0.1148\n",
            "Epoch 350/1200\n",
            "1/1 [==============================] - 0s 56ms/step - loss: 0.0178 - mae: 0.1144\n",
            "Epoch 351/1200\n",
            "1/1 [==============================] - 0s 17ms/step - loss: 0.0176 - mae: 0.1140\n",
            "Epoch 352/1200\n",
            "1/1 [==============================] - 0s 21ms/step - loss: 0.0175 - mae: 0.1136\n",
            "Epoch 353/1200\n",
            "1/1 [==============================] - 0s 14ms/step - loss: 0.0174 - mae: 0.1132\n",
            "Epoch 354/1200\n",
            "1/1 [==============================] - 0s 13ms/step - loss: 0.0173 - mae: 0.1129\n",
            "Epoch 355/1200\n",
            "1/1 [==============================] - 0s 16ms/step - loss: 0.0172 - mae: 0.1125\n",
            "Epoch 356/1200\n",
            "1/1 [==============================] - 0s 13ms/step - loss: 0.0171 - mae: 0.1121\n",
            "Epoch 357/1200\n",
            "1/1 [==============================] - 0s 26ms/step - loss: 0.0169 - mae: 0.1117\n",
            "Epoch 358/1200\n",
            "1/1 [==============================] - 0s 15ms/step - loss: 0.0168 - mae: 0.1113\n",
            "Epoch 359/1200\n",
            "1/1 [==============================] - 0s 12ms/step - loss: 0.0167 - mae: 0.1110\n",
            "Epoch 360/1200\n",
            "1/1 [==============================] - 0s 14ms/step - loss: 0.0166 - mae: 0.1106\n",
            "Epoch 361/1200\n",
            "1/1 [==============================] - 0s 8ms/step - loss: 0.0165 - mae: 0.1102\n",
            "Epoch 362/1200\n",
            "1/1 [==============================] - 0s 8ms/step - loss: 0.0164 - mae: 0.1098\n",
            "Epoch 363/1200\n",
            "1/1 [==============================] - 0s 9ms/step - loss: 0.0163 - mae: 0.1095\n",
            "Epoch 364/1200\n",
            "1/1 [==============================] - 0s 6ms/step - loss: 0.0162 - mae: 0.1091\n",
            "Epoch 365/1200\n",
            "1/1 [==============================] - 0s 6ms/step - loss: 0.0160 - mae: 0.1087\n",
            "Epoch 366/1200\n",
            "1/1 [==============================] - 0s 7ms/step - loss: 0.0159 - mae: 0.1084\n",
            "Epoch 367/1200\n",
            "1/1 [==============================] - 0s 12ms/step - loss: 0.0158 - mae: 0.1080\n",
            "Epoch 368/1200\n",
            "1/1 [==============================] - 0s 14ms/step - loss: 0.0157 - mae: 0.1076\n",
            "Epoch 369/1200\n",
            "1/1 [==============================] - 0s 8ms/step - loss: 0.0156 - mae: 0.1073\n",
            "Epoch 370/1200\n",
            "1/1 [==============================] - 0s 9ms/step - loss: 0.0155 - mae: 0.1069\n",
            "Epoch 371/1200\n",
            "1/1 [==============================] - 0s 16ms/step - loss: 0.0154 - mae: 0.1066\n",
            "Epoch 372/1200\n",
            "1/1 [==============================] - 0s 10ms/step - loss: 0.0153 - mae: 0.1062\n",
            "Epoch 373/1200\n",
            "1/1 [==============================] - 0s 10ms/step - loss: 0.0152 - mae: 0.1058\n",
            "Epoch 374/1200\n",
            "1/1 [==============================] - 0s 12ms/step - loss: 0.0151 - mae: 0.1055\n",
            "Epoch 375/1200\n",
            "1/1 [==============================] - 0s 22ms/step - loss: 0.0150 - mae: 0.1051\n",
            "Epoch 376/1200\n",
            "1/1 [==============================] - 0s 19ms/step - loss: 0.0149 - mae: 0.1048\n",
            "Epoch 377/1200\n",
            "1/1 [==============================] - 0s 21ms/step - loss: 0.0148 - mae: 0.1044\n",
            "Epoch 378/1200\n",
            "1/1 [==============================] - 0s 10ms/step - loss: 0.0147 - mae: 0.1041\n",
            "Epoch 379/1200\n",
            "1/1 [==============================] - 0s 14ms/step - loss: 0.0146 - mae: 0.1037\n",
            "Epoch 380/1200\n",
            "1/1 [==============================] - 0s 13ms/step - loss: 0.0145 - mae: 0.1034\n",
            "Epoch 381/1200\n",
            "1/1 [==============================] - 0s 19ms/step - loss: 0.0144 - mae: 0.1030\n",
            "Epoch 382/1200\n",
            "1/1 [==============================] - 0s 41ms/step - loss: 0.0143 - mae: 0.1027\n",
            "Epoch 383/1200\n",
            "1/1 [==============================] - 0s 52ms/step - loss: 0.0142 - mae: 0.1023\n",
            "Epoch 384/1200\n",
            "1/1 [==============================] - 0s 14ms/step - loss: 0.0141 - mae: 0.1020\n",
            "Epoch 385/1200\n",
            "1/1 [==============================] - 0s 18ms/step - loss: 0.0140 - mae: 0.1016\n",
            "Epoch 386/1200\n",
            "1/1 [==============================] - 0s 22ms/step - loss: 0.0139 - mae: 0.1013\n",
            "Epoch 387/1200\n",
            "1/1 [==============================] - 0s 13ms/step - loss: 0.0138 - mae: 0.1009\n",
            "Epoch 388/1200\n",
            "1/1 [==============================] - 0s 24ms/step - loss: 0.0137 - mae: 0.1006\n",
            "Epoch 389/1200\n",
            "1/1 [==============================] - 0s 6ms/step - loss: 0.0136 - mae: 0.1002\n",
            "Epoch 390/1200\n",
            "1/1 [==============================] - 0s 7ms/step - loss: 0.0135 - mae: 0.0999\n",
            "Epoch 391/1200\n",
            "1/1 [==============================] - 0s 6ms/step - loss: 0.0135 - mae: 0.0996\n",
            "Epoch 392/1200\n",
            "1/1 [==============================] - 0s 5ms/step - loss: 0.0134 - mae: 0.0992\n",
            "Epoch 393/1200\n",
            "1/1 [==============================] - 0s 9ms/step - loss: 0.0133 - mae: 0.0989\n",
            "Epoch 394/1200\n",
            "1/1 [==============================] - 0s 7ms/step - loss: 0.0132 - mae: 0.0986\n",
            "Epoch 395/1200\n",
            "1/1 [==============================] - 0s 20ms/step - loss: 0.0131 - mae: 0.0982\n",
            "Epoch 396/1200\n",
            "1/1 [==============================] - 0s 8ms/step - loss: 0.0130 - mae: 0.0979\n",
            "Epoch 397/1200\n",
            "1/1 [==============================] - 0s 9ms/step - loss: 0.0129 - mae: 0.0976\n",
            "Epoch 398/1200\n",
            "1/1 [==============================] - 0s 5ms/step - loss: 0.0128 - mae: 0.0972\n",
            "Epoch 399/1200\n",
            "1/1 [==============================] - 0s 9ms/step - loss: 0.0127 - mae: 0.0969\n",
            "Epoch 400/1200\n",
            "1/1 [==============================] - 0s 39ms/step - loss: 0.0127 - mae: 0.0966\n",
            "Epoch 401/1200\n",
            "1/1 [==============================] - 0s 39ms/step - loss: 0.0126 - mae: 0.0963\n",
            "Epoch 402/1200\n",
            "1/1 [==============================] - 0s 22ms/step - loss: 0.0125 - mae: 0.0959\n",
            "Epoch 403/1200\n",
            "1/1 [==============================] - 0s 20ms/step - loss: 0.0124 - mae: 0.0956\n",
            "Epoch 404/1200\n",
            "1/1 [==============================] - 0s 36ms/step - loss: 0.0123 - mae: 0.0953\n",
            "Epoch 405/1200\n",
            "1/1 [==============================] - 0s 28ms/step - loss: 0.0122 - mae: 0.0950\n",
            "Epoch 406/1200\n",
            "1/1 [==============================] - 0s 16ms/step - loss: 0.0122 - mae: 0.0946\n",
            "Epoch 407/1200\n",
            "1/1 [==============================] - 0s 7ms/step - loss: 0.0121 - mae: 0.0943\n",
            "Epoch 408/1200\n",
            "1/1 [==============================] - 0s 14ms/step - loss: 0.0120 - mae: 0.0940\n",
            "Epoch 409/1200\n",
            "1/1 [==============================] - 0s 23ms/step - loss: 0.0119 - mae: 0.0937\n",
            "Epoch 410/1200\n",
            "1/1 [==============================] - 0s 12ms/step - loss: 0.0118 - mae: 0.0934\n",
            "Epoch 411/1200\n",
            "1/1 [==============================] - 0s 13ms/step - loss: 0.0118 - mae: 0.0931\n",
            "Epoch 412/1200\n",
            "1/1 [==============================] - 0s 19ms/step - loss: 0.0117 - mae: 0.0927\n",
            "Epoch 413/1200\n",
            "1/1 [==============================] - 0s 9ms/step - loss: 0.0116 - mae: 0.0924\n",
            "Epoch 414/1200\n",
            "1/1 [==============================] - 0s 13ms/step - loss: 0.0115 - mae: 0.0921\n",
            "Epoch 415/1200\n",
            "1/1 [==============================] - 0s 9ms/step - loss: 0.0114 - mae: 0.0918\n",
            "Epoch 416/1200\n",
            "1/1 [==============================] - 0s 6ms/step - loss: 0.0114 - mae: 0.0915\n",
            "Epoch 417/1200\n",
            "1/1 [==============================] - 0s 6ms/step - loss: 0.0113 - mae: 0.0912\n",
            "Epoch 418/1200\n",
            "1/1 [==============================] - 0s 11ms/step - loss: 0.0112 - mae: 0.0909\n",
            "Epoch 419/1200\n",
            "1/1 [==============================] - 0s 29ms/step - loss: 0.0111 - mae: 0.0906\n",
            "Epoch 420/1200\n",
            "1/1 [==============================] - 0s 12ms/step - loss: 0.0111 - mae: 0.0903\n",
            "Epoch 421/1200\n",
            "1/1 [==============================] - 0s 21ms/step - loss: 0.0110 - mae: 0.0900\n",
            "Epoch 422/1200\n",
            "1/1 [==============================] - 0s 10ms/step - loss: 0.0109 - mae: 0.0896\n",
            "Epoch 423/1200\n",
            "1/1 [==============================] - 0s 17ms/step - loss: 0.0108 - mae: 0.0893\n",
            "Epoch 424/1200\n",
            "1/1 [==============================] - 0s 14ms/step - loss: 0.0108 - mae: 0.0890\n",
            "Epoch 425/1200\n",
            "1/1 [==============================] - 0s 16ms/step - loss: 0.0107 - mae: 0.0887\n",
            "Epoch 426/1200\n",
            "1/1 [==============================] - 0s 36ms/step - loss: 0.0106 - mae: 0.0884\n",
            "Epoch 427/1200\n",
            "1/1 [==============================] - 0s 14ms/step - loss: 0.0105 - mae: 0.0881\n",
            "Epoch 428/1200\n",
            "1/1 [==============================] - 0s 42ms/step - loss: 0.0105 - mae: 0.0878\n",
            "Epoch 429/1200\n",
            "1/1 [==============================] - 0s 16ms/step - loss: 0.0104 - mae: 0.0875\n",
            "Epoch 430/1200\n",
            "1/1 [==============================] - 0s 15ms/step - loss: 0.0103 - mae: 0.0873\n",
            "Epoch 431/1200\n",
            "1/1 [==============================] - 0s 9ms/step - loss: 0.0103 - mae: 0.0870\n",
            "Epoch 432/1200\n",
            "1/1 [==============================] - 0s 13ms/step - loss: 0.0102 - mae: 0.0867\n",
            "Epoch 433/1200\n",
            "1/1 [==============================] - 0s 15ms/step - loss: 0.0101 - mae: 0.0864\n",
            "Epoch 434/1200\n",
            "1/1 [==============================] - 0s 17ms/step - loss: 0.0101 - mae: 0.0861\n",
            "Epoch 435/1200\n",
            "1/1 [==============================] - 0s 16ms/step - loss: 0.0100 - mae: 0.0858\n",
            "Epoch 436/1200\n",
            "1/1 [==============================] - 0s 14ms/step - loss: 0.0099 - mae: 0.0855\n",
            "Epoch 437/1200\n",
            "1/1 [==============================] - 0s 18ms/step - loss: 0.0099 - mae: 0.0852\n",
            "Epoch 438/1200\n",
            "1/1 [==============================] - 0s 12ms/step - loss: 0.0098 - mae: 0.0849\n",
            "Epoch 439/1200\n",
            "1/1 [==============================] - 0s 53ms/step - loss: 0.0097 - mae: 0.0846\n",
            "Epoch 440/1200\n",
            "1/1 [==============================] - 0s 52ms/step - loss: 0.0097 - mae: 0.0843\n",
            "Epoch 441/1200\n",
            "1/1 [==============================] - 0s 17ms/step - loss: 0.0096 - mae: 0.0841\n",
            "Epoch 442/1200\n",
            "1/1 [==============================] - 0s 23ms/step - loss: 0.0095 - mae: 0.0838\n",
            "Epoch 443/1200\n",
            "1/1 [==============================] - 0s 19ms/step - loss: 0.0095 - mae: 0.0835\n",
            "Epoch 444/1200\n",
            "1/1 [==============================] - 0s 15ms/step - loss: 0.0094 - mae: 0.0832\n",
            "Epoch 445/1200\n",
            "1/1 [==============================] - 0s 12ms/step - loss: 0.0093 - mae: 0.0829\n",
            "Epoch 446/1200\n",
            "1/1 [==============================] - 0s 10ms/step - loss: 0.0093 - mae: 0.0827\n",
            "Epoch 447/1200\n",
            "1/1 [==============================] - 0s 40ms/step - loss: 0.0092 - mae: 0.0824\n",
            "Epoch 448/1200\n",
            "1/1 [==============================] - 0s 25ms/step - loss: 0.0091 - mae: 0.0821\n",
            "Epoch 449/1200\n",
            "1/1 [==============================] - 0s 18ms/step - loss: 0.0091 - mae: 0.0818\n",
            "Epoch 450/1200\n",
            "1/1 [==============================] - 0s 68ms/step - loss: 0.0090 - mae: 0.0815\n",
            "Epoch 451/1200\n",
            "1/1 [==============================] - 0s 43ms/step - loss: 0.0090 - mae: 0.0813\n",
            "Epoch 452/1200\n",
            "1/1 [==============================] - 0s 33ms/step - loss: 0.0089 - mae: 0.0810\n",
            "Epoch 453/1200\n",
            "1/1 [==============================] - 0s 15ms/step - loss: 0.0088 - mae: 0.0807\n",
            "Epoch 454/1200\n",
            "1/1 [==============================] - 0s 19ms/step - loss: 0.0088 - mae: 0.0804\n",
            "Epoch 455/1200\n",
            "1/1 [==============================] - 0s 13ms/step - loss: 0.0087 - mae: 0.0802\n",
            "Epoch 456/1200\n",
            "1/1 [==============================] - 0s 18ms/step - loss: 0.0087 - mae: 0.0799\n",
            "Epoch 457/1200\n",
            "1/1 [==============================] - 0s 16ms/step - loss: 0.0086 - mae: 0.0796\n",
            "Epoch 458/1200\n",
            "1/1 [==============================] - 0s 18ms/step - loss: 0.0085 - mae: 0.0794\n",
            "Epoch 459/1200\n",
            "1/1 [==============================] - 0s 65ms/step - loss: 0.0085 - mae: 0.0791\n",
            "Epoch 460/1200\n",
            "1/1 [==============================] - 0s 33ms/step - loss: 0.0084 - mae: 0.0788\n",
            "Epoch 461/1200\n",
            "1/1 [==============================] - 0s 17ms/step - loss: 0.0084 - mae: 0.0786\n",
            "Epoch 462/1200\n",
            "1/1 [==============================] - 0s 19ms/step - loss: 0.0083 - mae: 0.0783\n",
            "Epoch 463/1200\n",
            "1/1 [==============================] - 0s 19ms/step - loss: 0.0083 - mae: 0.0780\n",
            "Epoch 464/1200\n",
            "1/1 [==============================] - 0s 27ms/step - loss: 0.0082 - mae: 0.0778\n",
            "Epoch 465/1200\n",
            "1/1 [==============================] - 0s 24ms/step - loss: 0.0082 - mae: 0.0775\n",
            "Epoch 466/1200\n",
            "1/1 [==============================] - 0s 10ms/step - loss: 0.0081 - mae: 0.0772\n",
            "Epoch 467/1200\n",
            "1/1 [==============================] - 0s 6ms/step - loss: 0.0080 - mae: 0.0770\n",
            "Epoch 468/1200\n",
            "1/1 [==============================] - 0s 6ms/step - loss: 0.0080 - mae: 0.0767\n",
            "Epoch 469/1200\n",
            "1/1 [==============================] - 0s 5ms/step - loss: 0.0079 - mae: 0.0765\n",
            "Epoch 470/1200\n",
            "1/1 [==============================] - 0s 9ms/step - loss: 0.0079 - mae: 0.0762\n",
            "Epoch 471/1200\n",
            "1/1 [==============================] - 0s 18ms/step - loss: 0.0078 - mae: 0.0759\n",
            "Epoch 472/1200\n",
            "1/1 [==============================] - 0s 9ms/step - loss: 0.0078 - mae: 0.0757\n",
            "Epoch 473/1200\n",
            "1/1 [==============================] - 0s 20ms/step - loss: 0.0077 - mae: 0.0754\n",
            "Epoch 474/1200\n",
            "1/1 [==============================] - 0s 18ms/step - loss: 0.0077 - mae: 0.0752\n",
            "Epoch 475/1200\n",
            "1/1 [==============================] - 0s 49ms/step - loss: 0.0076 - mae: 0.0749\n",
            "Epoch 476/1200\n",
            "1/1 [==============================] - 0s 51ms/step - loss: 0.0076 - mae: 0.0747\n",
            "Epoch 477/1200\n",
            "1/1 [==============================] - 0s 16ms/step - loss: 0.0075 - mae: 0.0744\n",
            "Epoch 478/1200\n",
            "1/1 [==============================] - 0s 19ms/step - loss: 0.0075 - mae: 0.0742\n",
            "Epoch 479/1200\n",
            "1/1 [==============================] - 0s 30ms/step - loss: 0.0074 - mae: 0.0739\n",
            "Epoch 480/1200\n",
            "1/1 [==============================] - 0s 28ms/step - loss: 0.0074 - mae: 0.0737\n",
            "Epoch 481/1200\n",
            "1/1 [==============================] - 0s 16ms/step - loss: 0.0073 - mae: 0.0734\n",
            "Epoch 482/1200\n",
            "1/1 [==============================] - 0s 13ms/step - loss: 0.0073 - mae: 0.0732\n",
            "Epoch 483/1200\n",
            "1/1 [==============================] - 0s 44ms/step - loss: 0.0072 - mae: 0.0729\n",
            "Epoch 484/1200\n",
            "1/1 [==============================] - 0s 28ms/step - loss: 0.0072 - mae: 0.0727\n",
            "Epoch 485/1200\n",
            "1/1 [==============================] - 0s 18ms/step - loss: 0.0071 - mae: 0.0724\n",
            "Epoch 486/1200\n",
            "1/1 [==============================] - 0s 21ms/step - loss: 0.0071 - mae: 0.0722\n",
            "Epoch 487/1200\n",
            "1/1 [==============================] - 0s 15ms/step - loss: 0.0070 - mae: 0.0719\n",
            "Epoch 488/1200\n",
            "1/1 [==============================] - 0s 18ms/step - loss: 0.0070 - mae: 0.0717\n",
            "Epoch 489/1200\n",
            "1/1 [==============================] - 0s 22ms/step - loss: 0.0069 - mae: 0.0714\n",
            "Epoch 490/1200\n",
            "1/1 [==============================] - 0s 18ms/step - loss: 0.0069 - mae: 0.0712\n",
            "Epoch 491/1200\n",
            "1/1 [==============================] - 0s 18ms/step - loss: 0.0068 - mae: 0.0710\n",
            "Epoch 492/1200\n",
            "1/1 [==============================] - 0s 15ms/step - loss: 0.0068 - mae: 0.0707\n",
            "Epoch 493/1200\n",
            "1/1 [==============================] - 0s 7ms/step - loss: 0.0067 - mae: 0.0705\n",
            "Epoch 494/1200\n",
            "1/1 [==============================] - 0s 16ms/step - loss: 0.0067 - mae: 0.0702\n",
            "Epoch 495/1200\n",
            "1/1 [==============================] - 0s 7ms/step - loss: 0.0067 - mae: 0.0700\n",
            "Epoch 496/1200\n",
            "1/1 [==============================] - 0s 7ms/step - loss: 0.0066 - mae: 0.0698\n",
            "Epoch 497/1200\n",
            "1/1 [==============================] - 0s 37ms/step - loss: 0.0066 - mae: 0.0695\n",
            "Epoch 498/1200\n",
            "1/1 [==============================] - 0s 10ms/step - loss: 0.0065 - mae: 0.0693\n",
            "Epoch 499/1200\n",
            "1/1 [==============================] - 0s 73ms/step - loss: 0.0065 - mae: 0.0691\n",
            "Epoch 500/1200\n",
            "1/1 [==============================] - 0s 14ms/step - loss: 0.0064 - mae: 0.0688\n",
            "Epoch 501/1200\n",
            "1/1 [==============================] - 0s 9ms/step - loss: 0.0064 - mae: 0.0686\n",
            "Epoch 502/1200\n",
            "1/1 [==============================] - 0s 9ms/step - loss: 0.0063 - mae: 0.0684\n",
            "Epoch 503/1200\n",
            "1/1 [==============================] - 0s 9ms/step - loss: 0.0063 - mae: 0.0681\n",
            "Epoch 504/1200\n",
            "1/1 [==============================] - 0s 6ms/step - loss: 0.0063 - mae: 0.0679\n",
            "Epoch 505/1200\n",
            "1/1 [==============================] - 0s 7ms/step - loss: 0.0062 - mae: 0.0677\n",
            "Epoch 506/1200\n",
            "1/1 [==============================] - 0s 23ms/step - loss: 0.0062 - mae: 0.0675\n",
            "Epoch 507/1200\n",
            "1/1 [==============================] - 0s 20ms/step - loss: 0.0061 - mae: 0.0672\n",
            "Epoch 508/1200\n",
            "1/1 [==============================] - 0s 12ms/step - loss: 0.0061 - mae: 0.0670\n",
            "Epoch 509/1200\n",
            "1/1 [==============================] - 0s 21ms/step - loss: 0.0061 - mae: 0.0668\n",
            "Epoch 510/1200\n",
            "1/1 [==============================] - 0s 9ms/step - loss: 0.0060 - mae: 0.0665\n",
            "Epoch 511/1200\n",
            "1/1 [==============================] - 0s 7ms/step - loss: 0.0060 - mae: 0.0663\n",
            "Epoch 512/1200\n",
            "1/1 [==============================] - 0s 9ms/step - loss: 0.0059 - mae: 0.0661\n",
            "Epoch 513/1200\n",
            "1/1 [==============================] - 0s 7ms/step - loss: 0.0059 - mae: 0.0659\n",
            "Epoch 514/1200\n",
            "1/1 [==============================] - 0s 10ms/step - loss: 0.0058 - mae: 0.0656\n",
            "Epoch 515/1200\n",
            "1/1 [==============================] - 0s 9ms/step - loss: 0.0058 - mae: 0.0654\n",
            "Epoch 516/1200\n",
            "1/1 [==============================] - 0s 6ms/step - loss: 0.0058 - mae: 0.0652\n",
            "Epoch 517/1200\n",
            "1/1 [==============================] - 0s 7ms/step - loss: 0.0057 - mae: 0.0650\n",
            "Epoch 518/1200\n",
            "1/1 [==============================] - 0s 27ms/step - loss: 0.0057 - mae: 0.0648\n",
            "Epoch 519/1200\n",
            "1/1 [==============================] - 0s 6ms/step - loss: 0.0057 - mae: 0.0645\n",
            "Epoch 520/1200\n",
            "1/1 [==============================] - 0s 10ms/step - loss: 0.0056 - mae: 0.0643\n",
            "Epoch 521/1200\n",
            "1/1 [==============================] - 0s 7ms/step - loss: 0.0056 - mae: 0.0641\n",
            "Epoch 522/1200\n",
            "1/1 [==============================] - 0s 36ms/step - loss: 0.0055 - mae: 0.0639\n",
            "Epoch 523/1200\n",
            "1/1 [==============================] - 0s 10ms/step - loss: 0.0055 - mae: 0.0637\n",
            "Epoch 524/1200\n",
            "1/1 [==============================] - 0s 37ms/step - loss: 0.0055 - mae: 0.0635\n",
            "Epoch 525/1200\n",
            "1/1 [==============================] - 0s 13ms/step - loss: 0.0054 - mae: 0.0632\n",
            "Epoch 526/1200\n",
            "1/1 [==============================] - 0s 28ms/step - loss: 0.0054 - mae: 0.0630\n",
            "Epoch 527/1200\n",
            "1/1 [==============================] - 0s 56ms/step - loss: 0.0054 - mae: 0.0628\n",
            "Epoch 528/1200\n",
            "1/1 [==============================] - 0s 14ms/step - loss: 0.0053 - mae: 0.0626\n",
            "Epoch 529/1200\n",
            "1/1 [==============================] - 0s 19ms/step - loss: 0.0053 - mae: 0.0624\n",
            "Epoch 530/1200\n",
            "1/1 [==============================] - 0s 28ms/step - loss: 0.0052 - mae: 0.0622\n",
            "Epoch 531/1200\n",
            "1/1 [==============================] - 0s 9ms/step - loss: 0.0052 - mae: 0.0620\n",
            "Epoch 532/1200\n",
            "1/1 [==============================] - 0s 17ms/step - loss: 0.0052 - mae: 0.0618\n",
            "Epoch 533/1200\n",
            "1/1 [==============================] - 0s 11ms/step - loss: 0.0051 - mae: 0.0616\n",
            "Epoch 534/1200\n",
            "1/1 [==============================] - 0s 8ms/step - loss: 0.0051 - mae: 0.0613\n",
            "Epoch 535/1200\n",
            "1/1 [==============================] - 0s 8ms/step - loss: 0.0051 - mae: 0.0611\n",
            "Epoch 536/1200\n",
            "1/1 [==============================] - 0s 11ms/step - loss: 0.0050 - mae: 0.0609\n",
            "Epoch 537/1200\n",
            "1/1 [==============================] - 0s 9ms/step - loss: 0.0050 - mae: 0.0607\n",
            "Epoch 538/1200\n",
            "1/1 [==============================] - 0s 7ms/step - loss: 0.0050 - mae: 0.0605\n",
            "Epoch 539/1200\n",
            "1/1 [==============================] - 0s 10ms/step - loss: 0.0049 - mae: 0.0603\n",
            "Epoch 540/1200\n",
            "1/1 [==============================] - 0s 11ms/step - loss: 0.0049 - mae: 0.0601\n",
            "Epoch 541/1200\n",
            "1/1 [==============================] - 0s 15ms/step - loss: 0.0049 - mae: 0.0599\n",
            "Epoch 542/1200\n",
            "1/1 [==============================] - 0s 14ms/step - loss: 0.0048 - mae: 0.0597\n",
            "Epoch 543/1200\n",
            "1/1 [==============================] - 0s 12ms/step - loss: 0.0048 - mae: 0.0595\n",
            "Epoch 544/1200\n",
            "1/1 [==============================] - 0s 42ms/step - loss: 0.0048 - mae: 0.0593\n",
            "Epoch 545/1200\n",
            "1/1 [==============================] - 0s 40ms/step - loss: 0.0047 - mae: 0.0591\n",
            "Epoch 546/1200\n",
            "1/1 [==============================] - 0s 13ms/step - loss: 0.0047 - mae: 0.0589\n",
            "Epoch 547/1200\n",
            "1/1 [==============================] - 0s 9ms/step - loss: 0.0047 - mae: 0.0587\n",
            "Epoch 548/1200\n",
            "1/1 [==============================] - 0s 11ms/step - loss: 0.0046 - mae: 0.0585\n",
            "Epoch 549/1200\n",
            "1/1 [==============================] - 0s 33ms/step - loss: 0.0046 - mae: 0.0583\n",
            "Epoch 550/1200\n",
            "1/1 [==============================] - 0s 25ms/step - loss: 0.0046 - mae: 0.0581\n",
            "Epoch 551/1200\n",
            "1/1 [==============================] - 0s 18ms/step - loss: 0.0046 - mae: 0.0579\n",
            "Epoch 552/1200\n",
            "1/1 [==============================] - 0s 27ms/step - loss: 0.0045 - mae: 0.0577\n",
            "Epoch 553/1200\n",
            "1/1 [==============================] - 0s 16ms/step - loss: 0.0045 - mae: 0.0575\n",
            "Epoch 554/1200\n",
            "1/1 [==============================] - 0s 11ms/step - loss: 0.0045 - mae: 0.0573\n",
            "Epoch 555/1200\n",
            "1/1 [==============================] - 0s 31ms/step - loss: 0.0044 - mae: 0.0571\n",
            "Epoch 556/1200\n",
            "1/1 [==============================] - 0s 8ms/step - loss: 0.0044 - mae: 0.0569\n",
            "Epoch 557/1200\n",
            "1/1 [==============================] - 0s 8ms/step - loss: 0.0044 - mae: 0.0568\n",
            "Epoch 558/1200\n",
            "1/1 [==============================] - 0s 10ms/step - loss: 0.0043 - mae: 0.0566\n",
            "Epoch 559/1200\n",
            "1/1 [==============================] - 0s 6ms/step - loss: 0.0043 - mae: 0.0564\n",
            "Epoch 560/1200\n",
            "1/1 [==============================] - 0s 8ms/step - loss: 0.0043 - mae: 0.0562\n",
            "Epoch 561/1200\n",
            "1/1 [==============================] - 0s 11ms/step - loss: 0.0043 - mae: 0.0560\n",
            "Epoch 562/1200\n",
            "1/1 [==============================] - 0s 20ms/step - loss: 0.0042 - mae: 0.0558\n",
            "Epoch 563/1200\n",
            "1/1 [==============================] - 0s 11ms/step - loss: 0.0042 - mae: 0.0556\n",
            "Epoch 564/1200\n",
            "1/1 [==============================] - 0s 19ms/step - loss: 0.0042 - mae: 0.0554\n",
            "Epoch 565/1200\n",
            "1/1 [==============================] - 0s 83ms/step - loss: 0.0041 - mae: 0.0552\n",
            "Epoch 566/1200\n",
            "1/1 [==============================] - 0s 10ms/step - loss: 0.0041 - mae: 0.0550\n",
            "Epoch 567/1200\n",
            "1/1 [==============================] - 0s 7ms/step - loss: 0.0041 - mae: 0.0549\n",
            "Epoch 568/1200\n",
            "1/1 [==============================] - 0s 9ms/step - loss: 0.0041 - mae: 0.0547\n",
            "Epoch 569/1200\n",
            "1/1 [==============================] - 0s 7ms/step - loss: 0.0040 - mae: 0.0545\n",
            "Epoch 570/1200\n",
            "1/1 [==============================] - 0s 8ms/step - loss: 0.0040 - mae: 0.0543\n",
            "Epoch 571/1200\n",
            "1/1 [==============================] - 0s 9ms/step - loss: 0.0040 - mae: 0.0541\n",
            "Epoch 572/1200\n",
            "1/1 [==============================] - 0s 5ms/step - loss: 0.0039 - mae: 0.0539\n",
            "Epoch 573/1200\n",
            "1/1 [==============================] - 0s 27ms/step - loss: 0.0039 - mae: 0.0538\n",
            "Epoch 574/1200\n",
            "1/1 [==============================] - 0s 22ms/step - loss: 0.0039 - mae: 0.0536\n",
            "Epoch 575/1200\n",
            "1/1 [==============================] - 0s 7ms/step - loss: 0.0039 - mae: 0.0534\n",
            "Epoch 576/1200\n",
            "1/1 [==============================] - 0s 9ms/step - loss: 0.0038 - mae: 0.0532\n",
            "Epoch 577/1200\n",
            "1/1 [==============================] - 0s 25ms/step - loss: 0.0038 - mae: 0.0530\n",
            "Epoch 578/1200\n",
            "1/1 [==============================] - 0s 5ms/step - loss: 0.0038 - mae: 0.0529\n",
            "Epoch 579/1200\n",
            "1/1 [==============================] - 0s 5ms/step - loss: 0.0038 - mae: 0.0527\n",
            "Epoch 580/1200\n",
            "1/1 [==============================] - 0s 4ms/step - loss: 0.0037 - mae: 0.0525\n",
            "Epoch 581/1200\n",
            "1/1 [==============================] - 0s 5ms/step - loss: 0.0037 - mae: 0.0523\n",
            "Epoch 582/1200\n",
            "1/1 [==============================] - 0s 5ms/step - loss: 0.0037 - mae: 0.0521\n",
            "Epoch 583/1200\n",
            "1/1 [==============================] - 0s 7ms/step - loss: 0.0037 - mae: 0.0520\n",
            "Epoch 584/1200\n",
            "1/1 [==============================] - 0s 17ms/step - loss: 0.0036 - mae: 0.0518\n",
            "Epoch 585/1200\n",
            "1/1 [==============================] - 0s 5ms/step - loss: 0.0036 - mae: 0.0516\n",
            "Epoch 586/1200\n",
            "1/1 [==============================] - 0s 8ms/step - loss: 0.0036 - mae: 0.0514\n",
            "Epoch 587/1200\n",
            "1/1 [==============================] - 0s 5ms/step - loss: 0.0036 - mae: 0.0513\n",
            "Epoch 588/1200\n",
            "1/1 [==============================] - 0s 8ms/step - loss: 0.0035 - mae: 0.0511\n",
            "Epoch 589/1200\n",
            "1/1 [==============================] - 0s 9ms/step - loss: 0.0035 - mae: 0.0509\n",
            "Epoch 590/1200\n",
            "1/1 [==============================] - 0s 5ms/step - loss: 0.0035 - mae: 0.0508\n",
            "Epoch 591/1200\n",
            "1/1 [==============================] - 0s 6ms/step - loss: 0.0035 - mae: 0.0506\n",
            "Epoch 592/1200\n",
            "1/1 [==============================] - 0s 6ms/step - loss: 0.0034 - mae: 0.0504\n",
            "Epoch 593/1200\n",
            "1/1 [==============================] - 0s 6ms/step - loss: 0.0034 - mae: 0.0502\n",
            "Epoch 594/1200\n",
            "1/1 [==============================] - 0s 8ms/step - loss: 0.0034 - mae: 0.0501\n",
            "Epoch 595/1200\n",
            "1/1 [==============================] - 0s 5ms/step - loss: 0.0034 - mae: 0.0499\n",
            "Epoch 596/1200\n",
            "1/1 [==============================] - 0s 6ms/step - loss: 0.0034 - mae: 0.0497\n",
            "Epoch 597/1200\n",
            "1/1 [==============================] - 0s 6ms/step - loss: 0.0033 - mae: 0.0496\n",
            "Epoch 598/1200\n",
            "1/1 [==============================] - 0s 5ms/step - loss: 0.0033 - mae: 0.0494\n",
            "Epoch 599/1200\n",
            "1/1 [==============================] - 0s 5ms/step - loss: 0.0033 - mae: 0.0492\n",
            "Epoch 600/1200\n",
            "1/1 [==============================] - 0s 6ms/step - loss: 0.0033 - mae: 0.0491\n",
            "Epoch 601/1200\n",
            "1/1 [==============================] - 0s 6ms/step - loss: 0.0032 - mae: 0.0489\n",
            "Epoch 602/1200\n",
            "1/1 [==============================] - 0s 6ms/step - loss: 0.0032 - mae: 0.0487\n",
            "Epoch 603/1200\n",
            "1/1 [==============================] - 0s 10ms/step - loss: 0.0032 - mae: 0.0486\n",
            "Epoch 604/1200\n",
            "1/1 [==============================] - 0s 10ms/step - loss: 0.0032 - mae: 0.0484\n",
            "Epoch 605/1200\n",
            "1/1 [==============================] - 0s 8ms/step - loss: 0.0032 - mae: 0.0482\n",
            "Epoch 606/1200\n",
            "1/1 [==============================] - 0s 8ms/step - loss: 0.0031 - mae: 0.0481\n",
            "Epoch 607/1200\n",
            "1/1 [==============================] - 0s 5ms/step - loss: 0.0031 - mae: 0.0479\n",
            "Epoch 608/1200\n",
            "1/1 [==============================] - 0s 6ms/step - loss: 0.0031 - mae: 0.0477\n",
            "Epoch 609/1200\n",
            "1/1 [==============================] - 0s 6ms/step - loss: 0.0031 - mae: 0.0476\n",
            "Epoch 610/1200\n",
            "1/1 [==============================] - 0s 6ms/step - loss: 0.0031 - mae: 0.0474\n",
            "Epoch 611/1200\n",
            "1/1 [==============================] - 0s 6ms/step - loss: 0.0030 - mae: 0.0473\n",
            "Epoch 612/1200\n",
            "1/1 [==============================] - 0s 6ms/step - loss: 0.0030 - mae: 0.0471\n",
            "Epoch 613/1200\n",
            "1/1 [==============================] - 0s 6ms/step - loss: 0.0030 - mae: 0.0469\n",
            "Epoch 614/1200\n",
            "1/1 [==============================] - 0s 13ms/step - loss: 0.0030 - mae: 0.0468\n",
            "Epoch 615/1200\n",
            "1/1 [==============================] - 0s 6ms/step - loss: 0.0030 - mae: 0.0466\n",
            "Epoch 616/1200\n",
            "1/1 [==============================] - 0s 6ms/step - loss: 0.0029 - mae: 0.0465\n",
            "Epoch 617/1200\n",
            "1/1 [==============================] - 0s 5ms/step - loss: 0.0029 - mae: 0.0463\n",
            "Epoch 618/1200\n",
            "1/1 [==============================] - 0s 36ms/step - loss: 0.0029 - mae: 0.0462\n",
            "Epoch 619/1200\n",
            "1/1 [==============================] - 0s 10ms/step - loss: 0.0029 - mae: 0.0460\n",
            "Epoch 620/1200\n",
            "1/1 [==============================] - 0s 20ms/step - loss: 0.0029 - mae: 0.0458\n",
            "Epoch 621/1200\n",
            "1/1 [==============================] - 0s 39ms/step - loss: 0.0028 - mae: 0.0457\n",
            "Epoch 622/1200\n",
            "1/1 [==============================] - 0s 27ms/step - loss: 0.0028 - mae: 0.0455\n",
            "Epoch 623/1200\n",
            "1/1 [==============================] - 0s 32ms/step - loss: 0.0028 - mae: 0.0454\n",
            "Epoch 624/1200\n",
            "1/1 [==============================] - 0s 29ms/step - loss: 0.0028 - mae: 0.0452\n",
            "Epoch 625/1200\n",
            "1/1 [==============================] - 0s 21ms/step - loss: 0.0028 - mae: 0.0451\n",
            "Epoch 626/1200\n",
            "1/1 [==============================] - 0s 20ms/step - loss: 0.0027 - mae: 0.0449\n",
            "Epoch 627/1200\n",
            "1/1 [==============================] - 0s 19ms/step - loss: 0.0027 - mae: 0.0448\n",
            "Epoch 628/1200\n",
            "1/1 [==============================] - 0s 38ms/step - loss: 0.0027 - mae: 0.0446\n",
            "Epoch 629/1200\n",
            "1/1 [==============================] - 0s 56ms/step - loss: 0.0027 - mae: 0.0445\n",
            "Epoch 630/1200\n",
            "1/1 [==============================] - 0s 18ms/step - loss: 0.0027 - mae: 0.0443\n",
            "Epoch 631/1200\n",
            "1/1 [==============================] - 0s 78ms/step - loss: 0.0026 - mae: 0.0442\n",
            "Epoch 632/1200\n",
            "1/1 [==============================] - 0s 27ms/step - loss: 0.0026 - mae: 0.0440\n",
            "Epoch 633/1200\n",
            "1/1 [==============================] - 0s 31ms/step - loss: 0.0026 - mae: 0.0439\n",
            "Epoch 634/1200\n",
            "1/1 [==============================] - 0s 27ms/step - loss: 0.0026 - mae: 0.0437\n",
            "Epoch 635/1200\n",
            "1/1 [==============================] - 0s 18ms/step - loss: 0.0026 - mae: 0.0436\n",
            "Epoch 636/1200\n",
            "1/1 [==============================] - 0s 18ms/step - loss: 0.0026 - mae: 0.0434\n",
            "Epoch 637/1200\n",
            "1/1 [==============================] - 0s 29ms/step - loss: 0.0025 - mae: 0.0433\n",
            "Epoch 638/1200\n",
            "1/1 [==============================] - 0s 28ms/step - loss: 0.0025 - mae: 0.0431\n",
            "Epoch 639/1200\n",
            "1/1 [==============================] - 0s 20ms/step - loss: 0.0025 - mae: 0.0430\n",
            "Epoch 640/1200\n",
            "1/1 [==============================] - 0s 21ms/step - loss: 0.0025 - mae: 0.0428\n",
            "Epoch 641/1200\n",
            "1/1 [==============================] - 0s 10ms/step - loss: 0.0025 - mae: 0.0427\n",
            "Epoch 642/1200\n",
            "1/1 [==============================] - 0s 10ms/step - loss: 0.0025 - mae: 0.0426\n",
            "Epoch 643/1200\n",
            "1/1 [==============================] - 0s 11ms/step - loss: 0.0024 - mae: 0.0424\n",
            "Epoch 644/1200\n",
            "1/1 [==============================] - 0s 11ms/step - loss: 0.0024 - mae: 0.0423\n",
            "Epoch 645/1200\n",
            "1/1 [==============================] - 0s 58ms/step - loss: 0.0024 - mae: 0.0421\n",
            "Epoch 646/1200\n",
            "1/1 [==============================] - 0s 37ms/step - loss: 0.0024 - mae: 0.0420\n",
            "Epoch 647/1200\n",
            "1/1 [==============================] - 0s 34ms/step - loss: 0.0024 - mae: 0.0418\n",
            "Epoch 648/1200\n",
            "1/1 [==============================] - 0s 42ms/step - loss: 0.0024 - mae: 0.0417\n",
            "Epoch 649/1200\n",
            "1/1 [==============================] - 0s 88ms/step - loss: 0.0023 - mae: 0.0416\n",
            "Epoch 650/1200\n",
            "1/1 [==============================] - 0s 47ms/step - loss: 0.0023 - mae: 0.0414\n",
            "Epoch 651/1200\n",
            "1/1 [==============================] - 0s 76ms/step - loss: 0.0023 - mae: 0.0413\n",
            "Epoch 652/1200\n",
            "1/1 [==============================] - 0s 44ms/step - loss: 0.0023 - mae: 0.0411\n",
            "Epoch 653/1200\n",
            "1/1 [==============================] - 0s 21ms/step - loss: 0.0023 - mae: 0.0410\n",
            "Epoch 654/1200\n",
            "1/1 [==============================] - 0s 41ms/step - loss: 0.0023 - mae: 0.0409\n",
            "Epoch 655/1200\n",
            "1/1 [==============================] - 0s 37ms/step - loss: 0.0023 - mae: 0.0407\n",
            "Epoch 656/1200\n",
            "1/1 [==============================] - 0s 16ms/step - loss: 0.0022 - mae: 0.0406\n",
            "Epoch 657/1200\n",
            "1/1 [==============================] - 0s 17ms/step - loss: 0.0022 - mae: 0.0404\n",
            "Epoch 658/1200\n",
            "1/1 [==============================] - 0s 40ms/step - loss: 0.0022 - mae: 0.0403\n",
            "Epoch 659/1200\n",
            "1/1 [==============================] - 0s 12ms/step - loss: 0.0022 - mae: 0.0402\n",
            "Epoch 660/1200\n",
            "1/1 [==============================] - 0s 8ms/step - loss: 0.0022 - mae: 0.0400\n",
            "Epoch 661/1200\n",
            "1/1 [==============================] - 0s 7ms/step - loss: 0.0022 - mae: 0.0399\n",
            "Epoch 662/1200\n",
            "1/1 [==============================] - 0s 6ms/step - loss: 0.0021 - mae: 0.0398\n",
            "Epoch 663/1200\n",
            "1/1 [==============================] - 0s 9ms/step - loss: 0.0021 - mae: 0.0396\n",
            "Epoch 664/1200\n",
            "1/1 [==============================] - 0s 5ms/step - loss: 0.0021 - mae: 0.0395\n",
            "Epoch 665/1200\n",
            "1/1 [==============================] - 0s 12ms/step - loss: 0.0021 - mae: 0.0394\n",
            "Epoch 666/1200\n",
            "1/1 [==============================] - 0s 11ms/step - loss: 0.0021 - mae: 0.0392\n",
            "Epoch 667/1200\n",
            "1/1 [==============================] - 0s 11ms/step - loss: 0.0021 - mae: 0.0391\n",
            "Epoch 668/1200\n",
            "1/1 [==============================] - 0s 9ms/step - loss: 0.0021 - mae: 0.0390\n",
            "Epoch 669/1200\n",
            "1/1 [==============================] - 0s 16ms/step - loss: 0.0020 - mae: 0.0388\n",
            "Epoch 670/1200\n",
            "1/1 [==============================] - 0s 26ms/step - loss: 0.0020 - mae: 0.0387\n",
            "Epoch 671/1200\n",
            "1/1 [==============================] - 0s 31ms/step - loss: 0.0020 - mae: 0.0386\n",
            "Epoch 672/1200\n",
            "1/1 [==============================] - 0s 47ms/step - loss: 0.0020 - mae: 0.0384\n",
            "Epoch 673/1200\n",
            "1/1 [==============================] - 0s 15ms/step - loss: 0.0020 - mae: 0.0383\n",
            "Epoch 674/1200\n",
            "1/1 [==============================] - 0s 9ms/step - loss: 0.0020 - mae: 0.0382\n",
            "Epoch 675/1200\n",
            "1/1 [==============================] - 0s 10ms/step - loss: 0.0020 - mae: 0.0381\n",
            "Epoch 676/1200\n",
            "1/1 [==============================] - 0s 11ms/step - loss: 0.0020 - mae: 0.0379\n",
            "Epoch 677/1200\n",
            "1/1 [==============================] - 0s 10ms/step - loss: 0.0019 - mae: 0.0378\n",
            "Epoch 678/1200\n",
            "1/1 [==============================] - 0s 12ms/step - loss: 0.0019 - mae: 0.0377\n",
            "Epoch 679/1200\n",
            "1/1 [==============================] - 0s 11ms/step - loss: 0.0019 - mae: 0.0375\n",
            "Epoch 680/1200\n",
            "1/1 [==============================] - 0s 8ms/step - loss: 0.0019 - mae: 0.0374\n",
            "Epoch 681/1200\n",
            "1/1 [==============================] - 0s 12ms/step - loss: 0.0019 - mae: 0.0373\n",
            "Epoch 682/1200\n",
            "1/1 [==============================] - 0s 15ms/step - loss: 0.0019 - mae: 0.0372\n",
            "Epoch 683/1200\n",
            "1/1 [==============================] - 0s 15ms/step - loss: 0.0019 - mae: 0.0370\n",
            "Epoch 684/1200\n",
            "1/1 [==============================] - 0s 15ms/step - loss: 0.0018 - mae: 0.0369\n",
            "Epoch 685/1200\n",
            "1/1 [==============================] - 0s 9ms/step - loss: 0.0018 - mae: 0.0368\n",
            "Epoch 686/1200\n",
            "1/1 [==============================] - 0s 23ms/step - loss: 0.0018 - mae: 0.0367\n",
            "Epoch 687/1200\n",
            "1/1 [==============================] - 0s 33ms/step - loss: 0.0018 - mae: 0.0365\n",
            "Epoch 688/1200\n",
            "1/1 [==============================] - 0s 19ms/step - loss: 0.0018 - mae: 0.0364\n",
            "Epoch 689/1200\n",
            "1/1 [==============================] - 0s 23ms/step - loss: 0.0018 - mae: 0.0363\n",
            "Epoch 690/1200\n",
            "1/1 [==============================] - 0s 26ms/step - loss: 0.0018 - mae: 0.0362\n",
            "Epoch 691/1200\n",
            "1/1 [==============================] - 0s 20ms/step - loss: 0.0018 - mae: 0.0360\n",
            "Epoch 692/1200\n",
            "1/1 [==============================] - 0s 22ms/step - loss: 0.0018 - mae: 0.0359\n",
            "Epoch 693/1200\n",
            "1/1 [==============================] - 0s 13ms/step - loss: 0.0017 - mae: 0.0358\n",
            "Epoch 694/1200\n",
            "1/1 [==============================] - 0s 19ms/step - loss: 0.0017 - mae: 0.0357\n",
            "Epoch 695/1200\n",
            "1/1 [==============================] - 0s 18ms/step - loss: 0.0017 - mae: 0.0356\n",
            "Epoch 696/1200\n",
            "1/1 [==============================] - 0s 26ms/step - loss: 0.0017 - mae: 0.0354\n",
            "Epoch 697/1200\n",
            "1/1 [==============================] - 0s 8ms/step - loss: 0.0017 - mae: 0.0353\n",
            "Epoch 698/1200\n",
            "1/1 [==============================] - 0s 8ms/step - loss: 0.0017 - mae: 0.0352\n",
            "Epoch 699/1200\n",
            "1/1 [==============================] - 0s 11ms/step - loss: 0.0017 - mae: 0.0351\n",
            "Epoch 700/1200\n",
            "1/1 [==============================] - 0s 10ms/step - loss: 0.0017 - mae: 0.0350\n",
            "Epoch 701/1200\n",
            "1/1 [==============================] - 0s 7ms/step - loss: 0.0016 - mae: 0.0348\n",
            "Epoch 702/1200\n",
            "1/1 [==============================] - 0s 8ms/step - loss: 0.0016 - mae: 0.0347\n",
            "Epoch 703/1200\n",
            "1/1 [==============================] - 0s 13ms/step - loss: 0.0016 - mae: 0.0346\n",
            "Epoch 704/1200\n",
            "1/1 [==============================] - 0s 15ms/step - loss: 0.0016 - mae: 0.0345\n",
            "Epoch 705/1200\n",
            "1/1 [==============================] - 0s 18ms/step - loss: 0.0016 - mae: 0.0344\n",
            "Epoch 706/1200\n",
            "1/1 [==============================] - 0s 6ms/step - loss: 0.0016 - mae: 0.0343\n",
            "Epoch 707/1200\n",
            "1/1 [==============================] - 0s 14ms/step - loss: 0.0016 - mae: 0.0341\n",
            "Epoch 708/1200\n",
            "1/1 [==============================] - 0s 15ms/step - loss: 0.0016 - mae: 0.0340\n",
            "Epoch 709/1200\n",
            "1/1 [==============================] - 0s 15ms/step - loss: 0.0016 - mae: 0.0339\n",
            "Epoch 710/1200\n",
            "1/1 [==============================] - 0s 13ms/step - loss: 0.0016 - mae: 0.0338\n",
            "Epoch 711/1200\n",
            "1/1 [==============================] - 0s 50ms/step - loss: 0.0015 - mae: 0.0337\n",
            "Epoch 712/1200\n",
            "1/1 [==============================] - 0s 26ms/step - loss: 0.0015 - mae: 0.0336\n",
            "Epoch 713/1200\n",
            "1/1 [==============================] - 0s 23ms/step - loss: 0.0015 - mae: 0.0335\n",
            "Epoch 714/1200\n",
            "1/1 [==============================] - 0s 23ms/step - loss: 0.0015 - mae: 0.0333\n",
            "Epoch 715/1200\n",
            "1/1 [==============================] - 0s 14ms/step - loss: 0.0015 - mae: 0.0332\n",
            "Epoch 716/1200\n",
            "1/1 [==============================] - 0s 46ms/step - loss: 0.0015 - mae: 0.0331\n",
            "Epoch 717/1200\n",
            "1/1 [==============================] - 0s 30ms/step - loss: 0.0015 - mae: 0.0330\n",
            "Epoch 718/1200\n",
            "1/1 [==============================] - 0s 10ms/step - loss: 0.0015 - mae: 0.0329\n",
            "Epoch 719/1200\n",
            "1/1 [==============================] - 0s 8ms/step - loss: 0.0015 - mae: 0.0328\n",
            "Epoch 720/1200\n",
            "1/1 [==============================] - 0s 20ms/step - loss: 0.0014 - mae: 0.0327\n",
            "Epoch 721/1200\n",
            "1/1 [==============================] - 0s 10ms/step - loss: 0.0014 - mae: 0.0326\n",
            "Epoch 722/1200\n",
            "1/1 [==============================] - 0s 6ms/step - loss: 0.0014 - mae: 0.0325\n",
            "Epoch 723/1200\n",
            "1/1 [==============================] - 0s 9ms/step - loss: 0.0014 - mae: 0.0323\n",
            "Epoch 724/1200\n",
            "1/1 [==============================] - 0s 12ms/step - loss: 0.0014 - mae: 0.0322\n",
            "Epoch 725/1200\n",
            "1/1 [==============================] - 0s 14ms/step - loss: 0.0014 - mae: 0.0321\n",
            "Epoch 726/1200\n",
            "1/1 [==============================] - 0s 14ms/step - loss: 0.0014 - mae: 0.0320\n",
            "Epoch 727/1200\n",
            "1/1 [==============================] - 0s 11ms/step - loss: 0.0014 - mae: 0.0319\n",
            "Epoch 728/1200\n",
            "1/1 [==============================] - 0s 15ms/step - loss: 0.0014 - mae: 0.0318\n",
            "Epoch 729/1200\n",
            "1/1 [==============================] - 0s 22ms/step - loss: 0.0014 - mae: 0.0317\n",
            "Epoch 730/1200\n",
            "1/1 [==============================] - 0s 22ms/step - loss: 0.0014 - mae: 0.0316\n",
            "Epoch 731/1200\n",
            "1/1 [==============================] - 0s 20ms/step - loss: 0.0013 - mae: 0.0315\n",
            "Epoch 732/1200\n",
            "1/1 [==============================] - 0s 30ms/step - loss: 0.0013 - mae: 0.0314\n",
            "Epoch 733/1200\n",
            "1/1 [==============================] - 0s 17ms/step - loss: 0.0013 - mae: 0.0313\n",
            "Epoch 734/1200\n",
            "1/1 [==============================] - 0s 18ms/step - loss: 0.0013 - mae: 0.0312\n",
            "Epoch 735/1200\n",
            "1/1 [==============================] - 0s 9ms/step - loss: 0.0013 - mae: 0.0311\n",
            "Epoch 736/1200\n",
            "1/1 [==============================] - 0s 6ms/step - loss: 0.0013 - mae: 0.0310\n",
            "Epoch 737/1200\n",
            "1/1 [==============================] - 0s 7ms/step - loss: 0.0013 - mae: 0.0308\n",
            "Epoch 738/1200\n",
            "1/1 [==============================] - 0s 8ms/step - loss: 0.0013 - mae: 0.0307\n",
            "Epoch 739/1200\n",
            "1/1 [==============================] - 0s 7ms/step - loss: 0.0013 - mae: 0.0306\n",
            "Epoch 740/1200\n",
            "1/1 [==============================] - 0s 14ms/step - loss: 0.0013 - mae: 0.0305\n",
            "Epoch 741/1200\n",
            "1/1 [==============================] - 0s 9ms/step - loss: 0.0013 - mae: 0.0304\n",
            "Epoch 742/1200\n",
            "1/1 [==============================] - 0s 14ms/step - loss: 0.0012 - mae: 0.0303\n",
            "Epoch 743/1200\n",
            "1/1 [==============================] - 0s 14ms/step - loss: 0.0012 - mae: 0.0302\n",
            "Epoch 744/1200\n",
            "1/1 [==============================] - 0s 15ms/step - loss: 0.0012 - mae: 0.0301\n",
            "Epoch 745/1200\n",
            "1/1 [==============================] - 0s 12ms/step - loss: 0.0012 - mae: 0.0300\n",
            "Epoch 746/1200\n",
            "1/1 [==============================] - 0s 9ms/step - loss: 0.0012 - mae: 0.0299\n",
            "Epoch 747/1200\n",
            "1/1 [==============================] - 0s 11ms/step - loss: 0.0012 - mae: 0.0298\n",
            "Epoch 748/1200\n",
            "1/1 [==============================] - 0s 9ms/step - loss: 0.0012 - mae: 0.0297\n",
            "Epoch 749/1200\n",
            "1/1 [==============================] - 0s 14ms/step - loss: 0.0012 - mae: 0.0296\n",
            "Epoch 750/1200\n",
            "1/1 [==============================] - 0s 9ms/step - loss: 0.0012 - mae: 0.0295\n",
            "Epoch 751/1200\n",
            "1/1 [==============================] - 0s 13ms/step - loss: 0.0012 - mae: 0.0294\n",
            "Epoch 752/1200\n",
            "1/1 [==============================] - 0s 22ms/step - loss: 0.0012 - mae: 0.0293\n",
            "Epoch 753/1200\n",
            "1/1 [==============================] - 0s 9ms/step - loss: 0.0012 - mae: 0.0292\n",
            "Epoch 754/1200\n",
            "1/1 [==============================] - 0s 10ms/step - loss: 0.0012 - mae: 0.0291\n",
            "Epoch 755/1200\n",
            "1/1 [==============================] - 0s 26ms/step - loss: 0.0011 - mae: 0.0290\n",
            "Epoch 756/1200\n",
            "1/1 [==============================] - 0s 24ms/step - loss: 0.0011 - mae: 0.0289\n",
            "Epoch 757/1200\n",
            "1/1 [==============================] - 0s 35ms/step - loss: 0.0011 - mae: 0.0288\n",
            "Epoch 758/1200\n",
            "1/1 [==============================] - 0s 15ms/step - loss: 0.0011 - mae: 0.0287\n",
            "Epoch 759/1200\n",
            "1/1 [==============================] - 0s 13ms/step - loss: 0.0011 - mae: 0.0286\n",
            "Epoch 760/1200\n",
            "1/1 [==============================] - 0s 73ms/step - loss: 0.0011 - mae: 0.0285\n",
            "Epoch 761/1200\n",
            "1/1 [==============================] - 0s 28ms/step - loss: 0.0011 - mae: 0.0284\n",
            "Epoch 762/1200\n",
            "1/1 [==============================] - 0s 8ms/step - loss: 0.0011 - mae: 0.0283\n",
            "Epoch 763/1200\n",
            "1/1 [==============================] - 0s 13ms/step - loss: 0.0011 - mae: 0.0282\n",
            "Epoch 764/1200\n",
            "1/1 [==============================] - 0s 10ms/step - loss: 0.0011 - mae: 0.0282\n",
            "Epoch 765/1200\n",
            "1/1 [==============================] - 0s 11ms/step - loss: 0.0011 - mae: 0.0281\n",
            "Epoch 766/1200\n",
            "1/1 [==============================] - 0s 24ms/step - loss: 0.0011 - mae: 0.0280\n",
            "Epoch 767/1200\n",
            "1/1 [==============================] - 0s 27ms/step - loss: 0.0011 - mae: 0.0279\n",
            "Epoch 768/1200\n",
            "1/1 [==============================] - 0s 33ms/step - loss: 0.0010 - mae: 0.0278\n",
            "Epoch 769/1200\n",
            "1/1 [==============================] - 0s 19ms/step - loss: 0.0010 - mae: 0.0277\n",
            "Epoch 770/1200\n",
            "1/1 [==============================] - 0s 18ms/step - loss: 0.0010 - mae: 0.0276\n",
            "Epoch 771/1200\n",
            "1/1 [==============================] - 0s 15ms/step - loss: 0.0010 - mae: 0.0275\n",
            "Epoch 772/1200\n",
            "1/1 [==============================] - 0s 18ms/step - loss: 0.0010 - mae: 0.0274\n",
            "Epoch 773/1200\n",
            "1/1 [==============================] - 0s 16ms/step - loss: 0.0010 - mae: 0.0273\n",
            "Epoch 774/1200\n",
            "1/1 [==============================] - 0s 52ms/step - loss: 0.0010 - mae: 0.0272\n",
            "Epoch 775/1200\n",
            "1/1 [==============================] - 0s 28ms/step - loss: 9.9859e-04 - mae: 0.0271\n",
            "Epoch 776/1200\n",
            "1/1 [==============================] - 0s 13ms/step - loss: 9.9187e-04 - mae: 0.0270\n",
            "Epoch 777/1200\n",
            "1/1 [==============================] - 0s 12ms/step - loss: 9.8518e-04 - mae: 0.0269\n",
            "Epoch 778/1200\n",
            "1/1 [==============================] - 0s 52ms/step - loss: 9.7851e-04 - mae: 0.0268\n",
            "Epoch 779/1200\n",
            "1/1 [==============================] - 0s 11ms/step - loss: 9.7191e-04 - mae: 0.0268\n",
            "Epoch 780/1200\n",
            "1/1 [==============================] - 0s 8ms/step - loss: 9.6535e-04 - mae: 0.0267\n",
            "Epoch 781/1200\n",
            "1/1 [==============================] - 0s 9ms/step - loss: 9.5882e-04 - mae: 0.0266\n",
            "Epoch 782/1200\n",
            "1/1 [==============================] - 0s 9ms/step - loss: 9.5236e-04 - mae: 0.0265\n",
            "Epoch 783/1200\n",
            "1/1 [==============================] - 0s 6ms/step - loss: 9.4595e-04 - mae: 0.0264\n",
            "Epoch 784/1200\n",
            "1/1 [==============================] - 0s 6ms/step - loss: 9.3956e-04 - mae: 0.0263\n",
            "Epoch 785/1200\n",
            "1/1 [==============================] - 0s 8ms/step - loss: 9.3319e-04 - mae: 0.0262\n",
            "Epoch 786/1200\n",
            "1/1 [==============================] - 0s 8ms/step - loss: 9.2690e-04 - mae: 0.0261\n",
            "Epoch 787/1200\n",
            "1/1 [==============================] - 0s 5ms/step - loss: 9.2065e-04 - mae: 0.0260\n",
            "Epoch 788/1200\n",
            "1/1 [==============================] - 0s 5ms/step - loss: 9.1442e-04 - mae: 0.0260\n",
            "Epoch 789/1200\n",
            "1/1 [==============================] - 0s 5ms/step - loss: 9.0826e-04 - mae: 0.0259\n",
            "Epoch 790/1200\n",
            "1/1 [==============================] - 0s 5ms/step - loss: 9.0212e-04 - mae: 0.0258\n",
            "Epoch 791/1200\n",
            "1/1 [==============================] - 0s 10ms/step - loss: 8.9605e-04 - mae: 0.0257\n",
            "Epoch 792/1200\n",
            "1/1 [==============================] - 0s 6ms/step - loss: 8.8997e-04 - mae: 0.0256\n",
            "Epoch 793/1200\n",
            "1/1 [==============================] - 0s 11ms/step - loss: 8.8397e-04 - mae: 0.0255\n",
            "Epoch 794/1200\n",
            "1/1 [==============================] - 0s 7ms/step - loss: 8.7802e-04 - mae: 0.0254\n",
            "Epoch 795/1200\n",
            "1/1 [==============================] - 0s 11ms/step - loss: 8.7208e-04 - mae: 0.0253\n",
            "Epoch 796/1200\n",
            "1/1 [==============================] - 0s 5ms/step - loss: 8.6620e-04 - mae: 0.0253\n",
            "Epoch 797/1200\n",
            "1/1 [==============================] - 0s 5ms/step - loss: 8.6035e-04 - mae: 0.0252\n",
            "Epoch 798/1200\n",
            "1/1 [==============================] - 0s 5ms/step - loss: 8.5454e-04 - mae: 0.0251\n",
            "Epoch 799/1200\n",
            "1/1 [==============================] - 0s 7ms/step - loss: 8.4877e-04 - mae: 0.0250\n",
            "Epoch 800/1200\n",
            "1/1 [==============================] - 0s 6ms/step - loss: 8.4304e-04 - mae: 0.0249\n",
            "Epoch 801/1200\n",
            "1/1 [==============================] - 0s 5ms/step - loss: 8.3736e-04 - mae: 0.0248\n",
            "Epoch 802/1200\n",
            "1/1 [==============================] - 0s 8ms/step - loss: 8.3171e-04 - mae: 0.0248\n",
            "Epoch 803/1200\n",
            "1/1 [==============================] - 0s 8ms/step - loss: 8.2608e-04 - mae: 0.0247\n",
            "Epoch 804/1200\n",
            "1/1 [==============================] - 0s 84ms/step - loss: 8.2052e-04 - mae: 0.0246\n",
            "Epoch 805/1200\n",
            "1/1 [==============================] - 0s 15ms/step - loss: 8.1498e-04 - mae: 0.0245\n",
            "Epoch 806/1200\n",
            "1/1 [==============================] - 0s 27ms/step - loss: 8.0947e-04 - mae: 0.0244\n",
            "Epoch 807/1200\n",
            "1/1 [==============================] - 0s 11ms/step - loss: 8.0400e-04 - mae: 0.0243\n",
            "Epoch 808/1200\n",
            "1/1 [==============================] - 0s 10ms/step - loss: 7.9858e-04 - mae: 0.0243\n",
            "Epoch 809/1200\n",
            "1/1 [==============================] - 0s 25ms/step - loss: 7.9319e-04 - mae: 0.0242\n",
            "Epoch 810/1200\n",
            "1/1 [==============================] - 0s 10ms/step - loss: 7.8783e-04 - mae: 0.0241\n",
            "Epoch 811/1200\n",
            "1/1 [==============================] - 0s 9ms/step - loss: 7.8252e-04 - mae: 0.0240\n",
            "Epoch 812/1200\n",
            "1/1 [==============================] - 0s 5ms/step - loss: 7.7722e-04 - mae: 0.0239\n",
            "Epoch 813/1200\n",
            "1/1 [==============================] - 0s 5ms/step - loss: 7.7199e-04 - mae: 0.0238\n",
            "Epoch 814/1200\n",
            "1/1 [==============================] - 0s 7ms/step - loss: 7.6677e-04 - mae: 0.0238\n",
            "Epoch 815/1200\n",
            "1/1 [==============================] - 0s 6ms/step - loss: 7.6160e-04 - mae: 0.0237\n",
            "Epoch 816/1200\n",
            "1/1 [==============================] - 0s 4ms/step - loss: 7.5646e-04 - mae: 0.0236\n",
            "Epoch 817/1200\n",
            "1/1 [==============================] - 0s 8ms/step - loss: 7.5135e-04 - mae: 0.0235\n",
            "Epoch 818/1200\n",
            "1/1 [==============================] - 0s 59ms/step - loss: 7.4627e-04 - mae: 0.0234\n",
            "Epoch 819/1200\n",
            "1/1 [==============================] - 0s 10ms/step - loss: 7.4125e-04 - mae: 0.0234\n",
            "Epoch 820/1200\n",
            "1/1 [==============================] - 0s 18ms/step - loss: 7.3624e-04 - mae: 0.0233\n",
            "Epoch 821/1200\n",
            "1/1 [==============================] - 0s 17ms/step - loss: 7.3125e-04 - mae: 0.0232\n",
            "Epoch 822/1200\n",
            "1/1 [==============================] - 0s 11ms/step - loss: 7.2633e-04 - mae: 0.0231\n",
            "Epoch 823/1200\n",
            "1/1 [==============================] - 0s 18ms/step - loss: 7.2142e-04 - mae: 0.0231\n",
            "Epoch 824/1200\n",
            "1/1 [==============================] - 0s 14ms/step - loss: 7.1654e-04 - mae: 0.0230\n",
            "Epoch 825/1200\n",
            "1/1 [==============================] - 0s 7ms/step - loss: 7.1173e-04 - mae: 0.0229\n",
            "Epoch 826/1200\n",
            "1/1 [==============================] - 0s 7ms/step - loss: 7.0690e-04 - mae: 0.0228\n",
            "Epoch 827/1200\n",
            "1/1 [==============================] - 0s 22ms/step - loss: 7.0214e-04 - mae: 0.0227\n",
            "Epoch 828/1200\n",
            "1/1 [==============================] - 0s 10ms/step - loss: 6.9741e-04 - mae: 0.0227\n",
            "Epoch 829/1200\n",
            "1/1 [==============================] - 0s 8ms/step - loss: 6.9269e-04 - mae: 0.0226\n",
            "Epoch 830/1200\n",
            "1/1 [==============================] - 0s 7ms/step - loss: 6.8800e-04 - mae: 0.0225\n",
            "Epoch 831/1200\n",
            "1/1 [==============================] - 0s 23ms/step - loss: 6.8337e-04 - mae: 0.0224\n",
            "Epoch 832/1200\n",
            "1/1 [==============================] - 0s 12ms/step - loss: 6.7876e-04 - mae: 0.0224\n",
            "Epoch 833/1200\n",
            "1/1 [==============================] - 0s 80ms/step - loss: 6.7417e-04 - mae: 0.0223\n",
            "Epoch 834/1200\n",
            "1/1 [==============================] - 0s 23ms/step - loss: 6.6961e-04 - mae: 0.0222\n",
            "Epoch 835/1200\n",
            "1/1 [==============================] - 0s 33ms/step - loss: 6.6510e-04 - mae: 0.0221\n",
            "Epoch 836/1200\n",
            "1/1 [==============================] - 0s 28ms/step - loss: 6.6063e-04 - mae: 0.0221\n",
            "Epoch 837/1200\n",
            "1/1 [==============================] - 0s 11ms/step - loss: 6.5615e-04 - mae: 0.0220\n",
            "Epoch 838/1200\n",
            "1/1 [==============================] - 0s 23ms/step - loss: 6.5172e-04 - mae: 0.0219\n",
            "Epoch 839/1200\n",
            "1/1 [==============================] - 0s 8ms/step - loss: 6.4732e-04 - mae: 0.0218\n",
            "Epoch 840/1200\n",
            "1/1 [==============================] - 0s 22ms/step - loss: 6.4297e-04 - mae: 0.0218\n",
            "Epoch 841/1200\n",
            "1/1 [==============================] - 0s 14ms/step - loss: 6.3862e-04 - mae: 0.0217\n",
            "Epoch 842/1200\n",
            "1/1 [==============================] - 0s 13ms/step - loss: 6.3430e-04 - mae: 0.0216\n",
            "Epoch 843/1200\n",
            "1/1 [==============================] - 0s 8ms/step - loss: 6.3002e-04 - mae: 0.0215\n",
            "Epoch 844/1200\n",
            "1/1 [==============================] - 0s 11ms/step - loss: 6.2578e-04 - mae: 0.0215\n",
            "Epoch 845/1200\n",
            "1/1 [==============================] - 0s 10ms/step - loss: 6.2155e-04 - mae: 0.0214\n",
            "Epoch 846/1200\n",
            "1/1 [==============================] - 0s 61ms/step - loss: 6.1734e-04 - mae: 0.0213\n",
            "Epoch 847/1200\n",
            "1/1 [==============================] - 0s 20ms/step - loss: 6.1318e-04 - mae: 0.0213\n",
            "Epoch 848/1200\n",
            "1/1 [==============================] - 0s 26ms/step - loss: 6.0904e-04 - mae: 0.0212\n",
            "Epoch 849/1200\n",
            "1/1 [==============================] - 0s 17ms/step - loss: 6.0494e-04 - mae: 0.0211\n",
            "Epoch 850/1200\n",
            "1/1 [==============================] - 0s 38ms/step - loss: 6.0085e-04 - mae: 0.0210\n",
            "Epoch 851/1200\n",
            "1/1 [==============================] - 0s 10ms/step - loss: 5.9678e-04 - mae: 0.0210\n",
            "Epoch 852/1200\n",
            "1/1 [==============================] - 0s 10ms/step - loss: 5.9275e-04 - mae: 0.0209\n",
            "Epoch 853/1200\n",
            "1/1 [==============================] - 0s 11ms/step - loss: 5.8875e-04 - mae: 0.0208\n",
            "Epoch 854/1200\n",
            "1/1 [==============================] - 0s 9ms/step - loss: 5.8478e-04 - mae: 0.0208\n",
            "Epoch 855/1200\n",
            "1/1 [==============================] - 0s 9ms/step - loss: 5.8083e-04 - mae: 0.0207\n",
            "Epoch 856/1200\n",
            "1/1 [==============================] - 0s 10ms/step - loss: 5.7690e-04 - mae: 0.0206\n",
            "Epoch 857/1200\n",
            "1/1 [==============================] - 0s 14ms/step - loss: 5.7302e-04 - mae: 0.0205\n",
            "Epoch 858/1200\n",
            "1/1 [==============================] - 0s 9ms/step - loss: 5.6915e-04 - mae: 0.0205\n",
            "Epoch 859/1200\n",
            "1/1 [==============================] - 0s 12ms/step - loss: 5.6532e-04 - mae: 0.0204\n",
            "Epoch 860/1200\n",
            "1/1 [==============================] - 0s 8ms/step - loss: 5.6148e-04 - mae: 0.0203\n",
            "Epoch 861/1200\n",
            "1/1 [==============================] - 0s 11ms/step - loss: 5.5771e-04 - mae: 0.0203\n",
            "Epoch 862/1200\n",
            "1/1 [==============================] - 0s 7ms/step - loss: 5.5393e-04 - mae: 0.0202\n",
            "Epoch 863/1200\n",
            "1/1 [==============================] - 0s 13ms/step - loss: 5.5019e-04 - mae: 0.0201\n",
            "Epoch 864/1200\n",
            "1/1 [==============================] - 0s 11ms/step - loss: 5.4648e-04 - mae: 0.0201\n",
            "Epoch 865/1200\n",
            "1/1 [==============================] - 0s 25ms/step - loss: 5.4278e-04 - mae: 0.0200\n",
            "Epoch 866/1200\n",
            "1/1 [==============================] - 0s 20ms/step - loss: 5.3913e-04 - mae: 0.0199\n",
            "Epoch 867/1200\n",
            "1/1 [==============================] - 0s 24ms/step - loss: 5.3550e-04 - mae: 0.0199\n",
            "Epoch 868/1200\n",
            "1/1 [==============================] - 0s 43ms/step - loss: 5.3187e-04 - mae: 0.0198\n",
            "Epoch 869/1200\n",
            "1/1 [==============================] - 0s 24ms/step - loss: 5.2829e-04 - mae: 0.0197\n",
            "Epoch 870/1200\n",
            "1/1 [==============================] - 0s 42ms/step - loss: 5.2472e-04 - mae: 0.0197\n",
            "Epoch 871/1200\n",
            "1/1 [==============================] - 0s 17ms/step - loss: 5.2118e-04 - mae: 0.0196\n",
            "Epoch 872/1200\n",
            "1/1 [==============================] - 0s 23ms/step - loss: 5.1767e-04 - mae: 0.0195\n",
            "Epoch 873/1200\n",
            "1/1 [==============================] - 0s 18ms/step - loss: 5.1416e-04 - mae: 0.0195\n",
            "Epoch 874/1200\n",
            "1/1 [==============================] - 0s 12ms/step - loss: 5.1069e-04 - mae: 0.0194\n",
            "Epoch 875/1200\n",
            "1/1 [==============================] - 0s 15ms/step - loss: 5.0724e-04 - mae: 0.0193\n",
            "Epoch 876/1200\n",
            "1/1 [==============================] - 0s 12ms/step - loss: 5.0382e-04 - mae: 0.0193\n",
            "Epoch 877/1200\n",
            "1/1 [==============================] - 0s 5ms/step - loss: 5.0043e-04 - mae: 0.0192\n",
            "Epoch 878/1200\n",
            "1/1 [==============================] - 0s 6ms/step - loss: 4.9704e-04 - mae: 0.0191\n",
            "Epoch 879/1200\n",
            "1/1 [==============================] - 0s 5ms/step - loss: 4.9369e-04 - mae: 0.0191\n",
            "Epoch 880/1200\n",
            "1/1 [==============================] - 0s 5ms/step - loss: 4.9036e-04 - mae: 0.0190\n",
            "Epoch 881/1200\n",
            "1/1 [==============================] - 0s 6ms/step - loss: 4.8704e-04 - mae: 0.0189\n",
            "Epoch 882/1200\n",
            "1/1 [==============================] - 0s 5ms/step - loss: 4.8376e-04 - mae: 0.0189\n",
            "Epoch 883/1200\n",
            "1/1 [==============================] - 0s 5ms/step - loss: 4.8048e-04 - mae: 0.0188\n",
            "Epoch 884/1200\n",
            "1/1 [==============================] - 0s 9ms/step - loss: 4.7726e-04 - mae: 0.0188\n",
            "Epoch 885/1200\n",
            "1/1 [==============================] - 0s 5ms/step - loss: 4.7404e-04 - mae: 0.0187\n",
            "Epoch 886/1200\n",
            "1/1 [==============================] - 0s 5ms/step - loss: 4.7083e-04 - mae: 0.0186\n",
            "Epoch 887/1200\n",
            "1/1 [==============================] - 0s 5ms/step - loss: 4.6765e-04 - mae: 0.0186\n",
            "Epoch 888/1200\n",
            "1/1 [==============================] - 0s 44ms/step - loss: 4.6450e-04 - mae: 0.0185\n",
            "Epoch 889/1200\n",
            "1/1 [==============================] - 0s 12ms/step - loss: 4.6135e-04 - mae: 0.0184\n",
            "Epoch 890/1200\n",
            "1/1 [==============================] - 0s 15ms/step - loss: 4.5825e-04 - mae: 0.0184\n",
            "Epoch 891/1200\n",
            "1/1 [==============================] - 0s 5ms/step - loss: 4.5516e-04 - mae: 0.0183\n",
            "Epoch 892/1200\n",
            "1/1 [==============================] - 0s 18ms/step - loss: 4.5208e-04 - mae: 0.0182\n",
            "Epoch 893/1200\n",
            "1/1 [==============================] - 0s 18ms/step - loss: 4.4902e-04 - mae: 0.0182\n",
            "Epoch 894/1200\n",
            "1/1 [==============================] - 0s 13ms/step - loss: 4.4600e-04 - mae: 0.0181\n",
            "Epoch 895/1200\n",
            "1/1 [==============================] - 0s 4ms/step - loss: 4.4298e-04 - mae: 0.0181\n",
            "Epoch 896/1200\n",
            "1/1 [==============================] - 0s 13ms/step - loss: 4.4000e-04 - mae: 0.0180\n",
            "Epoch 897/1200\n",
            "1/1 [==============================] - 0s 11ms/step - loss: 4.3704e-04 - mae: 0.0179\n",
            "Epoch 898/1200\n",
            "1/1 [==============================] - 0s 14ms/step - loss: 4.3408e-04 - mae: 0.0179\n",
            "Epoch 899/1200\n",
            "1/1 [==============================] - 0s 16ms/step - loss: 4.3114e-04 - mae: 0.0178\n",
            "Epoch 900/1200\n",
            "1/1 [==============================] - 0s 15ms/step - loss: 4.2823e-04 - mae: 0.0178\n",
            "Epoch 901/1200\n",
            "1/1 [==============================] - 0s 16ms/step - loss: 4.2535e-04 - mae: 0.0177\n",
            "Epoch 902/1200\n",
            "1/1 [==============================] - 0s 15ms/step - loss: 4.2246e-04 - mae: 0.0176\n",
            "Epoch 903/1200\n",
            "1/1 [==============================] - 0s 13ms/step - loss: 4.1963e-04 - mae: 0.0176\n",
            "Epoch 904/1200\n",
            "1/1 [==============================] - 0s 15ms/step - loss: 4.1679e-04 - mae: 0.0175\n",
            "Epoch 905/1200\n",
            "1/1 [==============================] - 0s 13ms/step - loss: 4.1398e-04 - mae: 0.0175\n",
            "Epoch 906/1200\n",
            "1/1 [==============================] - 0s 6ms/step - loss: 4.1118e-04 - mae: 0.0174\n",
            "Epoch 907/1200\n",
            "1/1 [==============================] - 0s 9ms/step - loss: 4.0841e-04 - mae: 0.0173\n",
            "Epoch 908/1200\n",
            "1/1 [==============================] - 0s 8ms/step - loss: 4.0565e-04 - mae: 0.0173\n",
            "Epoch 909/1200\n",
            "1/1 [==============================] - 0s 10ms/step - loss: 4.0291e-04 - mae: 0.0172\n",
            "Epoch 910/1200\n",
            "1/1 [==============================] - 0s 5ms/step - loss: 4.0018e-04 - mae: 0.0172\n",
            "Epoch 911/1200\n",
            "1/1 [==============================] - 0s 8ms/step - loss: 3.9748e-04 - mae: 0.0171\n",
            "Epoch 912/1200\n",
            "1/1 [==============================] - 0s 29ms/step - loss: 3.9480e-04 - mae: 0.0171\n",
            "Epoch 913/1200\n",
            "1/1 [==============================] - 0s 25ms/step - loss: 3.9213e-04 - mae: 0.0170\n",
            "Epoch 914/1200\n",
            "1/1 [==============================] - 0s 83ms/step - loss: 3.8950e-04 - mae: 0.0169\n",
            "Epoch 915/1200\n",
            "1/1 [==============================] - 0s 22ms/step - loss: 3.8687e-04 - mae: 0.0169\n",
            "Epoch 916/1200\n",
            "1/1 [==============================] - 0s 48ms/step - loss: 3.8426e-04 - mae: 0.0168\n",
            "Epoch 917/1200\n",
            "1/1 [==============================] - 0s 52ms/step - loss: 3.8166e-04 - mae: 0.0168\n",
            "Epoch 918/1200\n",
            "1/1 [==============================] - 0s 8ms/step - loss: 3.7908e-04 - mae: 0.0167\n",
            "Epoch 919/1200\n",
            "1/1 [==============================] - 0s 34ms/step - loss: 3.7653e-04 - mae: 0.0167\n",
            "Epoch 920/1200\n",
            "1/1 [==============================] - 0s 10ms/step - loss: 3.7399e-04 - mae: 0.0166\n",
            "Epoch 921/1200\n",
            "1/1 [==============================] - 0s 8ms/step - loss: 3.7145e-04 - mae: 0.0165\n",
            "Epoch 922/1200\n",
            "1/1 [==============================] - 0s 16ms/step - loss: 3.6895e-04 - mae: 0.0165\n",
            "Epoch 923/1200\n",
            "1/1 [==============================] - 0s 10ms/step - loss: 3.6645e-04 - mae: 0.0164\n",
            "Epoch 924/1200\n",
            "1/1 [==============================] - 0s 15ms/step - loss: 3.6399e-04 - mae: 0.0164\n",
            "Epoch 925/1200\n",
            "1/1 [==============================] - 0s 7ms/step - loss: 3.6153e-04 - mae: 0.0163\n",
            "Epoch 926/1200\n",
            "1/1 [==============================] - 0s 31ms/step - loss: 3.5909e-04 - mae: 0.0163\n",
            "Epoch 927/1200\n",
            "1/1 [==============================] - 0s 11ms/step - loss: 3.5666e-04 - mae: 0.0162\n",
            "Epoch 928/1200\n",
            "1/1 [==============================] - 0s 20ms/step - loss: 3.5425e-04 - mae: 0.0162\n",
            "Epoch 929/1200\n",
            "1/1 [==============================] - 0s 8ms/step - loss: 3.5187e-04 - mae: 0.0161\n",
            "Epoch 930/1200\n",
            "1/1 [==============================] - 0s 11ms/step - loss: 3.4948e-04 - mae: 0.0160\n",
            "Epoch 931/1200\n",
            "1/1 [==============================] - 0s 19ms/step - loss: 3.4713e-04 - mae: 0.0160\n",
            "Epoch 932/1200\n",
            "1/1 [==============================] - 0s 25ms/step - loss: 3.4479e-04 - mae: 0.0159\n",
            "Epoch 933/1200\n",
            "1/1 [==============================] - 0s 9ms/step - loss: 3.4247e-04 - mae: 0.0159\n",
            "Epoch 934/1200\n",
            "1/1 [==============================] - 0s 10ms/step - loss: 3.4014e-04 - mae: 0.0158\n",
            "Epoch 935/1200\n",
            "1/1 [==============================] - 0s 15ms/step - loss: 3.3786e-04 - mae: 0.0158\n",
            "Epoch 936/1200\n",
            "1/1 [==============================] - 0s 25ms/step - loss: 3.3558e-04 - mae: 0.0157\n",
            "Epoch 937/1200\n",
            "1/1 [==============================] - 0s 10ms/step - loss: 3.3330e-04 - mae: 0.0157\n",
            "Epoch 938/1200\n",
            "1/1 [==============================] - 0s 47ms/step - loss: 3.3104e-04 - mae: 0.0156\n",
            "Epoch 939/1200\n",
            "1/1 [==============================] - 0s 63ms/step - loss: 3.2882e-04 - mae: 0.0156\n",
            "Epoch 940/1200\n",
            "1/1 [==============================] - 0s 16ms/step - loss: 3.2660e-04 - mae: 0.0155\n",
            "Epoch 941/1200\n",
            "1/1 [==============================] - 0s 14ms/step - loss: 3.2440e-04 - mae: 0.0155\n",
            "Epoch 942/1200\n",
            "1/1 [==============================] - 0s 33ms/step - loss: 3.2221e-04 - mae: 0.0154\n",
            "Epoch 943/1200\n",
            "1/1 [==============================] - 0s 14ms/step - loss: 3.2003e-04 - mae: 0.0154\n",
            "Epoch 944/1200\n",
            "1/1 [==============================] - 0s 12ms/step - loss: 3.1787e-04 - mae: 0.0153\n",
            "Epoch 945/1200\n",
            "1/1 [==============================] - 0s 15ms/step - loss: 3.1572e-04 - mae: 0.0153\n",
            "Epoch 946/1200\n",
            "1/1 [==============================] - 0s 11ms/step - loss: 3.1359e-04 - mae: 0.0152\n",
            "Epoch 947/1200\n",
            "1/1 [==============================] - 0s 11ms/step - loss: 3.1148e-04 - mae: 0.0151\n",
            "Epoch 948/1200\n",
            "1/1 [==============================] - 0s 12ms/step - loss: 3.0937e-04 - mae: 0.0151\n",
            "Epoch 949/1200\n",
            "1/1 [==============================] - 0s 9ms/step - loss: 3.0729e-04 - mae: 0.0150\n",
            "Epoch 950/1200\n",
            "1/1 [==============================] - 0s 10ms/step - loss: 3.0521e-04 - mae: 0.0150\n",
            "Epoch 951/1200\n",
            "1/1 [==============================] - 0s 9ms/step - loss: 3.0315e-04 - mae: 0.0149\n",
            "Epoch 952/1200\n",
            "1/1 [==============================] - 0s 9ms/step - loss: 3.0110e-04 - mae: 0.0149\n",
            "Epoch 953/1200\n",
            "1/1 [==============================] - 0s 15ms/step - loss: 2.9907e-04 - mae: 0.0148\n",
            "Epoch 954/1200\n",
            "1/1 [==============================] - 0s 11ms/step - loss: 2.9706e-04 - mae: 0.0148\n",
            "Epoch 955/1200\n",
            "1/1 [==============================] - 0s 10ms/step - loss: 2.9505e-04 - mae: 0.0147\n",
            "Epoch 956/1200\n",
            "1/1 [==============================] - 0s 8ms/step - loss: 2.9306e-04 - mae: 0.0147\n",
            "Epoch 957/1200\n",
            "1/1 [==============================] - 0s 7ms/step - loss: 2.9108e-04 - mae: 0.0146\n",
            "Epoch 958/1200\n",
            "1/1 [==============================] - 0s 9ms/step - loss: 2.8912e-04 - mae: 0.0146\n",
            "Epoch 959/1200\n",
            "1/1 [==============================] - 0s 11ms/step - loss: 2.8716e-04 - mae: 0.0145\n",
            "Epoch 960/1200\n",
            "1/1 [==============================] - 0s 29ms/step - loss: 2.8523e-04 - mae: 0.0145\n",
            "Epoch 961/1200\n",
            "1/1 [==============================] - 0s 44ms/step - loss: 2.8330e-04 - mae: 0.0144\n",
            "Epoch 962/1200\n",
            "1/1 [==============================] - 0s 13ms/step - loss: 2.8140e-04 - mae: 0.0144\n",
            "Epoch 963/1200\n",
            "1/1 [==============================] - 0s 44ms/step - loss: 2.7949e-04 - mae: 0.0143\n",
            "Epoch 964/1200\n",
            "1/1 [==============================] - 0s 17ms/step - loss: 2.7760e-04 - mae: 0.0143\n",
            "Epoch 965/1200\n",
            "1/1 [==============================] - 0s 8ms/step - loss: 2.7573e-04 - mae: 0.0143\n",
            "Epoch 966/1200\n",
            "1/1 [==============================] - 0s 10ms/step - loss: 2.7386e-04 - mae: 0.0142\n",
            "Epoch 967/1200\n",
            "1/1 [==============================] - 0s 9ms/step - loss: 2.7202e-04 - mae: 0.0142\n",
            "Epoch 968/1200\n",
            "1/1 [==============================] - 0s 10ms/step - loss: 2.7018e-04 - mae: 0.0141\n",
            "Epoch 969/1200\n",
            "1/1 [==============================] - 0s 9ms/step - loss: 2.6835e-04 - mae: 0.0141\n",
            "Epoch 970/1200\n",
            "1/1 [==============================] - 0s 12ms/step - loss: 2.6655e-04 - mae: 0.0140\n",
            "Epoch 971/1200\n",
            "1/1 [==============================] - 0s 7ms/step - loss: 2.6475e-04 - mae: 0.0140\n",
            "Epoch 972/1200\n",
            "1/1 [==============================] - 0s 13ms/step - loss: 2.6296e-04 - mae: 0.0139\n",
            "Epoch 973/1200\n",
            "1/1 [==============================] - 0s 13ms/step - loss: 2.6118e-04 - mae: 0.0139\n",
            "Epoch 974/1200\n",
            "1/1 [==============================] - 0s 16ms/step - loss: 2.5942e-04 - mae: 0.0138\n",
            "Epoch 975/1200\n",
            "1/1 [==============================] - 0s 12ms/step - loss: 2.5767e-04 - mae: 0.0138\n",
            "Epoch 976/1200\n",
            "1/1 [==============================] - 0s 14ms/step - loss: 2.5593e-04 - mae: 0.0137\n",
            "Epoch 977/1200\n",
            "1/1 [==============================] - 0s 8ms/step - loss: 2.5421e-04 - mae: 0.0137\n",
            "Epoch 978/1200\n",
            "1/1 [==============================] - 0s 15ms/step - loss: 2.5249e-04 - mae: 0.0136\n",
            "Epoch 979/1200\n",
            "1/1 [==============================] - 0s 9ms/step - loss: 2.5079e-04 - mae: 0.0136\n",
            "Epoch 980/1200\n",
            "1/1 [==============================] - 0s 35ms/step - loss: 2.4909e-04 - mae: 0.0135\n",
            "Epoch 981/1200\n",
            "1/1 [==============================] - 0s 10ms/step - loss: 2.4740e-04 - mae: 0.0135\n",
            "Epoch 982/1200\n",
            "1/1 [==============================] - 0s 52ms/step - loss: 2.4574e-04 - mae: 0.0135\n",
            "Epoch 983/1200\n",
            "1/1 [==============================] - 0s 60ms/step - loss: 2.4408e-04 - mae: 0.0134\n",
            "Epoch 984/1200\n",
            "1/1 [==============================] - 0s 20ms/step - loss: 2.4243e-04 - mae: 0.0134\n",
            "Epoch 985/1200\n",
            "1/1 [==============================] - 0s 24ms/step - loss: 2.4080e-04 - mae: 0.0133\n",
            "Epoch 986/1200\n",
            "1/1 [==============================] - 0s 14ms/step - loss: 2.3918e-04 - mae: 0.0133\n",
            "Epoch 987/1200\n",
            "1/1 [==============================] - 0s 15ms/step - loss: 2.3755e-04 - mae: 0.0132\n",
            "Epoch 988/1200\n",
            "1/1 [==============================] - 0s 11ms/step - loss: 2.3596e-04 - mae: 0.0132\n",
            "Epoch 989/1200\n",
            "1/1 [==============================] - 0s 36ms/step - loss: 2.3436e-04 - mae: 0.0131\n",
            "Epoch 990/1200\n",
            "1/1 [==============================] - 0s 30ms/step - loss: 2.3278e-04 - mae: 0.0131\n",
            "Epoch 991/1200\n",
            "1/1 [==============================] - 0s 17ms/step - loss: 2.3120e-04 - mae: 0.0131\n",
            "Epoch 992/1200\n",
            "1/1 [==============================] - 0s 9ms/step - loss: 2.2964e-04 - mae: 0.0130\n",
            "Epoch 993/1200\n",
            "1/1 [==============================] - 0s 29ms/step - loss: 2.2810e-04 - mae: 0.0130\n",
            "Epoch 994/1200\n",
            "1/1 [==============================] - 0s 25ms/step - loss: 2.2656e-04 - mae: 0.0129\n",
            "Epoch 995/1200\n",
            "1/1 [==============================] - 0s 24ms/step - loss: 2.2503e-04 - mae: 0.0129\n",
            "Epoch 996/1200\n",
            "1/1 [==============================] - 0s 16ms/step - loss: 2.2351e-04 - mae: 0.0128\n",
            "Epoch 997/1200\n",
            "1/1 [==============================] - 0s 18ms/step - loss: 2.2200e-04 - mae: 0.0128\n",
            "Epoch 998/1200\n",
            "1/1 [==============================] - 0s 11ms/step - loss: 2.2050e-04 - mae: 0.0127\n",
            "Epoch 999/1200\n",
            "1/1 [==============================] - 0s 8ms/step - loss: 2.1901e-04 - mae: 0.0127\n",
            "Epoch 1000/1200\n",
            "1/1 [==============================] - 0s 8ms/step - loss: 2.1753e-04 - mae: 0.0127\n",
            "Epoch 1001/1200\n",
            "1/1 [==============================] - 0s 6ms/step - loss: 2.1605e-04 - mae: 0.0126\n",
            "Epoch 1002/1200\n",
            "1/1 [==============================] - 0s 11ms/step - loss: 2.1461e-04 - mae: 0.0126\n",
            "Epoch 1003/1200\n",
            "1/1 [==============================] - 0s 9ms/step - loss: 2.1315e-04 - mae: 0.0125\n",
            "Epoch 1004/1200\n",
            "1/1 [==============================] - 0s 7ms/step - loss: 2.1172e-04 - mae: 0.0125\n",
            "Epoch 1005/1200\n",
            "1/1 [==============================] - 0s 10ms/step - loss: 2.1029e-04 - mae: 0.0124\n",
            "Epoch 1006/1200\n",
            "1/1 [==============================] - 0s 11ms/step - loss: 2.0887e-04 - mae: 0.0124\n",
            "Epoch 1007/1200\n",
            "1/1 [==============================] - 0s 11ms/step - loss: 2.0746e-04 - mae: 0.0124\n",
            "Epoch 1008/1200\n",
            "1/1 [==============================] - 0s 23ms/step - loss: 2.0606e-04 - mae: 0.0123\n",
            "Epoch 1009/1200\n",
            "1/1 [==============================] - 0s 13ms/step - loss: 2.0467e-04 - mae: 0.0123\n",
            "Epoch 1010/1200\n",
            "1/1 [==============================] - 0s 41ms/step - loss: 2.0329e-04 - mae: 0.0122\n",
            "Epoch 1011/1200\n",
            "1/1 [==============================] - 0s 14ms/step - loss: 2.0191e-04 - mae: 0.0122\n",
            "Epoch 1012/1200\n",
            "1/1 [==============================] - 0s 23ms/step - loss: 2.0055e-04 - mae: 0.0122\n",
            "Epoch 1013/1200\n",
            "1/1 [==============================] - 0s 22ms/step - loss: 1.9919e-04 - mae: 0.0121\n",
            "Epoch 1014/1200\n",
            "1/1 [==============================] - 0s 21ms/step - loss: 1.9786e-04 - mae: 0.0121\n",
            "Epoch 1015/1200\n",
            "1/1 [==============================] - 0s 6ms/step - loss: 1.9651e-04 - mae: 0.0120\n",
            "Epoch 1016/1200\n",
            "1/1 [==============================] - 0s 5ms/step - loss: 1.9519e-04 - mae: 0.0120\n",
            "Epoch 1017/1200\n",
            "1/1 [==============================] - 0s 6ms/step - loss: 1.9387e-04 - mae: 0.0120\n",
            "Epoch 1018/1200\n",
            "1/1 [==============================] - 0s 6ms/step - loss: 1.9256e-04 - mae: 0.0119\n",
            "Epoch 1019/1200\n",
            "1/1 [==============================] - 0s 7ms/step - loss: 1.9126e-04 - mae: 0.0119\n",
            "Epoch 1020/1200\n",
            "1/1 [==============================] - 0s 12ms/step - loss: 1.8997e-04 - mae: 0.0118\n",
            "Epoch 1021/1200\n",
            "1/1 [==============================] - 0s 11ms/step - loss: 1.8869e-04 - mae: 0.0118\n",
            "Epoch 1022/1200\n",
            "1/1 [==============================] - 0s 15ms/step - loss: 1.8742e-04 - mae: 0.0118\n",
            "Epoch 1023/1200\n",
            "1/1 [==============================] - 0s 52ms/step - loss: 1.8614e-04 - mae: 0.0117\n",
            "Epoch 1024/1200\n",
            "1/1 [==============================] - 0s 7ms/step - loss: 1.8489e-04 - mae: 0.0117\n",
            "Epoch 1025/1200\n",
            "1/1 [==============================] - 0s 12ms/step - loss: 1.8365e-04 - mae: 0.0116\n",
            "Epoch 1026/1200\n",
            "1/1 [==============================] - 0s 7ms/step - loss: 1.8240e-04 - mae: 0.0116\n",
            "Epoch 1027/1200\n",
            "1/1 [==============================] - 0s 7ms/step - loss: 1.8117e-04 - mae: 0.0116\n",
            "Epoch 1028/1200\n",
            "1/1 [==============================] - 0s 7ms/step - loss: 1.7996e-04 - mae: 0.0115\n",
            "Epoch 1029/1200\n",
            "1/1 [==============================] - 0s 10ms/step - loss: 1.7873e-04 - mae: 0.0115\n",
            "Epoch 1030/1200\n",
            "1/1 [==============================] - 0s 8ms/step - loss: 1.7752e-04 - mae: 0.0114\n",
            "Epoch 1031/1200\n",
            "1/1 [==============================] - 0s 25ms/step - loss: 1.7633e-04 - mae: 0.0114\n",
            "Epoch 1032/1200\n",
            "1/1 [==============================] - 0s 15ms/step - loss: 1.7514e-04 - mae: 0.0114\n",
            "Epoch 1033/1200\n",
            "1/1 [==============================] - 0s 10ms/step - loss: 1.7396e-04 - mae: 0.0113\n",
            "Epoch 1034/1200\n",
            "1/1 [==============================] - 0s 10ms/step - loss: 1.7278e-04 - mae: 0.0113\n",
            "Epoch 1035/1200\n",
            "1/1 [==============================] - 0s 13ms/step - loss: 1.7161e-04 - mae: 0.0112\n",
            "Epoch 1036/1200\n",
            "1/1 [==============================] - 0s 46ms/step - loss: 1.7046e-04 - mae: 0.0112\n",
            "Epoch 1037/1200\n",
            "1/1 [==============================] - 0s 33ms/step - loss: 1.6931e-04 - mae: 0.0112\n",
            "Epoch 1038/1200\n",
            "1/1 [==============================] - 0s 28ms/step - loss: 1.6816e-04 - mae: 0.0111\n",
            "Epoch 1039/1200\n",
            "1/1 [==============================] - 0s 33ms/step - loss: 1.6702e-04 - mae: 0.0111\n",
            "Epoch 1040/1200\n",
            "1/1 [==============================] - 0s 16ms/step - loss: 1.6590e-04 - mae: 0.0111\n",
            "Epoch 1041/1200\n",
            "1/1 [==============================] - 0s 37ms/step - loss: 1.6478e-04 - mae: 0.0110\n",
            "Epoch 1042/1200\n",
            "1/1 [==============================] - 0s 20ms/step - loss: 1.6366e-04 - mae: 0.0110\n",
            "Epoch 1043/1200\n",
            "1/1 [==============================] - 0s 14ms/step - loss: 1.6256e-04 - mae: 0.0109\n",
            "Epoch 1044/1200\n",
            "1/1 [==============================] - 0s 11ms/step - loss: 1.6147e-04 - mae: 0.0109\n",
            "Epoch 1045/1200\n",
            "1/1 [==============================] - 0s 9ms/step - loss: 1.6037e-04 - mae: 0.0109\n",
            "Epoch 1046/1200\n",
            "1/1 [==============================] - 0s 6ms/step - loss: 1.5929e-04 - mae: 0.0108\n",
            "Epoch 1047/1200\n",
            "1/1 [==============================] - 0s 4ms/step - loss: 1.5822e-04 - mae: 0.0108\n",
            "Epoch 1048/1200\n",
            "1/1 [==============================] - 0s 5ms/step - loss: 1.5715e-04 - mae: 0.0108\n",
            "Epoch 1049/1200\n",
            "1/1 [==============================] - 0s 24ms/step - loss: 1.5609e-04 - mae: 0.0107\n",
            "Epoch 1050/1200\n",
            "1/1 [==============================] - 0s 14ms/step - loss: 1.5504e-04 - mae: 0.0107\n",
            "Epoch 1051/1200\n",
            "1/1 [==============================] - 0s 18ms/step - loss: 1.5399e-04 - mae: 0.0107\n",
            "Epoch 1052/1200\n",
            "1/1 [==============================] - 0s 15ms/step - loss: 1.5295e-04 - mae: 0.0106\n",
            "Epoch 1053/1200\n",
            "1/1 [==============================] - 0s 30ms/step - loss: 1.5192e-04 - mae: 0.0106\n",
            "Epoch 1054/1200\n",
            "1/1 [==============================] - 0s 23ms/step - loss: 1.5089e-04 - mae: 0.0105\n",
            "Epoch 1055/1200\n",
            "1/1 [==============================] - 0s 19ms/step - loss: 1.4987e-04 - mae: 0.0105\n",
            "Epoch 1056/1200\n",
            "1/1 [==============================] - 0s 45ms/step - loss: 1.4886e-04 - mae: 0.0105\n",
            "Epoch 1057/1200\n",
            "1/1 [==============================] - 0s 19ms/step - loss: 1.4786e-04 - mae: 0.0104\n",
            "Epoch 1058/1200\n",
            "1/1 [==============================] - 0s 10ms/step - loss: 1.4687e-04 - mae: 0.0104\n",
            "Epoch 1059/1200\n",
            "1/1 [==============================] - 0s 19ms/step - loss: 1.4587e-04 - mae: 0.0104\n",
            "Epoch 1060/1200\n",
            "1/1 [==============================] - 0s 12ms/step - loss: 1.4488e-04 - mae: 0.0103\n",
            "Epoch 1061/1200\n",
            "1/1 [==============================] - 0s 8ms/step - loss: 1.4390e-04 - mae: 0.0103\n",
            "Epoch 1062/1200\n",
            "1/1 [==============================] - 0s 6ms/step - loss: 1.4294e-04 - mae: 0.0103\n",
            "Epoch 1063/1200\n",
            "1/1 [==============================] - 0s 8ms/step - loss: 1.4197e-04 - mae: 0.0102\n",
            "Epoch 1064/1200\n",
            "1/1 [==============================] - 0s 7ms/step - loss: 1.4101e-04 - mae: 0.0102\n",
            "Epoch 1065/1200\n",
            "1/1 [==============================] - 0s 24ms/step - loss: 1.4005e-04 - mae: 0.0102\n",
            "Epoch 1066/1200\n",
            "1/1 [==============================] - 0s 14ms/step - loss: 1.3912e-04 - mae: 0.0101\n",
            "Epoch 1067/1200\n",
            "1/1 [==============================] - 0s 12ms/step - loss: 1.3817e-04 - mae: 0.0101\n",
            "Epoch 1068/1200\n",
            "1/1 [==============================] - 0s 10ms/step - loss: 1.3725e-04 - mae: 0.0101\n",
            "Epoch 1069/1200\n",
            "1/1 [==============================] - 0s 10ms/step - loss: 1.3632e-04 - mae: 0.0100\n",
            "Epoch 1070/1200\n",
            "1/1 [==============================] - 0s 8ms/step - loss: 1.3540e-04 - mae: 0.0100\n",
            "Epoch 1071/1200\n",
            "1/1 [==============================] - 0s 26ms/step - loss: 1.3448e-04 - mae: 0.0100\n",
            "Epoch 1072/1200\n",
            "1/1 [==============================] - 0s 12ms/step - loss: 1.3358e-04 - mae: 0.0099\n",
            "Epoch 1073/1200\n",
            "1/1 [==============================] - 0s 16ms/step - loss: 1.3267e-04 - mae: 0.0099\n",
            "Epoch 1074/1200\n",
            "1/1 [==============================] - 0s 15ms/step - loss: 1.3178e-04 - mae: 0.0099\n",
            "Epoch 1075/1200\n",
            "1/1 [==============================] - 0s 20ms/step - loss: 1.3088e-04 - mae: 0.0098\n",
            "Epoch 1076/1200\n",
            "1/1 [==============================] - 0s 14ms/step - loss: 1.3000e-04 - mae: 0.0098\n",
            "Epoch 1077/1200\n",
            "1/1 [==============================] - 0s 15ms/step - loss: 1.2913e-04 - mae: 0.0098\n",
            "Epoch 1078/1200\n",
            "1/1 [==============================] - 0s 9ms/step - loss: 1.2825e-04 - mae: 0.0097\n",
            "Epoch 1079/1200\n",
            "1/1 [==============================] - 0s 7ms/step - loss: 1.2739e-04 - mae: 0.0097\n",
            "Epoch 1080/1200\n",
            "1/1 [==============================] - 0s 5ms/step - loss: 1.2653e-04 - mae: 0.0097\n",
            "Epoch 1081/1200\n",
            "1/1 [==============================] - 0s 5ms/step - loss: 1.2568e-04 - mae: 0.0096\n",
            "Epoch 1082/1200\n",
            "1/1 [==============================] - 0s 5ms/step - loss: 1.2483e-04 - mae: 0.0096\n",
            "Epoch 1083/1200\n",
            "1/1 [==============================] - 0s 6ms/step - loss: 1.2399e-04 - mae: 0.0096\n",
            "Epoch 1084/1200\n",
            "1/1 [==============================] - 0s 6ms/step - loss: 1.2314e-04 - mae: 0.0095\n",
            "Epoch 1085/1200\n",
            "1/1 [==============================] - 0s 6ms/step - loss: 1.2232e-04 - mae: 0.0095\n",
            "Epoch 1086/1200\n",
            "1/1 [==============================] - 0s 6ms/step - loss: 1.2149e-04 - mae: 0.0095\n",
            "Epoch 1087/1200\n",
            "1/1 [==============================] - 0s 6ms/step - loss: 1.2066e-04 - mae: 0.0094\n",
            "Epoch 1088/1200\n",
            "1/1 [==============================] - 0s 6ms/step - loss: 1.1985e-04 - mae: 0.0094\n",
            "Epoch 1089/1200\n",
            "1/1 [==============================] - 0s 6ms/step - loss: 1.1904e-04 - mae: 0.0094\n",
            "Epoch 1090/1200\n",
            "1/1 [==============================] - 0s 6ms/step - loss: 1.1824e-04 - mae: 0.0093\n",
            "Epoch 1091/1200\n",
            "1/1 [==============================] - 0s 6ms/step - loss: 1.1745e-04 - mae: 0.0093\n",
            "Epoch 1092/1200\n",
            "1/1 [==============================] - 0s 6ms/step - loss: 1.1665e-04 - mae: 0.0093\n",
            "Epoch 1093/1200\n",
            "1/1 [==============================] - 0s 6ms/step - loss: 1.1587e-04 - mae: 0.0092\n",
            "Epoch 1094/1200\n",
            "1/1 [==============================] - 0s 6ms/step - loss: 1.1508e-04 - mae: 0.0092\n",
            "Epoch 1095/1200\n",
            "1/1 [==============================] - 0s 6ms/step - loss: 1.1430e-04 - mae: 0.0092\n",
            "Epoch 1096/1200\n",
            "1/1 [==============================] - 0s 7ms/step - loss: 1.1353e-04 - mae: 0.0091\n",
            "Epoch 1097/1200\n",
            "1/1 [==============================] - 0s 6ms/step - loss: 1.1276e-04 - mae: 0.0091\n",
            "Epoch 1098/1200\n",
            "1/1 [==============================] - 0s 6ms/step - loss: 1.1200e-04 - mae: 0.0091\n",
            "Epoch 1099/1200\n",
            "1/1 [==============================] - 0s 13ms/step - loss: 1.1124e-04 - mae: 0.0091\n",
            "Epoch 1100/1200\n",
            "1/1 [==============================] - 0s 6ms/step - loss: 1.1050e-04 - mae: 0.0090\n",
            "Epoch 1101/1200\n",
            "1/1 [==============================] - 0s 24ms/step - loss: 1.0975e-04 - mae: 0.0090\n",
            "Epoch 1102/1200\n",
            "1/1 [==============================] - 0s 19ms/step - loss: 1.0901e-04 - mae: 0.0090\n",
            "Epoch 1103/1200\n",
            "1/1 [==============================] - 0s 14ms/step - loss: 1.0828e-04 - mae: 0.0089\n",
            "Epoch 1104/1200\n",
            "1/1 [==============================] - 0s 23ms/step - loss: 1.0755e-04 - mae: 0.0089\n",
            "Epoch 1105/1200\n",
            "1/1 [==============================] - 0s 20ms/step - loss: 1.0682e-04 - mae: 0.0089\n",
            "Epoch 1106/1200\n",
            "1/1 [==============================] - 0s 16ms/step - loss: 1.0610e-04 - mae: 0.0088\n",
            "Epoch 1107/1200\n",
            "1/1 [==============================] - 0s 8ms/step - loss: 1.0538e-04 - mae: 0.0088\n",
            "Epoch 1108/1200\n",
            "1/1 [==============================] - 0s 10ms/step - loss: 1.0467e-04 - mae: 0.0088\n",
            "Epoch 1109/1200\n",
            "1/1 [==============================] - 0s 21ms/step - loss: 1.0396e-04 - mae: 0.0088\n",
            "Epoch 1110/1200\n",
            "1/1 [==============================] - 0s 15ms/step - loss: 1.0326e-04 - mae: 0.0087\n",
            "Epoch 1111/1200\n",
            "1/1 [==============================] - 0s 13ms/step - loss: 1.0256e-04 - mae: 0.0087\n",
            "Epoch 1112/1200\n",
            "1/1 [==============================] - 0s 23ms/step - loss: 1.0187e-04 - mae: 0.0087\n",
            "Epoch 1113/1200\n",
            "1/1 [==============================] - 0s 9ms/step - loss: 1.0118e-04 - mae: 0.0086\n",
            "Epoch 1114/1200\n",
            "1/1 [==============================] - 0s 16ms/step - loss: 1.0050e-04 - mae: 0.0086\n",
            "Epoch 1115/1200\n",
            "1/1 [==============================] - 0s 58ms/step - loss: 9.9825e-05 - mae: 0.0086\n",
            "Epoch 1116/1200\n",
            "1/1 [==============================] - 0s 58ms/step - loss: 9.9150e-05 - mae: 0.0085\n",
            "Epoch 1117/1200\n",
            "1/1 [==============================] - 0s 33ms/step - loss: 9.8480e-05 - mae: 0.0085\n",
            "Epoch 1118/1200\n",
            "1/1 [==============================] - 0s 25ms/step - loss: 9.7814e-05 - mae: 0.0085\n",
            "Epoch 1119/1200\n",
            "1/1 [==============================] - 0s 17ms/step - loss: 9.7151e-05 - mae: 0.0085\n",
            "Epoch 1120/1200\n",
            "1/1 [==============================] - 0s 15ms/step - loss: 9.6493e-05 - mae: 0.0084\n",
            "Epoch 1121/1200\n",
            "1/1 [==============================] - 0s 12ms/step - loss: 9.5846e-05 - mae: 0.0084\n",
            "Epoch 1122/1200\n",
            "1/1 [==============================] - 0s 14ms/step - loss: 9.5194e-05 - mae: 0.0084\n",
            "Epoch 1123/1200\n",
            "1/1 [==============================] - 0s 7ms/step - loss: 9.4557e-05 - mae: 0.0083\n",
            "Epoch 1124/1200\n",
            "1/1 [==============================] - 0s 29ms/step - loss: 9.3919e-05 - mae: 0.0083\n",
            "Epoch 1125/1200\n",
            "1/1 [==============================] - 0s 17ms/step - loss: 9.3279e-05 - mae: 0.0083\n",
            "Epoch 1126/1200\n",
            "1/1 [==============================] - 0s 27ms/step - loss: 9.2654e-05 - mae: 0.0083\n",
            "Epoch 1127/1200\n",
            "1/1 [==============================] - 0s 23ms/step - loss: 9.2027e-05 - mae: 0.0082\n",
            "Epoch 1128/1200\n",
            "1/1 [==============================] - 0s 25ms/step - loss: 9.1404e-05 - mae: 0.0082\n",
            "Epoch 1129/1200\n",
            "1/1 [==============================] - 0s 24ms/step - loss: 9.0788e-05 - mae: 0.0082\n",
            "Epoch 1130/1200\n",
            "1/1 [==============================] - 0s 22ms/step - loss: 9.0173e-05 - mae: 0.0082\n",
            "Epoch 1131/1200\n",
            "1/1 [==============================] - 0s 7ms/step - loss: 8.9572e-05 - mae: 0.0081\n",
            "Epoch 1132/1200\n",
            "1/1 [==============================] - 0s 13ms/step - loss: 8.8967e-05 - mae: 0.0081\n",
            "Epoch 1133/1200\n",
            "1/1 [==============================] - 0s 8ms/step - loss: 8.8362e-05 - mae: 0.0081\n",
            "Epoch 1134/1200\n",
            "1/1 [==============================] - 0s 6ms/step - loss: 8.7771e-05 - mae: 0.0080\n",
            "Epoch 1135/1200\n",
            "1/1 [==============================] - 0s 6ms/step - loss: 8.7176e-05 - mae: 0.0080\n",
            "Epoch 1136/1200\n",
            "1/1 [==============================] - 0s 6ms/step - loss: 8.6585e-05 - mae: 0.0080\n",
            "Epoch 1137/1200\n",
            "1/1 [==============================] - 0s 9ms/step - loss: 8.6002e-05 - mae: 0.0080\n",
            "Epoch 1138/1200\n",
            "1/1 [==============================] - 0s 7ms/step - loss: 8.5419e-05 - mae: 0.0079\n",
            "Epoch 1139/1200\n",
            "1/1 [==============================] - 0s 5ms/step - loss: 8.4848e-05 - mae: 0.0079\n",
            "Epoch 1140/1200\n",
            "1/1 [==============================] - 0s 5ms/step - loss: 8.4277e-05 - mae: 0.0079\n",
            "Epoch 1141/1200\n",
            "1/1 [==============================] - 0s 5ms/step - loss: 8.3700e-05 - mae: 0.0079\n",
            "Epoch 1142/1200\n",
            "1/1 [==============================] - 0s 5ms/step - loss: 8.3138e-05 - mae: 0.0078\n",
            "Epoch 1143/1200\n",
            "1/1 [==============================] - 0s 5ms/step - loss: 8.2574e-05 - mae: 0.0078\n",
            "Epoch 1144/1200\n",
            "1/1 [==============================] - 0s 6ms/step - loss: 8.2021e-05 - mae: 0.0078\n",
            "Epoch 1145/1200\n",
            "1/1 [==============================] - 0s 5ms/step - loss: 8.1462e-05 - mae: 0.0077\n",
            "Epoch 1146/1200\n",
            "1/1 [==============================] - 0s 5ms/step - loss: 8.0917e-05 - mae: 0.0077\n",
            "Epoch 1147/1200\n",
            "1/1 [==============================] - 0s 5ms/step - loss: 8.0374e-05 - mae: 0.0077\n",
            "Epoch 1148/1200\n",
            "1/1 [==============================] - 0s 6ms/step - loss: 7.9827e-05 - mae: 0.0077\n",
            "Epoch 1149/1200\n",
            "1/1 [==============================] - 0s 6ms/step - loss: 7.9290e-05 - mae: 0.0076\n",
            "Epoch 1150/1200\n",
            "1/1 [==============================] - 0s 5ms/step - loss: 7.8750e-05 - mae: 0.0076\n",
            "Epoch 1151/1200\n",
            "1/1 [==============================] - 0s 5ms/step - loss: 7.8220e-05 - mae: 0.0076\n",
            "Epoch 1152/1200\n",
            "1/1 [==============================] - 0s 5ms/step - loss: 7.7692e-05 - mae: 0.0076\n",
            "Epoch 1153/1200\n",
            "1/1 [==============================] - 0s 17ms/step - loss: 7.7167e-05 - mae: 0.0075\n",
            "Epoch 1154/1200\n",
            "1/1 [==============================] - 0s 19ms/step - loss: 7.6646e-05 - mae: 0.0075\n",
            "Epoch 1155/1200\n",
            "1/1 [==============================] - 0s 17ms/step - loss: 7.6131e-05 - mae: 0.0075\n",
            "Epoch 1156/1200\n",
            "1/1 [==============================] - 0s 5ms/step - loss: 7.5616e-05 - mae: 0.0075\n",
            "Epoch 1157/1200\n",
            "1/1 [==============================] - 0s 19ms/step - loss: 7.5105e-05 - mae: 0.0074\n",
            "Epoch 1158/1200\n",
            "1/1 [==============================] - 0s 43ms/step - loss: 7.4598e-05 - mae: 0.0074\n",
            "Epoch 1159/1200\n",
            "1/1 [==============================] - 0s 14ms/step - loss: 7.4098e-05 - mae: 0.0074\n",
            "Epoch 1160/1200\n",
            "1/1 [==============================] - 0s 22ms/step - loss: 7.3595e-05 - mae: 0.0074\n",
            "Epoch 1161/1200\n",
            "1/1 [==============================] - 0s 26ms/step - loss: 7.3096e-05 - mae: 0.0073\n",
            "Epoch 1162/1200\n",
            "1/1 [==============================] - 0s 17ms/step - loss: 7.2610e-05 - mae: 0.0073\n",
            "Epoch 1163/1200\n",
            "1/1 [==============================] - 0s 10ms/step - loss: 7.2115e-05 - mae: 0.0073\n",
            "Epoch 1164/1200\n",
            "1/1 [==============================] - 0s 7ms/step - loss: 7.1632e-05 - mae: 0.0073\n",
            "Epoch 1165/1200\n",
            "1/1 [==============================] - 0s 20ms/step - loss: 7.1144e-05 - mae: 0.0072\n",
            "Epoch 1166/1200\n",
            "1/1 [==============================] - 0s 19ms/step - loss: 7.0668e-05 - mae: 0.0072\n",
            "Epoch 1167/1200\n",
            "1/1 [==============================] - 0s 9ms/step - loss: 7.0194e-05 - mae: 0.0072\n",
            "Epoch 1168/1200\n",
            "1/1 [==============================] - 0s 7ms/step - loss: 6.9715e-05 - mae: 0.0072\n",
            "Epoch 1169/1200\n",
            "1/1 [==============================] - 0s 7ms/step - loss: 6.9248e-05 - mae: 0.0071\n",
            "Epoch 1170/1200\n",
            "1/1 [==============================] - 0s 10ms/step - loss: 6.8776e-05 - mae: 0.0071\n",
            "Epoch 1171/1200\n",
            "1/1 [==============================] - 0s 6ms/step - loss: 6.8313e-05 - mae: 0.0071\n",
            "Epoch 1172/1200\n",
            "1/1 [==============================] - 0s 15ms/step - loss: 6.7854e-05 - mae: 0.0071\n",
            "Epoch 1173/1200\n",
            "1/1 [==============================] - 0s 9ms/step - loss: 6.7396e-05 - mae: 0.0070\n",
            "Epoch 1174/1200\n",
            "1/1 [==============================] - 0s 11ms/step - loss: 6.6939e-05 - mae: 0.0070\n",
            "Epoch 1175/1200\n",
            "1/1 [==============================] - 0s 12ms/step - loss: 6.6486e-05 - mae: 0.0070\n",
            "Epoch 1176/1200\n",
            "1/1 [==============================] - 0s 11ms/step - loss: 6.6035e-05 - mae: 0.0070\n",
            "Epoch 1177/1200\n",
            "1/1 [==============================] - 0s 12ms/step - loss: 6.5592e-05 - mae: 0.0070\n",
            "Epoch 1178/1200\n",
            "1/1 [==============================] - 0s 11ms/step - loss: 6.5149e-05 - mae: 0.0069\n",
            "Epoch 1179/1200\n",
            "1/1 [==============================] - 0s 5ms/step - loss: 6.4708e-05 - mae: 0.0069\n",
            "Epoch 1180/1200\n",
            "1/1 [==============================] - 0s 51ms/step - loss: 6.4269e-05 - mae: 0.0069\n",
            "Epoch 1181/1200\n",
            "1/1 [==============================] - 0s 98ms/step - loss: 6.3835e-05 - mae: 0.0069\n",
            "Epoch 1182/1200\n",
            "1/1 [==============================] - 0s 58ms/step - loss: 6.3404e-05 - mae: 0.0068\n",
            "Epoch 1183/1200\n",
            "1/1 [==============================] - 0s 29ms/step - loss: 6.2981e-05 - mae: 0.0068\n",
            "Epoch 1184/1200\n",
            "1/1 [==============================] - 0s 64ms/step - loss: 6.2553e-05 - mae: 0.0068\n",
            "Epoch 1185/1200\n",
            "1/1 [==============================] - 0s 10ms/step - loss: 6.2128e-05 - mae: 0.0068\n",
            "Epoch 1186/1200\n",
            "1/1 [==============================] - 0s 14ms/step - loss: 6.1710e-05 - mae: 0.0067\n",
            "Epoch 1187/1200\n",
            "1/1 [==============================] - 0s 16ms/step - loss: 6.1298e-05 - mae: 0.0067\n",
            "Epoch 1188/1200\n",
            "1/1 [==============================] - 0s 9ms/step - loss: 6.0882e-05 - mae: 0.0067\n",
            "Epoch 1189/1200\n",
            "1/1 [==============================] - 0s 22ms/step - loss: 6.0473e-05 - mae: 0.0067\n",
            "Epoch 1190/1200\n",
            "1/1 [==============================] - 0s 24ms/step - loss: 6.0064e-05 - mae: 0.0067\n",
            "Epoch 1191/1200\n",
            "1/1 [==============================] - 0s 19ms/step - loss: 5.9657e-05 - mae: 0.0066\n",
            "Epoch 1192/1200\n",
            "1/1 [==============================] - 0s 19ms/step - loss: 5.9253e-05 - mae: 0.0066\n",
            "Epoch 1193/1200\n",
            "1/1 [==============================] - 0s 22ms/step - loss: 5.8854e-05 - mae: 0.0066\n",
            "Epoch 1194/1200\n",
            "1/1 [==============================] - 0s 10ms/step - loss: 5.8459e-05 - mae: 0.0066\n",
            "Epoch 1195/1200\n",
            "1/1 [==============================] - 0s 20ms/step - loss: 5.8065e-05 - mae: 0.0065\n",
            "Epoch 1196/1200\n",
            "1/1 [==============================] - 0s 18ms/step - loss: 5.7675e-05 - mae: 0.0065\n",
            "Epoch 1197/1200\n",
            "1/1 [==============================] - 0s 20ms/step - loss: 5.7280e-05 - mae: 0.0065\n",
            "Epoch 1198/1200\n",
            "1/1 [==============================] - 0s 16ms/step - loss: 5.6897e-05 - mae: 0.0065\n",
            "Epoch 1199/1200\n",
            "1/1 [==============================] - 0s 5ms/step - loss: 5.6512e-05 - mae: 0.0065\n",
            "Epoch 1200/1200\n",
            "1/1 [==============================] - 0s 7ms/step - loss: 5.6128e-05 - mae: 0.0064\n"
          ]
        }
      ]
    },
    {
      "cell_type": "code",
      "source": [
        "import matplotlib.pyplot as plt\n",
        "\n",
        "plt.plot(history.history['loss'],label = 'loss')\n",
        "plt.plot(history.history['mae'],label = 'mae')\n",
        "plt.xlim(-1,20)\n",
        "plt.title('Loss')\n",
        "plt.legend()\n",
        "plt.show()"
      ],
      "metadata": {
        "colab": {
          "base_uri": "https://localhost:8080/",
          "height": 281
        },
        "id": "i3g9Aqxu9aus",
        "outputId": "2bc4bc2b-93bd-4ea2-f352-248ac00faa4b"
      },
      "execution_count": 13,
      "outputs": [
        {
          "output_type": "display_data",
          "data": {
            "text/plain": [
              "<Figure size 432x288 with 1 Axes>"
            ],
            "image/png": "[encoded data removed]"
          },
          "metadata": {
            "needs_background": "light"
          }
        }
      ]
    },
    {
      "cell_type": "markdown",
      "source": [
        "### 9. 검증"
      ],
      "metadata": {
        "id": "YCMmyJza9wDr"
      }
    },
    {
      "cell_type": "code",
      "source": [
        "model.evaluate(x,y)"
      ],
      "metadata": {
        "colab": {
          "base_uri": "https://localhost:8080/"
        },
        "id": "VTZOMKho9xJl",
        "outputId": "f39547b0-d490-4a51-ef7f-c9820825578a"
      },
      "execution_count": 14,
      "outputs": [
        {
          "output_type": "stream",
          "name": "stdout",
          "text": [
            "1/1 [==============================] - 0s 171ms/step - loss: 5.5749e-05 - mae: 0.0064\n"
          ]
        },
        {
          "output_type": "execute_result",
          "data": {
            "text/plain": [
              "[5.574927126872353e-05, 0.006408882327377796]"
            ]
          },
          "metadata": {},
          "execution_count": 14
        }
      ]
    },
    {
      "cell_type": "markdown",
      "source": [
        "### 10. 예측"
      ],
      "metadata": {
        "id": "pcaom4iS9zlz"
      }
    },
    {
      "cell_type": "code",
      "source": [
        "model.predict([10])"
      ],
      "metadata": {
        "id": "aAtHWnG990xM",
        "outputId": "d2ee640c-80fd-490a-d8bc-627dc468656e",
        "colab": {
          "base_uri": "https://localhost:8080/"
        }
      },
      "execution_count": 15,
      "outputs": [
        {
          "output_type": "stream",
          "name": "stdout",
          "text": [
            "1/1 [==============================] - 0s 300ms/step\n"
          ]
        },
        {
          "output_type": "execute_result",
          "data": {
            "text/plain": [
              "array([[32.030975]], dtype=float32)"
            ]
          },
          "metadata": {},
          "execution_count": 15
        }
      ]
    },
    {
      "cell_type": "markdown",
      "source": [
        "---\n",
        "## **| 03** 심층 신경망으로 이미지 분류"
      ],
      "metadata": {
        "id": "u5Cgi9VF288U"
      }
    },
    {
      "cell_type": "markdown",
      "source": [
        "### 1. 케라스 내장 데이터셋 로드"
      ],
      "metadata": {
        "id": "NSNzw9-W3BM1"
      }
    },
    {
      "cell_type": "code",
      "source": [
        "#내장 데이터셋 mnist 데이터셋 로드\n",
        "import tensorflow as tf\n",
        "\n",
        "mnist = tf.keras.datasets.mnist"
      ],
      "metadata": {
        "id": "AnUmxUl23FK2"
      },
      "execution_count": 16,
      "outputs": []
    },
    {
      "cell_type": "code",
      "source": [
        "(x_train, y_train),(x_test,y_test) = mnist.load_data()"
      ],
      "metadata": {
        "colab": {
          "base_uri": "https://localhost:8080/"
        },
        "id": "0pZShLWk3hKY",
        "outputId": "31ad6c25-a80d-4434-af94-7f9758802e9f"
      },
      "execution_count": 17,
      "outputs": [
        {
          "output_type": "stream",
          "name": "stdout",
          "text": [
            "Downloading data from https://storage.googleapis.com/tensorflow/tf-keras-datasets/mnist.npz\n",
            "11490434/11490434 [==============================] - 1s 0us/step\n"
          ]
        }
      ]
    },
    {
      "cell_type": "code",
      "source": [
        "print('train set : ', x_train.shape, y_train.shape)\n",
        "print('test set :', x_test.shape, y_test.shape)"
      ],
      "metadata": {
        "colab": {
          "base_uri": "https://localhost:8080/"
        },
        "id": "llGLfLcj3m59",
        "outputId": "635e09fb-9fc1-45a2-f9e3-1067c8eb7ad9"
      },
      "execution_count": 18,
      "outputs": [
        {
          "output_type": "stream",
          "name": "stdout",
          "text": [
            "train set :  (60000, 28, 28) (60000,)\n",
            "test set : (10000, 28, 28) (10000,)\n"
          ]
        }
      ]
    },
    {
      "cell_type": "code",
      "source": [
        "#데이터 시각화\n",
        "import matplotlib.pyplot as plt\n",
        "\n",
        "fig,axes = plt.subplots(3,5)\n",
        "fig.set_size_inches(8,5)\n",
        "\n",
        "for i in range(15) :\n",
        "  ax = axes[i//5, i%5]\n",
        "  ax.imshow(x_train[i], cmap = 'gray')\n",
        "  ax.axis('off')\n",
        "  ax.set_title(str(y_train[i]))\n",
        "\n",
        "plt.tight_layout()\n",
        "plt.show()"
      ],
      "metadata": {
        "colab": {
          "base_uri": "https://localhost:8080/",
          "height": 371
        },
        "id": "pS81fy7O3tWA",
        "outputId": "1d1c14b0-d225-40e9-d42b-fddf395c3d6e"
      },
      "execution_count": 19,
      "outputs": [
        {
          "output_type": "display_data",
          "data": {
            "text/plain": [
              "<Figure size 576x360 with 15 Axes>"
            ],
            "image/png": "[encoded data removed]"
          },
          "metadata": {
            "needs_background": "light"
          }
        }
      ]
    },
    {
      "cell_type": "markdown",
      "source": [
        "### 2. 데이터 전처리"
      ],
      "metadata": {
        "id": "awnPfCN_4TiX"
      }
    },
    {
      "cell_type": "code",
      "source": [
        "x_train[0,10:15,10:15]"
      ],
      "metadata": {
        "colab": {
          "base_uri": "https://localhost:8080/"
        },
        "id": "GTiGwXtL4U0Z",
        "outputId": "ef25ee2f-784f-4d9f-f07c-92f7dd815af2"
      },
      "execution_count": 20,
      "outputs": [
        {
          "output_type": "execute_result",
          "data": {
            "text/plain": [
              "array([[  1, 154, 253,  90,   0],\n",
              "       [  0, 139, 253, 190,   2],\n",
              "       [  0,  11, 190, 253,  70],\n",
              "       [  0,   0,  35, 241, 225],\n",
              "       [  0,   0,   0,  81, 240]], dtype=uint8)"
            ]
          },
          "metadata": {},
          "execution_count": 20
        }
      ]
    },
    {
      "cell_type": "code",
      "source": [
        "#데이터 정규화\n",
        "\n",
        "print(f'정규화 전] 최소값 : {x_train.min()}, 최대값 : {x_train.max()}')\n",
        "x_train = x_train/ x_train.max()\n",
        "\n",
        "print(f'정규화 후] 최소값 : {x_train.min()}, 최대값 : {x_train.max()}')"
      ],
      "metadata": {
        "colab": {
          "base_uri": "https://localhost:8080/"
        },
        "id": "t4yUucnr4Pnk",
        "outputId": "d0100276-ded8-4ba6-be45-32835cc64fa6"
      },
      "execution_count": 21,
      "outputs": [
        {
          "output_type": "stream",
          "name": "stdout",
          "text": [
            "정규화 전] 최소값 : 0, 최대값 : 255\n",
            "정규화 후] 최소값 : 0.0, 최대값 : 1.0\n"
          ]
        }
      ]
    },
    {
      "cell_type": "code",
      "source": [
        "#테스트 셋에도 정규화 동일 적용\n",
        "x_test = x_test/x_test.max()"
      ],
      "metadata": {
        "id": "FkTYXjiK502l"
      },
      "execution_count": 22,
      "outputs": []
    },
    {
      "cell_type": "code",
      "source": [
        "#x_train 배열의 데이터 확인\n",
        "\n",
        "x_train[0,10:15, 10:15]"
      ],
      "metadata": {
        "colab": {
          "base_uri": "https://localhost:8080/"
        },
        "id": "xgaAofko576C",
        "outputId": "3262d826-697e-4a1b-c55c-5b90dbe7ce02"
      },
      "execution_count": 23,
      "outputs": [
        {
          "output_type": "execute_result",
          "data": {
            "text/plain": [
              "array([[0.00392157, 0.60392157, 0.99215686, 0.35294118, 0.        ],\n",
              "       [0.        , 0.54509804, 0.99215686, 0.74509804, 0.00784314],\n",
              "       [0.        , 0.04313725, 0.74509804, 0.99215686, 0.2745098 ],\n",
              "       [0.        , 0.        , 0.1372549 , 0.94509804, 0.88235294],\n",
              "       [0.        , 0.        , 0.        , 0.31764706, 0.94117647]])"
            ]
          },
          "metadata": {},
          "execution_count": 23
        }
      ]
    },
    {
      "cell_type": "markdown",
      "source": [
        "### 3. Flatten 레이어"
      ],
      "metadata": {
        "id": "EUCNYo3Z6Dh9"
      }
    },
    {
      "cell_type": "code",
      "source": [
        "print(f'변경 전 shape : {x_train.shape}')\n",
        "print(f'1D으로 shape 변경 후 : {x_train.reshape(60000,-1).shape}')"
      ],
      "metadata": {
        "colab": {
          "base_uri": "https://localhost:8080/"
        },
        "id": "zich9IM68J8c",
        "outputId": "6e4b691d-4adc-4dfd-f3b4-b7b209842c0a"
      },
      "execution_count": 24,
      "outputs": [
        {
          "output_type": "stream",
          "name": "stdout",
          "text": [
            "변경 전 shape : (60000, 28, 28)\n",
            "1D으로 shape 변경 후 : (60000, 784)\n"
          ]
        }
      ]
    },
    {
      "cell_type": "code",
      "source": [
        "#flatten 레이어 사용하여 1차원으로 만들기\n",
        "\n",
        "print(f'변경 전 shape : {x_train.shape}')\n",
        "print(f'Flatten 적용 후 : {tf.keras.layers.Flatten()(x_train).shape}')"
      ],
      "metadata": {
        "colab": {
          "base_uri": "https://localhost:8080/"
        },
        "id": "IFIS4WZq8YKr",
        "outputId": "e7625c86-63fb-40ca-8683-a183d8dd0bf5"
      },
      "execution_count": 25,
      "outputs": [
        {
          "output_type": "stream",
          "name": "stdout",
          "text": [
            "변경 전 shape : (60000, 28, 28)\n",
            "Flatten 적용 후 : (60000, 784)\n"
          ]
        }
      ]
    },
    {
      "cell_type": "markdown",
      "source": [
        "### 4. 활성화 함수\n",
        "\n",
        "* 입력을 비선형 출력으로 변환해주는 함수\n",
        "* 시그모이드, 하이퍼볼릭 탄젠트, ReLU, Leaky ReLU"
      ],
      "metadata": {
        "id": "95iiDc9B8XjP"
      }
    },
    {
      "cell_type": "code",
      "source": [
        "#Dense 레이어에 relu 활성화 함수를 적용\n",
        "tf.keras.layers.Dense(128,activation = 'relu')"
      ],
      "metadata": {
        "colab": {
          "base_uri": "https://localhost:8080/"
        },
        "id": "I9QN5x5R81Tu",
        "outputId": "916da98d-b5d6-4ac9-f8b8-0f38d9d74435"
      },
      "execution_count": 26,
      "outputs": [
        {
          "output_type": "execute_result",
          "data": {
            "text/plain": [
              "<keras.layers.core.dense.Dense at 0x7f0fa1c39c10>"
            ]
          },
          "metadata": {},
          "execution_count": 26
        }
      ]
    },
    {
      "cell_type": "code",
      "source": [
        "#Dense 레이어와 relu 활성화 함수 레이어를 별도 적용한 경우\n",
        "model = tf.keras.Sequential([\n",
        "    tf.keras.layers.Dense(128),\n",
        "    tf.keras.layers.Activation('relu')\n",
        "])"
      ],
      "metadata": {
        "id": "b7WWE2LL89W3"
      },
      "execution_count": 27,
      "outputs": []
    },
    {
      "cell_type": "markdown",
      "source": [
        "### 5. 입력과 출력"
      ],
      "metadata": {
        "id": "JH3oOI2z9LTn"
      }
    },
    {
      "cell_type": "code",
      "source": [
        "model = tf.keras.Sequential([\n",
        "    tf.keras.layers.Flatten(input_shape = (28,28)),\n",
        "    tf.keras.layers.Dense(256, activation = 'relu'),\n",
        "    tf.keras.layers.Dense(64, activation = 'relu'),\n",
        "    tf.keras.layers.Dense(32, activation = 'relu'),\n",
        "    tf.keras.layers.Dense(10,activation = 'softmax'),\n",
        "])"
      ],
      "metadata": {
        "id": "2PugY79k9OKI"
      },
      "execution_count": 28,
      "outputs": []
    },
    {
      "cell_type": "code",
      "source": [
        "#출력츨 노드 = 1개인 경우 ,sigmoid\n",
        "tf.keras.layers.Dense(1,activation = 'sigmoid')\n",
        "\n",
        "#출력층 노드 = 2개인 경우 , softmax\n",
        "tf.keras.layers.Dense(10,activation = 'softmax')"
      ],
      "metadata": {
        "colab": {
          "base_uri": "https://localhost:8080/"
        },
        "id": "9dvhLfzq_HCL",
        "outputId": "06f59430-bfef-4a4e-9d4e-c155fd2e80a0"
      },
      "execution_count": 29,
      "outputs": [
        {
          "output_type": "execute_result",
          "data": {
            "text/plain": [
              "<keras.layers.core.dense.Dense at 0x7f0f9bc12fd0>"
            ]
          },
          "metadata": {},
          "execution_count": 29
        }
      ]
    },
    {
      "cell_type": "markdown",
      "source": [
        "### 6. 손실함수\n",
        "\n",
        "* 손실함수의 종류\n",
        "\n",
        "|마지막 출력층|Loss|\n",
        "|---|---|\n",
        "|Dense(1,actiavtion = 'sigmoid')|loss = 'binary_crossentropy'|\n",
        "|Dense(2이상, activation = 'softmax')|loss = 'categorical_crossentropy', loss = 'sparse_categorical_crossentropy'|\n",
        "\n",
        "```\n",
        "#출력노드 개수 = 1, sigmoid인 경우\n",
        "\n",
        "model.compile(loss = 'binary_crossentropy')\n",
        "```"
      ],
      "metadata": {
        "id": "gFfcVbARAJ5h"
      }
    },
    {
      "cell_type": "code",
      "source": [
        "#y가 원핫벡터인경우\n",
        "model.compile(loss = 'categorical_crossentropy')\n",
        "\n",
        "#y가 원핫벡터가 아닌 경우\n",
        "model.compile(loss = 'sparse_categorical_crossentropy')"
      ],
      "metadata": {
        "id": "vodaJqVUAxM6"
      },
      "execution_count": 30,
      "outputs": []
    },
    {
      "cell_type": "markdown",
      "source": [
        "### 7. 옵티마이저\n",
        "\n",
        "* 손실을 낮추기 위해서, 신경망의 가중치와 학습률과 같은 신경망의 속성을 변경하는 데 사용되는 최적화 방법\n",
        "*SGD/ Adam / Adagrad / Nadam / RMSprop / Adadelta / Adamax / Ftrl"
      ],
      "metadata": {
        "id": "Ipl5kPmnA7_v"
      }
    },
    {
      "cell_type": "code",
      "source": [
        "#클래스 인스턴스로 지정\n",
        "adam = tf.keras.optimizers.Adam(lr = 0.001)\n",
        "model.compile(optimizer = adam)\n",
        "\n",
        "#문자열로 지정\n",
        "model.compile(optimizer = 'adam')"
      ],
      "metadata": {
        "colab": {
          "base_uri": "https://localhost:8080/"
        },
        "id": "bLO3KbH3eiVL",
        "outputId": "da0b5aaf-bdb0-43ec-d5f0-88414fc0d899"
      },
      "execution_count": 34,
      "outputs": [
        {
          "output_type": "stream",
          "name": "stderr",
          "text": [
            "/usr/local/lib/python3.7/dist-packages/keras/optimizers/optimizer_v2/adam.py:110: UserWarning: The `lr` argument is deprecated, use `learning_rate` instead.\n",
            "  super(Adam, self).__init__(name, **kwargs)\n"
          ]
        }
      ]
    },
    {
      "cell_type": "markdown",
      "source": [
        "### 8. 평가지표\n",
        "* 'accuracy/ auc / precision / recall"
      ],
      "metadata": {
        "id": "0DMa1fMderao"
      }
    },
    {
      "cell_type": "code",
      "source": [
        "#클래스 인스턴스로 지정\n",
        "acc = tf.keras.metrics.SparseCategoricalAccuracy()\n",
        "\n",
        "model.compile(optimizer = 'adam', loss = 'sparse_categorical_crossentropy', metrics = [acc])"
      ],
      "metadata": {
        "id": "086asuikewAj"
      },
      "execution_count": 35,
      "outputs": []
    },
    {
      "cell_type": "code",
      "source": [
        "#문자열로 지정\n",
        "\n",
        "model.compile(optimizer = 'adam', loss = 'sparse_categorical_crossentropy', metrics = ['accuracy'])"
      ],
      "metadata": {
        "id": "oI3vfFs8e648"
      },
      "execution_count": null,
      "outputs": []
    },
    {
      "cell_type": "markdown",
      "source": [
        "### 9. 훈련"
      ],
      "metadata": {
        "id": "mAN4SOIGfESn"
      }
    },
    {
      "cell_type": "code",
      "source": [
        "model.fit(x_train,y_train,validation_data = (x_test,y_test), epochs = 10)"
      ],
      "metadata": {
        "colab": {
          "base_uri": "https://localhost:8080/"
        },
        "id": "vuc8z52HfFrX",
        "outputId": "b1827d5e-7cb5-4df7-8152-5913fc3fb36c"
      },
      "execution_count": 36,
      "outputs": [
        {
          "output_type": "stream",
          "name": "stdout",
          "text": [
            "Epoch 1/10\n",
            "1875/1875 [==============================] - 8s 4ms/step - loss: 0.0475 - sparse_categorical_accuracy: 0.9878 - val_loss: 0.1048 - val_sparse_categorical_accuracy: 0.9766\n",
            "Epoch 2/10\n",
            "1875/1875 [==============================] - 9s 5ms/step - loss: 0.0370 - sparse_categorical_accuracy: 0.9889 - val_loss: 0.0977 - val_sparse_categorical_accuracy: 0.9766\n",
            "Epoch 3/10\n",
            "1875/1875 [==============================] - 11s 6ms/step - loss: 0.0343 - sparse_categorical_accuracy: 0.9895 - val_loss: 0.1072 - val_sparse_categorical_accuracy: 0.9753\n",
            "Epoch 4/10\n",
            "1875/1875 [==============================] - 11s 6ms/step - loss: 0.0293 - sparse_categorical_accuracy: 0.9908 - val_loss: 0.0981 - val_sparse_categorical_accuracy: 0.9787\n",
            "Epoch 5/10\n",
            "1875/1875 [==============================] - 9s 5ms/step - loss: 0.0282 - sparse_categorical_accuracy: 0.9918 - val_loss: 0.1296 - val_sparse_categorical_accuracy: 0.9731\n",
            "Epoch 6/10\n",
            "1875/1875 [==============================] - 11s 6ms/step - loss: 0.0242 - sparse_categorical_accuracy: 0.9926 - val_loss: 0.0967 - val_sparse_categorical_accuracy: 0.9785\n",
            "Epoch 7/10\n",
            "1875/1875 [==============================] - 9s 5ms/step - loss: 0.0221 - sparse_categorical_accuracy: 0.9928 - val_loss: 0.1026 - val_sparse_categorical_accuracy: 0.9786\n",
            "Epoch 8/10\n",
            "1875/1875 [==============================] - 9s 5ms/step - loss: 0.0175 - sparse_categorical_accuracy: 0.9945 - val_loss: 0.1096 - val_sparse_categorical_accuracy: 0.9769\n",
            "Epoch 9/10\n",
            "1875/1875 [==============================] - 14s 8ms/step - loss: 0.0216 - sparse_categorical_accuracy: 0.9938 - val_loss: 0.1058 - val_sparse_categorical_accuracy: 0.9799\n",
            "Epoch 10/10\n",
            "1875/1875 [==============================] - 12s 6ms/step - loss: 0.0167 - sparse_categorical_accuracy: 0.9945 - val_loss: 0.1044 - val_sparse_categorical_accuracy: 0.9797\n"
          ]
        },
        {
          "output_type": "execute_result",
          "data": {
            "text/plain": [
              "<keras.callbacks.History at 0x7f0f9a6b16d0>"
            ]
          },
          "metadata": {},
          "execution_count": 36
        }
      ]
    },
    {
      "cell_type": "markdown",
      "source": [
        "### 10. 평가"
      ],
      "metadata": {
        "id": "T1A6iAyPfLbJ"
      }
    },
    {
      "cell_type": "code",
      "source": [
        "#검증\n",
        "\n",
        "test_loss, test_acc = model.evaluate(x_test,y_test)\n",
        "\n",
        "print('검증 셋 정확도 : ',test_acc)"
      ],
      "metadata": {
        "colab": {
          "base_uri": "https://localhost:8080/"
        },
        "id": "FJzqhAwQfMl6",
        "outputId": "1946699d-6abc-4774-9bd5-feddce4302e3"
      },
      "execution_count": 37,
      "outputs": [
        {
          "output_type": "stream",
          "name": "stdout",
          "text": [
            "313/313 [==============================] - 1s 3ms/step - loss: 0.1044 - sparse_categorical_accuracy: 0.9797\n",
            "검증 셋 정확도 :  0.9797000288963318\n"
          ]
        }
      ]
    },
    {
      "cell_type": "markdown",
      "source": [
        "### 11. 예측"
      ],
      "metadata": {
        "id": "UQReYE3dfTV1"
      }
    },
    {
      "cell_type": "code",
      "source": [
        "predictions = model.predict(x_test)"
      ],
      "metadata": {
        "colab": {
          "base_uri": "https://localhost:8080/"
        },
        "id": "Tt5A3KdffUYN",
        "outputId": "4f70fbd7-6334-4856-992b-6922835845ff"
      },
      "execution_count": 38,
      "outputs": [
        {
          "output_type": "stream",
          "name": "stdout",
          "text": [
            "313/313 [==============================] - 1s 3ms/step\n"
          ]
        }
      ]
    },
    {
      "cell_type": "code",
      "source": [
        "predictions[0]"
      ],
      "metadata": {
        "colab": {
          "base_uri": "https://localhost:8080/"
        },
        "id": "KONTqVIkfWVX",
        "outputId": "e49666af-a315-4e90-8914-93397c484a70"
      },
      "execution_count": 39,
      "outputs": [
        {
          "output_type": "execute_result",
          "data": {
            "text/plain": [
              "array([2.74747354e-21, 3.33374495e-10, 1.06115616e-10, 1.41973146e-07,\n",
              "       1.32094140e-08, 6.97940349e-13, 5.19423179e-22, 9.99999821e-01,\n",
              "       8.54503794e-12, 2.10965485e-08], dtype=float32)"
            ]
          },
          "metadata": {},
          "execution_count": 39
        }
      ]
    },
    {
      "cell_type": "code",
      "source": [
        "import numpy as np\n",
        "print(np.argmax(predictions[0]))\n",
        "\n",
        "print(np.argmax(predictions[:10], axis = 1))"
      ],
      "metadata": {
        "colab": {
          "base_uri": "https://localhost:8080/"
        },
        "id": "7WN9Hkl8fhJH",
        "outputId": "59bf5502-56c4-4a87-b53f-3ccde35ab33b"
      },
      "execution_count": 40,
      "outputs": [
        {
          "output_type": "stream",
          "name": "stdout",
          "text": [
            "7\n",
            "[7 2 1 0 4 1 4 9 5 9]\n"
          ]
        }
      ]
    },
    {
      "cell_type": "code",
      "source": [
        "#시각화\n",
        "\n",
        "import matplotlib.pyplot as plt\n",
        "def get_one_result(idx) :\n",
        "  img, y_true, y_pred, confidence = x_test[idx], y_test[idx], np.argmax(predictions[idx]), 100*np.max(predictions[idx])\n",
        "\n",
        "  return img, y_true,y_pred,confidence\n",
        "\n",
        "fig,axes = plt.subplots(3,5)\n",
        "fig.set_size_inches(12,10)\n",
        "for i in range(15) :\n",
        "  ax = axes[i//5, i%5]\n",
        "  img,y_true, y_pred,confidence = get_one_result(i)\n",
        "  ax.imshow(img,cmap = 'gray')\n",
        "  ax.set_xticks([])\n",
        "  ax.set_yticks([])\n",
        "  ax.set_title(f'True : {y_true}')\n",
        "  ax.set_xlabel(f'Prediction : {y_pred} \\n Confidence : ({confidence : .2f} %)')\n",
        "\n",
        "plt.tight_layout()\n",
        "plt.show"
      ],
      "metadata": {
        "colab": {
          "base_uri": "https://localhost:8080/",
          "height": 708
        },
        "id": "5Rmka4Qgfef2",
        "outputId": "930de570-cb47-41f0-f2f4-b29da7d85125"
      },
      "execution_count": 41,
      "outputs": [
        {
          "output_type": "execute_result",
          "data": {
            "text/plain": [
              "<function matplotlib.pyplot.show(*args, **kw)>"
            ]
          },
          "metadata": {},
          "execution_count": 41
        },
        {
          "output_type": "display_data",
          "data": {
            "text/plain": [
              "<Figure size 864x720 with 15 Axes>"
            ],
            "image/png": "[encoded data removed]"
          },
          "metadata": {}
        }
      ]
    },
    {
      "cell_type": "markdown",
      "source": [
        "---\n",
        "## **| 04** 모델 세부 설정"
      ],
      "metadata": {
        "id": "qvthLk7Dpex0"
      }
    },
    {
      "cell_type": "code",
      "source": [
        "import tensorflow as tf\n",
        "\n",
        "mnist = tf.keras.datasets.mnist\n",
        "\n",
        "(x_train,y_train),(x_test,y_test) = mnist.load_data()\n",
        "\n",
        "print('train set : ', x_train.shape, y_train.shape)\n",
        "print('test set : ', x_test.shape, y_test.shape)\n",
        "\n",
        "x_train = x_train / x_train.max()\n",
        "x_test = x_test / x_test.max()"
      ],
      "metadata": {
        "colab": {
          "base_uri": "https://localhost:8080/"
        },
        "id": "ideHGe8splH_",
        "outputId": "0072583c-1c86-4599-ff4e-f4ba90c0f950"
      },
      "execution_count": 42,
      "outputs": [
        {
          "output_type": "stream",
          "name": "stdout",
          "text": [
            "train set :  (60000, 28, 28) (60000,)\n",
            "test set :  (10000, 28, 28) (10000,)\n"
          ]
        }
      ]
    },
    {
      "cell_type": "markdown",
      "source": [
        "### 1. 초기값 설정\n",
        "\n",
        "* 케라스에서 지원하는 자주 사용되는 초기화 목록\n",
        "  * `glorot_normal`,`glorot_uniform` : 글로럿 초기화\n",
        "  * `lecun_normal`,`lecun_uniform` : Yann Lecun 초기화\n",
        "  * `he_normal` , `he_uniform` : He 초기화\n",
        "  * `random_normal` ,`random_uniform` : 정규 분포, 연속균등 분포 초기화"
      ],
      "metadata": {
        "id": "atmqAOfgp2GW"
      }
    },
    {
      "cell_type": "code",
      "source": [
        "dense  = tf.keras.layers.Dense(256,activation = 'relu')\n",
        "dense.get_config()['kernel_initializer']"
      ],
      "metadata": {
        "colab": {
          "base_uri": "https://localhost:8080/"
        },
        "id": "ywvPtvBQp4K3",
        "outputId": "bbf69ce9-93b5-4bc4-b0e6-b29edf0d556a"
      },
      "execution_count": 43,
      "outputs": [
        {
          "output_type": "execute_result",
          "data": {
            "text/plain": [
              "{'class_name': 'GlorotUniform', 'config': {'seed': None}}"
            ]
          },
          "metadata": {},
          "execution_count": 43
        }
      ]
    },
    {
      "cell_type": "code",
      "source": [
        "#문자열 초기화\n",
        "dense = tf.keras.layers.Dense(256,kernel_initializer = 'he_normal', activation = 'relu')\n",
        "print(dense.get_config()['kernel_initializer'])\n",
        "\n",
        "#클래스 인스턴스 초기화\n",
        "he_normal = tf.keras.initializers.HeNormal()\n",
        "dense = tf.keras.layers.Dense(256,kernel_initializer = he_normal, activation = 'relu')\n",
        "print(dense.get_config()['kernel_initializer'])"
      ],
      "metadata": {
        "colab": {
          "base_uri": "https://localhost:8080/"
        },
        "id": "8_cGueIH0EEW",
        "outputId": "e01d8a33-1e95-405c-f1d6-b559d0cb3f5b"
      },
      "execution_count": 44,
      "outputs": [
        {
          "output_type": "stream",
          "name": "stdout",
          "text": [
            "{'class_name': 'HeNormal', 'config': {'seed': None}}\n",
            "{'class_name': 'HeNormal', 'config': {'seed': None}}\n"
          ]
        }
      ]
    },
    {
      "cell_type": "markdown",
      "source": [
        "### 2. 규제"
      ],
      "metadata": {
        "id": "3E9hr5JJ1DzZ"
      }
    },
    {
      "cell_type": "code",
      "source": [
        "#레이어에 규제를 적용하기 위해서는 별도로 설정해주어야 함\n",
        "\n",
        "dense = tf.keras.layers.Dense(256,activation = 'relu')\n",
        "dense.get_config()"
      ],
      "metadata": {
        "colab": {
          "base_uri": "https://localhost:8080/"
        },
        "id": "cNBlaDOY1E1x",
        "outputId": "76cc43ec-5eee-4832-beac-0ec2f4fa2511"
      },
      "execution_count": 45,
      "outputs": [
        {
          "output_type": "execute_result",
          "data": {
            "text/plain": [
              "{'name': 'dense_24',\n",
              " 'trainable': True,\n",
              " 'dtype': 'float32',\n",
              " 'units': 256,\n",
              " 'activation': 'relu',\n",
              " 'use_bias': True,\n",
              " 'kernel_initializer': {'class_name': 'GlorotUniform',\n",
              "  'config': {'seed': None}},\n",
              " 'bias_initializer': {'class_name': 'Zeros', 'config': {}},\n",
              " 'kernel_regularizer': None,\n",
              " 'bias_regularizer': None,\n",
              " 'activity_regularizer': None,\n",
              " 'kernel_constraint': None,\n",
              " 'bias_constraint': None}"
            ]
          },
          "metadata": {},
          "execution_count": 45
        }
      ]
    },
    {
      "cell_type": "code",
      "source": [
        "#L1 규제 적용\n",
        "dense = tf.keras.layers.Dense(256, kernel_regularizer = 'l1', activation = 'relu')\n",
        "print(dense.get_config()['kernel_regularizer'])\n",
        "\n",
        "#클래스 인스턴스 적용, alpha = 0.1 변경\n",
        "regularizer = tf.keras.regularizers.l1(l1 = 0.1)\n",
        "dense = tf.keras.layers.Dense(256,kernel_regularizer = regularizer, activation = 'relu')\n",
        "print(dense.get_config()['kernel_regularizer'])"
      ],
      "metadata": {
        "colab": {
          "base_uri": "https://localhost:8080/"
        },
        "id": "9umNbeYH1SAP",
        "outputId": "2f4f874c-29bd-4737-8501-ae734b2ede99"
      },
      "execution_count": 46,
      "outputs": [
        {
          "output_type": "stream",
          "name": "stdout",
          "text": [
            "{'class_name': 'L1', 'config': {'l1': 0.009999999776482582}}\n",
            "{'class_name': 'L1', 'config': {'l1': 0.10000000149011612}}\n"
          ]
        }
      ]
    },
    {
      "cell_type": "markdown",
      "source": [
        "### 3. 드롭 아웃 (Dropout)\n",
        "\n",
        "* 모델의 과대적합 문제를 해결하기 위해 제안된 아이디어"
      ],
      "metadata": {
        "id": "ymlVSYM611c0"
      }
    },
    {
      "cell_type": "code",
      "source": [
        "tf.keras.layers.Dropout(0.25)"
      ],
      "metadata": {
        "colab": {
          "base_uri": "https://localhost:8080/"
        },
        "id": "NFstn5jw19iK",
        "outputId": "7d9ffc3b-aea7-4ac2-8633-7f6240eace03"
      },
      "execution_count": 47,
      "outputs": [
        {
          "output_type": "execute_result",
          "data": {
            "text/plain": [
              "<keras.layers.regularization.dropout.Dropout at 0x7f10042199d0>"
            ]
          },
          "metadata": {},
          "execution_count": 47
        }
      ]
    },
    {
      "cell_type": "markdown",
      "source": [
        "### 4. 배치 정규화\n",
        "\n",
        "* 각 층에서 활성화 함수를 통과하기 전 미니 배치의 스케일을 정규화"
      ],
      "metadata": {
        "id": "cPaibUMK3ed9"
      }
    },
    {
      "cell_type": "code",
      "source": [
        "#Model A : Dense + ReLU\n",
        "\n",
        "model_a = tf.keras.Sequential([\n",
        "    tf.keras.layers.Flatten(input_shape = (28,28)),\n",
        "    tf.keras.layers.Dense(64, activation = 'relu'),\n",
        "    tf.keras.layers.Dense(32, activation = 'relu'),\n",
        "    tf.keras.layers.Dense(10,activation = 'softmax'),\n",
        "])\n",
        "\n",
        "model_a.summary()"
      ],
      "metadata": {
        "colab": {
          "base_uri": "https://localhost:8080/"
        },
        "id": "og15OUpF3lpt",
        "outputId": "0b648f4c-ddb2-4699-8ba5-8849e3bf4c65"
      },
      "execution_count": 48,
      "outputs": [
        {
          "output_type": "stream",
          "name": "stdout",
          "text": [
            "Model: \"sequential_7\"\n",
            "_________________________________________________________________\n",
            " Layer (type)                Output Shape              Param #   \n",
            "=================================================================\n",
            " flatten_2 (Flatten)         (None, 784)               0         \n",
            "                                                                 \n",
            " dense_27 (Dense)            (None, 64)                50240     \n",
            "                                                                 \n",
            " dense_28 (Dense)            (None, 32)                2080      \n",
            "                                                                 \n",
            " dense_29 (Dense)            (None, 10)                330       \n",
            "                                                                 \n",
            "=================================================================\n",
            "Total params: 52,650\n",
            "Trainable params: 52,650\n",
            "Non-trainable params: 0\n",
            "_________________________________________________________________\n"
          ]
        }
      ]
    },
    {
      "cell_type": "code",
      "source": [
        "#Model B : Dense + BatchNorm + ReLU\n",
        "\n",
        "model_b = tf.keras.Sequential([\n",
        "    tf.keras.layers.Flatten(input_shape = (28,28)),\n",
        "    tf.keras.layers.Dense(64),\n",
        "    #배치 정규화\n",
        "    tf.keras.layers.BatchNormalization(),\n",
        "    #활성화 함수\n",
        "    tf.keras.layers.Activation('relu'),\n",
        "\n",
        "    tf.keras.layers.Dense(32),\n",
        "    #배치 정규화\n",
        "    tf.keras.layers.BatchNormalization(),\n",
        "    #활성화함수\n",
        "    tf.keras.layers.Activation('relu'),\n",
        "\n",
        "    tf.keras.layers.Dense(10,activation = 'softmax')\n",
        "])\n",
        "\n",
        "model_b.summary()"
      ],
      "metadata": {
        "colab": {
          "base_uri": "https://localhost:8080/"
        },
        "id": "XAKR0OSG4yUb",
        "outputId": "8f35e052-7fc8-4eff-efa6-7e74a65e9d01"
      },
      "execution_count": 50,
      "outputs": [
        {
          "output_type": "stream",
          "name": "stdout",
          "text": [
            "Model: \"sequential_8\"\n",
            "_________________________________________________________________\n",
            " Layer (type)                Output Shape              Param #   \n",
            "=================================================================\n",
            " flatten_3 (Flatten)         (None, 784)               0         \n",
            "                                                                 \n",
            " dense_30 (Dense)            (None, 64)                50240     \n",
            "                                                                 \n",
            " batch_normalization (BatchN  (None, 64)               256       \n",
            " ormalization)                                                   \n",
            "                                                                 \n",
            " activation_1 (Activation)   (None, 64)                0         \n",
            "                                                                 \n",
            " dense_31 (Dense)            (None, 32)                2080      \n",
            "                                                                 \n",
            " batch_normalization_1 (Batc  (None, 32)               128       \n",
            " hNormalization)                                                 \n",
            "                                                                 \n",
            " activation_2 (Activation)   (None, 32)                0         \n",
            "                                                                 \n",
            " dense_32 (Dense)            (None, 10)                330       \n",
            "                                                                 \n",
            "=================================================================\n",
            "Total params: 53,034\n",
            "Trainable params: 52,842\n",
            "Non-trainable params: 192\n",
            "_________________________________________________________________\n"
          ]
        }
      ]
    },
    {
      "cell_type": "markdown",
      "source": [
        "### 5. 활성화 함수"
      ],
      "metadata": {
        "id": "YU6KXqth5qsm"
      }
    },
    {
      "cell_type": "code",
      "source": [
        "#LeakyReLU 기본 설정\n",
        "tf.keras.layers.LeakyReLU()\n",
        "\n",
        "#LearkyReLU, alpha = 0.2\n",
        "tf.keras.layers.LeakyReLU(alpha = 0.2)"
      ],
      "metadata": {
        "colab": {
          "base_uri": "https://localhost:8080/"
        },
        "id": "M3nr_l__5sTC",
        "outputId": "75198fcf-4cf2-4f13-f914-771f543b79fb"
      },
      "execution_count": 51,
      "outputs": [
        {
          "output_type": "execute_result",
          "data": {
            "text/plain": [
              "<keras.layers.activation.leaky_relu.LeakyReLU at 0x7f0f9e020110>"
            ]
          },
          "metadata": {},
          "execution_count": 51
        }
      ]
    },
    {
      "cell_type": "code",
      "source": [
        "#Model C : Dense + BatchNorm + LeakyReLU(0.2)\n",
        "\n",
        "model_c = tf.keras.Sequential([\n",
        "    tf.keras.layers.Flatten(input_shape = (28,28)),\n",
        "    tf.keras.layers.Dense(64),\n",
        "    #배치 정규화\n",
        "    tf.keras.layers.BatchNormalization(),\n",
        "    #LeakyReLU,alpha = 0.2\n",
        "    tf.keras.layers.LeakyReLU(alpha = 0.2),\n",
        "\n",
        "    tf.keras.layers.Dense(32),\n",
        "    tf.keras.layers.BatchNormalization(),\n",
        "    tf.keras.layers.LeakyReLU(alpha = 0.2),\n",
        "\n",
        "    tf.keras.layers.Dense(10,activation = 'softmax'),\n",
        "])\n",
        "\n",
        "model_c.summary()"
      ],
      "metadata": {
        "colab": {
          "base_uri": "https://localhost:8080/"
        },
        "id": "YzCoO8oh50Kf",
        "outputId": "7f220f8e-31e2-49e7-a5dc-0a445f19b49e"
      },
      "execution_count": 54,
      "outputs": [
        {
          "output_type": "stream",
          "name": "stdout",
          "text": [
            "Model: \"sequential_9\"\n",
            "_________________________________________________________________\n",
            " Layer (type)                Output Shape              Param #   \n",
            "=================================================================\n",
            " flatten_5 (Flatten)         (None, 784)               0         \n",
            "                                                                 \n",
            " dense_35 (Dense)            (None, 64)                50240     \n",
            "                                                                 \n",
            " batch_normalization_3 (Batc  (None, 64)               256       \n",
            " hNormalization)                                                 \n",
            "                                                                 \n",
            " leaky_re_lu_3 (LeakyReLU)   (None, 64)                0         \n",
            "                                                                 \n",
            " dense_36 (Dense)            (None, 32)                2080      \n",
            "                                                                 \n",
            " batch_normalization_4 (Batc  (None, 32)               128       \n",
            " hNormalization)                                                 \n",
            "                                                                 \n",
            " leaky_re_lu_4 (LeakyReLU)   (None, 32)                0         \n",
            "                                                                 \n",
            " dense_37 (Dense)            (None, 10)                330       \n",
            "                                                                 \n",
            "=================================================================\n",
            "Total params: 53,034\n",
            "Trainable params: 52,842\n",
            "Non-trainable params: 192\n",
            "_________________________________________________________________\n"
          ]
        }
      ]
    },
    {
      "cell_type": "code",
      "source": [
        "model_a.compile(optimizer = 'adam',loss = 'sparse_categorical_crossentropy',metrics = ['accuracy'])\n",
        "model_b.compile(optimizer = 'adam',loss = 'sparse_categorical_crossentropy',metrics = ['accuracy'])\n",
        "model_c.compile(optimizer = 'adam',loss = 'sparse_categorical_crossentropy',metrics = ['accuracy'])\n",
        "\n",
        "#Model A : Dense + ReLU\n",
        "history_a = model_a.fit(x_train,y_train, validation_data = (x_test,y_test), epochs = 10)\n",
        "\n",
        "#Model B : Dense + BatchNorm + ReLU\n",
        "history_b = model_b.fit(x_train,y_train, validation_data = (x_test,y_test), epochs = 10)\n",
        "\n",
        "#Model C : Dense + BatchNorm + LeakyReLU(0.2)\n",
        "history_c = model_c.fit(x_train,y_train, validation_data = (x_test,y_test), epochs = 10)\n"
      ],
      "metadata": {
        "colab": {
          "base_uri": "https://localhost:8080/"
        },
        "id": "BOZptYfE6iS9",
        "outputId": "592f03f2-3291-413c-bae0-70f15a04949b"
      },
      "execution_count": 55,
      "outputs": [
        {
          "output_type": "stream",
          "name": "stdout",
          "text": [
            "Epoch 1/10\n",
            "1875/1875 [==============================] - 8s 4ms/step - loss: 0.2891 - accuracy: 0.9158 - val_loss: 0.1566 - val_accuracy: 0.9559\n",
            "Epoch 2/10\n",
            "1875/1875 [==============================] - 8s 4ms/step - loss: 0.1225 - accuracy: 0.9632 - val_loss: 0.1081 - val_accuracy: 0.9668\n",
            "Epoch 3/10\n",
            "1875/1875 [==============================] - 8s 4ms/step - loss: 0.0910 - accuracy: 0.9722 - val_loss: 0.0937 - val_accuracy: 0.9705\n",
            "Epoch 4/10\n",
            "1875/1875 [==============================] - 12s 6ms/step - loss: 0.0713 - accuracy: 0.9781 - val_loss: 0.1035 - val_accuracy: 0.9708\n",
            "Epoch 5/10\n",
            "1875/1875 [==============================] - 10s 5ms/step - loss: 0.0596 - accuracy: 0.9812 - val_loss: 0.0936 - val_accuracy: 0.9712\n",
            "Epoch 6/10\n",
            "1875/1875 [==============================] - 9s 5ms/step - loss: 0.0494 - accuracy: 0.9843 - val_loss: 0.0878 - val_accuracy: 0.9729\n",
            "Epoch 7/10\n",
            "1875/1875 [==============================] - 8s 4ms/step - loss: 0.0434 - accuracy: 0.9863 - val_loss: 0.0909 - val_accuracy: 0.9750\n",
            "Epoch 8/10\n",
            "1875/1875 [==============================] - 10s 5ms/step - loss: 0.0376 - accuracy: 0.9877 - val_loss: 0.0888 - val_accuracy: 0.9724\n",
            "Epoch 9/10\n",
            "1875/1875 [==============================] - 9s 5ms/step - loss: 0.0326 - accuracy: 0.9893 - val_loss: 0.0908 - val_accuracy: 0.9741\n",
            "Epoch 10/10\n",
            "1875/1875 [==============================] - 10s 5ms/step - loss: 0.0289 - accuracy: 0.9903 - val_loss: 0.0966 - val_accuracy: 0.9719\n",
            "Epoch 1/10\n",
            "1875/1875 [==============================] - 11s 5ms/step - loss: 0.3241 - accuracy: 0.9105 - val_loss: 0.1274 - val_accuracy: 0.9597\n",
            "Epoch 2/10\n",
            "1875/1875 [==============================] - 9s 5ms/step - loss: 0.1420 - accuracy: 0.9569 - val_loss: 0.1018 - val_accuracy: 0.9685\n",
            "Epoch 3/10\n",
            "1875/1875 [==============================] - 9s 5ms/step - loss: 0.1092 - accuracy: 0.9662 - val_loss: 0.0872 - val_accuracy: 0.9728\n",
            "Epoch 4/10\n",
            "1875/1875 [==============================] - 9s 5ms/step - loss: 0.0910 - accuracy: 0.9711 - val_loss: 0.0801 - val_accuracy: 0.9751\n",
            "Epoch 5/10\n",
            "1875/1875 [==============================] - 9s 5ms/step - loss: 0.0824 - accuracy: 0.9733 - val_loss: 0.0743 - val_accuracy: 0.9757\n",
            "Epoch 6/10\n",
            "1875/1875 [==============================] - 6s 3ms/step - loss: 0.0726 - accuracy: 0.9765 - val_loss: 0.0772 - val_accuracy: 0.9764\n",
            "Epoch 7/10\n",
            "1875/1875 [==============================] - 6s 3ms/step - loss: 0.0674 - accuracy: 0.9786 - val_loss: 0.0863 - val_accuracy: 0.9737\n",
            "Epoch 8/10\n",
            "1875/1875 [==============================] - 6s 3ms/step - loss: 0.0609 - accuracy: 0.9803 - val_loss: 0.0812 - val_accuracy: 0.9757\n",
            "Epoch 9/10\n",
            "1875/1875 [==============================] - 6s 3ms/step - loss: 0.0567 - accuracy: 0.9814 - val_loss: 0.0762 - val_accuracy: 0.9761\n",
            "Epoch 10/10\n",
            "1875/1875 [==============================] - 6s 3ms/step - loss: 0.0540 - accuracy: 0.9822 - val_loss: 0.0724 - val_accuracy: 0.9769\n",
            "Epoch 1/10\n",
            "1875/1875 [==============================] - 7s 3ms/step - loss: 0.3234 - accuracy: 0.9113 - val_loss: 0.1398 - val_accuracy: 0.9585\n",
            "Epoch 2/10\n",
            "1875/1875 [==============================] - 6s 3ms/step - loss: 0.1544 - accuracy: 0.9529 - val_loss: 0.1138 - val_accuracy: 0.9653\n",
            "Epoch 3/10\n",
            "1875/1875 [==============================] - 6s 3ms/step - loss: 0.1213 - accuracy: 0.9634 - val_loss: 0.0925 - val_accuracy: 0.9713\n",
            "Epoch 4/10\n",
            "1875/1875 [==============================] - 7s 4ms/step - loss: 0.1005 - accuracy: 0.9685 - val_loss: 0.0940 - val_accuracy: 0.9692\n",
            "Epoch 5/10\n",
            "1875/1875 [==============================] - 6s 3ms/step - loss: 0.0935 - accuracy: 0.9704 - val_loss: 0.0982 - val_accuracy: 0.9692\n",
            "Epoch 6/10\n",
            "1875/1875 [==============================] - 6s 3ms/step - loss: 0.0834 - accuracy: 0.9729 - val_loss: 0.0806 - val_accuracy: 0.9748\n",
            "Epoch 7/10\n",
            "1875/1875 [==============================] - 6s 3ms/step - loss: 0.0768 - accuracy: 0.9754 - val_loss: 0.0827 - val_accuracy: 0.9744\n",
            "Epoch 8/10\n",
            "1875/1875 [==============================] - 6s 3ms/step - loss: 0.0696 - accuracy: 0.9775 - val_loss: 0.0796 - val_accuracy: 0.9756\n",
            "Epoch 9/10\n",
            "1875/1875 [==============================] - 6s 3ms/step - loss: 0.0668 - accuracy: 0.9783 - val_loss: 0.0814 - val_accuracy: 0.9751\n",
            "Epoch 10/10\n",
            "1875/1875 [==============================] - 6s 3ms/step - loss: 0.0624 - accuracy: 0.9793 - val_loss: 0.0870 - val_accuracy: 0.9746\n"
          ]
        }
      ]
    },
    {
      "cell_type": "code",
      "source": [
        "import matplotlib.pyplot as plt\n",
        "import numpy as np\n",
        "\n",
        "plt.figure(figsize = (12,9))\n",
        "plt.plot(np.arange(1,11),history_a.history['val_loss'], color = 'navy',linestyle = ':')\n",
        "plt.plot(np.arange(1,11),history_b.history['val_loss'], color = 'tomato', linestyle = '-.')\n",
        "plt.plot(np.arange(1,11), history_c.history['val_loss'], color = 'green', linestyle = '-')\n",
        "\n",
        "plt.title('Losses',fontsize = 20)\n",
        "plt.xlabel('epochs')\n",
        "plt.ylabel('Losses')\n",
        "plt.legend(['ReLU', 'BatchNorm + ReLU','batchnorm + LeakyReLU'],fontsize = 12)\n",
        "plt.show()"
      ],
      "metadata": {
        "colab": {
          "base_uri": "https://localhost:8080/",
          "height": 572
        },
        "id": "zTJqiyMT68Sc",
        "outputId": "4e2ac5e6-407b-4e23-860c-275cee30714b"
      },
      "execution_count": 58,
      "outputs": [
        {
          "output_type": "display_data",
          "data": {
            "text/plain": [
              "<Figure size 864x648 with 1 Axes>"
            ],
            "image/png": "[encoded data removed]"
          },
          "metadata": {
            "needs_background": "light"
          }
        }
      ]
    }
  ]
}