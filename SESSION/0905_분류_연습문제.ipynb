{
  "cells": [
    {
      "cell_type": "markdown",
      "metadata": {
        "id": "view-in-github",
        "colab_type": "text"
      },
      "source": [
        "<a href=\"https://colab.research.google.com/github/ekqlsrla/ESAA-2/blob/main/SESSION/0905_%EB%B6%84%EB%A5%98_%EC%97%B0%EC%8A%B5%EB%AC%B8%EC%A0%9C.ipynb\" target=\"_parent\"><img src=\"https://colab.research.google.com/assets/colab-badge.svg\" alt=\"Open In Colab\"/></a>"
      ]
    },
    {
      "cell_type": "markdown",
      "metadata": {
        "id": "zCu72vDHGMHo"
      },
      "source": [
        "## **| 분류 연습 문제**\n",
        "___\n",
        "출처 : 핸즈온 머신러닝 Ch03 분류 연습문제 1, 2번"
      ]
    },
    {
      "cell_type": "code",
      "execution_count": null,
      "metadata": {
        "id": "tBMD6RMQJcnZ"
      },
      "outputs": [],
      "source": [
        "# import data\n",
        "from sklearn.datasets import fetch_openml\n",
        "mnist = fetch_openml('mnist_784', version = 1, as_frame = False)"
      ]
    },
    {
      "cell_type": "code",
      "execution_count": null,
      "metadata": {
        "id": "0acMMz8YKS7v"
      },
      "outputs": [],
      "source": [
        "X, y = mnist[\"data\"], mnist[\"target\"]"
      ]
    },
    {
      "cell_type": "code",
      "source": [
        "X_train, X_test, y_train, y_test = X[:60000], X[60000:], y[:60000], y[60000:]"
      ],
      "metadata": {
        "id": "XxYp_bIkf0ZO"
      },
      "execution_count": 17,
      "outputs": []
    },
    {
      "cell_type": "markdown",
      "metadata": {
        "id": "j3g-_Dq9GiuT"
      },
      "source": [
        "### **1. MNIST 데이터셋으로 분류기를 만들어 테스트 세트에서 97% 정확도를 달성해보세요.**\n",
        "___\n",
        "\n",
        "1. `KNeghtborsClassifier`를 사용하는 것을 추천합니다. \n",
        "2. `weights`와 `n_neighbors` 하이퍼 파라미터로 그리드 탐색을 시도하여, 좋은 하이퍼 파라미터 값을 찾아보세요."
      ]
    },
    {
      "cell_type": "code",
      "execution_count": null,
      "metadata": {
        "id": "188lZyYEGJZ7"
      },
      "outputs": [],
      "source": [
        "# import package\n",
        "from sklearn.neighbors import KNeighborsClassifier\n",
        "from sklearn.model_selection import GridSearchCV\n",
        "from sklearn.metrics import accuracy_score"
      ]
    },
    {
      "cell_type": "code",
      "execution_count": 18,
      "metadata": {
        "colab": {
          "base_uri": "https://localhost:8080/"
        },
        "id": "lXF4M2MdIpKa",
        "outputId": "53fd78af-3b2d-4dd3-e965-ac6d89dd2468"
      },
      "outputs": [
        {
          "output_type": "execute_result",
          "data": {
            "text/plain": [
              "GridSearchCV(cv=2, estimator=KNeighborsClassifier(),\n",
              "             param_grid={'n_neighbors': [3, 4, 5],\n",
              "                         'weights': ['uniform', 'distance']})"
            ]
          },
          "metadata": {},
          "execution_count": 18
        }
      ],
      "source": [
        "# Try GridSearch to optimize hyperparameter\n",
        "param_grid = {\n",
        "    'weights' : ['uniform','distance'],\n",
        "    'n_neighbors' : [3,4,5]\n",
        "}\n",
        "\n",
        "knn = KNeighborsClassifier()\n",
        "gridcv = GridSearchCV(knn,param_grid,cv = 2)\n",
        "gridcv.fit(X_train,y_train)"
      ]
    },
    {
      "cell_type": "code",
      "execution_count": 19,
      "metadata": {
        "id": "J0NiljKhJJlj",
        "colab": {
          "base_uri": "https://localhost:8080/"
        },
        "outputId": "32871cb1-094e-44eb-8a7a-bf8a64cb1555"
      },
      "outputs": [
        {
          "output_type": "execute_result",
          "data": {
            "text/plain": [
              "{'n_neighbors': 4, 'weights': 'distance'}"
            ]
          },
          "metadata": {},
          "execution_count": 19
        }
      ],
      "source": [
        "# best hyperparameter\n",
        "gridcv.best_params_"
      ]
    },
    {
      "cell_type": "code",
      "execution_count": 20,
      "metadata": {
        "id": "DPLNro_xJTrx",
        "colab": {
          "base_uri": "https://localhost:8080/"
        },
        "outputId": "e72b84ed-290d-4cf2-f65e-c05a9582b33e"
      },
      "outputs": [
        {
          "output_type": "execute_result",
          "data": {
            "text/plain": [
              "0.96685"
            ]
          },
          "metadata": {},
          "execution_count": 20
        }
      ],
      "source": [
        "# best score\n",
        "gridcv.best_score_"
      ]
    },
    {
      "cell_type": "code",
      "execution_count": 21,
      "metadata": {
        "id": "CVY_c-DMJX70",
        "colab": {
          "base_uri": "https://localhost:8080/"
        },
        "outputId": "0257be77-42a1-4f06-9f9e-2bcf38df262a"
      },
      "outputs": [
        {
          "output_type": "execute_result",
          "data": {
            "text/plain": [
              "0.9714"
            ]
          },
          "metadata": {},
          "execution_count": 21
        }
      ],
      "source": [
        "# model test\n",
        "y_pred = gridcv.predict(X_test)\n",
        "accuracy_score(y_pred,y_test)"
      ]
    },
    {
      "cell_type": "markdown",
      "metadata": {
        "id": "-pDjW5XcHPOt"
      },
      "source": [
        "### **2. 다음 단계를 따라 인위적으로 훈련 세트를 늘리는 데이터 증식 또는 훈련 세트 확장 기법을 연습해봅시다.**\n",
        "___"
      ]
    },
    {
      "cell_type": "markdown",
      "metadata": {
        "id": "_xhEB_KtH47q"
      },
      "source": [
        "#### **STEP 1. MNIST 이미지를 (왼, 오른, 위, 아래) 어느 방향으로든 한 픽셀 이동시킬 수 있는 함수를 만들어 보세요.**"
      ]
    },
    {
      "cell_type": "code",
      "execution_count": 23,
      "metadata": {
        "id": "3CLxYCROIAk6"
      },
      "outputs": [],
      "source": [
        "from scipy.ndimage.interpolation import shift\n",
        "import numpy as np"
      ]
    },
    {
      "cell_type": "code",
      "execution_count": 24,
      "metadata": {
        "id": "DKw9INbrJgpv"
      },
      "outputs": [],
      "source": [
        "def shift_pixel(image,x,y):\n",
        "  image = image.reshape((28, 28))\n",
        "  shift_image = shift(image,[x,y],cval = 0)\n",
        "  return shift_image.reshape([-1])"
      ]
    },
    {
      "cell_type": "markdown",
      "metadata": {
        "id": "AHgSqi-zIBCd"
      },
      "source": [
        "####  **STEP 2. 앞에서 만든 함수를 이용하여, 훈련 세트에 있는 각 이미지에 대해 네 개의 이동된 복사본(방향마다 한 개씩)을 만들어 훈련 세트에 추가하세요**"
      ]
    },
    {
      "cell_type": "code",
      "execution_count": 25,
      "metadata": {
        "id": "SsBT_d0MIH-V"
      },
      "outputs": [],
      "source": [
        "X_train_add = [i for i in X_train]\n",
        "y_train_add = [j for j in y_train]\n",
        "\n",
        "for x,y in ((1,0),(-1,0),(0,1),(0,-1)) :\n",
        "  for i,j in zip(X_train,y_train) :\n",
        "    X_train_add.append(shift_pixel(i,x,y))\n",
        "    y_train_add.append(j)\n",
        "\n",
        "X_train_add = np.array(X_train_add)\n",
        "y_train_add = np.array(y_train_add)"
      ]
    },
    {
      "cell_type": "code",
      "execution_count": null,
      "metadata": {
        "id": "tS1empJzKCOG"
      },
      "outputs": [],
      "source": []
    },
    {
      "cell_type": "markdown",
      "metadata": {
        "id": "zWozt0n2IJZL"
      },
      "source": [
        "####  **STEP 3. 위에서 확장한 데이터셋을 이용하여, 1번 문제에서 찾은 최적 모델을 훈련시키고, 테스트 세트에서 정확도를 측정해보세요**"
      ]
    },
    {
      "cell_type": "code",
      "execution_count": 26,
      "metadata": {
        "id": "Yo4H-hTRIW7-"
      },
      "outputs": [],
      "source": [
        "knn = KNeighborsClassifier(n_neighbors = 4, weights= 'distance')"
      ]
    },
    {
      "cell_type": "code",
      "execution_count": 27,
      "metadata": {
        "id": "fVdwwmSYKDmF",
        "colab": {
          "base_uri": "https://localhost:8080/"
        },
        "outputId": "28834829-08ad-496c-93ae-83b2b550f859"
      },
      "outputs": [
        {
          "output_type": "execute_result",
          "data": {
            "text/plain": [
              "KNeighborsClassifier(n_neighbors=4, weights='distance')"
            ]
          },
          "metadata": {},
          "execution_count": 27
        }
      ],
      "source": [
        "knn.fit(X_train_add,y_train_add)"
      ]
    },
    {
      "cell_type": "code",
      "execution_count": 28,
      "metadata": {
        "id": "ijlm1VbOKFSN",
        "colab": {
          "base_uri": "https://localhost:8080/"
        },
        "outputId": "3dd7f345-0529-4848-a7e6-88437fbdeb56"
      },
      "outputs": [
        {
          "output_type": "execute_result",
          "data": {
            "text/plain": [
              "0.9763"
            ]
          },
          "metadata": {},
          "execution_count": 28
        }
      ],
      "source": [
        "y_pred = knn.predict(X_test)\n",
        "accuracy_score(y_test,y_pred)"
      ]
    },
    {
      "cell_type": "markdown",
      "source": [
        "김다빈 : MNIST 데이터 셋을 활용하여 KNeighborClassifier를 이용해서 분류에 대해 다시 복습하고 적용해볼 수 있었다. 또한 픽셀을 이동시키는 함수를 만들어보면서 새로운 shift함수를 알고 함수를 만들어보기도 하고, 이미지를 확장시켜보고 모델을 훈련시키면서 모델 성능이 향상되었는지도 확인해볼 수 있었다. \n",
        "\n",
        "https://github.com/ekqlsrla/ESAA-2/blob/main/SESSION/%EB%B6%84%EB%A5%98_%EC%97%B0%EC%8A%B5%EB%AC%B8%EC%A0%9C.ipynb"
      ],
      "metadata": {
        "id": "DTL7oTcYjWmi"
      }
    }
  ],
  "metadata": {
    "colab": {
      "collapsed_sections": [],
      "provenance": [],
      "include_colab_link": true
    },
    "kernelspec": {
      "display_name": "Python 3",
      "name": "python3"
    },
    "language_info": {
      "name": "python"
    }
  },
  "nbformat": 4,
  "nbformat_minor": 0
}