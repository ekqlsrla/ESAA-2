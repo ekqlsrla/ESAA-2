{
  "nbformat": 4,
  "nbformat_minor": 0,
  "metadata": {
    "colab": {
      "provenance": [],
      "collapsed_sections": [],
      "include_colab_link": true
    },
    "kernelspec": {
      "name": "python3",
      "display_name": "Python 3"
    },
    "language_info": {
      "name": "python"
    }
  },
  "cells": [
    {
      "cell_type": "markdown",
      "metadata": {
        "id": "view-in-github",
        "colab_type": "text"
      },
      "source": [
        "<a href=\"https://colab.research.google.com/github/ekqlsrla/ESAA-2/blob/main/SESSION/0926_%EC%95%99%EC%83%81%EB%B8%94.ipynb\" target=\"_parent\"><img src=\"https://colab.research.google.com/assets/colab-badge.svg\" alt=\"Open In Colab\"/></a>"
      ]
    },
    {
      "cell_type": "markdown",
      "source": [
        "## **| 앙상블 학습과 랜덤 포레스트 연습 문제**\n",
        "___\n",
        "- 출처 : 핸즈온 머신러닝 Ch07 앙상블 학습과 랜덤 포레스트 연습문제 2, 7, 8, 9번\n",
        "- 이론적 지식을 묻는 문제의 경우 텍스트 셀을 추가하여 정답을 적어주세요."
      ],
      "metadata": {
        "id": "zCu72vDHGMHo"
      }
    },
    {
      "cell_type": "code",
      "source": [
        "# import libraries\n",
        "import numpy as np"
      ],
      "metadata": {
        "id": "hQLO-M61qSVA"
      },
      "execution_count": 1,
      "outputs": []
    },
    {
      "cell_type": "markdown",
      "source": [
        "### **1. 직접 투표와 간접 투표 분류기 사이의 차이점은 무엇일까요?**\n",
        "___\n"
      ],
      "metadata": {
        "id": "7ifUj-jvi5NE"
      }
    },
    {
      "cell_type": "markdown",
      "source": [
        "직접 투표기는 각 분류기의 예측을 모아서 가장 많이 선택된 클래스를 예측하는 것이고, 간접 투표는 개별 분류기의 예측을 평균 내어 확률이 가장 높은 클래스를 예측하는 것이다. 이 방식은 확률이 높은 투표에 비중을 더 두기 떄문에 직접 투표 방식보다 성능이 높다. (P249)"
      ],
      "metadata": {
        "id": "E_LItkeKCDjZ"
      }
    },
    {
      "cell_type": "markdown",
      "source": [
        "### **2. 그레디언트 부스팅 앙상블이 훈련 데이터에 과대 적합되었다면 학습률을 어떻게 해야 할까요?**\n",
        "___"
      ],
      "metadata": {
        "id": "JK-WcK3ujU0E"
      }
    },
    {
      "cell_type": "markdown",
      "source": [
        "훈련 데이터에 과대 적합되었다면 **학습률을 감소**시켜야 한다."
      ],
      "metadata": {
        "id": "QTgE4QLxCUZo"
      }
    },
    {
      "cell_type": "markdown",
      "source": [
        "### **3. [실습] 다음 지시에 따라 투표 기반 분류 모델을 만들어 보세요**\n",
        "___"
      ],
      "metadata": {
        "id": "j3g-_Dq9GiuT"
      }
    },
    {
      "cell_type": "markdown",
      "source": [
        "#### **STEP 1. MNIST 데이터를 불러들이고, 훈련, 검증, 테스트 데이터로 나누세요.**"
      ],
      "metadata": {
        "id": "7aLghZCVj34L"
      }
    },
    {
      "cell_type": "code",
      "execution_count": 29,
      "metadata": {
        "id": "188lZyYEGJZ7"
      },
      "outputs": [],
      "source": [
        "# import MNIST dataset\n",
        "from sklearn.datasets import fetch_openml\n",
        "\n",
        "mnist = fetch_openml('mnist_784', version=1, as_frame = False)\n",
        "X, y = mnist[\"data\"], mnist[\"target\"]"
      ]
    },
    {
      "cell_type": "code",
      "source": [
        "# train/valid/test dataset\n",
        "from sklearn.model_selection import train_test_split\n",
        "\n",
        "X_train_val,X_test,y_train_val,y_test = train_test_split(X,y,random_state = 42)\n"
      ],
      "metadata": {
        "id": "lXF4M2MdIpKa"
      },
      "execution_count": 30,
      "outputs": []
    },
    {
      "cell_type": "code",
      "source": [
        "X_train,X_val,y_train,y_val = train_test_split(X_train_val,y_train_val,random_state = 42)"
      ],
      "metadata": {
        "id": "RS6P_X6ZDHDx"
      },
      "execution_count": 31,
      "outputs": []
    },
    {
      "cell_type": "markdown",
      "source": [
        "####  **STEP 2. 랜덤 포레스트 분류기, 엑스트라 트리 분류기, SVM 분류기, MLP 분류기를 훈련시키세요.**\n",
        "- 모델 파라미터는 `n_estimators=100`, `random_state=42`로 설정합니다. "
      ],
      "metadata": {
        "id": "mHOTxVK3kjnM"
      }
    },
    {
      "cell_type": "code",
      "source": [
        "# import package\n",
        "from sklearn.ensemble import RandomForestClassifier, ExtraTreesClassifier\n",
        "from sklearn.svm import LinearSVC\n",
        "from sklearn.neural_network import MLPClassifier"
      ],
      "metadata": {
        "id": "udX8yKD4k9DE"
      },
      "execution_count": 32,
      "outputs": []
    },
    {
      "cell_type": "code",
      "source": [
        "# model fitting\n",
        "\n",
        "rfc = RandomForestClassifier(n_estimators = 100, random_state = 42)\n",
        "rfc.fit(X_train,y_train)\n",
        "\n",
        "extra = ExtraTreesClassifier(n_estimators = 100, random_state = 42)\n",
        "extra.fit(X_train,y_train)\n",
        "\n",
        "lin_svc = LinearSVC(max_iter = 100, random_state = 42)\n",
        "lin_svc.fit(X_train,y_train)\n",
        "\n",
        "mlp = MLPClassifier(random_state = 42)\n",
        "mlp.fit(X_train,y_train)"
      ],
      "metadata": {
        "id": "iEG8FFJ1lBw4",
        "colab": {
          "base_uri": "https://localhost:8080/"
        },
        "outputId": "ac3e1868-e6dc-4afe-dfa8-3b2de2eb27c0"
      },
      "execution_count": 33,
      "outputs": [
        {
          "output_type": "stream",
          "name": "stderr",
          "text": [
            "/usr/local/lib/python3.7/dist-packages/sklearn/svm/_base.py:1208: ConvergenceWarning: Liblinear failed to converge, increase the number of iterations.\n",
            "  ConvergenceWarning,\n"
          ]
        },
        {
          "output_type": "execute_result",
          "data": {
            "text/plain": [
              "MLPClassifier(random_state=42)"
            ]
          },
          "metadata": {},
          "execution_count": 33
        }
      ]
    },
    {
      "cell_type": "markdown",
      "source": [
        "####  **STEP 3-1. 앞에서 훈련시킨 각 모델을 직접 투표 방법을 사용해 앙상블로 연결하고 훈련시킨 후, `score()`메서드를 이용하여 검증 데이터셋에서의 성능을 평가해보세요.**"
      ],
      "metadata": {
        "id": "lB4OagE2lglK"
      }
    },
    {
      "cell_type": "code",
      "source": [
        "from sklearn.ensemble import VotingClassifier\n",
        "\n",
        "voting_clf = VotingClassifier(\n",
        "    estimators = [('rf',rfc),('extra',extra),('svc',lin_svc),('MLP',mlp)],\n",
        "    voting = 'hard'\n",
        ")"
      ],
      "metadata": {
        "id": "6gGlXpJrlqzz"
      },
      "execution_count": 34,
      "outputs": []
    },
    {
      "cell_type": "code",
      "source": [
        "# model fitting\n",
        "\n",
        "voting_clf.fit(X_train,y_train)"
      ],
      "metadata": {
        "id": "LTnt0h4Hmitr",
        "colab": {
          "base_uri": "https://localhost:8080/"
        },
        "outputId": "edf3b5aa-c6d4-4f35-c2dc-721827848318"
      },
      "execution_count": 35,
      "outputs": [
        {
          "output_type": "stream",
          "name": "stderr",
          "text": [
            "/usr/local/lib/python3.7/dist-packages/sklearn/svm/_base.py:1208: ConvergenceWarning: Liblinear failed to converge, increase the number of iterations.\n",
            "  ConvergenceWarning,\n"
          ]
        },
        {
          "output_type": "execute_result",
          "data": {
            "text/plain": [
              "VotingClassifier(estimators=[('rf', RandomForestClassifier(random_state=42)),\n",
              "                             ('extra', ExtraTreesClassifier(random_state=42)),\n",
              "                             ('svc', LinearSVC(max_iter=100, random_state=42)),\n",
              "                             ('MLP', MLPClassifier(random_state=42))])"
            ]
          },
          "metadata": {},
          "execution_count": 35
        }
      ]
    },
    {
      "cell_type": "code",
      "source": [
        "# model test\n",
        "voting_clf.score(X_val,y_val)\n"
      ],
      "metadata": {
        "id": "6M8p66FHmt0U",
        "colab": {
          "base_uri": "https://localhost:8080/"
        },
        "outputId": "0f442766-7945-43f1-bd96-8f6f6e578a09"
      },
      "execution_count": 36,
      "outputs": [
        {
          "output_type": "execute_result",
          "data": {
            "text/plain": [
              "0.9696761904761905"
            ]
          },
          "metadata": {},
          "execution_count": 36
        }
      ]
    },
    {
      "cell_type": "markdown",
      "source": [
        "####  **STEP 3-2. 검증 데이터셋에서 각 분류 모델의 성능을 `score()` 메서드를 이용하여 확인해보고, 가장 성능이 낮은 모델을 제거하여 그 결과를 비교해보세요.**\n",
        "- Hint : 가장 성능이 낮은 모델을 제거할 때 `set_params`를 활용해보세요"
      ],
      "metadata": {
        "id": "tgmsaye3oLYQ"
      }
    },
    {
      "cell_type": "code",
      "source": [
        "# 각 분류 모델 학습\n",
        "\n"
      ],
      "metadata": {
        "id": "-Ykw6-_4rV9S"
      },
      "execution_count": 8,
      "outputs": []
    },
    {
      "cell_type": "code",
      "source": [
        "# 각 분류 모델의 성능 확인\n",
        "for clf in (rfc,lin_svc,mlp,extra) :\n",
        "  print(clf.score(X_val,y_val))\n"
      ],
      "metadata": {
        "id": "ghPFb287om1Z",
        "colab": {
          "base_uri": "https://localhost:8080/"
        },
        "outputId": "a2c39709-f8e4-4c20-f73e-da43b37e5154"
      },
      "execution_count": 37,
      "outputs": [
        {
          "output_type": "stream",
          "name": "stdout",
          "text": [
            "0.9651047619047619\n",
            "0.7859809523809523\n",
            "0.9639619047619048\n",
            "0.9697523809523809\n"
          ]
        }
      ]
    },
    {
      "cell_type": "markdown",
      "source": [
        "- Q. 어떤 모델의 성능이 가장 낮나요?\n",
        "- A. svm분류기의 성능이 가장 낮다"
      ],
      "metadata": {
        "id": "GN-HIeWhosGs"
      }
    },
    {
      "cell_type": "code",
      "source": [
        "# 가장 성능이 낮은 모델 제거\n",
        "\n",
        "voting_clf.set_params(svc = 'drop')"
      ],
      "metadata": {
        "id": "shHFXdWcoqf6",
        "colab": {
          "base_uri": "https://localhost:8080/"
        },
        "outputId": "b04a5808-f649-4b0a-dcb8-98e47ab46d65"
      },
      "execution_count": 40,
      "outputs": [
        {
          "output_type": "execute_result",
          "data": {
            "text/plain": [
              "VotingClassifier(estimators=[('rf', RandomForestClassifier(random_state=42)),\n",
              "                             ('extra', ExtraTreesClassifier(random_state=42)),\n",
              "                             ('svc', 'drop'),\n",
              "                             ('MLP', MLPClassifier(random_state=42))])"
            ]
          },
          "metadata": {},
          "execution_count": 40
        }
      ]
    },
    {
      "cell_type": "code",
      "source": [
        "del voting_clf.estimators_[2]"
      ],
      "metadata": {
        "id": "jyi9epvDN20z"
      },
      "execution_count": null,
      "outputs": []
    },
    {
      "cell_type": "code",
      "source": [
        "# model fitting\n",
        "\n",
        "voting_clf.fit(X_train,y_train)"
      ],
      "metadata": {
        "id": "PpV5S__I2U3F",
        "colab": {
          "base_uri": "https://localhost:8080/"
        },
        "outputId": "173becc6-4e60-45b9-d2bb-b0aa428d8f55"
      },
      "execution_count": 41,
      "outputs": [
        {
          "output_type": "execute_result",
          "data": {
            "text/plain": [
              "VotingClassifier(estimators=[('rf', RandomForestClassifier(random_state=42)),\n",
              "                             ('extra', ExtraTreesClassifier(random_state=42)),\n",
              "                             ('svc', 'drop'),\n",
              "                             ('MLP', MLPClassifier(random_state=42))])"
            ]
          },
          "metadata": {},
          "execution_count": 41
        }
      ]
    },
    {
      "cell_type": "code",
      "source": [
        "# 모델 제거 후 성능 확인\n",
        "voting_clf.score(X_val,y_val)\n"
      ],
      "metadata": {
        "id": "BMTkSkbNpRQi",
        "colab": {
          "base_uri": "https://localhost:8080/"
        },
        "outputId": "96c6fe42-48a0-47ff-9b00-4ddbd4c16e80"
      },
      "execution_count": 42,
      "outputs": [
        {
          "output_type": "execute_result",
          "data": {
            "text/plain": [
              "0.9716571428571429"
            ]
          },
          "metadata": {},
          "execution_count": 42
        }
      ]
    },
    {
      "cell_type": "markdown",
      "source": [
        "### **4. 다음 단계를 따라 앞에서 훈련시킨 분류 모델들을 이용하여 스태킹 앙상블을 구성해보자.**\n",
        "___"
      ],
      "metadata": {
        "id": "-pDjW5XcHPOt"
      }
    },
    {
      "cell_type": "markdown",
      "source": [
        "#### **STEP 1. 3번 문제의 각 분류 모델을 실행해서 검증 세트에서 예측을 만들고, 그 결과로 훈련 세트를 만들어 보세요.**"
      ],
      "metadata": {
        "id": "_xhEB_KtH47q"
      }
    },
    {
      "cell_type": "code",
      "source": [
        "import numpy as np\n",
        "estimators = [rfc,lin_svc,mlp,extra]\n",
        "X_val_pred = np.empty((len(X_val), 4), dtype=np.float32)\n",
        "for i, estimators in enumerate(estimators) :\n",
        "  X_val_pred[:,i] = estimators.predict(X_val)\n",
        "\n"
      ],
      "metadata": {
        "id": "3CLxYCROIAk6"
      },
      "execution_count": 44,
      "outputs": []
    },
    {
      "cell_type": "markdown",
      "source": [
        "####  **STEP 2. 새로운 훈련 세트를 이용하여 랜덤 포레스트 분류 모델을 학습시켜 보세요.**"
      ],
      "metadata": {
        "id": "AHgSqi-zIBCd"
      }
    },
    {
      "cell_type": "code",
      "source": [
        "rfc_clf = RandomForestClassifier(random_state = 42)\n",
        "rfc_clf.fit(X_val_pred, y_val)"
      ],
      "metadata": {
        "id": "SsBT_d0MIH-V",
        "colab": {
          "base_uri": "https://localhost:8080/"
        },
        "outputId": "1a18e722-0d5a-4688-cc05-ec2add9cf419"
      },
      "execution_count": 45,
      "outputs": [
        {
          "output_type": "execute_result",
          "data": {
            "text/plain": [
              "RandomForestClassifier(random_state=42)"
            ]
          },
          "metadata": {},
          "execution_count": 45
        }
      ]
    },
    {
      "cell_type": "markdown",
      "source": [
        "- 이 랜덤 포레스트 분류 모델이 바로 블렌더에 해당합니다. "
      ],
      "metadata": {
        "id": "43MJatnzquTH"
      }
    },
    {
      "cell_type": "markdown",
      "source": [
        "####  **STEP 3. 이제 테스트셋에서 스태킹 앙상블 모델을 평가해보세요.**\n",
        "- 성능 평가 지표로 **정확도**를 이용하세요."
      ],
      "metadata": {
        "id": "zWozt0n2IJZL"
      }
    },
    {
      "cell_type": "code",
      "source": [
        "# 각 분류 모델의 예측을 만들어 새로운 데이터셋 생성\n",
        "X_test_pred = np.empty((len(X_test), 4), dtype=np.float32)\n",
        "estimators = [rfc,lin_svc,mlp,extra]\n",
        "for i,estimator in enumerate(estimators) :\n",
        "  X_test_pred[:,i] = estimator.predict(X_test)"
      ],
      "metadata": {
        "id": "Yo4H-hTRIW7-"
      },
      "execution_count": 57,
      "outputs": []
    },
    {
      "cell_type": "code",
      "source": [
        "# 새로운 데이터셋을 이용하여 블렌더로 예측\n",
        "y_pred = rfc_clf.predict(X_test_pred)"
      ],
      "metadata": {
        "id": "fVdwwmSYKDmF"
      },
      "execution_count": 58,
      "outputs": []
    },
    {
      "cell_type": "code",
      "source": [
        "# model test\n",
        "from sklearn.metrics import accuracy_score\n",
        "\n",
        "accuracy_score(y_test,y_pred)"
      ],
      "metadata": {
        "id": "ijlm1VbOKFSN",
        "colab": {
          "base_uri": "https://localhost:8080/"
        },
        "outputId": "631eedc5-9597-4ba7-fece-10f8535be6b4"
      },
      "execution_count": 61,
      "outputs": [
        {
          "output_type": "execute_result",
          "data": {
            "text/plain": [
              "0.9666285714285714"
            ]
          },
          "metadata": {},
          "execution_count": 61
        }
      ]
    }
  ]
}